{
 "cells": [
  {
   "cell_type": "markdown",
   "id": "1eca5823",
   "metadata": {},
   "source": [
    "# 📰 Revisão Sistemática da Literatura: Técnicas Computacionais na Educação Matemática\n",
    "\n",
    "A transformação digital tem impactado significativamente diversas áreas, inclusive a educação. No ensino da matemática, técnicas computacionais emergem como ferramentas poderosas para personalizar o ensino, diagnosticar o desempenho dos alunos e identificar, de forma automatizada, seus pontos fortes e fracos. Abordagens como Machine Learning, Learning Analytics e Sistemas Tutores Inteligentes têm demonstrado grande potencial ao proporcionar intervenções pedagógicas precisas, contribuindo para uma gestão mais eficaz da aprendizagem. Esta revisão sistemática busca mapear e analisar a literatura existente sobre a aplicação dessas técnicas na educação matemática, identificando tendências, lacunas e oportunidades de inovação que possam orientar futuros desenvolvimentos, inclusive o protótipo do TCC."
   ]
  },
  {
   "cell_type": "markdown",
   "id": "fe191f61",
   "metadata": {},
   "source": [
    "## 🎯 Objetivo da Revisão\n",
    "\n",
    "Mapear as técnicas e abordagens computacionais aplicadas à educação matemática, com ênfase em Machine Learning, Learning Analytics e Sistemas Tutores Inteligentes, visando compreender como essas tecnologias têm sido utilizadas para diagnosticar o desempenho dos alunos e melhorar seus processos de aprendizagem."
   ]
  },
  {
   "cell_type": "markdown",
   "id": "c2cc8bc9",
   "metadata": {},
   "source": [
    "### 🎯 Objetivos Específicos\n",
    "\n",
    "1.  Realizar uma revisão sistemática da literatura para identificar estudos que apliquem técnicas computacionais no ensino da matemática.\n",
    "2.  Analisar a aplicação de métodos como Machine Learning e Learning Analytics na personalização e avaliação do processo educacional.\n",
    "3.  Identificar os principais avanços, desafios e lacunas na utilização de sistemas tutores inteligentes e tecnologias correlatas.\n",
    "4.  Fornecer subsídios para o desenvolvimento de um protótipo que integre essas abordagens com o objetivo de otimizar os planos de ensino e a gestão do desempenho dos alunos."
   ]
  },
  {
   "cell_type": "markdown",
   "id": "77198285",
   "metadata": {},
   "source": [
    "## 🧩 Estrutura do Notebook\n",
    "\n",
    "Este notebook está organizado nas seguintes seções:\n",
    "\n",
    "1.  **Introdução**: Contextualização do tema e objetivos da revisão.\n",
    "2.  **Metodologia**: Detalhamento da estratégia de busca (bases de dados, APIs, termos), critérios de inclusão/exclusão e processo de seleção (PRISMA).\n",
    "3.  **Resultados**: Apresentação dos dados coletados (tabelas, gráficos), análise descritiva e comparativa dos estudos incluídos.\n",
    "4.  **Discussão**: Síntese crítica dos achados, identificação de tendências, lacunas e limitações.\n",
    "5.  **Conclusão**: Principais conclusões, implicações para a pesquisa e prática, e recomendações para o desenvolvimento do protótipo."
   ]
  },
  {
   "cell_type": "markdown",
   "id": "d4bbe2e7",
   "metadata": {},
   "source": [
    "## 🔧 Configuração Inicial e Instruções de Uso\n",
    "\n",
    "Este notebook requer Python 3.8 ou superior e algumas bibliotecas específicas. Para configurar o ambiente, siga os passos abaixo:\n",
    "\n",
    "1.  **Clone o repositório**: Clone este repositório para sua máquina local usando o seguinte comando:\n",
    "    ```bash\n",
    "    git clone\n",
    "2.  **Navegue até o diretório do projeto**: Acesse o diretório do projeto clonado:\n",
    "    ```bash\n",
    "    cd ccw\n",
    "    ```\n",
    "3.  **Crie um ambiente virtual**: É recomendável criar um ambiente virtual para evitar conflitos de dependências. Você pode usar `venv` ou `conda`. Para criar um ambiente virtual com `venv`, execute:\n",
    "    ```bash\n",
    "    python -m venv .venv\n",
    "    ```\n",
    "4.  **Ative o ambiente virtual**: Ative o ambiente virtual criado. O comando varia de acordo com o sistema operacional:\n",
    "    - No Windows:\n",
    "        ```bash\n",
    "        .venv\\Scripts\\activate\n",
    "        ```\n",
    "    - No macOS/Linux:\n",
    "        ```bash\n",
    "        source .venv/Scripts/activate\n",
    "        ```\n",
    "5.  **Instale as dependências**: Instale as bibliotecas necessárias usando o arquivo `requirements.txt` incluído no repositório. Execute o seguinte comando:\n",
    "\n",
    "    ```bash\n",
    "    pip install -r requirements.txt\n",
    "    ```\n",
    "6.  **Inserir Variáveis de Ambiente**: Insira as variáveis de ambiente necessárias para o funcionamento do projeto. Você pode alterar o arquivo `.env.sample` para `.env` e adicionar suas variáveis. Por exemplo, se você estiver usando uma API que requer uma chave de API, adicione a seguinte linha ao arquivo `.env`:\n",
    "    ```bash\n",
    "    API_KEY=your_api_key_here\n",
    "    ```\n",
    "7.  **Execute o notebook**: Abra o Jupyter Notebook ou Jupyter Lab e carregue este notebook. Você pode iniciar o Jupyter Notebook com o seguinte comando:\n",
    "    ```bash\n",
    "    jupyter notebook\n",
    "    ```\n"
   ]
  },
  {
   "cell_type": "code",
   "execution_count": 1,
   "id": "0249aae7",
   "metadata": {},
   "outputs": [],
   "source": [
    "# 📦 Bibliotecas para Manipulação de Dados\n",
    "import pandas as pd            # Estruturas e análise de dados (DataFrames)\n",
    "import numpy as np             # Operações numéricas e arrays\n",
    "from datetime import datetime # Manipulação de datas e horários\n",
    "\n",
    "# 🔢 Geração de Combinações\n",
    "import itertools               # Combinações e permutações\n",
    "\n",
    "# 🌐 Requisições HTTP e APIs\n",
    "import requests                                # Requisições HTTP\n",
    "from requests.adapters import HTTPAdapter      # Estratégias de retry para requests\n",
    "from urllib3.util.retry import Retry           # Estratégias de retry para conexões HTTP\n",
    "import urllib.parse                            # Codificação e manipulação de URLs\n",
    "\n",
    "# 📊 Visualização e Barras de Progresso\n",
    "from tqdm.auto import tqdm          # Barra de progresso para loops\n",
    "import matplotlib.pyplot as plt    # Criação de gráficos\n",
    "import seaborn as sns          # Visualizações estatísticas\n",
    "\n",
    "# 🕒 Controle de Tempo e Aleatoriedade\n",
    "import time                    # Delays e timestamps\n",
    "# import समय                      # Biblioteca para manipulação de tempo e datas # Comentado ou removido\n",
    "import random                  # Geração de jitter em delays\n",
    "\n",
    "# 🗂️ Sistema de Arquivos e Cache\n",
    "import os                      # Diretórios e arquivos do sistema\n",
    "import hashlib                 # Hashes (MD5) para nomes de cache\n",
    "import json                    # Leitura e escrita de JSON\n",
    "from functools import lru_cache     # Cache para funções\n",
    "\n",
    "# 🔍 Processamento de Texto e Similaridade\n",
    "import re                      # Expressões regulares\n",
    "from collections import Counter       # Contagem de elementos\n",
    "from sklearn.feature_extraction.text import CountVectorizer  # Vetorização de texto\n",
    "import spacy # Processamento de linguagem natural\n",
    "from rapidfuzz import fuzz # Similaridade de strings\n",
    "from sklearn.feature_extraction.text import TfidfVectorizer # Vetorização TF-IDF\n",
    "from sklearn.neighbors import NearestNeighbors # Algoritmos de vizinhos mais próximos\n",
    "\n",
    "# 📄 Manipulação de PDFs\n",
    "# import PyPDF2                  # Leitura e extração de conteúdo de PDFs\n",
    "\n",
    "# 🧪 Variáveis de Ambiente\n",
    "from dotenv import load_dotenv # Carregar variáveis de ambiente de .env\n",
    "\n",
    "# 🔤 Tipagem\n",
    "from typing import List, Dict, Any, Optional, Tuple, Union # Anotações de tipo para listas\n",
    "\n",
    "# 🔒 Segurança e Criptografia\n",
    "from dataclasses import dataclass, asdict\n",
    "\n",
    "# 🧩 Classes e Interfaces\n",
    "from abc import ABC, abstractmethod\n",
    "\n",
    "# 🗂️ Manipulação de Arquivos e Diretórios\n",
    "import unicodedata\n",
    "import logging\n",
    "\n",
    "# 🔗 APIs e Conexões Externas\n",
    "from crossref.restful import Works # API do CrossRef para metadados de publicações\n",
    "\n",
    "# 🔄 Execução Paralela e Concorrência\n",
    "from concurrent.futures import ThreadPoolExecutor, as_completed # Execução paralela de tarefas"
   ]
  },
  {
   "cell_type": "markdown",
   "id": "34706ad3",
   "metadata": {},
   "source": [
    "### 📝 Instruções para execução:\n",
    "\n",
    "1. **Configuração das APIs**: Para otimizar os resultados, configure suas chaves de API na seção de constantes e configuração.\n",
    "2. **Armazenamento em cache**: Os resultados são armazenados em cache para evitar consultas repetidas às APIs e preservar limites de taxa.\n",
    "3. **Fluxo de execução**: Execute as células sequencialmente, seguindo o fluxo de trabalho descrito no diagrama.\n",
    "4. **Personalização**: Ajuste os termos de busca e parâmetros conforme necessário para seu contexto específico.\n",
    "5. **Exportação**: Os resultados são exportados automaticamente para a pasta `exports/` em formato Excel.\n",
    "6. **Seleção**: Os artigos selecionados para elegibilidade serão salvos na pasta `papers/` para revisão posterior.\n",
    "7. **Referêcias**: As referências dos artigos selecionados serão salvas na pasta `references/` para facilitar a citação e o gerenciamento de referências.\n",
    "\n",
    "### ⚠️ Observações importantes:\n",
    "\n",
    "- A API do CORE possui limitações rigorosas de taxa. Se necessário, execute essa parte separadamente.\n",
    "- O processo de coleta pode levar tempo considerável devido aos limites de taxa das APIs e volume de dados.\n",
    "- Recomenda-se verificar o status do cache antes de iniciar uma nova execução completa."
   ]
  },
  {
   "cell_type": "markdown",
   "id": "dfc5eacb",
   "metadata": {},
   "source": [
    "## 📋 Protocolo de Revisão Sistemática\n",
    "\n",
    "### 🧠 Questões de Pesquisa\n",
    "\n",
    "1. Quais tecnologias computacionais estão sendo aplicadas para personalizar o ensino de matemática?\n",
    "2. Como técnicas de machine learning e inteligência artificial têm sido utilizadas para identificar competências individuais de alunos?\n",
    "3. Quais são as metodologias mais eficazes para adaptar planos de ensino com base em dados de desempenho dos alunos?\n",
    "4. Que tipos de métricas e indicadores são usados para avaliar competências matemáticas em ambientes educacionais?\n",
    "5. Como sistemas tutores inteligentes têm evoluído para oferecer recomendações pedagógicas personalizadas?"
   ]
  },
  {
   "cell_type": "markdown",
   "id": "f2475313",
   "metadata": {},
   "source": [
    "### 📋 Estratégia de Busca"
   ]
  },
  {
   "cell_type": "markdown",
   "id": "a7da6535",
   "metadata": {},
   "source": [
    "#### 🗃 Bases de Dados e Automação\n",
    "\n",
    "A busca será realizada de forma **automatizada utilizando as APIs** das seguintes bases de dados científicas:\n",
    "- **Semantic Scholar**: Ampla cobertura em ciência da computação e áreas relacionadas.\n",
    "- **OpenAlex**: Base de dados aberta e abrangente, sucessora do Microsoft Academic Graph.\n",
    "- **Crossref**: Foco em metadados de publicações e DOIs.\n",
    "- **CORE**: Agregador de artigos de pesquisa de acesso aberto de repositórios e periódicos.\n",
    "\n",
    "A automação via APIs permite uma coleta de dados mais eficiente e reprodutível, embora sujeita aos limites de taxa e particularidades de cada API."
   ]
  },
  {
   "cell_type": "markdown",
   "id": "a787abc4",
   "metadata": {},
   "source": [
    "#### 🔎 Termos de Busca\n",
    "\n",
    "Principais combinações de termos a serem utilizadas:"
   ]
  },
  {
   "cell_type": "markdown",
   "id": "4ec588ee",
   "metadata": {},
   "source": [
    "##### 1️⃣ Termos de Busca Primários\n",
    "\n",
    "Foco no dominio de aplicação:\n",
    "- \"mathematics education\"\n",
    "- \"math learning\"\n",
    "- \"mathematics teaching\"\n",
    "- \"educação matemática\"\n",
    "- \"ensino de matemática\""
   ]
  },
  {
   "cell_type": "code",
   "execution_count": null,
   "id": "7311f7c6",
   "metadata": {},
   "outputs": [],
   "source": [
    "# Termos primários — foco no domínio de aplicação\n",
    "first_terms = [\n",
    "    \"mathematics education\",\n",
    "    \"ensino de matemática\"\n",
    "    \"math learning\",\n",
    "    \"aprendizagem matemática\",\n",
    "    \"mathematics teaching\",\n",
    "    \"educação matemática\",\n",
    "]"
   ]
  },
  {
   "cell_type": "markdown",
   "id": "1bdb69c0",
   "metadata": {},
   "source": [
    "##### 2️⃣ Termos de Busca Secundários\n",
    "Foco em tecnicas e abordagens computacionais:\n",
    "\n",
    "- \"adaptive learning\"\n",
    "- \"personalized learning\"\n",
    "- \"intelligent tutoring systems\"\n",
    "- \"learning analytics\"\n",
    "- \"educational data mining\"\n",
    "- \"machine learning\"\n",
    "- \"artificial intelligence\"\n",
    "- \"automated assessment\"\n",
    "- \"competency identification\"\n",
    "- \"student modeling\"\n",
    "- \"predective analytics\""
   ]
  },
  {
   "cell_type": "code",
   "execution_count": null,
   "id": "ef6a98b2",
   "metadata": {},
   "outputs": [],
   "source": [
    "# Termos secundários — foco em técnicas e abordagens computacionais\n",
    "second_terms = [\n",
    "    \"adaptive learning\",\n",
    "    \"aprendizagem adaptativa\",\n",
    "    \"personalized learning\",\n",
    "    \"aprendizagem personalizada\",\n",
    "    \"intelligent tutoring systems\",\n",
    "    \"sistemas de tutoria inteligente\",\n",
    "    \"learning analytics\",\n",
    "    \"análise de aprendizagem\",\n",
    "    \"educational data mining\",\n",
    "    \"mineração de dados educacionais\",\n",
    "    \"machine learning\",\n",
    "    \"aprendizado de máquina\",\n",
    "    \"artificial intelligence\",\n",
    "    \"inteligência artificial\",\n",
    "    \"automated assessment\",\n",
    "    \"avaliação automatizada\",\n",
    "    \"competency identification\",\n",
    "    \"identificação de competências\",\n",
    "    \"student modeling\",\n",
    "    \"modelagem de estudantes\",\n",
    "    \"predictive analytics\",\n",
    "    \"análise preditiva\"\n",
    "]"
   ]
  },
  {
   "cell_type": "markdown",
   "id": "adfd97cd",
   "metadata": {},
   "source": [
    "#### 🔀 Geração de Combinações de Busca\n",
    "A combinação dos termos de busca primários e secundários será realizada utilizando o operador booleano `AND` para garantir que os resultados sejam relevantes para o domínio de aplicação e as técnicas computacionais.\n"
   ]
  },
  {
   "cell_type": "code",
   "execution_count": 4,
   "id": "cea14d27",
   "metadata": {},
   "outputs": [],
   "source": [
    "def queries_generator(first: list, second: list) -> list:\n",
    "    \"\"\"\n",
    "    Generate all combinations of primary and secondary terms for searching in databases.\n",
    "    \n",
    "    Args:\n",
    "        first (list): List the first terms.\n",
    "        second (list): List the second terms.\n",
    "        \n",
    "    Returns:\n",
    "        list: List string with all combinations of terms.\n",
    "    \"\"\"\n",
    "    # Gera combinações de termos primários e secundários\n",
    "    queries = [\n",
    "        f'\"{p}\" AND \"{s}\"'\n",
    "        for p, s in itertools.product(first, second)\n",
    "    ]\n",
    "\n",
    "    print(f\"📝 Geradas {len(queries)} combinações de termos de busca\")\n",
    "\n",
    "    return queries"
   ]
  },
  {
   "cell_type": "markdown",
   "id": "419981bb",
   "metadata": {},
   "source": [
    "#### 🚩 Critérios de Inclusão e Exclusão\n",
    "\n",
    "Os critérios foram definidos para garantir a pertinência e a robustez dos estudos selecionados para a revisão, assegurando um rigor metodológico e uma análise confiável.\n",
    "\n",
    "✔ **Critérios de Inclusão:**\n",
    "- Artigos completos revisados por pares (peer-reviewed).\n",
    "- Estudos publicados nos últimos 10 anos (2015-2025).\n",
    "- Foco explícito na aplicação de técnicas computacionais (ex.: Machine Learning, Learning Analytics, Sistemas Tutores Inteligentes, IA Educacional) no contexto do ensino e aprendizagem da **matemática**.\n",
    "- Estudos que apresentem dados empíricos, descrições detalhadas de metodologias ou evidências de desenvolvimento/avaliação de sistemas e ferramentas.  \n",
    "- Fontes que permitam a replicabilidade dos resultados e contribuam para a construção de um referencial teórico e prático consistente.\n",
    "- Idiomas: Inglês ou Português.\n",
    "\n",
    "❌ **Critérios de Exclusão:**\n",
    "- Estudos com metodologia insuficiente ou incoerente, cuja descrição dos métodos, amostragem, instrumentos ou métricas seja vaga, impossibilitando a análise crítica, a replicação e a avaliação da robustez científica.\n",
    "\n",
    "- Trabalhos com foco indireto ou descontextualizado da matemática, mesmo que usem técnicas computacionais, mas que não apliquem essas tecnologias diretamente no ensino/aprendizagem da matemática em nível escolar ou acadêmico.\n",
    "\n",
    "- Publicações predominantemente sem suporte empírico (dados, testes, validação), incluindo ensaios teóricos, revisões sem rigor sistemático ou análises sem fundamentação prática.\n",
    "\n",
    "- Estudos com impacto não mensurável ou irrelevante, que não demonstrem melhoria no desempenho, compreensão ou engajamento de alunos, ou cuja aplicação tecnológica não se conecte claramente com resultados observáveis na aprendizagem matemática.\n",
    "\n",
    "<!-- - Documentos não validados cientificamente, como:\n",
    "\n",
    "  - Preprints sem avaliação por pares.\n",
    "\n",
    "  - Trabalhos acadêmicos que não resultaram em publicações revisadas (teses, dissertações).\n",
    "\n",
    "  - Relatórios técnicos internos, apresentações de conferências não indexadas ou white papers corporativos. -->\n",
    "\n",
    "- Estudos com falhas conceituais ou contradições metodológicas, como uso indevido de termos técnicos (ex.: chamar qualquer algoritmo de IA), má aplicação de técnicas de ML ou conclusões não sustentadas pelos dados.\n",
    "\n",
    "- Publicações em idiomas não compatíveis com os critérios linguísticos definidos (exceto inglês e português), por limitarem a análise textual e semântica e dificultarem a verificação rigorosa do conteúdo."
   ]
  },
  {
   "cell_type": "markdown",
   "id": "148bcb79",
   "metadata": {},
   "source": [
    "##### 🧱 Definição de Termos Regex para Classificação"
   ]
  },
  {
   "cell_type": "code",
   "execution_count": 5,
   "id": "504857d4",
   "metadata": {},
   "outputs": [],
   "source": [
    "# Regex para identificar técnicas e foco\n",
    "ML_TERMS = r\"(machine learning|deep learning|data mining|neural network|svm|random forest|bayes|lstm)\"\n",
    "LA_TERMS = r\"(learning analytics|educational data mining|intelligent tutor|adaptive learning|personalized learning|student modeling)\"\n",
    "EDU_MATH = r\"(mathematics|matemática|algebra|geometry|geometria|calculus|cálculo|fractions?|fraç(ões|ao))\"\n",
    "# Probabilidade, estatística\n",
    "COMPUTE_TERMS = \"|\".join([ML_TERMS, LA_TERMS])\n",
    "\n",
    "# Regex para tipos de estudo (exemplo simples, pode ser melhorado com spaCy)\n",
    "STUDY_TYPE_REGEX = {\n",
    "    \"experimental\": r\"(experiment(al)?|randomized controlled trial|RCT)\",\n",
    "    \"quasi-experimental\": r\"(quasi-experiment(al)?)\",\n",
    "    \"case study\": r\"(case stud(y|ies))\",\n",
    "    \"user study\": r\"(user stud(y|ies)|usability test)\",\n",
    "    \"survey\": r\"(survey|questionnaire)\",\n",
    "    \"review\": r\"(review|meta-analysis|systematic review)\",\n",
    "    \"proposal/position\": r\"(proposal|position paper|framework)\"\n",
    "}\n",
    "\n",
    "# Regex para métodos de avaliação\n",
    "EVAL_METHODS_REGEX = {\n",
    "    \"statistical analysis\": r\"(statistical analysis|t-test|anova|chi-square|regression)\",\n",
    "    \"performance metrics\": r\"(accuracy|precision|recall|f1-score|auc|rmse)\",\n",
    "    \"qualitative analysis\": r\"(qualitative|interview|observation|content analysis)\",\n",
    "    \"user feedback\": r\"(user feedback|satisfaction|survey)\"\n",
    "}"
   ]
  },
  {
   "cell_type": "markdown",
   "id": "fee97347",
   "metadata": {},
   "source": [
    "### 🔌 Detalhamento das APIs e Integração de Dados\n",
    "\n",
    "A estratégia de busca automatizada integra múltiplas fontes de dados científicos através de suas APIs, cada uma com características complementares:\n",
    "\n",
    "1. **Semantic Scholar**: Selecionada pela excelente cobertura em ciência da computação e seu foco em métricas de influência, permitindo identificar estudos de alto impacto na interseção de educação matemática e tecnologias computacionais.\n",
    "   - Endpoint: `https://api.semanticscholar.org/graph/v1/paper/search`\n",
    "   - Parâmetros: `query`, `limit`, `fields`\n",
    "   - Exemplo de chamada:\n",
    "     ```python\n",
    "     params = {\n",
    "         \"query\": '\"mathematics education\" AND \"machine learning\"',\n",
    "         \"limit\": 10,\n",
    "         \"fields\": \"title,authors,year,venue,url,abstract,isOpenAccess\"\n",
    "     }\n",
    "     response = session.get(\"https://api.semanticscholar.org/graph/v1/paper/search\", headers=headers, params=params)\n",
    "     ```\n",
    "\n",
    "2. **OpenAlex**: Utilizada por sua ampla cobertura e dados abrangentes sobre afiliações institucionais, complementando o Semantic Scholar ao fornecer contextos adicionais sobre os grupos de pesquisa ativos na área.\n",
    "   - Endpoint: `https://api.openalex.org/works`\n",
    "   - Parâmetros: `filter`, `search`, `per-page`\n",
    "   - Exemplo de chamada:\n",
    "     ```python\n",
    "     url = f\"{base_url}?filter=publication_year:>{year_min-1}&search={clean_query}&per-page={max_results}&page=1\"\n",
    "     response = session.get(url, headers=headers)\n",
    "     ```\n",
    "\n",
    "3. **Crossref**: Incorporada para garantir precisão nos metadados bibliográficos e nas citações, especialmente para artigos publicados em periódicos tradicionais com DOIs.\n",
    "   - Endpoint: `https://api.crossref.org/works`\n",
    "   - Parâmetros: `query`, `rows`, `filter`, `sort`, `order`\n",
    "   - Exemplo de chamada:\n",
    "     ```python\n",
    "     params = {\n",
    "         \"query\": clean_query,\n",
    "         \"rows\": max_results * 2,\n",
    "         \"filter\": f\"from-pub-date:{year_min}-01-01\",\n",
    "         \"sort\": \"relevance\",\n",
    "         \"order\": \"desc\"\n",
    "     }\n",
    "     response = session.get(CONFIG[\"crossref\"][\"base_url\"], headers=headers, params=params)\n",
    "     ```\n",
    "\n",
    "4. **CORE**: Integrada especificamente para ampliar a cobertura de conteúdos de acesso aberto, aumentando a diversidade de fontes e alcançando publicações menos indexadas em bases comerciais.\n",
    "   - Endpoint: `https://api.core.ac.uk/v3/search/works`\n",
    "   - Parâmetros: `query`, `page`, `pageSize`, `yearFrom`\n",
    "   - Exemplo de chamada:\n",
    "     ```python\n",
    "     params = {\n",
    "         \"query\": simplified_query,\n",
    "         \"page\": 1,\n",
    "         \"pageSize\": max_results,\n",
    "         \"yearFrom\": year_min,\n",
    "     }\n",
    "     response = session.get(CONFIG[\"core\"][\"base_url\"], headers=headers, params=params)\n",
    "     ```\n",
    "\n",
    "A integração destas quatro APIs proporciona uma cobertura complementar e abrangente do campo, reduzindo vieses de seleção e aumentando a probabilidade de identificar estudos relevantes para todas as questões de pesquisa."
   ]
  },
  {
   "cell_type": "markdown",
   "id": "d9ea6ed9",
   "metadata": {},
   "source": [
    "### 🎯 Justificativa dos Critérios de Seleção\n",
    "\n",
    "Os critérios de inclusão e exclusão foram cuidadosamente elaborados para alinhar-se aos objetivos da revisão e garantir rigor metodológico:\n",
    "\n",
    "#### ✅ Justificativa dos Critérios de Inclusão:\n",
    "\n",
    "1. **Artigos completos revisados por pares**: Selecionado para assegurar qualidade científica e confiabilidade dos achados, reduzindo riscos de viés metodológico.\n",
    "\n",
    "2. **Estudos publicados nos últimos 10 anos (2015-2025)**: Este recorte temporal reflete o período de maior evolução nas técnicas computacionais educacionais, especialmente machine learning e learning analytics aplicados à educação matemática.\n",
    "\n",
    "3. **Foco explícito em técnicas computacionais na educação matemática**: Essencial para alinhar-se diretamente ao objetivo principal da revisão, garantindo relevância dos estudos incluídos.\n",
    "\n",
    "4. **Estudos com dados empíricos ou descrição metodológica detalhada**: Este critério visa incluir trabalhos que ofereçam evidências verificáveis ou metodologias reproduzíveis, fundamentais para o desenvolvimento do protótipo subsequente.\n",
    "\n",
    "5. **Idiomas (Inglês ou Português)**: Selecionados por serem os idiomas de domínio dos pesquisadores e por abrangerem grande parte da literatura relevante, enquanto mantêm a viabilidade da análise.\n",
    "\n",
    "#### ❎ Justificativa dos Critérios de Exclusão:\n",
    "\n",
    "1. **Estudos com metodologia insuficiente ou incoerente:** A exclusão de artigos com descrições vagas ou mal estruturadas dos métodos adotados visa assegurar que apenas estudos com potencial de replicação e avaliação crítica integrem a análise, fortalecendo a validade científica da revisão.\n",
    "\n",
    "2. **Trabalhos com foco descontextualizado da matemática:** Estudos que, embora usem técnicas computacionais, não as aplicam diretamente no ensino da matemática são excluídos para preservar a coerência temática e garantir que os achados contribuam de forma direta com os objetivos da pesquisa.\n",
    "\n",
    "3. **Publicações especulativas ou sem evidência empírica:** Trabalhos puramente teóricos ou opinativos, sem dados ou aplicações práticas, não atendem à proposta de identificar abordagens aplicáveis ao desenvolvimento de ferramentas educacionais baseadas em IA.\n",
    "\n",
    "4. **Estudos com impacto não mensurável ou irrelevante:** A exclusão de artigos que não demonstram efeitos observáveis na aprendizagem matemática evita a inclusão de resultados inócuos ou de baixa aplicabilidade no contexto real de sala de aula.\n",
    "\n",
    "5. **Documentos sem validação científica formal:** Ao excluir preprints, relatórios não revisados, dissertações não publicadas e textos de conferências não indexadas, mantém-se o rigor metodológico e reduz-se o risco de incluir achados não validados ou inconsistentes.\n",
    "\n",
    "6. **Estudos com falhas conceituais ou metodológicas graves:** Trabalhos com erros na aplicação de técnicas computacionais, contradições lógicas ou conceitos mal definidos comprometem a confiabilidade e a replicabilidade dos resultados, sendo excluídos para preservar a robustez da revisão.\n",
    "\n",
    "7. **Publicações em idiomas não compreendidos pelos pesquisadores (exceto inglês e português):** A limitação linguística é necessária para garantir a acurácia na interpretação dos estudos e a consistência na extração e análise dos dados. "
   ]
  },
  {
   "cell_type": "markdown",
   "id": "ef8bf67c",
   "metadata": {},
   "source": [
    "### 🗯 Processo de Seleção e Fluxo PRISMA\n",
    "\n",
    "O processo de seleção dos estudos seguirá as diretrizes **PRISMA (Preferred Reporting Items for Systematic Reviews and Meta-Analyses)**, compreendendo as seguintes etapas:\n",
    "\n",
    "1.  **Identificação (Identification)**: Coleta inicial de artigos das bases de dados selecionadas usando as strings de busca definidas. O número total de registros identificados em cada base será registrado. Remoção inicial de duplicatas com base em identificadores únicos (DOI/URL) e similaridade de títulos.\n",
    "2.  **Triagem (Screening)**: Leitura de títulos e resumos dos artigos únicos restantes. Artigos que claramente não atendem aos critérios de inclusão serão excluídos. O número de artigos excluídos nesta fase e os motivos serão registrados.\n",
    "3.  **Elegibilidade (Eligibility)**: Leitura completa dos artigos pré-selecionados na triagem. Verificação detalhada do atendimento a todos os critérios de inclusão e exclusão. O número de artigos excluídos nesta fase e os motivos específicos serão registrados.\n",
    "4.  **Inclusão (Included)**: Os artigos que passarem pela etapa de elegibilidade serão incluídos na síntese qualitativa (a revisão sistemática). O número final de estudos incluídos será registrado.\n",
    "\n",
    "O fluxo completo do processo será visualizado através de um diagrama PRISMA. Os dados de cada etapa (número de artigos identificados, removidos, selecionados) serão registrados em tabelas neste notebook."
   ]
  },
  {
   "cell_type": "code",
   "execution_count": 6,
   "id": "520cdc8b",
   "metadata": {},
   "outputs": [
    {
     "data": {
      "application/vnd.microsoft.datawrangler.viewer.v0+json": {
       "columns": [
        {
         "name": "index",
         "rawType": "int64",
         "type": "integer"
        },
        {
         "name": "title",
         "rawType": "object",
         "type": "string"
        },
        {
         "name": "authors",
         "rawType": "object",
         "type": "string"
        },
        {
         "name": "year",
         "rawType": "object",
         "type": "string"
        },
        {
         "name": "source_publication",
         "rawType": "object",
         "type": "string"
        },
        {
         "name": "abstract",
         "rawType": "object",
         "type": "string"
        },
        {
         "name": "full_text",
         "rawType": "object",
         "type": "string"
        },
        {
         "name": "doi_url",
         "rawType": "object",
         "type": "string"
        },
        {
         "name": "database",
         "rawType": "object",
         "type": "string"
        },
        {
         "name": "search_terms",
         "rawType": "object",
         "type": "string"
        },
        {
         "name": "is_open_access",
         "rawType": "object",
         "type": "string"
        },
        {
         "name": "country",
         "rawType": "object",
         "type": "string"
        },
        {
         "name": "study_type",
         "rawType": "object",
         "type": "string"
        },
        {
         "name": "comp_techniques",
         "rawType": "object",
         "type": "string"
        },
        {
         "name": "eval_methods",
         "rawType": "object",
         "type": "string"
        },
        {
         "name": "math_topic",
         "rawType": "object",
         "type": "string"
        },
        {
         "name": "main_results",
         "rawType": "object",
         "type": "string"
        },
        {
         "name": "identified_gaps",
         "rawType": "object",
         "type": "string"
        },
        {
         "name": "relevance_score",
         "rawType": "object",
         "type": "string"
        },
        {
         "name": "selection_stage",
         "rawType": "object",
         "type": "string"
        },
        {
         "name": "exclusion_reason",
         "rawType": "object",
         "type": "string"
        },
        {
         "name": "notes",
         "rawType": "object",
         "type": "string"
        }
       ],
       "ref": "99d442e6-a458-4dd9-b11a-03181a5d6415",
       "rows": [],
       "shape": {
        "columns": 21,
        "rows": 0
       }
      },
      "text/html": [
       "<div>\n",
       "<style scoped>\n",
       "    .dataframe tbody tr th:only-of-type {\n",
       "        vertical-align: middle;\n",
       "    }\n",
       "\n",
       "    .dataframe tbody tr th {\n",
       "        vertical-align: top;\n",
       "    }\n",
       "\n",
       "    .dataframe thead th {\n",
       "        text-align: right;\n",
       "    }\n",
       "</style>\n",
       "<table border=\"1\" class=\"dataframe\">\n",
       "  <thead>\n",
       "    <tr style=\"text-align: right;\">\n",
       "      <th></th>\n",
       "      <th>title</th>\n",
       "      <th>authors</th>\n",
       "      <th>year</th>\n",
       "      <th>source_publication</th>\n",
       "      <th>abstract</th>\n",
       "      <th>full_text</th>\n",
       "      <th>doi_url</th>\n",
       "      <th>database</th>\n",
       "      <th>search_terms</th>\n",
       "      <th>is_open_access</th>\n",
       "      <th>...</th>\n",
       "      <th>study_type</th>\n",
       "      <th>comp_techniques</th>\n",
       "      <th>eval_methods</th>\n",
       "      <th>math_topic</th>\n",
       "      <th>main_results</th>\n",
       "      <th>identified_gaps</th>\n",
       "      <th>relevance_score</th>\n",
       "      <th>selection_stage</th>\n",
       "      <th>exclusion_reason</th>\n",
       "      <th>notes</th>\n",
       "    </tr>\n",
       "  </thead>\n",
       "  <tbody>\n",
       "  </tbody>\n",
       "</table>\n",
       "<p>0 rows × 21 columns</p>\n",
       "</div>"
      ],
      "text/plain": [
       "Empty DataFrame\n",
       "Columns: [title, authors, year, source_publication, abstract, full_text, doi_url, database, search_terms, is_open_access, country, study_type, comp_techniques, eval_methods, math_topic, main_results, identified_gaps, relevance_score, selection_stage, exclusion_reason, notes]\n",
       "Index: []\n",
       "\n",
       "[0 rows x 21 columns]"
      ]
     },
     "execution_count": 6,
     "metadata": {},
     "output_type": "execute_result"
    }
   ],
   "source": [
    "# Estrutura para registro e classificação dos artigos\n",
    "columns = [\n",
    "    'title',          # Título do artigo\n",
    "    'authors',        # Autores (string separada por vírgula)\n",
    "    'year',           # Ano de publicação\n",
    "    'source_publication', # Nome do periódico ou conferência\n",
    "    'abstract',       # Resumo\n",
    "    'full_text',     # Texto completo (se disponível)\n",
    "    'doi_url',        # DOI ou URL principal\n",
    "    'database',       # Base de dados de origem (ex: Semantic Scholar, OpenAlex)\n",
    "    'search_terms',   # Termos de busca que retornaram o artigo\n",
    "    'is_open_access', # Booleano indicando acesso aberto\n",
    "    'country',        # País de origem do estudo (se identificável)\n",
    "    'study_type',     # Tipo de estudo (ex: Empírico, Revisão, Proposta)\n",
    "    'comp_techniques',# Técnicas computacionais aplicadas (ex: ML, LA, ITS)\n",
    "    'eval_methods',   # Métodos de avaliação utilizados\n",
    "    'math_topic',     # Tópico específico da matemática abordado (se aplicável)\n",
    "    'main_results',   # Principais resultados/contribuições\n",
    "    'identified_gaps',# Lacunas ou desafios apontados\n",
    "    'relevance_score',# Pontuação de relevância (ex: 1-5, se aplicável manualmente)\n",
    "    'selection_stage',# Etapa PRISMA (Identificação, Triagem, Elegibilidade, Inclusão)\n",
    "    'exclusion_reason',# Motivo da exclusão (se aplicável)\n",
    "    'notes'           # Observações adicionais\n",
    "]\n",
    "\n",
    "# Criar dataframe vazio\n",
    "df_papers = pd.DataFrame(columns=columns)\n",
    "\n",
    "# Visualizar a estrutura\n",
    "df_papers.head()"
   ]
  },
  {
   "cell_type": "markdown",
   "id": "ee10c9de",
   "metadata": {},
   "source": [
    "#### 📊 Diagrama PRISMA — Fluxo do Processo de Seleção\n",
    "\n",
    "O diagrama PRISMA (Preferred Reporting Items for Systematic Reviews and Meta-Analyses) ilustra o fluxo de seleção dos estudos em revisões sistemáticas, detalhando cada etapa: identificação, triagem, elegibilidade e inclusão final dos artigos.\n",
    "\n",
    "Abaixo, apresentamos os números reais de cada etapa do processo:\n",
    "\n",
    "| Etapa                | Quantidade |\n",
    "|----------------------|:----------:|\n",
    "| Identificação        |    2048    |\n",
    "| Após Duplicatas      |    1433    |\n",
    "| Triagem (Screening)  |    1225    |\n",
    "| Excluídos na Triagem |    208     |\n",
    "| Elegibilidade        |     -      |\n",
    "| Excluídos na Leitura |     -      |\n",
    "| Inclusão Final       |     -      |\n",
    "\n",
    "```mermaid\n",
    "graph TD\n",
    "    A[Identificacao - Registros identificados pelas bases de dados n=320] --> B[Registros apos duplicatas removidas n=250];\n",
    "    B --> C{Triagem - Registros triados n=250};\n",
    "    C -- Registros excluidos n=120 --> D[Exclusao por Titulo e Resumo];\n",
    "    C --> E{Elegibilidade - Textos completos avaliados para elegibilidade n=130};\n",
    "    E -- Textos completos excluidos com motivos n=60 --> F[Exclusao na Leitura Completa];\n",
    "    E --> G[Inclusao - Estudos incluidos na sintese qualitativa n=70];\n",
    "\n",
    "    style A fill:#f9f,stroke:#333,stroke-width:2px;\n",
    "    style B fill:#ccf,stroke:#333,stroke-width:2px;\n",
    "    style C fill:#ccf,stroke:#333,stroke-width:2px;\n",
    "    style E fill:#ccf,stroke:#333,stroke-width:2px;\n",
    "    style G fill:#9cf,stroke:#333,stroke-width:2px;\n",
    "    style D fill:#f99,stroke:#333,stroke-width:1px;\n",
    "    style F fill:#f99,stroke:#333,stroke-width:1px;\n",
    "```\n",
    "\n",
    "> **Observação:** Atualize os valores conforme os resultados reais do seu processo de seleção. O diagrama PRISMA facilita a transparência e a compreensão do rigor metodológico da revisão sistemática."
   ]
  },
  {
   "cell_type": "markdown",
   "id": "187f3d3f",
   "metadata": {},
   "source": [
    "### 🔑 Configuração de constantes e variáveis"
   ]
  },
  {
   "cell_type": "code",
   "execution_count": 7,
   "id": "08324914",
   "metadata": {},
   "outputs": [],
   "source": [
    "load_dotenv()\n",
    "\n",
    "# Constants and configuration - OTIMIZADO com base nas melhores práticas 2024/2025\n",
    "CONFIG = {\n",
    "    \"semantic_scholar\": {\n",
    "        \"api_key\": \"\",  # Add your Semantic Scholar API key here if you have one\n",
    "        \"base_url\": \"https://api.semanticscholar.org/graph/v1/paper/search\", # Search endpoint\n",
    "        \"rate_delay\": 4.0,  # Aumentado de 3.0s para 4.0s (mais seguro)\n",
    "        \"cache_dir\": \"cache/semantic_scholar/\", # Directory for caching results\n",
    "        \"fields_expanded\": [  # Campos expandidos para melhor coleta inicial\n",
    "            \"paperId\", \"title\", \"authors.name\", \"year\", \"venue\", \"url\", \n",
    "            \"abstract\", \"isOpenAccess\", \"tldr\", \"fieldsOfStudy\", \n",
    "            \"publicationTypes\", \"citationCount\", \"influentialCitationCount\"\n",
    "        ]\n",
    "    },\n",
    "    \"open_alex\": {\n",
    "        # buscar via enviroment variables\n",
    "        \"email\": os.getenv('USER_EMAIL'), # Your email for OpenAlex API\")\n",
    "        \"base_url\": \"https://api.openalex.org/works\", # Base URL for OpenAlex API\n",
    "        \"rate_delay\": 6.0,  # Mantido em 6.0s (polite pool recomendado)\n",
    "        \"cache_dir\": \"cache/open_alex/\", # Directory for caching results\n",
    "        \"use_polite_pool\": True,  # Usar polite pool para melhor performance\n",
    "        \"fields_expanded\": [  # Campos expandidos para melhor coleta inicial\n",
    "            \"id\", \"doi\", \"title\", \"publication_year\", \"authorships\", \n",
    "            \"host_venue\", \"abstract_inverted_index\", \"open_access\", \n",
    "            \"concepts\", \"topics\", \"keywords\", \"type\", \"language\", \"cited_by_count\"\n",
    "        ]\n",
    "    },\n",
    "    \"crossref\": {\n",
    "        \"email\": os.getenv('USER_EMAIL'), # Your email for CrossRef API\n",
    "        \"base_url\": \"https://api.crossref.org/works\", # Base URL for CrossRef API\n",
    "        \"rate_delay\": 4.0, # Aumentado de 3.0s para 4.0s (mais estável)\n",
    "        \"cache_dir\": \"cache/crossref/\", # Directory for caching results\n",
    "        \"use_polite_pool\": True  # Usar polite pool para melhor performance\n",
    "    },\n",
    "    \"core\": {\n",
    "        \"api_key\": os.getenv('CORE_API_KEY'), # Your API key for CORE API\n",
    "        \"base_url\": \"https://api.core.ac.uk/v3/search/works\", # Base URL for CORE API\n",
    "        \"rate_delay\": 6.0,  # Mantido em 6.0s\n",
    "        \"cache_dir\": \"cache/core/\", # Directory for caching results\n",
    "        \"is_active\": False  # DESABILITADA: erros 500 conhecidos da comunidade\n",
    "    }\n",
    "}"
   ]
  },
  {
   "cell_type": "markdown",
   "id": "27a1003d",
   "metadata": {},
   "source": [
    "### 📥 Cache"
   ]
  },
  {
   "cell_type": "markdown",
   "id": "8241b4d0",
   "metadata": {},
   "source": [
    "##### 📗 Criando diretórios de cache"
   ]
  },
  {
   "cell_type": "code",
   "execution_count": 8,
   "id": "3c39a401",
   "metadata": {},
   "outputs": [],
   "source": [
    "# Create cache directories if they don't exist\n",
    "for source in CONFIG:\n",
    "    os.makedirs(CONFIG[source][\"cache_dir\"], exist_ok=True)"
   ]
  },
  {
   "cell_type": "markdown",
   "id": "044465c0",
   "metadata": {},
   "source": [
    "##### Obtendo pasta do cache"
   ]
  },
  {
   "cell_type": "code",
   "execution_count": 9,
   "id": "8f3576dc",
   "metadata": {},
   "outputs": [],
   "source": [
    "def get_cache_filename(query : str, api_name: str) -> str:\n",
    "    \"\"\"\n",
    "    Generate a cache filename based on the query and API name.\n",
    "\n",
    "    Parameters:\n",
    "    ----------\n",
    "    query : str\n",
    "        The search query.\n",
    "    api_name : str\n",
    "        The name of the API (e.g., \"semantic_scholar\", \"open_alex\", etc.).\n",
    "\n",
    "    Returns:\n",
    "    -------\n",
    "    str\n",
    "        The cache filename.\n",
    "    \"\"\"\n",
    "    query_hash = hashlib.md5(query.encode()).hexdigest()\n",
    "    return f\"{CONFIG[api_name]['cache_dir']}{query_hash}.json\""
   ]
  },
  {
   "cell_type": "markdown",
   "id": "f9a55f34",
   "metadata": {},
   "source": [
    "##### Carregando artigos do cache"
   ]
  },
  {
   "cell_type": "code",
   "execution_count": 10,
   "id": "e96f90db",
   "metadata": {},
   "outputs": [],
   "source": [
    "def load_from_cache(query : str, api_name: str) -> list:\n",
    "    \"\"\"\n",
    "    Load results from cache if available.\n",
    "\n",
    "    Parameters:\n",
    "    ----------\n",
    "    query : str\n",
    "        The search query.\n",
    "    api_name : str\n",
    "        The name of the API (e.g., \"semantic_scholar\", \"open_alex\", etc.).\n",
    "\n",
    "    Returns:\n",
    "    -------\n",
    "    list\n",
    "        The cached results if available, otherwise None.\n",
    "    \"\"\"\n",
    "    cache_file = get_cache_filename(query, api_name)\n",
    "    if os.path.exists(cache_file):\n",
    "        with open(cache_file, 'r', encoding='utf-8') as f:\n",
    "            return json.load(f)\n",
    "    return None"
   ]
  },
  {
   "cell_type": "markdown",
   "id": "62c527c6",
   "metadata": {},
   "source": [
    "##### 💾 Salvando artigos no cache"
   ]
  },
  {
   "cell_type": "code",
   "execution_count": 11,
   "id": "6cafed13",
   "metadata": {},
   "outputs": [],
   "source": [
    "def save_to_cache(query : str, data: list, api_name: str) -> None:\n",
    "    \"\"\"\n",
    "    Save results to cache.\n",
    "\n",
    "    Parameters:\n",
    "    ----------\n",
    "    query : str\n",
    "        The search query.\n",
    "    data : list\n",
    "        The data to be cached.\n",
    "    api_name : str\n",
    "        The name of the API (e.g., \"semantic_scholar\", \"open_alex\", etc.).\n",
    "\n",
    "    Returns:\n",
    "    -------\n",
    "    None\n",
    "        This function does not return anything.\n",
    "    \"\"\"\n",
    "    cache_file = get_cache_filename(query, api_name)\n",
    "    with open(cache_file, 'w', encoding='utf-8') as f:\n",
    "        json.dump(data, f, ensure_ascii=False, indent=2)"
   ]
  },
  {
   "cell_type": "markdown",
   "id": "7164ce1c",
   "metadata": {},
   "source": [
    "### 📊 Visualização e Registro dos Dados\n",
    "\n",
    "Para garantir máxima transparência e robustez, os resultados do processo de seleção serão apresentados por meio de tabelas e gráficos, incluindo:\n",
    "- **Diagrama PRISMA**: Visualização do fluxo de seleção dos artigos, com números reais de cada etapa (identificação, triagem, elegibilidade, inclusão).\n",
    "- **Tabelas resumo**: Consolidação dos principais dados dos estudos (autores, ano, técnicas, resultados e lacunas).\n",
    "- **Gráficos exploratórios**: Distribuição temporal, por base de dados, técnicas computacionais e tópicos matemáticos.\n",
    "\n",
    "Essas visualizações facilitam a compreensão do rigor do processo e a identificação de padrões relevantes na literatura."
   ]
  },
  {
   "cell_type": "markdown",
   "id": "d654e4ee",
   "metadata": {},
   "source": [
    "### 🌎 Busca via apis e coleta de dados\n",
    "Esta seção deve incluir a implementação da coleta de dados utilizando bibliotecas como requests e pandas para acessar e manipular os dados.\n"
   ]
  },
  {
   "cell_type": "markdown",
   "id": "89bba5f0",
   "metadata": {},
   "source": [
    "#### ➕ Adicionando artigo"
   ]
  },
  {
   "cell_type": "code",
   "execution_count": 12,
   "id": "0f45d0b0",
   "metadata": {},
   "outputs": [],
   "source": [
    "# Function to add a new paper to the dataframe\n",
    "def add_paper(title: str,\n",
    "              authors: str,\n",
    "              year: int,\n",
    "              source_publication: str,\n",
    "              abstract: str,\n",
    "              full_text: str,\n",
    "              doi_url: str,\n",
    "              database: str,\n",
    "              search_terms: str,\n",
    "              is_open_access: bool = False,\n",
    "              country: str = \"\",\n",
    "              study_type: str = \"\",\n",
    "              comp_techniques: str = \"\",\n",
    "              eval_methods: str = \"\",\n",
    "              math_topic: str = \"\",\n",
    "              main_results: str = \"\",\n",
    "              identified_gaps: str = \"\",\n",
    "              relevance_score: int = 0,\n",
    "              selection_stage: str = \"\",\n",
    "              exclusion_reason: str = \"\",\n",
    "              notes: str = \"\") -> int:\n",
    "    \"\"\"\n",
    "    Add new paper to the dataframe using the updated column structure.\n",
    "\n",
    "    Parameters:\n",
    "    ----------\n",
    "    (Parâmetros correspondem às novas colunas definidas anteriormente)\n",
    "\n",
    "    Returns:\n",
    "    -------\n",
    "    int\n",
    "        Current number of articles in the dataframe\n",
    "    \"\"\"\n",
    "    \n",
    "    global df_papers, columns # Acessa o dataframe global e a lista de colunas\n",
    "\n",
    "    new_paper_data = {\n",
    "        'title': title,\n",
    "        'authors': authors,\n",
    "        'year': year,\n",
    "        'source_publication': source_publication,\n",
    "        'abstract': abstract,\n",
    "        'full_text': full_text,\n",
    "        'doi_url': doi_url,\n",
    "        'database': database,\n",
    "        'search_terms': search_terms,\n",
    "        'is_open_access': is_open_access,\n",
    "        'country': country,\n",
    "        'study_type': study_type,\n",
    "        'comp_techniques': comp_techniques,\n",
    "        'eval_methods': eval_methods,\n",
    "        'math_topic': math_topic,\n",
    "        'main_results': main_results,\n",
    "        'identified_gaps': identified_gaps,\n",
    "        'relevance_score': relevance_score,\n",
    "        'selection_stage': selection_stage,\n",
    "        'exclusion_reason': exclusion_reason,\n",
    "        'notes': notes\n",
    "    }\n",
    "\n",
    "    # Garantir que todas as colunas existam no dicionário, mesmo que vazias\n",
    "    for col in columns:\n",
    "        if col not in new_paper_data:\n",
    "            new_paper_data[col] = None # Ou um valor padrão apropriado\n",
    "\n",
    "    # Criar DataFrame temporário com as colunas na ordem correta\n",
    "    new_paper_df = pd.DataFrame([new_paper_data], columns=columns)\n",
    "\n",
    "    # Concatenar com o DataFrame principal\n",
    "    df_papers = pd.concat([df_papers, new_paper_df], ignore_index=True)\n",
    "    \n",
    "    print(f\"📄 Artigo '{title}' adicionado. Total atual: {len(df_papers)}\")\n",
    "    return len(df_papers)"
   ]
  },
  {
   "cell_type": "markdown",
   "id": "02abbb6b",
   "metadata": {},
   "source": [
    "#### Cria sessão para requisições"
   ]
  },
  {
   "cell_type": "code",
   "execution_count": 13,
   "id": "070286d7",
   "metadata": {},
   "outputs": [],
   "source": [
    "def create_session_with_retry(total: int = 3, backoff: int = 2, status_forcelist: List = [429, 500, 502, 503, 504]) -> requests.Session:\n",
    "    \"\"\"\n",
    "        Create requests session with retry strategy\n",
    "\n",
    "    Parameters:\n",
    "    ----------\n",
    "    total : int\n",
    "        Total number of retries (default: 3)\n",
    "    backoff : int\n",
    "        Backoff factor for delay between retries (default: 2)\n",
    "    status_forcelist : list\n",
    "        List of HTTP status codes that we should force a retry on (default: [429, 500, 502, 503, 504])\n",
    "    Returns:\n",
    "    -------\n",
    "    requests.Session\n",
    "        Configured session with retry strategy\n",
    "    \"\"\"\n",
    "    session = requests.Session()\n",
    "    retries = Retry(\n",
    "        total=total,\n",
    "        backoff_factor=backoff,\n",
    "        status_forcelist=status_forcelist,\n",
    "        allowed_methods=[\"GET\", \"POST\"],\n",
    "        respect_retry_after_header=True\n",
    "    )\n",
    "    session.mount('http://', HTTPAdapter(max_retries=retries))\n",
    "    session.mount('https://', HTTPAdapter(max_retries=retries))\n",
    "    return session"
   ]
  },
  {
   "cell_type": "markdown",
   "id": "badcd70e",
   "metadata": {},
   "source": [
    "#### Criando estratégia para novas tentativas caso de falha"
   ]
  },
  {
   "cell_type": "code",
   "execution_count": 15,
   "id": "c09cab3b",
   "metadata": {},
   "outputs": [],
   "source": [
    "def exponential_backoff(attempt : int, base_delay : int = 3):\n",
    "    \"\"\"\n",
    "    Implements exponential backoff strategy for retrying requests.\n",
    "\n",
    "    Parameters:\n",
    "    ----------\n",
    "    attempt : int\n",
    "        The current attempt number (0-indexed).\n",
    "    base_delay : int\n",
    "        The base delay in seconds (default: 3).\n",
    "    \"\"\"\n",
    "    # Add more jitter and longer delays for higher attempt numbers\n",
    "    delay = base_delay * (2 ** attempt) + random.uniform(0, 1.5)\n",
    "    print(f\"   ⏳ Aguardando {delay:.2f} segundos antes de tentar novamente...\")\n",
    "    time.sleep(delay)"
   ]
  },
  {
   "cell_type": "markdown",
   "id": "9385ec49",
   "metadata": {},
   "source": [
    "#### 🔄 Classes de busca genérica e utilitários\n",
    "- Use as subclasses abaixo para implementar buscas específicas por API.\n",
    "- Marque as funções antigas como deprecated."
   ]
  },
  {
   "cell_type": "code",
   "execution_count": 16,
   "id": "e22c432b",
   "metadata": {},
   "outputs": [],
   "source": [
    "# Configuração básica do logging\n",
    "logging.basicConfig(\n",
    "    level=logging.INFO,\n",
    "    format='%(asctime)s [%(levelname)s] %(name)s: %(message)s',\n",
    "    datefmt='%H:%M:%S'\n",
    ")\n",
    "\n",
    "@dataclass\n",
    "class Paper:\n",
    "    title: str = \"\"\n",
    "    authors: str = \"\"\n",
    "    year: int = 0\n",
    "    source_publication: str = \"\"\n",
    "    abstract: str = \"\"\n",
    "    full_text: str = \"\"\n",
    "    doi_url: str = \"\"\n",
    "    database: str = \"\"\n",
    "    search_terms: str = \"\"\n",
    "    is_open_access: bool = False\n",
    "    country: str = \"\"\n",
    "    study_type: str = \"\"\n",
    "    comp_techniques: str = \"\"\n",
    "    eval_methods: str = \"\"\n",
    "    math_topic: str = \"\"\n",
    "    main_results: str = \"\"\n",
    "    identified_gaps: str = \"\"\n",
    "    relevance_score: int = 0\n",
    "    selection_stage: str = \"Identificação\"\n",
    "    exclusion_reason: str = \"\"\n",
    "    notes: str = \"\"\n",
    "\n",
    "    def to_dict(self) -> Dict[str, Any]:\n",
    "        return asdict(self)\n",
    "\n",
    "# Função utilitária para normalizar texto (acentos, minúsculas)\n",
    "def normalize_text(text: str) -> str:\n",
    "    if not isinstance(text, str):\n",
    "        return \"\"\n",
    "    text = text.lower()\n",
    "    text = unicodedata.normalize('NFKD', text)\n",
    "    text = ''.join([c for c in text if not unicodedata.combining(c)])\n",
    "    return text\n",
    "\n",
    "# Filtro genérico para artigos (ano, idioma, palavras-chave)\n",
    "def is_relevant_paper(paper: Paper, year_min: int, langs: List[str],\n",
    "                     keywords: List[str], tech_terms: List[str]) -> (bool, str):\n",
    "    # Ano\n",
    "    if not isinstance(paper.year, int) or paper.year < year_min:\n",
    "        return False, f\"Ano < {year_min}\"\n",
    "\n",
    "    # Título ou Resumo vazio\n",
    "    if not paper.title and not paper.abstract:\n",
    "        return False, \"Título e Resumo vazios\"\n",
    "\n",
    "    text_to_check = normalize_text(paper.title + \" \" + paper.abstract)\n",
    "\n",
    "    # Idioma (heurística: verifica se há palavras-chave em português ou inglês)\n",
    "    # Se não houver texto, não podemos verificar o idioma, mas não excluímos por isso.\n",
    "    if text_to_check and langs:\n",
    "        lang_detected = False\n",
    "        # Simple check if common words exist - adjust if needed\n",
    "        if any(w in text_to_check for w in ['the', 'a', 'is', 'in', 'of', 'and']): # English check\n",
    "            if 'en' in langs:\n",
    "                lang_detected = True\n",
    "        if any(w in text_to_check for w in ['o', 'a', 'é', 'em', 'de', 'e']): # Portuguese check\n",
    "            if 'pt' in langs:\n",
    "                lang_detected = True\n",
    "        # If specific language check is desired and no language detected, filter out\n",
    "        # if not lang_detected:\n",
    "        #     return False, f\"Idioma não detectado ou fora de {langs}\"\n",
    "\n",
    "    # Palavras-chave de educação\n",
    "    if keywords and not any(normalize_text(k) in text_to_check for k in keywords):\n",
    "        return False, \"Sem palavra-chave de educação\"\n",
    "\n",
    "    # Palavras-chave de tecnologia\n",
    "    if tech_terms and not any(normalize_text(t) in text_to_check for t in tech_terms):\n",
    "        return False, \"Sem termo de tecnologia\"\n",
    "\n",
    "    return True, \"\"\n",
    "\n",
    "class BaseSearcher(ABC):\n",
    "    def __init__(self, name: str):\n",
    "        self.name = name\n",
    "        self.session = create_session_with_retry(total=5, backoff=3, status_forcelist=[429, 500, 502, 503, 504])\n",
    "        self.logger = logging.getLogger(self.name) # Logger specific to the subclass name\n",
    "        self.year_min = 2015\n",
    "        self.langs = [\"en\", \"pt\"]\n",
    "        self.keywords = [\"education\", \"educacao\", \"ensino\", \"learning\", \"matematica\", \"mathematics\"]\n",
    "        self.tech_terms = [\n",
    "            \"adaptive\", \"personalized\", \"tutoring\", \"analytics\", \"mining\",\n",
    "            \"machine learning\", \"ai\", \"assessment\", \"student modeling\", \"predictive\",\n",
    "            \"intelligent tutor\", \"artificial intelligence\"\n",
    "        ]\n",
    "\n",
    "    def search(self, queries: List[str], max_results_per_query: int = 10, year_min: int = 2015, langs: Optional[List[str]] = None):\n",
    "        self.year_min = year_min\n",
    "        if langs:\n",
    "            self.langs = langs\n",
    "\n",
    "        total_added_from_cache = 0\n",
    "        total_added_from_api = 0\n",
    "        total_discarded = 0\n",
    "        total_processed_from_api = 0\n",
    "\n",
    "        for query in queries:\n",
    "            self.logger.info(f\"🔎 Iniciando busca para: '{query}'\")\n",
    "            cached = load_from_cache(query, self.name)\n",
    "            query_added_from_cache = 0\n",
    "\n",
    "            if cached:\n",
    "                self.logger.info(f\"📋 Carregando {len(cached)} artigos do cache para '{query}'\")\n",
    "                for item_dict in cached:\n",
    "                    try:\n",
    "                        # Ensure all required fields for Paper are present, provide defaults if not\n",
    "                        paper = Paper(**item_dict)\n",
    "                        # Re-check relevance based on current filters, even if cached\n",
    "                        relevant, reason = is_relevant_paper(paper, self.year_min, self.langs, self.keywords, self.tech_terms)\n",
    "                        if relevant:\n",
    "                            add_paper(**paper.to_dict())\n",
    "                            query_added_from_cache += 1\n",
    "                        else:\n",
    "                            self.logger.debug(f\"Descartado (do cache): {paper.title[:60]}... Motivo: {reason}\")\n",
    "                    except TypeError as e:\n",
    "                        self.logger.error(f\"Erro ao criar Paper do item cacheado para query '{query}': {e}. Item: {item_dict}\")\n",
    "                    except Exception as e:\n",
    "                         self.logger.error(f\"Erro inesperado processando item cacheado para query '{query}': {e}. Item: {item_dict}\")\n",
    "                self.logger.info(f\"  -> {query_added_from_cache} artigos relevantes adicionados do cache para '{query}'.\")\n",
    "                total_added_from_cache += query_added_from_cache\n",
    "                continue # Skip API call if cache was loaded\n",
    "\n",
    "            # --- API Call --- \n",
    "            self.logger.info(f\"☁️ Cache não encontrado ou vazio para '{query}'. Buscando na API...\")\n",
    "            results_api, filtered_api, discarded_api = 0, 0, 0\n",
    "            papers_to_cache: List[Dict[str, Any]] = [] # Store dicts for caching\n",
    "\n",
    "            try:\n",
    "                # _request_page should yield items page by page or all at once\n",
    "                for item in self._request_page(query, max_results_per_query):\n",
    "                    results_api += 1\n",
    "                    paper = self._item_to_paper(item, query)\n",
    "\n",
    "                    if not paper:\n",
    "                        self.logger.debug(f\"Item da API não pôde ser convertido em Paper: {str(item)[:100]}...\")\n",
    "                        discarded_api += 1\n",
    "                        continue\n",
    "\n",
    "                    relevant, reason = is_relevant_paper(paper, self.year_min, self.langs, self.keywords, self.tech_terms)\n",
    "                    if relevant:\n",
    "                        add_paper(**paper.to_dict())\n",
    "                        papers_to_cache.append(paper.to_dict()) # Cache the dict\n",
    "                        filtered_api += 1\n",
    "                    else:\n",
    "                        self.logger.debug(f\"Descartado (da API): {paper.title[:60]}... Motivo: {reason}\")\n",
    "                        discarded_api += 1\n",
    "\n",
    "                    # Optional: Stop if enough relevant results found for this query\n",
    "                    # if filtered_api >= max_results_per_query:\n",
    "                    #    self.logger.info(f\"Atingido limite de {max_results_per_query} resultados relevantes para '{query}'.\")\n",
    "                    #    break\n",
    "\n",
    "            except Exception as e:\n",
    "                 self.logger.error(f\"Erro durante requisição ou processamento da API para query '{query}': {e}\", exc_info=True)\n",
    "                 # Continue to the next query even if one fails\n",
    "                 continue\n",
    "\n",
    "            # --- Caching and Logging for API results --- \n",
    "            total_added_from_api += filtered_api\n",
    "            total_discarded += discarded_api\n",
    "            total_processed_from_api += results_api\n",
    "\n",
    "            if papers_to_cache:\n",
    "                save_to_cache(query, papers_to_cache, self.name)\n",
    "                self.logger.info(f\"✅ {filtered_api} artigos relevantes da API salvos no cache para '{query}' ({discarded_api} descartados de {results_api} processados).\" )\n",
    "            elif results_api > 0:\n",
    "                 self.logger.info(f\"ℹ️ Nenhum artigo relevante encontrado na API para '{query}' ({discarded_api} descartados de {results_api} processados).\" )\n",
    "            else:\n",
    "                 self.logger.info(f\"ℹ️ Nenhum resultado retornado pela API para '{query}'.\" )\n",
    "\n",
    "        # --- Final Summary --- \n",
    "        self.logger.info(\"🏁 Busca concluída.\")\n",
    "        self.logger.info(f\"  Total adicionado do cache: {total_added_from_cache}\")\n",
    "        self.logger.info(f\"  Total adicionado da API: {total_added_from_api}\")\n",
    "        self.logger.info(f\"  Total processado da API: {total_processed_from_api}\")\n",
    "        self.logger.info(f\"  Total descartado (API + Cache): {total_discarded + (total_added_from_cache - query_added_from_cache)}\") # Approximation\n",
    "\n",
    "    @abstractmethod\n",
    "    def _request_page(self, query: str, max_results: int):\n",
    "        \"\"\"Yields raw items from the API results. Handles pagination internally.\"\"\"\n",
    "        pass\n",
    "\n",
    "    @abstractmethod\n",
    "    def _item_to_paper(self, item: dict, query: str) -> Optional[Paper]:\n",
    "        \"\"\"Converts a raw API item into a Paper object.\"\"\"\n",
    "        pass\n"
   ]
  },
  {
   "cell_type": "markdown",
   "id": "b080dca4",
   "metadata": {},
   "source": [
    "##### 🔍 Busca Via Semantic Scholar"
   ]
  },
  {
   "cell_type": "code",
   "execution_count": 17,
   "id": "88ff9bd5",
   "metadata": {},
   "outputs": [],
   "source": [
    "class SemanticScholarSearcher(BaseSearcher):\n",
    "    def __init__(self):\n",
    "        super().__init__(\"semantic_scholar\")\n",
    "        self.api_key = CONFIG[\"semantic_scholar\"][\"api_key\"]\n",
    "        self.headers = {\"User-Agent\": \"ScholarGPT-Research/1.0\"}\n",
    "        if self.api_key:\n",
    "            self.headers[\"x-api-key\"] = self.api_key\n",
    "\n",
    "    def _request_page(self, query: str, max_results: int):\n",
    "        # Semantic Scholar doesn't have strong year filtering in API, fetches more\n",
    "        params = {\n",
    "            \"query\": query,\n",
    "            \"limit\": max_results * 2, # Fetch more to filter later\n",
    "            \"fields\": \"paperId,title,authors.name,year,venue,url,abstract,isOpenAccess,tldr,fieldsOfStudy\" # Added tldr, fieldsOfStudy\n",
    "        }\n",
    "        max_attempts = 3\n",
    "        for attempt in range(max_attempts):\n",
    "            try:\n",
    "                self.logger.debug(f\"SemanticScholar Request: GET {CONFIG[self.name]['base_url']} Params: {params}\")\n",
    "                response = self.session.get(CONFIG[self.name][\"base_url\"], headers=self.headers, params=params, timeout=20)\n",
    "                response.raise_for_status()\n",
    "                data = response.json().get(\"data\", [])\n",
    "                self.logger.debug(f\"SemanticScholar Response: {len(data)} items\")\n",
    "                for item in data:\n",
    "                    yield item\n",
    "                return # Successfully fetched and yielded all items\n",
    "            except requests.exceptions.RequestException as e:\n",
    "                self.logger.error(f\"SemanticScholar Request failed (Attempt {attempt + 1}/{max_attempts}): {e}\")\n",
    "                if attempt == max_attempts - 1:\n",
    "                    self.logger.error(f\"Semantic Scholar falhou após {max_attempts} tentativas para query '{query}'.\")\n",
    "                    return # Stop trying\n",
    "                exponential_backoff(attempt)\n",
    "            # Add delay before next attempt or next query in the main loop\n",
    "            time.sleep(CONFIG[self.name][\"rate_delay\"])\n",
    "\n",
    "    def _item_to_paper(self, item: dict, query: str) -> Optional[Paper]:\n",
    "        try:\n",
    "            year = item.get(\"year\")\n",
    "            # Basic check if year looks valid before creating Paper\n",
    "            if not isinstance(year, int):\n",
    "                 try:\n",
    "                     year = int(year) # Try converting if it's a string/float\n",
    "                 except (ValueError, TypeError):\n",
    "                     self.logger.debug(f\"Ano inválido ou ausente no item SemanticScholar: {item.get('title', 'N/A')}\")\n",
    "                     return None # Skip if year is invalid\n",
    "\n",
    "            return Paper(\n",
    "                title=item.get(\"title\", \"\"),\n",
    "                authors=\", \".join([a.get(\"name\", \"\") for a in item.get(\"authors\", [])]),\n",
    "                year=year,\n",
    "                source_publication=item.get(\"venue\", \"\"),\n",
    "                abstract=item.get(\"abstract\", \"\") or \"\",\n",
    "                doi_url=item.get(\"url\", \"\"),\n",
    "                database=self.name,\n",
    "                search_terms=query,\n",
    "                is_open_access=item.get(\"isOpenAccess\", False),\n",
    "                math_topic=\", \".join(item.get(\"fieldsOfStudy\", [])),\n",
    "                \n",
    "            )\n",
    "        except Exception as e:\n",
    "            self.logger.error(f\"Erro ao converter item SemanticScholar para Paper: {e} - Item: {str(item)[:200]}\")\n",
    "            return None"
   ]
  },
  {
   "cell_type": "markdown",
   "id": "9eb81a3e",
   "metadata": {},
   "source": [
    "##### 🔍 Busca Via Open Alex"
   ]
  },
  {
   "cell_type": "code",
   "execution_count": 18,
   "id": "71e20149",
   "metadata": {},
   "outputs": [],
   "source": [
    "class OpenAlexSearcher(BaseSearcher):\n",
    "    def __init__(self):\n",
    "        super().__init__(\"open_alex\")\n",
    "        self.email = CONFIG[\"open_alex\"][\"email\"]\n",
    "        if not self.email or \"@\" not in self.email:\n",
    "            self.logger.warning(\"Email não configurado para OpenAlex. Usando placeholder.\")\n",
    "            self.email = \"placeholder@example.com\"\n",
    "        self.headers = {\n",
    "            \"User-Agent\": f\"ScholarGPT-Research/1.0 (mailto:{self.email})\",\n",
    "            \"Accept\": \"application/json\"\n",
    "        }\n",
    "\n",
    "    def _request_page(self, query: str, max_results: int):\n",
    "        clean_query = query.replace('\"', '')\n",
    "        page = 1\n",
    "        fetched_count = 0\n",
    "        max_attempts = 3\n",
    "        per_page = min(max_results, 50) # OpenAlex page size limit might vary, 50 is safe\n",
    "\n",
    "        while fetched_count < max_results:\n",
    "            params = {\n",
    "                \"filter\": f\"publication_year:>{self.year_min-1}\",\n",
    "                \"search\": clean_query,\n",
    "                \"per-page\": per_page,\n",
    "                \"page\": page,\n",
    "                \"select\": \"id,doi,title,publication_year,authorships,host_venue,abstract_inverted_index,open_access,concepts,topics,keywords\"\n",
    "            }\n",
    "            for attempt in range(max_attempts):\n",
    "                try:\n",
    "                    self.logger.debug(f\"OpenAlex Request: GET {CONFIG[self.name]['base_url']} Params: {params}\")\n",
    "                    response = self.session.get(CONFIG[self.name][\"base_url\"], headers=self.headers, params=params, timeout=25)\n",
    "                    response.raise_for_status()\n",
    "                    data = response.json()\n",
    "                    results = data.get(\"results\", [])\n",
    "                    self.logger.debug(f\"OpenAlex Response: {len(results)} items on page {page}\")\n",
    "\n",
    "                    if not results:\n",
    "                        return # No more results\n",
    "\n",
    "                    for item in results:\n",
    "                        if fetched_count < max_results:\n",
    "                            yield item\n",
    "                            fetched_count += 1\n",
    "                        else:\n",
    "                            break # Stop yielding if max_results reached\n",
    "\n",
    "                    if fetched_count >= max_results:\n",
    "                         return # Max results reached\n",
    "\n",
    "                    page += 1\n",
    "                    # Delay before next page\n",
    "                    time.sleep(CONFIG[self.name][\"rate_delay\"] * 0.5 + random.uniform(0, 0.5))\n",
    "                    break # Success, move to next page\n",
    "\n",
    "                except requests.exceptions.RequestException as e:\n",
    "                    self.logger.error(f\"OpenAlex Request failed (Attempt {attempt + 1}/{max_attempts}): {e}\")\n",
    "                    if attempt == max_attempts - 1:\n",
    "                        self.logger.error(f\"OpenAlex falhou após {max_attempts} tentativas para query '{query}', page {page}.\")\n",
    "                        return # Stop trying for this query\n",
    "                    exponential_backoff(attempt)\n",
    "            else:\n",
    "                 self.logger.error(f\"OpenAlex falhou em obter a página {page} para query '{query}' após {max_attempts} tentativas.\")\n",
    "                 return # Stop trying for this query\n",
    "\n",
    "    def _item_to_paper(self, item: dict, query: str) -> Optional[Paper]:\n",
    "        try:\n",
    "            year = item.get(\"publication_year\")\n",
    "            if not isinstance(year, int):\n",
    "                return None # Skip if year is invalid\n",
    "\n",
    "            authorships = item.get(\"authorships\", [])\n",
    "            authors = []\n",
    "            for authorship in authorships:\n",
    "                if isinstance(authorship, dict) and 'author' in authorship:\n",
    "                    author_name = authorship['author'].get('display_name', '')\n",
    "                    if author_name:\n",
    "                        authors.append(author_name)\n",
    "\n",
    "            # OpenAlex abstract inversion index requires specific handling\n",
    "            abstract_inverted = item.get('abstract_inverted_index')\n",
    "            abstract = \"\"\n",
    "            if abstract_inverted and isinstance(abstract_inverted, dict):\n",
    "                # Reconstruct abstract (simple space join, might lose structure)\n",
    "                word_positions = []\n",
    "                for word, positions in abstract_inverted.items():\n",
    "                    for pos in positions:\n",
    "                        word_positions.append((pos, word))\n",
    "                word_positions.sort()\n",
    "                abstract = \" \".join([word for pos, word in word_positions])\n",
    "\n",
    "            return Paper(\n",
    "                title=item.get(\"title\", \"\"),\n",
    "                authors=\", \".join(authors),\n",
    "                year=year,\n",
    "                source_publication=item.get(\"host_venue\", {}).get(\"display_name\", \"\"),\n",
    "                abstract=abstract,\n",
    "                doi_url=item.get(\"doi\", \"\"),\n",
    "                database=self.name,\n",
    "                search_terms=query,\n",
    "                is_open_access=item.get(\"open_access\", {}).get(\"is_oa\", False),\n",
    "                country=item.get(\"host_venue\", {}).get(\"country_code\", \"\"),\n",
    "                study_type=item.get(\"type\", \"\"), # Adjust as per OpenAlex data structure\n",
    "                comp_techniques=\", \".join([c.get(\"display_name\", \"\") for c in item.get(\"concepts\", [])]),\n",
    "                eval_methods=\", \".join([t.get(\"display_name\", \"\") for t in item.get(\"topics\", [])]),\n",
    "                math_topic=\", \".join([k.get(\"display_name\", \"\") for k in item.get(\"keywords\", [])]),\n",
    "            )\n",
    "        except Exception as e:\n",
    "            self.logger.error(f\"Erro ao converter item OpenAlex para Paper: {e} - Item: {str(item)[:200]}\")\n",
    "            return None"
   ]
  },
  {
   "cell_type": "markdown",
   "id": "d162128d",
   "metadata": {},
   "source": [
    "##### 🔍 Busca Via Crossref"
   ]
  },
  {
   "cell_type": "code",
   "execution_count": 19,
   "id": "3776a878",
   "metadata": {},
   "outputs": [],
   "source": [
    "class CrossrefSearcher(BaseSearcher):\n",
    "    def __init__(self):\n",
    "        super().__init__(\"crossref\")\n",
    "        # works instance is assumed to be created globally (cell 70702d4f)\n",
    "        # No specific email/headers needed when using crossref.restful directly\n",
    "        self.logger.info(\"CrossrefSearcher inicializado, usando instância 'works' global.\")\n",
    "\n",
    "    def _request_page(self, query: str, max_results: int):\n",
    "        # crossref.restful handles pagination implicitly when iterating\n",
    "        # We fetch slightly more using sample and filter later\n",
    "        # Note: 'query' in crossref.restful might behave differently than direct API query.bibliographic is often better.\n",
    "        clean_query = re.sub(r'[\\\"]|AND', '', query).strip() # Basic cleaning\n",
    "        target_rows = min(max_results * 2, 100) # Fetch more, limit sample size\n",
    "\n",
    "        max_attempts = 3\n",
    "        for attempt in range(max_attempts):\n",
    "            try:\n",
    "                self.logger.debug(f\"Crossref Request: works.query(bibliographic='{clean_query}').filter(from_pub_date='{self.year_min}-01-01').sample({target_rows})\")\n",
    "                # Using query.bibliographic for potentially better title/author matching\n",
    "                results_generator = works.query(bibliographic=clean_query)\\\n",
    "                                       .filter(from_pub_date=f'{self.year_min}-01-01')\\\n",
    "                                       .sort('relevance').order('desc')\\\n",
    "                                       .sample(target_rows) # Get a sample generator\n",
    "\n",
    "                count = 0\n",
    "                for item in results_generator:\n",
    "                    yield item\n",
    "                    count += 1\n",
    "                self.logger.debug(f\"Crossref Response: Yielded {count} items\")\n",
    "                return # Successfully fetched and yielded items\n",
    "\n",
    "            except requests.exceptions.RequestException as e:\n",
    "                # crossref.restful uses requests internally\n",
    "                self.logger.error(f\"Crossref Request failed (Attempt {attempt + 1}/{max_attempts}): {e}\")\n",
    "                if attempt == max_attempts - 1:\n",
    "                    self.logger.error(f\"Crossref falhou após {max_attempts} tentativas para query '{query}'.\")\n",
    "                    return # Stop trying\n",
    "                exponential_backoff(attempt)\n",
    "            except Exception as e: # Catch other potential errors from the library\n",
    "                 self.logger.error(f\"Erro inesperado na busca Crossref (Attempt {attempt + 1}/{max_attempts}): {e}\")\n",
    "                 if attempt == max_attempts - 1:\n",
    "                     self.logger.error(f\"Crossref falhou após {max_attempts} tentativas para query '{query}'.\")\n",
    "                     return\n",
    "                 exponential_backoff(attempt)\n",
    "            # Add delay before next attempt or next query in the main loop\n",
    "            time.sleep(CONFIG[self.name][\"rate_delay\"])\n",
    "\n",
    "    def _item_to_paper(self, item: dict, query: str) -> Optional[Paper]:\n",
    "        try:\n",
    "            # Extract year from published-print or published-online\n",
    "            pub_date_parts = item.get(\"published-print\", {}).get(\"date-parts\", [[]])[0]\n",
    "            if not pub_date_parts or not pub_date_parts[0]:\n",
    "                 pub_date_parts = item.get(\"published-online\", {}).get(\"date-parts\", [[]])[0]\n",
    "            \n",
    "            year = None\n",
    "            if pub_date_parts and len(pub_date_parts) > 0:\n",
    "                try:\n",
    "                    year = int(pub_date_parts[0])\n",
    "                except (ValueError, TypeError):\n",
    "                    year = None\n",
    "            \n",
    "            if not isinstance(year, int):\n",
    "                self.logger.debug(f\"Ano inválido ou ausente no item Crossref: {item.get('title', ['N/A'])[0]}\")\n",
    "                return None # Skip if year is invalid\n",
    "\n",
    "            # Extract title (can be a list)\n",
    "            title = (item.get(\"title\", []) or [\"\"])[0]\n",
    "\n",
    "            # Extract authors\n",
    "            authors_list = []\n",
    "            for author in item.get(\"author\", []):\n",
    "                # Handle different author name structures\n",
    "                name_parts = [author.get(\"given\"), author.get(\"family\")]\n",
    "                full_name = \" \".join(part for part in name_parts if part)\n",
    "                if not full_name and 'name' in author: # Alternative structure\n",
    "                    full_name = author['name']\n",
    "                if full_name:\n",
    "                    authors_list.append(full_name)\n",
    "            authors_str = \", \".join(authors_list)\n",
    "\n",
    "            # Extract publication source (can be a list)\n",
    "            source_pub = (item.get(\"container-title\", []) or [\"\"])[0]\n",
    "\n",
    "            # Extract abstract (check for None)\n",
    "            abstract = item.get(\"abstract\", \"\") or \"\"\n",
    "            # Clean up potential XML tags in abstract\n",
    "            if abstract.startswith('<'):\n",
    "                abstract = re.sub('<[^>]+>', '', abstract).strip()\n",
    "\n",
    "            # Get DOI or URL\n",
    "            doi = item.get(\"DOI\", \"\")\n",
    "            url = item.get(\"URL\", \"\")\n",
    "            doi_url = f\"https://doi.org/{doi}\" if doi else url\n",
    "\n",
    "            # Check Open Access status (less reliable in Crossref)\n",
    "            is_oa = item.get(\"is_oa\", False) # Use provided flag if exists\n",
    "            # Alternative check via license\n",
    "            if not is_oa:\n",
    "                for license_info in item.get(\"license\", []):\n",
    "                    if 'creativecommons.org' in license_info.get('URL', ''):\n",
    "                        is_oa = True\n",
    "                        break\n",
    "\n",
    "            return Paper(\n",
    "                title=title,\n",
    "                authors=authors_str,\n",
    "                year=year,\n",
    "                source_publication=source_pub,\n",
    "                abstract=abstract,\n",
    "                doi_url=doi_url,\n",
    "                database=self.name,\n",
    "                search_terms=query,\n",
    "                is_open_access=is_oa,\n",
    "                # Crossref doesn't reliably provide these fields directly\n",
    "                country=\"\", \n",
    "                study_type=\"\", \n",
    "                comp_techniques=\"\",\n",
    "                eval_methods=\"\",\n",
    "                math_topic=\"\",\n",
    "            )\n",
    "        except Exception as e:\n",
    "            self.logger.error(f\"Erro ao converter item Crossref para Paper: {e} - Item: {str(item)[:200]}\")\n",
    "            return None"
   ]
  },
  {
   "cell_type": "markdown",
   "id": "09ee5bd1",
   "metadata": {},
   "source": [
    "##### 🔍 Busca Via CORE"
   ]
  },
  {
   "cell_type": "code",
   "execution_count": 20,
   "id": "e3d9d9f9",
   "metadata": {},
   "outputs": [],
   "source": [
    "class CoreSearcher(BaseSearcher):\n",
    "    def __init__(self):\n",
    "        super().__init__(\"core\")\n",
    "        self.api_key = CONFIG[\"core\"][\"api_key\"]\n",
    "        if not self.api_key:\n",
    "            self.logger.warning(\"CORE API Key não configurada. A busca pode falhar ou ser limitada.\")\n",
    "\n",
    "    def _request_page(self, query: str, max_results: int):\n",
    "        simplified_query = query.replace('\"', '').strip()\n",
    "        filter_str = f\"yearPublished:>={self.year_min} AND language:({' OR '.join(self.langs)})\"\n",
    "        fetched_count = 0\n",
    "        page_token = None\n",
    "        max_attempts_session = self.session.adapters['https://'].max_retries.total\n",
    "\n",
    "        while fetched_count < max_results:\n",
    "            payload = {\n",
    "                \"q\": simplified_query,\n",
    "                \"pageSize\": min(max_results - fetched_count, 1000), # increased pageSize to max 200 per page\n",
    "                \"filter\": filter_str,\n",
    "                \"fields\": \"id,title,authors,yearPublished,publisher,abstract,fullText,doi,downloadUrl,documentType,language,topics,subjects\",\n",
    "            }\n",
    "            if page_token:\n",
    "                payload[\"pageToken\"] = page_token\n",
    "\n",
    "            # for attempt in range(max_attempts):\n",
    "            try:\n",
    "                url = f'{CONFIG[\"core\"][\"base_url\"]}?apiKey={self.api_key}'\n",
    "                self.logger.debug(f\"CORE Request: POST {url} Payload: {payload}\")\n",
    "                response = self.session.post(url, json=payload, timeout=40)\n",
    "\n",
    "                response.raise_for_status() # Raise HTTPError for other bad responses (4xx)\n",
    "\n",
    "                data = response.json()\n",
    "                results = data.get(\"results\", [])\n",
    "                page_token = data.get(\"nextPageToken\")\n",
    "                self.logger.debug(f\"CORE Response: {len(results)} items, nextPageToken: {bool(page_token)}\")\n",
    "\n",
    "                for item in results:\n",
    "                    if fetched_count < max_results:\n",
    "                        yield item\n",
    "                        fetched_count += 1\n",
    "                    else:\n",
    "                        break # Stop yielding if max_results reached\n",
    "\n",
    "                if not page_token or fetched_count >= max_results:\n",
    "                    return # Exit the outer loop if no more pages or max_results reached\n",
    "\n",
    "                # Short delay before next page request\n",
    "                time.sleep(CONFIG[\"core\"][\"rate_delay\"] * 0.3 + random.uniform(0, 0.3))\n",
    "\n",
    "            except requests.exceptions.RequestException as e:\n",
    "                self.logger.error(f\"CORE Request failed for query '{query}' after {max_attempts_session} retries: {e}\")\n",
    "                return # Stop trying for this query\n",
    "\n",
    "    def _item_to_paper(self, item: dict, query: str) -> Optional[Paper]:\n",
    "        try:\n",
    "            \n",
    "            year = item.get(\"yearPublished\") or 0\n",
    "            \n",
    "            if not year or not isinstance(year, int) or year < self.year_min:\n",
    "                self.logger.debug(f\"Ano inválido ou ausente no item CORE: {item.get('title', ['N/A'])[0]}\")\n",
    "                return None # Skip if year is invalid\n",
    "\n",
    "            authors_list = [a.get(\"name\") for a in item.get(\"authors\", []) if a.get(\"name\")]\n",
    "            \n",
    "            lang_name = \"\"\n",
    "            lang_data = item.get(\"language\")\n",
    "            if isinstance(lang_data, dict):\n",
    "                lang_name = lang_data.get(\"name\", \"\").lower()\n",
    "            elif isinstance(lang_data, str): # Handle if language is just a string code\n",
    "                lang_name = lang_data.lower()\n",
    "\n",
    "            return Paper(\n",
    "                title=item.get(\"title\", \"\"),\n",
    "                authors=\", \".join(authors_list),\n",
    "                year=year,\n",
    "                source_publication=item.get(\"publisher\", \"\"),\n",
    "                abstract=item.get(\"abstract\", \"\") or \"\",\n",
    "                full_text=item.get(\"fullText\", \"\") or \"\",\n",
    "                doi_url=item.get(\"doi\") or item.get(\"downloadUrl\", \"\"),\n",
    "                database=self.name,\n",
    "                search_terms=query,\n",
    "                is_open_access=True, # CORE focuses on OA\n",
    "                study_type=item.get(\"documentType\", \"\"),\n",
    "                comp_techniques=\", \".join(item.get(\"topics\", [])),\n",
    "                eval_methods=\", \".join(item.get(\"subjects\", [])),\n",
    "            )\n",
    "        except Exception as e:\n",
    "            self.logger.error(f\"Erro ao converter item CORE para Paper: {e} - Item: {str(item)[:200]}\")\n",
    "            return None"
   ]
  },
  {
   "cell_type": "markdown",
   "id": "33d7f20c",
   "metadata": {},
   "source": [
    "#### 🔍 Buscando artigos nas bases de dados\n",
    "Execute a célula abaixo para coletar artigos das APIs configuradas. O resultado será armazenado em `df_papers`."
   ]
  },
  {
   "cell_type": "code",
   "execution_count": 21,
   "id": "0773d91a",
   "metadata": {},
   "outputs": [
    {
     "name": "stderr",
     "output_type": "stream",
     "text": [
      "10:15:06 [INFO] semantic_scholar: 🔎 Iniciando busca para: '\"mathematics education\" AND \"adaptive learning\"'\n",
      "10:15:06 [INFO] semantic_scholar: 📋 Carregando 20 artigos do cache para '\"mathematics education\" AND \"adaptive learning\"'\n"
     ]
    },
    {
     "name": "stdout",
     "output_type": "stream",
     "text": [
      "📝 Geradas 55 combinações de termos de busca\n",
      "\n",
      "📚 Buscando artigos em múltiplas fontes de dados científicos...\n",
      "\n",
      "--- Iniciando busca no Semantic Scholar ---\n",
      "📄 Artigo 'The future of mathematics education: Adaptive learning technologies and artificial intelligence' adicionado. Total atual: 1\n",
      "📄 Artigo 'Implementing adaptive learning technologies: Practical strategies for enhancing cognition in mathematics education' adicionado. Total atual: 2\n",
      "📄 Artigo 'Analyzing the Effectiveness of AI-Powered Adaptive Learning Platforms in Mathematics Education' adicionado. Total atual: 3\n",
      "📄 Artigo 'Equity-Centered adaptive learning (ECAL) in Mathematics: Personalizing education for underrepresented groups' adicionado. Total atual: 4\n",
      "📄 Artigo 'Enhancing G.C.E. Ordinary Level Mathematics Through Adaptive Learning in Sri Lanka' adicionado. Total atual: 5\n",
      "📄 Artigo 'Assessing the Effectiveness of Adaptive Learning Systems in K-12 Education' adicionado. Total atual: 6\n",
      "📄 Artigo 'Leveraging computer vision for adaptive learning in STEM education: effect of engagement and self-efficacy' adicionado. Total atual: 7\n",
      "📄 Artigo 'Perceptions of Preservice Teachers about Adaptive Learning Programs in K-8 Mathematics Education' adicionado. Total atual: 8\n",
      "📄 Artigo 'Motivating Students to Learn Mathematics in the iGrowMaths Classroom: An Innovative Adaptive Classroom in Business Mathematics Education' adicionado. Total atual: 9\n",
      "📄 Artigo 'Adaptive Learning in Mathematics: Situating Multi Smart Øving in the Landscape of Digital Technologies for Mathematics Education' adicionado. Total atual: 10\n",
      "📄 Artigo 'Analysis of adaptive learning in Korea’s AI mathematics learning platforms' adicionado. Total atual: 11\n",
      "📄 Artigo 'DIGITAL TECHNOLOGIES AS A MEANS OF ADAPTIVE LEARNING FOR HIGHER EDUCATION INFORMATICS AND MATHEMATICS' adicionado. Total atual: 12\n",
      "📄 Artigo 'Digital Pedagogy for Self-Paced Learning in Mathematics Education' adicionado. Total atual: 13\n",
      "📄 Artigo 'A Probe into the Hybrid Teaching Mode of Advanced Mathematics Based on \"Adaptive Learning\"' adicionado. Total atual: 14\n",
      "📄 Artigo 'A Rasch Analysis of Students’ Academic Motivation toward Mathematics in an Adaptive Learning System' adicionado. Total atual: 15\n",
      "📄 Artigo 'Incidence of digital adaptive learning programs on academic results in mathematics' adicionado. Total atual: 16\n",
      "📄 Artigo 'Digital Transformation in Mathematics Education: Strategic Responses to E-Learning Challenges' adicionado. Total atual: 17\n"
     ]
    },
    {
     "name": "stderr",
     "output_type": "stream",
     "text": [
      "10:15:06 [INFO] semantic_scholar:   -> 20 artigos relevantes adicionados do cache para '\"mathematics education\" AND \"adaptive learning\"'.\n",
      "10:15:06 [INFO] semantic_scholar: 🔎 Iniciando busca para: '\"mathematics education\" AND \"personalized learning\"'\n",
      "10:15:06 [INFO] semantic_scholar: 📋 Carregando 20 artigos do cache para '\"mathematics education\" AND \"personalized learning\"'\n"
     ]
    },
    {
     "name": "stdout",
     "output_type": "stream",
     "text": [
      "📄 Artigo 'An Adaptive Learning Path Optimization Model for Advanced English Learners' adicionado. Total atual: 18\n",
      "📄 Artigo 'Petri nets for Adaptive learning scenarios in Serious games' adicionado. Total atual: 19\n",
      "📄 Artigo 'Student Perceptions of AI-Enhanced Adaptive Learning Systems: A Pilot Survey' adicionado. Total atual: 20\n",
      "📄 Artigo 'Reimagining Mathematics Education: The Role of AI in Personalized Learning' adicionado. Total atual: 21\n",
      "📄 Artigo 'Empowering Engineering Minds: Unveiling the Significance of Personalized Learning in Mathematics Education' adicionado. Total atual: 22\n",
      "📄 Artigo 'Exploring Innovative Approaches in Higher Mathematics Education—A Study on Data-Driven Personalized Learning Strategies' adicionado. Total atual: 23\n",
      "📄 Artigo 'Optimizing Mathematical Problem-Solving Reasoning Chains and Personalized Explanations Using Large Language Models: A Study in Applied Mathematics Education' adicionado. Total atual: 24\n",
      "📄 Artigo 'Enhancing Mathematics Education with ChatGPT-4 Personalized Problem-Solving and Consistent Learning' adicionado. Total atual: 25\n",
      "📄 Artigo 'Can Digital Personalized Learning for Mathematics Remediation Level the Playing Field in Higher Education?: Experimental Evidence from Ecuador' adicionado. Total atual: 26\n",
      "📄 Artigo 'Personalized Learning Path Design for Civic Education Content in Colleges and Universities Based on Cognitive Computing' adicionado. Total atual: 27\n",
      "📄 Artigo 'Design of Students’ Personalized Learning Paths under the Integration and Development of Technology and Basic Education' adicionado. Total atual: 28\n",
      "📄 Artigo 'Revolutionizing Math Education: The Power of Personalized Learning' adicionado. Total atual: 29\n",
      "📄 Artigo 'Personalized Learning Scheme of Tourism Management Professional Curriculum System in Colleges and Universities under Intelligent Recommendation System Based on OBE Education Model' adicionado. Total atual: 30\n",
      "📄 Artigo 'Construction of a personalized learning platform based on genetic algorithm for specialized education in industrial colleges in the context of industry-education integration' adicionado. Total atual: 31\n",
      "📄 Artigo 'The future of mathematics education: Adaptive learning technologies and artificial intelligence' adicionado. Total atual: 32\n",
      "📄 Artigo 'Enhancing mathematics performance in primary education: The impact of personalized learning on fractions and decimal numbers' adicionado. Total atual: 33\n",
      "📄 Artigo 'Research on the construction of personalized learning system supported by big data in education' adicionado. Total atual: 34\n",
      "📄 Artigo 'Applications of deep learning in mathematics education: A review' adicionado. Total atual: 35\n",
      "📄 Artigo 'Exploring Computational Thinking in Mathematics Education: Integrating ChatGPT with GeoGebra for Enhanced Learning Experiences' adicionado. Total atual: 36\n",
      "📄 Artigo 'Enhancing mathematics education: effective approaches for teaching linear equations to students with and without learning difficulties' adicionado. Total atual: 37\n",
      "📄 Artigo 'Prospects and Challenges of Equipping Mathematics Tutoring Systems with Personalized Learning Strategies' adicionado. Total atual: 38\n"
     ]
    },
    {
     "name": "stderr",
     "output_type": "stream",
     "text": [
      "10:15:07 [INFO] semantic_scholar:   -> 20 artigos relevantes adicionados do cache para '\"mathematics education\" AND \"personalized learning\"'.\n",
      "10:15:07 [INFO] semantic_scholar: 🔎 Iniciando busca para: '\"mathematics education\" AND \"intelligent tutoring systems\"'\n",
      "10:15:07 [INFO] semantic_scholar: 📋 Carregando 18 artigos do cache para '\"mathematics education\" AND \"intelligent tutoring systems\"'\n"
     ]
    },
    {
     "name": "stdout",
     "output_type": "stream",
     "text": [
      "📄 Artigo 'Revolutionizing Mathematics Learning: Exploring the Potential of Robotics and AI as Interactive Tools for Personalized and Engaging Mathematical Education' adicionado. Total atual: 39\n",
      "📄 Artigo 'Research on the Optimization of English Teaching Mode and Personalized Learning Path in Colleges and Universities Based on Big Data Regression Analysis' adicionado. Total atual: 40\n",
      "📄 Artigo 'Artificial Intelligence in Mathematics Education: A Systematic Literature Review on Intelligent Tutoring Systems' adicionado. Total atual: 41\n",
      "📄 Artigo 'Intelligent Tutoring Systems in Mathematics Education: A Systematic Literature Review Using the Substitution, Augmentation, Modification, Redefinition Model' adicionado. Total atual: 42\n",
      "📄 Artigo 'Enhancing mathematics education through artificial intelligence: A review of intelligent tutoring systems and adaptive learning technologies' adicionado. Total atual: 43\n",
      "📄 Artigo 'The impact of intelligent tutoring systems and artificial intelligence on students' motivation and achievement in STEM education: A systematic review' adicionado. Total atual: 44\n",
      "📄 Artigo 'Revolutionizing education: A study on Intelligent Tutoring Systems in U.S education' adicionado. Total atual: 45\n",
      "📄 Artigo 'Mathematics intelligent tutoring systems with handwritten input: a scoping review' adicionado. Total atual: 46\n",
      "📄 Artigo 'Teaching Mathematics Integrating Intelligent Tutoring Systems: Investigating Prospective Teachers’ Concerns and TPACK' adicionado. Total atual: 47\n",
      "📄 Artigo 'MathAIde in the Classroom: A Qualitative Analysis of Teachers' Perspectives of Intelligent Tutoring Systems Unplugged' adicionado. Total atual: 48\n",
      "📄 Artigo 'Using Reward Shaping to Train Cognitive-Based Control Policies for Intelligent Tutoring Systems' adicionado. Total atual: 49\n",
      "📄 Artigo 'Intelligent tutoring systems for word problem solving in COVID-19 days: could they have been (part of) the solution?' adicionado. Total atual: 50\n",
      "📄 Artigo 'Investigating Pre-service Mathematics Teachers' Innovation Awareness and Views Regarding Intelligent Tutoring Systems' adicionado. Total atual: 51\n",
      "📄 Artigo 'Prospects and Challenges of Equipping Mathematics Tutoring Systems with Personalized Learning Strategies' adicionado. Total atual: 52\n",
      "📄 Artigo 'Intelligent Tutoring Systems: Why Teachers Abandoned a Technology Aimed at Automating Teaching Processes' adicionado. Total atual: 53\n",
      "📄 Artigo 'Evolving graph based knowledge space model for tutoring systems' adicionado. Total atual: 54\n",
      "📄 Artigo 'Learning Math for 1st Grade Primary School Students using Intelligent Tutoring Systems' adicionado. Total atual: 55\n",
      "📄 Artigo 'Meta-Affective Behaviour within an Intelligent Tutoring System for Mathematics' adicionado. Total atual: 56\n",
      "📄 Artigo 'Proposed frame-based expert system to construct student's knowledge model in intelligent tutoring systems' adicionado. Total atual: 57\n"
     ]
    },
    {
     "name": "stderr",
     "output_type": "stream",
     "text": [
      "10:15:08 [INFO] semantic_scholar:   -> 18 artigos relevantes adicionados do cache para '\"mathematics education\" AND \"intelligent tutoring systems\"'.\n",
      "10:15:08 [INFO] semantic_scholar: 🔎 Iniciando busca para: '\"mathematics education\" AND \"learning analytics\"'\n",
      "10:15:08 [INFO] semantic_scholar: 📋 Carregando 19 artigos do cache para '\"mathematics education\" AND \"learning analytics\"'\n"
     ]
    },
    {
     "name": "stdout",
     "output_type": "stream",
     "text": [
      "📄 Artigo 'The future of mathematics education: Adaptive learning technologies and artificial intelligence' adicionado. Total atual: 58\n",
      "📄 Artigo 'Use of Learning Analytics in K-12 Mathematics Education: Systematic Scoping Review of the Impact on Teaching and Learning' adicionado. Total atual: 59\n",
      "📄 Artigo 'Learning analytics in mathematics education: the case of feedback use in a digital classification task on reflective symmetry' adicionado. Total atual: 60\n",
      "📄 Artigo 'Learning mathematics in the new norms caused by digital game-based learning and learning analytics' adicionado. Total atual: 61\n",
      "📄 Artigo 'Using multimodal learning analytics as a formative assessment tool: Exploring collaborative dynamics in mathematics teacher education' adicionado. Total atual: 62\n",
      "📄 Artigo 'Promoting and Assessing Collaborative Learning using Learning Analytics in Higher Education– Overview of Drivers and Wheels' adicionado. Total atual: 63\n",
      "📄 Artigo 'Need, Advantages and Capabilities of Learning Analytics in K12 Education: Study Results from Lithuania' adicionado. Total atual: 64\n",
      "📄 Artigo 'Learning analytics in online education: data-driven insights into student success' adicionado. Total atual: 65\n",
      "📄 Artigo 'Learning analytics in mathematics teacher education at the Ceará State University' adicionado. Total atual: 66\n",
      "📄 Artigo 'APPLYING LEARNING ANALYTICS IN MATHEMATICS AND SCIENCE EDUCATION LESSONS: EXPERIENCES OF TEACHERS IN BASIC EDUCATION' adicionado. Total atual: 67\n",
      "📄 Artigo 'Application of Learning Analytics in University Mathematics Education' adicionado. Total atual: 68\n"
     ]
    },
    {
     "name": "stderr",
     "output_type": "stream",
     "text": [
      "10:15:08 [INFO] semantic_scholar:   -> 19 artigos relevantes adicionados do cache para '\"mathematics education\" AND \"learning analytics\"'.\n",
      "10:15:08 [INFO] semantic_scholar: 🔎 Iniciando busca para: '\"mathematics education\" AND \"educational data mining\"'\n",
      "10:15:08 [INFO] semantic_scholar: 📋 Carregando 19 artigos do cache para '\"mathematics education\" AND \"educational data mining\"'\n"
     ]
    },
    {
     "name": "stdout",
     "output_type": "stream",
     "text": [
      "📄 Artigo 'Optimising Learning Analytics and Teaching Decisions in Digital Transformation Practices in English Language Education' adicionado. Total atual: 69\n",
      "📄 Artigo 'A Learning Analytics Theoretical Framework for STEM Education Virtual Reality Applications' adicionado. Total atual: 70\n",
      "📄 Artigo 'Learning Analytics Tool for Bulgarian School Education' adicionado. Total atual: 71\n",
      "📄 Artigo 'Intelligent IoT Devices and Data Analytics as a Guide to Enhancing the Effectiveness of English Language Teaching and Learning' adicionado. Total atual: 72\n",
      "📄 Artigo 'Trends of learning analytics in STE(A)M education: a review of case studies' adicionado. Total atual: 73\n",
      "📄 Artigo 'The Impacts of Learning Analytics on Primary Level Mathematics Curriculum' adicionado. Total atual: 74\n",
      "📄 Artigo 'Learning Analytics based on Bayesian Optimization of Support Vector Machines with Application to Student Success Prediction in Mathematics Course' adicionado. Total atual: 75\n",
      "📄 Artigo 'Joining Informal Learning in Online Knowledge Communities and Formal Learning in Higher Education: Instructional Design and Evaluation of a Blended-Learning Seminar with Learning Analytics Support' adicionado. Total atual: 76\n",
      "📄 Artigo 'Using Social Network Analysis to Measure the Effect of Learning Analytics in Computing Education' adicionado. Total atual: 77\n",
      "📄 Artigo 'The Implementation of Educational Data Mining in Predicting Students’ Academic Achievement in Mathematics at a Private Elementary School' adicionado. Total atual: 78\n",
      "📄 Artigo 'Educational Data Mining: Multiple Choice Question Classification in Vocational School' adicionado. Total atual: 79\n",
      "📄 Artigo 'Analyzing Students' Performance in a Mathematics Course Sequence using Educational Data Mining' adicionado. Total atual: 80\n",
      "📄 Artigo 'Multi-models of Educational Data Mining for Predicting Student Performance in Mathematics: A Case Study on High Schools in Cambodia' adicionado. Total atual: 81\n",
      "📄 Artigo 'Towards Responsible and Trustworthy Educational Data Mining: Comparing Symbolic, Sub-Symbolic, and Neural-Symbolic AI Methods' adicionado. Total atual: 82\n",
      "📄 Artigo 'Educational Data Mining: Analysis Based On an Intelligent Tutoring System for Teaching Algebra' adicionado. Total atual: 83\n",
      "📄 Artigo 'Data Mining Methods for Educational Effectiveness in Higher Education Aesthetic Education Programs' adicionado. Total atual: 84\n",
      "📄 Artigo 'The Educational Value and Implementation Strategies of Sports Data Mining Techniques in Physical Education Courses' adicionado. Total atual: 85\n",
      "📄 Artigo 'Construction of Image Education Knowledge Map Model Based on Data Mining Technology' adicionado. Total atual: 86\n",
      "📄 Artigo 'Prediction of student’s performance through educational data mining techniques' adicionado. Total atual: 87\n",
      "📄 Artigo 'A Systematic Review on Data Mining for Mathematics and Science Education' adicionado. Total atual: 88\n",
      "📄 Artigo 'Innovative Application of Data Mining Technology in College Information System Based on Informatized Teaching Environment' adicionado. Total atual: 89\n",
      "📄 Artigo 'Reform and Effectiveness Assessment of Accounting Teaching in Colleges and Universities Based on Multi-source Data Mining' adicionado. Total atual: 90\n",
      "📄 Artigo 'Research on Mining of Applied Mathematics Educational Resources Based on Edge Computing and Data Stream Classification' adicionado. Total atual: 91\n",
      "📄 Artigo 'Predicting Public Personnel Selection Examination Achievement: A Data Mining Approach' adicionado. Total atual: 92\n",
      "📄 Artigo 'Educational Data Mining to Improve Learner Performance in Gauteng Primary Schools' adicionado. Total atual: 93\n",
      "📄 Artigo 'Application of Data Mining to Measure the Effectiveness of the Islamic Boarding School’s Independent Curriculum based on Learning Achievement using the Clustering Method' adicionado. Total atual: 94\n"
     ]
    },
    {
     "name": "stderr",
     "output_type": "stream",
     "text": [
      "10:15:09 [INFO] semantic_scholar:   -> 19 artigos relevantes adicionados do cache para '\"mathematics education\" AND \"educational data mining\"'.\n",
      "10:15:09 [INFO] semantic_scholar: 🔎 Iniciando busca para: '\"mathematics education\" AND \"machine learning\"'\n",
      "10:15:09 [INFO] semantic_scholar: 📋 Carregando 19 artigos do cache para '\"mathematics education\" AND \"machine learning\"'\n"
     ]
    },
    {
     "name": "stdout",
     "output_type": "stream",
     "text": [
      "📄 Artigo 'Data mining and neural network modeling for teaching and learning in vocational education: promoting innovation in academic management and teaching reforms' adicionado. Total atual: 95\n",
      "📄 Artigo 'Predicting Students’ Academic Performance Using Utility Based Educational Data Mining' adicionado. Total atual: 96\n",
      "📄 Artigo 'Application and Effect Evaluation of Machine Learning in Mathematics Education Assessment and Feedback' adicionado. Total atual: 97\n",
      "📄 Artigo 'Applying Computer Vision and Machine Learning Techniques in STEM-Education Self-Study' adicionado. Total atual: 98\n",
      "📄 Artigo 'Artificial Intelligence in Mathematics and Machine Learning' adicionado. Total atual: 99\n",
      "📄 Artigo 'Laying the foundations of Machine Learning in Undergraduate Education through Engineering Mathematics' adicionado. Total atual: 100\n",
      "📄 Artigo 'Online Education Platform for Chinese Language Abroad Based on Remote Recognition System and Machine Learning' adicionado. Total atual: 101\n",
      "📄 Artigo 'Applying Machine Learning and SHAP Method to Identify Key Influences on Middle-School Students’ Mathematics Literacy Performance' adicionado. Total atual: 102\n",
      "📄 Artigo 'Exploring the Convergence of Visual Computing Across Machine Learning, Entertainment, Design, Medicine, Education and Beyond' adicionado. Total atual: 103\n",
      "📄 Artigo 'Development and Application of Secondary Mathematics Gifted Class Program Using Artificial Intelligence Focused on Machine Learning' adicionado. Total atual: 104\n",
      "📄 Artigo 'Research on the optimization model of personalized training for athletes based on machine learning in college physical education' adicionado. Total atual: 105\n",
      "📄 Artigo 'A data-driven model for human resource strategy development in higher education in a machine learning framework' adicionado. Total atual: 106\n",
      "📄 Artigo 'Retracted: International Chinese Education Expert System Based on Artificial Intelligence and Machine Learning Algorithms' adicionado. Total atual: 107\n",
      "📄 Artigo 'A Study of the Aesthetic Application of Machine Learning to Five Education in Classical Music Interpretation' adicionado. Total atual: 108\n",
      "📄 Artigo 'Research on the Interactive Enhancement Method of Teaching Ideological and Political Education in Colleges and Universities Based on Machine Learning' adicionado. Total atual: 109\n",
      "📄 Artigo 'Predicting Student Academic Performance using Machine Learning: Analyzing Socio-Economic and Personal Factors from Secondary Education in Portugal' adicionado. Total atual: 110\n",
      "📄 Artigo 'Difficulty Level Identification of Indonesian and Mathematics Multiple Choice Questions using Machine Learning Approach' adicionado. Total atual: 111\n"
     ]
    },
    {
     "name": "stderr",
     "output_type": "stream",
     "text": [
      "10:15:09 [INFO] semantic_scholar:   -> 19 artigos relevantes adicionados do cache para '\"mathematics education\" AND \"machine learning\"'.\n",
      "10:15:09 [INFO] semantic_scholar: 🔎 Iniciando busca para: '\"mathematics education\" AND \"artificial intelligence\"'\n",
      "10:15:09 [INFO] semantic_scholar: 📋 Carregando 20 artigos do cache para '\"mathematics education\" AND \"artificial intelligence\"'\n"
     ]
    },
    {
     "name": "stdout",
     "output_type": "stream",
     "text": [
      "📄 Artigo 'Why do East Asian students do so well in mathematics? A machine learning study' adicionado. Total atual: 112\n",
      "📄 Artigo 'Research on education management system based on machine learning and multidimensional data modeling' adicionado. Total atual: 113\n",
      "📄 Artigo 'Machine Learning Methods for Online Education Case' adicionado. Total atual: 114\n",
      "📄 Artigo 'Empowering Engineering Minds: Unveiling the Significance of Personalized Learning in Mathematics Education' adicionado. Total atual: 115\n",
      "📄 Artigo 'The future of mathematics education: Adaptive learning technologies and artificial intelligence' adicionado. Total atual: 116\n",
      "📄 Artigo 'Interdisciplinary Innovation Capability Development and Practice in Mathematics and Artificial Intelligence Integrated Education' adicionado. Total atual: 117\n",
      "📄 Artigo 'Artificial Intelligence in Education: Mathematics Teachers’ Perspectives, Practices and Challenges' adicionado. Total atual: 118\n",
      "📄 Artigo 'An artificial intelligence application in mathematics education: Evaluating ChatGPT’s academic achievement in a mathematics exam' adicionado. Total atual: 119\n",
      "📄 Artigo 'Perceptions of STEM education and artificial intelligence: a Twitter (X) sentiment analysis' adicionado. Total atual: 120\n",
      "📄 Artigo 'A systematic review of artificial intelligence in mathematics education: The emergence of 4IR' adicionado. Total atual: 121\n",
      "📄 Artigo 'A bibliometric analysis on artificial intelligence in mathematics education' adicionado. Total atual: 122\n",
      "📄 Artigo 'Integrating Artificial Intelligence in Primary Mathematics Education: Investigating Internal and External Influences on Teacher Adoption' adicionado. Total atual: 123\n",
      "📄 Artigo 'Evaluating the Perceptions of Mathematics Educators and Students Regarding the Integration of Artificial Intelligence in Mathematics Education at Colleges of Education in Anambra State.' adicionado. Total atual: 124\n",
      "📄 Artigo 'Engaging Students in Making Artificial Intelligence Tools for Mathematics Education: An Iterative Design Approach' adicionado. Total atual: 125\n",
      "📄 Artigo 'Artificial Intelligence in Mathematics Education: A Systematic Literature Review on Intelligent Tutoring Systems' adicionado. Total atual: 126\n",
      "📄 Artigo 'Teachers’ perceptions towards using artificial intelligence in mathematics education' adicionado. Total atual: 127\n",
      "📄 Artigo 'Artificial intelligence in education research during 2013-2023: A review based on bibliometric analysis' adicionado. Total atual: 128\n"
     ]
    },
    {
     "name": "stderr",
     "output_type": "stream",
     "text": [
      "10:15:09 [INFO] semantic_scholar:   -> 20 artigos relevantes adicionados do cache para '\"mathematics education\" AND \"artificial intelligence\"'.\n",
      "10:15:09 [INFO] semantic_scholar: 🔎 Iniciando busca para: '\"mathematics education\" AND \"automated assessment\"'\n",
      "10:15:09 [INFO] semantic_scholar: 📋 Carregando 17 artigos do cache para '\"mathematics education\" AND \"automated assessment\"'\n"
     ]
    },
    {
     "name": "stdout",
     "output_type": "stream",
     "text": [
      "📄 Artigo 'Artificial intelligence in mathematics education: The good, the bad, and the ugly' adicionado. Total atual: 129\n",
      "📄 Artigo 'An analysis of perceptions of elementary teachers and secondary mathematics teachers on the use of artificial intelligence (AI) in mathematics education' adicionado. Total atual: 130\n",
      "📄 Artigo 'Analysis of artificial intelligence chatbots and satisfaction for learning in mathematics education' adicionado. Total atual: 131\n",
      "📄 Artigo 'Artificial intelligence’s transformative role in mathematics education: A systematic literature review' adicionado. Total atual: 132\n",
      "📄 Artigo 'Review of mathematics education in the age of artificial intelligence' adicionado. Total atual: 133\n",
      "📄 Artigo 'HARNESSING THE POWER OF ARTIFICIAL INTELLIGENCE IN MATHEMATICS EDUCATION: THE POTENTIAL OF PROBABILISTIC PROGRAMMING LANGUAGES IN THE TEACHING AND LEARNING OF BAYESIAN STATISTICS' adicionado. Total atual: 134\n",
      "📄 Artigo 'Exploring the Integration of Artificial Intelligence-Based ChatGPT into Mathematics Instruction: Perceptions, Challenges, and Implications for Educators' adicionado. Total atual: 135\n",
      "📄 Artigo 'Example-Generation Tasks for Computer-Aided Assessment in University Mathematics Education: Insights From A Study Conducted in Two Educational Contexts' adicionado. Total atual: 136\n",
      "📄 Artigo 'Improving Automated Assessment and Feedback for Student Open-responses in Mathematics' adicionado. Total atual: 137\n",
      "📄 Artigo 'METHOD OF AUTOMATED ASSESSMENT OF RESULTS OF LABORATORY WORK EXECUTION ON APPLIED MATHEMATICS BY APPLICANTS OF HIGHER EDUCATION' adicionado. Total atual: 138\n",
      "📄 Artigo 'Automated Assessment of Multimodal Answer Sheets in the STEM domain' adicionado. Total atual: 139\n",
      "📄 Artigo 'Partially-automated individualized assessment of higher education mathematics' adicionado. Total atual: 140\n",
      "📄 Artigo 'LLM-generated competence-based e-assessment items for higher education mathematics: methodology and evaluation' adicionado. Total atual: 141\n",
      "📄 Artigo 'The Innovative Integration of College Students’ Mental Health Education and the Path of Civic and Political Education in the Perspective of Educational Psychology' adicionado. Total atual: 142\n",
      "📄 Artigo 'ADAPTING STEM AUTOMATED ASSESSMENT SYSTEM TO ENHANCE LANGUAGE SKILLS' adicionado. Total atual: 143\n",
      "📄 Artigo 'Automated assessment of multi-step answers for mathematical word problems' adicionado. Total atual: 144\n",
      "📄 Artigo 'MAATSE: Prototyping and Evaluating an Open and Modular E-Assessment Tool for STEM Education' adicionado. Total atual: 145\n"
     ]
    },
    {
     "name": "stderr",
     "output_type": "stream",
     "text": [
      "10:15:10 [INFO] semantic_scholar:   -> 17 artigos relevantes adicionados do cache para '\"mathematics education\" AND \"automated assessment\"'.\n",
      "10:15:10 [INFO] semantic_scholar: 🔎 Iniciando busca para: '\"mathematics education\" AND \"competency identification\"'\n",
      "10:15:10 [INFO] semantic_scholar: 📋 Carregando 11 artigos do cache para '\"mathematics education\" AND \"competency identification\"'\n"
     ]
    },
    {
     "name": "stdout",
     "output_type": "stream",
     "text": [
      "📄 Artigo 'A Critical Review on Recent Proposed Automated Programming Assessment Tool' adicionado. Total atual: 146\n",
      "📄 Artigo 'Automated Student Group Collaboration Assessment and Recommendation System Using Individual Role and Behavioral Cues' adicionado. Total atual: 147\n",
      "📄 Artigo 'An automated continuous quality improvement framework for failing student outcomes based on mathematics weaknesses' adicionado. Total atual: 148\n",
      "📄 Artigo 'AssignmentWatch: An Automated Detection and Alert Tool for Reducing Academic Misconduct Associated With File-Sharing Websites' adicionado. Total atual: 149\n",
      "📄 Artigo 'A Systematic Review on Data Mining for Mathematics and Science Education' adicionado. Total atual: 150\n",
      "📄 Artigo 'Automated Answer and Diagram Scoring in the STEM Domain: A literature review' adicionado. Total atual: 151\n",
      "📄 Artigo 'Computer-based assessment of mathematics into the twenty-first century: pressures and tensions' adicionado. Total atual: 152\n",
      "📄 Artigo 'STEM-PBL Activity for Higher Education to Enhance the STEM Competency' adicionado. Total atual: 153\n",
      "📄 Artigo 'IDENTIFICATION: THE EFFECT OF MATHEMATICAL COMPETENCE ON PEDAGOGIC COMPETENCY OF PROSPECTIVE TEACHER' adicionado. Total atual: 154\n",
      "📄 Artigo 'Research on the application mode of information technology in the course of deepening design of assembled concrete structures using OBE-CDIO as a framework' adicionado. Total atual: 155\n",
      "📄 Artigo 'STEM pada Pengembangan Modul Ekologi' adicionado. Total atual: 156\n",
      "📄 Artigo 'Ambient Intelligence and e-Learning' adicionado. Total atual: 157\n"
     ]
    },
    {
     "name": "stderr",
     "output_type": "stream",
     "text": [
      "10:15:10 [INFO] semantic_scholar:   -> 11 artigos relevantes adicionados do cache para '\"mathematics education\" AND \"competency identification\"'.\n",
      "10:15:10 [INFO] semantic_scholar: 🔎 Iniciando busca para: '\"mathematics education\" AND \"student modeling\"'\n",
      "10:15:10 [INFO] semantic_scholar: 📋 Carregando 13 artigos do cache para '\"mathematics education\" AND \"student modeling\"'\n"
     ]
    },
    {
     "name": "stdout",
     "output_type": "stream",
     "text": [
      "📄 Artigo 'Essays in Empirical Development Economics: The Role of Income Shocks on Firm and Household Dynamics' adicionado. Total atual: 158\n",
      "📄 Artigo 'A survey of Spanish research in mathematics education' adicionado. Total atual: 159\n",
      "📄 Artigo 'Competency-based teacher education (CBTE): A training module to improve knowledge, attitude, and practices (KAP) of school teachers on learning disabilities in children' adicionado. Total atual: 160\n",
      "📄 Artigo 'Cognitive Technologies as the Tools for Improving the Quality of Learning and Developing Thinking in Mathematics Education' adicionado. Total atual: 161\n",
      "📄 Artigo 'Correlates of Ghanaian Teachers' Understanding of Mathematics Strands and Cognitive Domains in Basic Education Certificate Examination' adicionado. Total atual: 162\n",
      "📄 Artigo 'Assessing Teacher Knowledge and Skills for Competency Based Formative Assessment of Mathematical Activities in Public Pre-primary Schools in Gem Sub-county, Kenya' adicionado. Total atual: 163\n",
      "📄 Artigo 'Analysis of Factors Affecting Academic Performance of Mathematics Education Doctoral Students: A Structural Equation Modeling Approach' adicionado. Total atual: 164\n",
      "📄 Artigo 'The effect of realistic mathematics education on student's mathematical communication ability' adicionado. Total atual: 165\n",
      "📄 Artigo 'Integration of Physics and Mathematics in STEM Education: Use of Modeling' adicionado. Total atual: 166\n",
      "📄 Artigo 'Mathematical modeling: a positive learning approach to facilitate student sense making in mathematics' adicionado. Total atual: 167\n",
      "📄 Artigo 'Enhancing Student's Performance Classification Using Ensemble Modeling' adicionado. Total atual: 168\n",
      "📄 Artigo 'Modeling Scientific Processes with Mathematics Equations Enhances Student Qualitative Conceptual Understanding and Quantitative Problem Solving.' adicionado. Total atual: 169\n",
      "📄 Artigo 'Student Profile Modeling Using Boosting Algorithms' adicionado. Total atual: 170\n",
      "📄 Artigo 'Teaching using moodle in mathematics education' adicionado. Total atual: 171\n",
      "📄 Artigo 'Developing student imagination and career interest through a STEM project using 3D printing with repetitive modeling' adicionado. Total atual: 172\n",
      "📄 Artigo 'Socioeconomic status and beyond: a multilevel analysis of TIMSS mathematics achievement given student and school context in Turkey' adicionado. Total atual: 173\n",
      "📄 Artigo 'Mathematical Modelling Approach in Mathematics Education.' adicionado. Total atual: 174\n",
      "📄 Artigo 'The Mediating Role of Student Motivation in the Linking of Perceived School Climate and Achievement in Reading and Mathematics' adicionado. Total atual: 175\n"
     ]
    },
    {
     "name": "stderr",
     "output_type": "stream",
     "text": [
      "10:15:10 [INFO] semantic_scholar:   -> 13 artigos relevantes adicionados do cache para '\"mathematics education\" AND \"student modeling\"'.\n",
      "10:15:10 [INFO] semantic_scholar: 🔎 Iniciando busca para: '\"mathematics education\" AND \"predictive analytics\"'\n",
      "10:15:10 [INFO] semantic_scholar: 📋 Carregando 17 artigos do cache para '\"mathematics education\" AND \"predictive analytics\"'\n",
      "10:15:10 [INFO] semantic_scholar:   -> 17 artigos relevantes adicionados do cache para '\"mathematics education\" AND \"predictive analytics\"'.\n"
     ]
    },
    {
     "name": "stdout",
     "output_type": "stream",
     "text": [
      "📄 Artigo 'The perceptions of students and instructor in a graduate mathematical modeling class: An experience with remote education' adicionado. Total atual: 176\n",
      "📄 Artigo 'A Study on the Learning Effectiveness and Behavioural Association of Predictive Analytics in English Teaching in Higher Education' adicionado. Total atual: 177\n",
      "📄 Artigo 'Predictive analytics of student performance: Multi-method and code' adicionado. Total atual: 178\n",
      "📄 Artigo 'Analysis of AI- Empower Predictive Models for Predicting Student Performance in Higher Education' adicionado. Total atual: 179\n",
      "📄 Artigo 'Enhancing CRM Systems with AI-Driven Data Analytics for Financial Services' adicionado. Total atual: 180\n",
      "📄 Artigo 'The development of a predictive model for students’ final grades using machine learning techniques' adicionado. Total atual: 181\n",
      "📄 Artigo 'User Behavior Analytics and Mitigation Strategies through Identity and Access Management Solutions: Enhancing Cybersecurity with Machine Learning and Emerging Technologies' adicionado. Total atual: 182\n",
      "📄 Artigo 'A Learning Analytics-informed Activity to Improve Student Performance in a First Year Physiology Course' adicionado. Total atual: 183\n",
      "📄 Artigo 'A Predictive Model for Students’ Performance and Risk Level Indicators Using Machine Learning' adicionado. Total atual: 184\n",
      "📄 Artigo 'PREDICTING FLIGHT DELAYS WITH ERROR CALCULATION USING MACHINE LEARNED CLASSIFIERS' adicionado. Total atual: 185\n",
      "📄 Artigo 'Enhancing Student's Performance Classification Using Ensemble Modeling' adicionado. Total atual: 186\n",
      "📄 Artigo 'Analysisof Students’ Web Browsing Behaviours Using Data Miningat a Campus Network' adicionado. Total atual: 187\n",
      "📄 Artigo 'AI for Social Good: Addressing Global Challenges and Empowering Communities' adicionado. Total atual: 188\n",
      "📄 Artigo 'Future-Proofing Cloud Networks with AI and Security Engineering' adicionado. Total atual: 189\n",
      "📄 Artigo 'Analysis of Smart Manufacturing Technologies for Industry Using AI Methods' adicionado. Total atual: 190\n",
      "📄 Artigo 'Predictive Analytics on Academic Performance in Higher Education Institution during COVID-19 using Regression Model' adicionado. Total atual: 191\n",
      "📄 Artigo 'Machine Learning-based Predictive Analytics of Student Academic Performance in STEM Education' adicionado. Total atual: 192\n",
      "📄 Artigo 'Data Analytics and STEM Student Success: The Impact of Predictive Analytics-Informed Academic Advising Among Undeclared First-Year Engineering Students' adicionado. Total atual: 193\n"
     ]
    },
    {
     "name": "stderr",
     "output_type": "stream",
     "text": [
      "10:15:10 [INFO] semantic_scholar: 🔎 Iniciando busca para: '\"math learning\" AND \"adaptive learning\"'\n",
      "10:15:10 [INFO] semantic_scholar: 📋 Carregando 20 artigos do cache para '\"math learning\" AND \"adaptive learning\"'\n"
     ]
    },
    {
     "name": "stdout",
     "output_type": "stream",
     "text": [
      "📄 Artigo 'Efficacy of an Adaptive Game-Based Math Learning App to Support Personalized Learning and Improve Early Elementary School Students’ Learning' adicionado. Total atual: 194\n",
      "📄 Artigo 'Examining competitive, collaborative and adaptive gamification in young learners' math learning' adicionado. Total atual: 195\n",
      "📄 Artigo 'How to Continue? New Approaches to Investigating the Effects of Adaptive Math Learning Programs on Students’ Performance, Self-Concept, and Anxiety' adicionado. Total atual: 196\n",
      "📄 Artigo 'Validation of the effectiveness of AI-Based Personalized Adaptive Learning: Focusing on basic math class cases' adicionado. Total atual: 197\n",
      "📄 Artigo 'Lessons Learned from a Research-to-Practice Scale-Up of an Adaptive Math Learning Platform' adicionado. Total atual: 198\n",
      "📄 Artigo 'Automatic Generation of Math Word Problems for Assessing Learner Skills in Adaptive Learning Systems' adicionado. Total atual: 199\n",
      "📄 Artigo 'The Design of Guiding and Adaptive Prompts for Intelligent Tutoring Systems and Its Effect on Students’ Mathematics Learning' adicionado. Total atual: 200\n",
      "📄 Artigo 'Tracing students’ practice behavior in an adaptive math learning program: Does it mediate the math anxiety–performance link?' adicionado. Total atual: 201\n",
      "📄 Artigo 'Implementing adaptive learning technologies: Practical strategies for enhancing cognition in mathematics education' adicionado. Total atual: 202\n",
      "📄 Artigo 'An Evaluation of a Placement Assessment for an Adaptive Learning System' adicionado. Total atual: 203\n",
      "📄 Artigo 'Developing Adaptive Math Learning Program Using Artificial Intelligence' adicionado. Total atual: 204\n",
      "📄 Artigo 'Effects of Adaptive Learning Technologies on Math Achievement: A Quantitative Study of ALEKS Math Software' adicionado. Total atual: 205\n",
      "📄 Artigo 'Math‐based reinforcement learning for the adaptive budgeted influence maximization problem' adicionado. Total atual: 206\n",
      "📄 Artigo 'Identifying Changes in Math Identity Through Adaptive Learning Systems Use' adicionado. Total atual: 207\n",
      "📄 Artigo 'The Relationship of Motivated Strategies for Learning, Mental Toughness, and Grit to Developmental Math Student Success in an Adaptive Learning Technology Environment' adicionado. Total atual: 208\n",
      "📄 Artigo 'Mobile Game-Based Math Learning for Primary School' adicionado. Total atual: 209\n",
      "📄 Artigo 'Self-Adaptive Feedback E-Learning Scheme for Elementary Math in Kuwait' adicionado. Total atual: 210\n",
      "📄 Artigo 'Accelerating Early Math Learning with Research-Based Personalized Learning Games: A Cluster Randomized Controlled Trial' adicionado. Total atual: 211\n",
      "📄 Artigo 'Towards Connected Modern Teaching Machine: An Agile Adaptive Learning App to Customize Learning Materials and Assessments on the Fly' adicionado. Total atual: 212\n"
     ]
    },
    {
     "name": "stderr",
     "output_type": "stream",
     "text": [
      "10:15:10 [INFO] semantic_scholar:   -> 20 artigos relevantes adicionados do cache para '\"math learning\" AND \"adaptive learning\"'.\n",
      "10:15:10 [INFO] semantic_scholar: 🔎 Iniciando busca para: '\"math learning\" AND \"personalized learning\"'\n",
      "10:15:10 [INFO] semantic_scholar: 📋 Carregando 20 artigos do cache para '\"math learning\" AND \"personalized learning\"'\n"
     ]
    },
    {
     "name": "stdout",
     "output_type": "stream",
     "text": [
      "📄 Artigo 'Participatory Action Research on Class for Student Below the Basic Level in Middle School Using AI-based Adaptive Learning System Applying Personalized Instruction Strategy' adicionado. Total atual: 213\n",
      "📄 Artigo 'Support Student Math Learning With a Personalized Learning System That Responds to Student Affect (Poster 38)' adicionado. Total atual: 214\n",
      "📄 Artigo 'Efficacy of an Adaptive Game-Based Math Learning App to Support Personalized Learning and Improve Early Elementary School Students’ Learning' adicionado. Total atual: 215\n",
      "📄 Artigo 'Accelerating Early Math Learning with Research-Based Personalized Learning Games: A Cluster Randomized Controlled Trial' adicionado. Total atual: 216\n",
      "📄 Artigo 'Learn with M.E.—Let Us Boost Personalized Learning in K-12 Math Education!' adicionado. Total atual: 217\n",
      "📄 Artigo 'Revolutionizing Math Education: The Power of Personalized Learning' adicionado. Total atual: 218\n",
      "📄 Artigo 'Contextualized and Personalized Math Word Problem Generation in Authentic Contexts Using Generative Pre-trained Transformer and Its Influences on Geometry Learning' adicionado. Total atual: 219\n",
      "📄 Artigo 'Dino Math Legacy: A Configurable Educational Video Game for Personalized Math Learning in Peruvian High Schools' adicionado. Total atual: 220\n",
      "📄 Artigo 'Effects of AI-Based Personalized Education on the Rural Students’ Math Learning Skills' adicionado. Total atual: 221\n",
      "📄 Artigo 'Assessing the Impact of Exact Path Personalized Learning Program on Diverse Learners in Math Achievement (Poster 14)' adicionado. Total atual: 222\n",
      "📄 Artigo 'Shortening the Math Sequence Through a Corequisite College Algebra Course with Embedded Personalized Learning' adicionado. Total atual: 223\n",
      "📄 Artigo 'Contextualized and Personalized Math Word Problem Generation Using GPT and Authentic Contextual Recognition' adicionado. Total atual: 224\n",
      "📄 Artigo 'Which Students Benefit from Personalized Learning? Experimental Evidence from a Math Software in Public Schools in India ∗' adicionado. Total atual: 225\n"
     ]
    },
    {
     "name": "stderr",
     "output_type": "stream",
     "text": [
      "10:15:11 [INFO] semantic_scholar:   -> 20 artigos relevantes adicionados do cache para '\"math learning\" AND \"personalized learning\"'.\n",
      "10:15:11 [INFO] semantic_scholar: 🔎 Iniciando busca para: '\"math learning\" AND \"intelligent tutoring systems\"'\n",
      "10:15:11 [INFO] semantic_scholar: 📋 Carregando 18 artigos do cache para '\"math learning\" AND \"intelligent tutoring systems\"'\n"
     ]
    },
    {
     "name": "stdout",
     "output_type": "stream",
     "text": [
      "📄 Artigo 'Validation of the effectiveness of AI-Based Personalized Adaptive Learning: Focusing on basic math class cases' adicionado. Total atual: 226\n",
      "📄 Artigo 'Computer-Supported Human Mentoring for Personalized and Equitable Math Learning' adicionado. Total atual: 227\n",
      "📄 Artigo 'Development of a math-learning counseling and coaching model (R-UTF) related to math anxiety, considering field applicability' adicionado. Total atual: 228\n",
      "📄 Artigo 'PERSONALIZED LEARNING IN MATH, THROW PROBLEM-SOLVING, AND THE USE OF ICT' adicionado. Total atual: 229\n",
      "📄 Artigo 'The Impact of Personalized Learning on Learner Agency, Communication, and Critical Thinking in a Fourth and Sixth Grade Math Class' adicionado. Total atual: 230\n",
      "📄 Artigo 'Data analysis and personalized recommendation of western music history information using deep learning under Internet of Things' adicionado. Total atual: 231\n",
      "📄 Artigo 'MathBot: A Personalized Conversational Agent for Learning Math' adicionado. Total atual: 232\n",
      "📄 Artigo '(Math OER) + (Personalized Learning) = Student Success' adicionado. Total atual: 233\n",
      "📄 Artigo 'The Design of Guiding and Adaptive Prompts for Intelligent Tutoring Systems and Its Effect on Students’ Mathematics Learning' adicionado. Total atual: 234\n",
      "📄 Artigo 'Learning Math for 1st Grade Primary School Students using Intelligent Tutoring Systems' adicionado. Total atual: 235\n",
      "📄 Artigo 'Designing Tools for Caregiver Involvement in Intelligent Tutoring Systems for Middle School Mathematics' adicionado. Total atual: 236\n",
      "📄 Artigo 'Personality-aware Student Simulation for Conversational Intelligent Tutoring Systems' adicionado. Total atual: 237\n",
      "📄 Artigo 'MathAIde in the Classroom: A Qualitative Analysis of Teachers' Perspectives of Intelligent Tutoring Systems Unplugged' adicionado. Total atual: 238\n",
      "📄 Artigo 'Teacher-Centered Intelligent Tutoring Systems: Design Considerations from Brazilian, Public School Teachers' adicionado. Total atual: 239\n",
      "📄 Artigo 'Chatbots and Intelligent Tutoring Systems: Paving New Learning Pathways through Artificial Intelligence' adicionado. Total atual: 240\n",
      "📄 Artigo 'Affect-driven Learning Outcomes Prediction in Intelligent Tutoring Systems' adicionado. Total atual: 241\n",
      "📄 Artigo 'Data-Driven Intelligent Tutoring Systems for STEM+C Learning and Teaching' adicionado. Total atual: 242\n"
     ]
    },
    {
     "name": "stderr",
     "output_type": "stream",
     "text": [
      "10:15:11 [INFO] semantic_scholar:   -> 18 artigos relevantes adicionados do cache para '\"math learning\" AND \"intelligent tutoring systems\"'.\n",
      "10:15:11 [INFO] semantic_scholar: 🔎 Iniciando busca para: '\"math learning\" AND \"learning analytics\"'\n",
      "10:15:11 [INFO] semantic_scholar: 📋 Carregando 18 artigos do cache para '\"math learning\" AND \"learning analytics\"'\n"
     ]
    },
    {
     "name": "stdout",
     "output_type": "stream",
     "text": [
      "📄 Artigo 'Does handwriting impact learning on math tutoring systems?' adicionado. Total atual: 243\n",
      "📄 Artigo 'Transforming Matrix Problem Solving with Intelligent Tutoring Systems' adicionado. Total atual: 244\n",
      "📄 Artigo 'Teaching Mathematics Integrating Intelligent Tutoring Systems: Investigating Prospective Teachers’ Concerns and TPACK' adicionado. Total atual: 245\n",
      "📄 Artigo 'RadarMath: An Intelligent Tutoring System for Math Education' adicionado. Total atual: 246\n",
      "📄 Artigo 'Leveraging Affect Transfer Learning for Behavior Prediction in an Intelligent Tutoring System' adicionado. Total atual: 247\n",
      "📄 Artigo 'Optimizing STEM+C Education With Data-Driven Intelligent Tutoring Systems' adicionado. Total atual: 248\n",
      "📄 Artigo 'An ontology-driven software product line architecture for developing gamified intelligent tutoring systems' adicionado. Total atual: 249\n",
      "📄 Artigo 'Modelling Math Learning on an Open Access Intelligent Tutor' adicionado. Total atual: 250\n",
      "📄 Artigo 'Proficiency Modeling in Junior High Math: Adapted Cognitive Statistical Models to E-Book Learning Contexts' adicionado. Total atual: 251\n",
      "📄 Artigo 'Student Effort and Progress Learning Analytics Data Inform Teachers’ SEL Discussions in Math Class' adicionado. Total atual: 252\n",
      "📄 Artigo 'DATA ANALYSIS AND LEARNING ANALYTICS FOR MEASURE EFFECTS OF GAMIFICATION IN A MATH ONLINE PROJECT' adicionado. Total atual: 253\n",
      "📄 Artigo 'Analyzing Student Attention and Acceptance of Conversational AI for Math Learning: Insights from a Randomized Controlled Trial' adicionado. Total atual: 254\n",
      "📄 Artigo 'Teachers’ Use of Learning Analytics Data from Students’ Online Math Practice Assignments to Better Focus Instruction' adicionado. Total atual: 255\n",
      "📄 Artigo 'Using multimodal learning analytics as a formative assessment tool: Exploring collaborative dynamics in mathematics teacher education' adicionado. Total atual: 256\n",
      "📄 Artigo 'Dispositional Learning Analytics to Investigate Students Use of Learning Strategies' adicionado. Total atual: 257\n",
      "📄 Artigo 'Learning analytics for student homework activities during a long break: Evidence from K-12 education in Japan' adicionado. Total atual: 258\n",
      "📄 Artigo 'Using fair AI to predict students’ math learning outcomes in an online platform' adicionado. Total atual: 259\n",
      "📄 Artigo 'Learning analytics to monitor and predict student learning processes in problem solving activities during an online training' adicionado. Total atual: 260\n",
      "📄 Artigo 'Game Learning Analytics and Qualitative Methods for Actionable Change in a Curriculum-Integrated Educational Math Game.' adicionado. Total atual: 261\n",
      "📄 Artigo 'Yet Another Predictive Model? Fair Predictions of Students’ Learning Outcomes in an Online Math Learning Platform' adicionado. Total atual: 262\n",
      "📄 Artigo 'Examining the Relationship between Math Anxiety, Effort, and Learning Outcomes Using Latent Class Analysis' adicionado. Total atual: 263\n",
      "📄 Artigo 'Systematic Review on Which Analytics and Learning Methodologies Are Applied in Primary and Secondary Education in the Learning of Robotics Sensors' adicionado. Total atual: 264\n",
      "📄 Artigo 'Integrating Option Tracing into Knowledge Tracing: Enhancing Learning Analytics for Mathematics Multiple-Choice Questions' adicionado. Total atual: 265\n",
      "📄 Artigo 'Multiple Choice vs. Fill-In Problems: The Trade-off Between Scalability and Learning' adicionado. Total atual: 266\n",
      "📄 Artigo 'INNOVATIONS IN TECHNOLOGY – A FRIENDLY MATH PROJECT AND THE LEARNING ANALYTICS “CHALLENGE”' adicionado. Total atual: 267\n",
      "📄 Artigo 'Proficiency Modeling in Junior High Math: Adapted Cognitive Statistical Models to E-Book Learning Contexts' adicionado. Total atual: 268\n",
      "📄 Artigo 'Improving the Serious Game design using Game Learning Analytics and Eye-tracking: A pilot study' adicionado. Total atual: 269\n"
     ]
    },
    {
     "name": "stderr",
     "output_type": "stream",
     "text": [
      "10:15:11 [INFO] semantic_scholar:   -> 18 artigos relevantes adicionados do cache para '\"math learning\" AND \"learning analytics\"'.\n",
      "10:15:11 [INFO] semantic_scholar: 🔎 Iniciando busca para: '\"math learning\" AND \"educational data mining\"'\n",
      "10:15:11 [INFO] semantic_scholar: 📋 Carregando 14 artigos do cache para '\"math learning\" AND \"educational data mining\"'\n"
     ]
    },
    {
     "name": "stdout",
     "output_type": "stream",
     "text": [
      "📄 Artigo 'On Developing Generic Models for Predicting Student Outcomes in Educational Data Mining' adicionado. Total atual: 270\n",
      "📄 Artigo 'Prediction of UHV-STEM based educational framework for holistic and sustainable living using Educational Data Mining' adicionado. Total atual: 271\n",
      "📄 Artigo 'Scalable and Equitable Math Problem Solving Strategy Prediction in Big Educational Data' adicionado. Total atual: 272\n",
      "📄 Artigo 'Educational Data Mining for Future Educational Employees ∗' adicionado. Total atual: 273\n",
      "📄 Artigo 'How Do Students Behave When Using A Tutoring System? Employing Data Mining to Identify Behavioral Patterns Associated to The Learning of Mathematics' adicionado. Total atual: 274\n",
      "📄 Artigo 'ClickTree: A Tree-based Method for Predicting Math Students' Performance Based on Clickstream Data' adicionado. Total atual: 275\n",
      "📄 Artigo 'Automated Assessment in Math Education: A Comparative Analysis of LLMs for Open-Ended Responses' adicionado. Total atual: 276\n",
      "📄 Artigo 'Mining Educational Implications of Minecraft' adicionado. Total atual: 277\n",
      "📄 Artigo 'Automated Feedback in Math Education: A Comparative Analysis of LLMs for Open-Ended Responses' adicionado. Total atual: 278\n"
     ]
    },
    {
     "name": "stderr",
     "output_type": "stream",
     "text": [
      "10:15:12 [INFO] semantic_scholar:   -> 14 artigos relevantes adicionados do cache para '\"math learning\" AND \"educational data mining\"'.\n",
      "10:15:12 [INFO] semantic_scholar: 🔎 Iniciando busca para: '\"math learning\" AND \"machine learning\"'\n",
      "10:15:12 [INFO] semantic_scholar: 📋 Carregando 20 artigos do cache para '\"math learning\" AND \"machine learning\"'\n"
     ]
    },
    {
     "name": "stdout",
     "output_type": "stream",
     "text": [
      "📄 Artigo 'Data analysis and personalized recommendation of western music history information using deep learning under Internet of Things' adicionado. Total atual: 279\n",
      "📄 Artigo 'Kappa Learning: A New Method for Measuring Similarity Between Educational Items Using Performance Data' adicionado. Total atual: 280\n",
      "📄 Artigo 'Application of Naïve Bayes Algorithm on Determining Student Concentration in Mathematics Learning Process' adicionado. Total atual: 281\n",
      "📄 Artigo 'Exploring Factors Causing the Mathematics Performance Gaps of Different Genders Using an Explainable Machine Learning' adicionado. Total atual: 282\n",
      "📄 Artigo 'An education analysis of K12 students in NAEP math exam based on LightGBM' adicionado. Total atual: 283\n",
      "📄 Artigo 'Democratizing Signal Processing and Machine Learning: Math Learning Equity for Elementary and Middle School Students' adicionado. Total atual: 284\n",
      "📄 Artigo 'Assessing the Causal Effect of Special Education Services on Math Achievement: A Causal Inference and Machine Learning Study' adicionado. Total atual: 285\n",
      "📄 Artigo 'Assessing the effectiveness of special education services on fifth grade math scores: Using traditional and machine learning methods with ECLS-K data' adicionado. Total atual: 286\n",
      "📄 Artigo 'Exploring students' learning support use in digital game-based math learning: A mixed-methods approach using machine learning and multi-cases study' adicionado. Total atual: 287\n",
      "📄 Artigo '2023 MATH + X Symposium on Dynamos, Planetary Exploration and General Relativity, Inverse Problems and Machine Learning' adicionado. Total atual: 288\n",
      "📄 Artigo 'Nonlinear and machine learning analyses on high-density EEG data of math experts and novices' adicionado. Total atual: 289\n"
     ]
    },
    {
     "name": "stderr",
     "output_type": "stream",
     "text": [
      "10:15:12 [INFO] semantic_scholar:   -> 20 artigos relevantes adicionados do cache para '\"math learning\" AND \"machine learning\"'.\n",
      "10:15:12 [INFO] semantic_scholar: 🔎 Iniciando busca para: '\"math learning\" AND \"artificial intelligence\"'\n",
      "10:15:12 [INFO] semantic_scholar: 📋 Carregando 20 artigos do cache para '\"math learning\" AND \"artificial intelligence\"'\n"
     ]
    },
    {
     "name": "stdout",
     "output_type": "stream",
     "text": [
      "📄 Artigo 'Teaching Computational Math and Introducing Machine Learning to Electrical Engineering Students at an Emerging Hispanic Serving Institution' adicionado. Total atual: 290\n",
      "📄 Artigo 'Computational Math Modeling and AI Optimization for Better Decision-Making: Applications in Machine Learning' adicionado. Total atual: 291\n",
      "📄 Artigo 'Machine learning and propensity score matching for evaluating the effect of special education services on childrens later math performances' adicionado. Total atual: 292\n",
      "📄 Artigo 'Uncovering the Most Effective Pedagogical Techniques for Math Education Using Machine Learning' adicionado. Total atual: 293\n",
      "📄 Artigo 'Research on the Accuracy of Machine Learning-Based AI Grading Systems in Handling High School Math Function Problems: A Comparative Study of MathGPTPro and Zuoyebang' adicionado. Total atual: 294\n",
      "📄 Artigo 'A Mental Leap: Impact of Teaching the Math Behind Machine Learning Techniques in K-12' adicionado. Total atual: 295\n",
      "📄 Artigo '\"Math is a pain!\": Understanding challenges and needs of the Machine Learning community on Stack Overflow' adicionado. Total atual: 296\n",
      "📄 Artigo 'Machine Learning Analysis of Junior High Students' Math Representation in HOTS Problems' adicionado. Total atual: 297\n",
      "📄 Artigo 'Comparison of Different Machine Learning Approaches for Individual Subject Classification of Single-Trial Event Related Potentials During Perception of Correct and Incorrect Math Solutions' adicionado. Total atual: 298\n",
      "📄 Artigo 'Evaluating various machine learning methods for predicting students' math performance in the 2019 TIMSS' adicionado. Total atual: 299\n",
      "📄 Artigo 'How the predictors of math achievement change over time: A longitudinal machine learning approach.' adicionado. Total atual: 300\n",
      "📄 Artigo 'Using 'The New Math' - Artificial Intelligence and Machine Learning Applications in the Nuclear Power Industry' adicionado. Total atual: 301\n",
      "📄 Artigo 'Supplemental Material for How the Predictors of Math Achievement Change Over Time: A Longitudinal Machine Learning Approach' adicionado. Total atual: 302\n",
      "📄 Artigo 'A Hands-On Machine Learning Primer for Social Scientists: Math, Algorithms and Code' adicionado. Total atual: 303\n",
      "📄 Artigo 'Identifying the use of artificial intelligence in math learning based on learning outcomes' adicionado. Total atual: 304\n",
      "📄 Artigo 'Proceedings of the Workshop \"Towards the Future of AI-augmented Human Tutoring in Math Learning\" co-located with The 24th International Conference on Artificial Intelligence in Education (AIED 2023), Tokyo, Japan, July 3, 2023' adicionado. Total atual: 305\n",
      "📄 Artigo 'Math learning assistance for people with blindness or low vision using artificial intelligence through a free software mobile application' adicionado. Total atual: 306\n"
     ]
    },
    {
     "name": "stderr",
     "output_type": "stream",
     "text": [
      "10:15:12 [INFO] semantic_scholar:   -> 20 artigos relevantes adicionados do cache para '\"math learning\" AND \"artificial intelligence\"'.\n",
      "10:15:12 [INFO] semantic_scholar: 🔎 Iniciando busca para: '\"math learning\" AND \"automated assessment\"'\n",
      "10:15:12 [INFO] semantic_scholar: 📋 Carregando 13 artigos do cache para '\"math learning\" AND \"automated assessment\"'\n"
     ]
    },
    {
     "name": "stdout",
     "output_type": "stream",
     "text": [
      "📄 Artigo 'Effective Learning Strategies And Artificial Intelligence (Ai) Support For Accelerated Math Acquisition' adicionado. Total atual: 307\n",
      "📄 Artigo 'FINNger - Applying artificial intelligence to ease math learning for children' adicionado. Total atual: 308\n",
      "📄 Artigo 'Developing Adaptive Math Learning Program Using Artificial Intelligence' adicionado. Total atual: 309\n",
      "📄 Artigo 'Applying STEM and extended reality technologies to explore students' artificial intelligence learning performance and behavior for sustainable development goals' adicionado. Total atual: 310\n",
      "📄 Artigo 'The Effectiveness of a Mentoring Program Using an Artificial Intelligence Learning Device to Reduce the Educational Gap of Underprivileged Elementary School Students' adicionado. Total atual: 311\n",
      "📄 Artigo 'Three Paradigms for Learning Mathematics with the Aid of Artificial Intelligence: A Phenomenological Study of Prospective Teacher Students' adicionado. Total atual: 312\n",
      "📄 Artigo 'Artificial Intelligence in Education: Mathematics Teachers’ Perspectives, Practices and Challenges' adicionado. Total atual: 313\n",
      "📄 Artigo 'AI Shaping the Future of Education: Science and Math Teachers’ Satisfaction Level and Motivating Factors towards Integrating Artificial Intelligence in Teaching and Learning' adicionado. Total atual: 314\n",
      "📄 Artigo 'Retracted: The Value of Artificial Intelligence Film Reading System Based on Deep Learning in the Diagnosis of Non-Small-Cell Lung Cancer and the Significance of Efficacy Monitoring: A Retrospective, Clinical, Nonrandomized, Controlled Study' adicionado. Total atual: 315\n",
      "📄 Artigo 'Applying Artificial Intelligence into Early Childhood Math Education: Lesson Design and Course Effect' adicionado. Total atual: 316\n",
      "📄 Artigo 'Exploring the integration of artificial intelligence in math education: Preservice Teachers’ experiences and reflections on problem‐posing activities with ChatGPT' adicionado. Total atual: 317\n",
      "📄 Artigo 'Mathematics in Data Science and Artificial Intelligence' adicionado. Total atual: 318\n",
      "📄 Artigo 'Effects of AI-Based Personalized Education on the Rural Students’ Math Learning Skills' adicionado. Total atual: 319\n",
      "📄 Artigo 'Using 'The New Math' - Artificial Intelligence and Machine Learning Applications in the Nuclear Power Industry' adicionado. Total atual: 320\n",
      "📄 Artigo 'Effectiveness of Artificial Intelligence (AI) in Improving Pupils' Deep Learning in Primary School Mathematics Teaching in Fujian Province' adicionado. Total atual: 321\n",
      "📄 Artigo 'Retracted: Research on Classroom Online Teaching Model of “Learning” Wisdom Music on Wireless Network under the Background of Artificial Intelligence' adicionado. Total atual: 322\n",
      "📄 Artigo 'Exploring teaching and learning methods using artificial intelligence (AI) in the mathematics classroom: Focusing on the development of middle school statistic scenarios' adicionado. Total atual: 323\n",
      "📄 Artigo 'Automated Assessment in Math Education: A Comparative Analysis of LLMs for Open-Ended Responses' adicionado. Total atual: 324\n",
      "📄 Artigo 'An Automated Assessment of Early Math Abilities Based on Digital Games' adicionado. Total atual: 325\n",
      "📄 Artigo 'Automated Distractor and Feedback Generation for Math Multiple-choice Questions via In-context Learning' adicionado. Total atual: 326\n",
      "📄 Artigo 'A Chain-of-Thought Prompting Approach with LLMs for Evaluating Students' Formative Assessment Responses in Science' adicionado. Total atual: 327\n",
      "📄 Artigo 'Investigating Large Language Models in Diagnosing Students' Cognitive Skills in Math Problem-solving' adicionado. Total atual: 328\n",
      "📄 Artigo 'Biomechanics-inspired analysis of the recognition function of recurrent neural networks in primary school math homework under low carbon background' adicionado. Total atual: 329\n",
      "📄 Artigo 'Improving Assessment of Tutoring Practices using Retrieval-Augmented Generation' adicionado. Total atual: 330\n",
      "📄 Artigo 'Automated Systems For Diagnosis of Dysgraphia in Children: A Survey and Novel Framework' adicionado. Total atual: 331\n",
      "📄 Artigo 'Deep learning tumor heterogeneity metric from histopathology images vs next generation sequencing-derived scores for colon cancer prognostication.' adicionado. Total atual: 332\n",
      "📄 Artigo 'Assessing Mathematical Higher-Order Thinking Skills: An Analysis of Turkish University Entrance Examinations' adicionado. Total atual: 333\n",
      "📄 Artigo 'Using Technology to Support Teaching Computer Science: A Study with Middle School Students' adicionado. Total atual: 334\n",
      "📄 Artigo 'Accurate fully automated assessment of left ventricle, left atrium, and left atrial appendage function from computed tomography using deep learning' adicionado. Total atual: 335\n",
      "📄 Artigo 'Automated Feedback for Student Math Responses Based on Multi-Modality and Fine-Tuning' adicionado. Total atual: 336\n"
     ]
    },
    {
     "name": "stderr",
     "output_type": "stream",
     "text": [
      "10:15:13 [INFO] semantic_scholar:   -> 13 artigos relevantes adicionados do cache para '\"math learning\" AND \"automated assessment\"'.\n",
      "10:15:13 [INFO] semantic_scholar: 🔎 Iniciando busca para: '\"math learning\" AND \"competency identification\"'\n",
      "10:15:13 [INFO] semantic_scholar: 📋 Carregando 10 artigos do cache para '\"math learning\" AND \"competency identification\"'\n"
     ]
    },
    {
     "name": "stdout",
     "output_type": "stream",
     "text": [
      "📄 Artigo 'Application of Gamification Tools for Identification of Neurocognitive and Social Function in Distance Learning Education' adicionado. Total atual: 337\n",
      "📄 Artigo 'Sustainable Math Education of Female Students during a Pandemic: Online versus Face-to-Face Instruction' adicionado. Total atual: 338\n",
      "📄 Artigo 'Development and Validation of Locally Sourced Math Manipulatives for Grades 1 and 2 Pupils' adicionado. Total atual: 339\n",
      "📄 Artigo 'More than 20 procedures are necessary to learn small bowel capsule endoscopy: Learning curve pilot study of 535 trainee cases' adicionado. Total atual: 340\n",
      "📄 Artigo 'Educational Placement and Goal Quality for Students With Complex Support Needs' adicionado. Total atual: 341\n",
      "📄 Artigo 'Brain Structural Integrity and Intrinsic Functional Connectivity Forecast 6 Year Longitudinal Growth in Children's Numerical Abilities' adicionado. Total atual: 342\n",
      "📄 Artigo 'ASCERTAINING THE USE OF EXTRACURRICULAR ACTIVITIES IN PROMOTING LEARNERS’ HOLISTIC DEVELOPMENT IN MULTICULTURAL SCHOOL SETTINGS' adicionado. Total atual: 343\n",
      "📄 Artigo 'Investigating The Mathematical Literacy of Primary School Students in Curriculum 2013' adicionado. Total atual: 344\n",
      "📄 Artigo 'Convergence of Indigenous Science and Western Science Impacts Students’ Interest in STEM and Identity as a Scientist' adicionado. Total atual: 345\n"
     ]
    },
    {
     "name": "stderr",
     "output_type": "stream",
     "text": [
      "10:15:13 [INFO] semantic_scholar:   -> 10 artigos relevantes adicionados do cache para '\"math learning\" AND \"competency identification\"'.\n",
      "10:15:13 [INFO] semantic_scholar: 🔎 Iniciando busca para: '\"math learning\" AND \"student modeling\"'\n",
      "10:15:13 [INFO] semantic_scholar: 📋 Carregando 12 artigos do cache para '\"math learning\" AND \"student modeling\"'\n",
      "10:15:13 [INFO] semantic_scholar:   -> 12 artigos relevantes adicionados do cache para '\"math learning\" AND \"student modeling\"'.\n",
      "10:15:13 [INFO] semantic_scholar: 🔎 Iniciando busca para: '\"math learning\" AND \"predictive analytics\"'\n",
      "10:15:13 [INFO] semantic_scholar: 📋 Carregando 15 artigos do cache para '\"math learning\" AND \"predictive analytics\"'\n"
     ]
    },
    {
     "name": "stdout",
     "output_type": "stream",
     "text": [
      "📄 Artigo 'Educational and research competencies in the training of the course “Discrete mathematics” for training bachelors in computer engineering' adicionado. Total atual: 346\n",
      "📄 Artigo 'Not a Team but Learning as One: The Impact of Consistent Attendance on Discourse Diversification in Math Group Modeling' adicionado. Total atual: 347\n",
      "📄 Artigo 'Topic modeling of the student emails sent before and during the birth of COVID-19 in physics and math classes' adicionado. Total atual: 348\n",
      "📄 Artigo 'The COVID-19 School Year: Learning and Recovery Across 2020-2021' adicionado. Total atual: 349\n",
      "📄 Artigo 'A Multilevel Study of the Impact of District-Level Characteristics on Texas Student Growth Trajectories on a High-Stakes Math Exam' adicionado. Total atual: 350\n",
      "📄 Artigo 'Domain-Specific Modeling Languages in Computer-Based Learning Environments: a Systematic Approach to Support Science Learning through Computational Modeling' adicionado. Total atual: 351\n",
      "📄 Artigo 'Identifying Reliable Predictors of Educational Outcomes Through Machine-Learning Predictive Modeling' adicionado. Total atual: 352\n",
      "📄 Artigo 'The influence of ICT use and related attitudes on students’ math and science performance: multilevel analyses of the last decade’s PISA surveys' adicionado. Total atual: 353\n",
      "📄 Artigo 'Modeling Engagement in Self-Directed Learning Systems Using Principal Component Analysis' adicionado. Total atual: 354\n",
      "📄 Artigo 'Academic culture: a promising mediator of school leaders’ influence on student learning' adicionado. Total atual: 355\n",
      "📄 Artigo 'Predicting Math Performance from Raw Large-Scale Educational Assessments Data : A Machine Learning Approach' adicionado. Total atual: 356\n",
      "📄 Artigo 'Spoken interaction modeling for automatic assessment of collaborative learning' adicionado. Total atual: 357\n",
      "📄 Artigo 'The Role of School Adaptation and Self-Concept in Influencing Chinese High School Students’ Growth in Math Achievement' adicionado. Total atual: 358\n",
      "📄 Artigo 'Yet Another Predictive Model? Fair Predictions of Students’ Learning Outcomes in an Online Math Learning Platform' adicionado. Total atual: 359\n",
      "📄 Artigo 'Student online behaviors: correlations to math identity' adicionado. Total atual: 360\n",
      "📄 Artigo 'Data-informed curriculum sequences for a curriculum-integrated game' adicionado. Total atual: 361\n",
      "📄 Artigo 'Forecasting Students’ Success To Graduate Using Predictive\n",
      "Analytics' adicionado. Total atual: 362\n",
      "📄 Artigo 'Using fair AI to predict students’ math learning outcomes in an online platform' adicionado. Total atual: 363\n"
     ]
    },
    {
     "name": "stderr",
     "output_type": "stream",
     "text": [
      "10:15:13 [INFO] semantic_scholar:   -> 15 artigos relevantes adicionados do cache para '\"math learning\" AND \"predictive analytics\"'.\n",
      "10:15:13 [INFO] semantic_scholar: 🔎 Iniciando busca para: '\"mathematics teaching\" AND \"adaptive learning\"'\n",
      "10:15:13 [INFO] semantic_scholar: 📋 Carregando 20 artigos do cache para '\"mathematics teaching\" AND \"adaptive learning\"'\n"
     ]
    },
    {
     "name": "stdout",
     "output_type": "stream",
     "text": [
      "📄 Artigo 'A Conceptual Framework for Deep Learning Algorithms and Their Applications' adicionado. Total atual: 364\n",
      "📄 Artigo 'Applicaton Of Mathematics In Big Data Analysis To Support Strategic Decision' adicionado. Total atual: 365\n",
      "📄 Artigo 'Using multimodal learning analytics as a formative assessment tool: Exploring collaborative dynamics in mathematics teacher education' adicionado. Total atual: 366\n",
      "📄 Artigo 'Dispositional Learning Analytics to Investigate Students Use of Learning Strategies' adicionado. Total atual: 367\n",
      "📄 Artigo 'Learning analytics to monitor and predict student learning processes in problem solving activities during an online training' adicionado. Total atual: 368\n",
      "📄 Artigo 'Integrating Option Tracing into Knowledge Tracing: Enhancing Learning Analytics for Mathematics Multiple-Choice Questions' adicionado. Total atual: 369\n",
      "📄 Artigo 'Each Encounter Counts: Modeling Language Learning and Forgetting' adicionado. Total atual: 370\n",
      "📄 Artigo 'Evaluation on NTM based Predictive Analytics on\n",
      "Rainfall and Flood Disaster Management' adicionado. Total atual: 371\n",
      "📄 Artigo 'Defining Productive Struggle in ST Math: Implications for Developing Indicators of Learning Behaviors and Strategies in Digital Learning Environments' adicionado. Total atual: 372\n",
      "📄 Artigo 'The impact of predictive analytics based advising on the selection and change of major among first-year, first-term students in engineering' adicionado. Total atual: 373\n",
      "📄 Artigo 'Elementary teachers’ use of adaptive diagnostic assessment to improve mathematics teaching and learning: A case study' adicionado. Total atual: 374\n",
      "📄 Artigo 'Teaching quality in kindergarten: professional development and quality of adaptive learning support enhances mathematical competency' adicionado. Total atual: 375\n",
      "📄 Artigo 'The future of mathematics education: Adaptive learning technologies and artificial intelligence' adicionado. Total atual: 376\n",
      "📄 Artigo 'Equity-Centered adaptive learning (ECAL) in Mathematics: Personalizing education for underrepresented groups' adicionado. Total atual: 377\n",
      "📄 Artigo 'Implementing adaptive learning technologies: Practical strategies for enhancing cognition in mathematics education' adicionado. Total atual: 378\n",
      "📄 Artigo 'Comparative Analysis of Adaptive Learning and Fast for Word Programs for ASD Students in Learning English, and Mathematics, and Predicting Future Academic Performance Using Machine Learning Algorithms' adicionado. Total atual: 379\n",
      "📄 Artigo 'The Design of Guiding and Adaptive Prompts for Intelligent Tutoring Systems and Its Effect on Students’ Mathematics Learning' adicionado. Total atual: 380\n",
      "📄 Artigo 'Natural language processing in language learning: personalized and adaptive English language teaching using artificial intelligence' adicionado. Total atual: 381\n",
      "📄 Artigo 'Research on the Mechanism of Dynamic Monitoring of Undergraduate Students’ Learning Situation and Adaptive Adjustment of Teaching Mode--Based on the Perspective of Educational Evaluation Reform' adicionado. Total atual: 382\n"
     ]
    },
    {
     "name": "stderr",
     "output_type": "stream",
     "text": [
      "10:15:13 [INFO] semantic_scholar:   -> 20 artigos relevantes adicionados do cache para '\"mathematics teaching\" AND \"adaptive learning\"'.\n",
      "10:15:13 [INFO] semantic_scholar: 🔎 Iniciando busca para: '\"mathematics teaching\" AND \"personalized learning\"'\n",
      "10:15:13 [INFO] semantic_scholar: 📋 Carregando 20 artigos do cache para '\"mathematics teaching\" AND \"personalized learning\"'\n"
     ]
    },
    {
     "name": "stdout",
     "output_type": "stream",
     "text": [
      "📄 Artigo 'A Probe into the Hybrid Teaching Mode of Advanced Mathematics Based on \"Adaptive Learning\"' adicionado. Total atual: 383\n",
      "📄 Artigo 'The Role of Adaptive Personalized Technologies in the Learning Process: Stepik as a Tool for Teaching Mathematics' adicionado. Total atual: 384\n",
      "📄 Artigo 'Incidence of digital adaptive learning programs on academic results in mathematics' adicionado. Total atual: 385\n",
      "📄 Artigo 'Adaptive Differential Evolutionary Algorithm for Innovative Teaching and Learning in High School Project-Based Courses' adicionado. Total atual: 386\n",
      "📄 Artigo 'Integration of Adaptive Game-Based Learning Approach in Learning Mathematics Subject for Primary School' adicionado. Total atual: 387\n",
      "📄 Artigo 'An Adaptive Learning Path Optimization Model for Advanced English Learners' adicionado. Total atual: 388\n",
      "📄 Artigo 'Student Perceptions of AI-Enhanced Adaptive Learning Systems: A Pilot Survey' adicionado. Total atual: 389\n",
      "📄 Artigo 'Interleaved Learning in Elementary School Mathematics: Effects on the Flexible and Adaptive Use of Subtraction Strategies' adicionado. Total atual: 390\n",
      "📄 Artigo 'Multimedia: Students' Adaptive Learning Engagement in Mathematics Classrooms' adicionado. Total atual: 391\n",
      "📄 Artigo 'Designing and Evaluating Learning Effectiveness of Blended Teaching and Learning of College English Based on BOPPPS Modeling' adicionado. Total atual: 392\n",
      "📄 Artigo 'Mathematics intelligent tutoring system for learning multiplication and division of fractions based on diagnostic teaching' adicionado. Total atual: 393\n",
      "📄 Artigo 'Intelligent Assisted English Vocabulary Teaching: A Study on Vocabulary Acquisition Based on Fuzzy Cognition and Personalized Learning' adicionado. Total atual: 394\n",
      "📄 Artigo 'Unveiling the potential: A systematic review of ChatGPT in transforming mathematics teaching and learning' adicionado. Total atual: 395\n",
      "📄 Artigo 'Research on the Optimization of English Teaching Mode and Personalized Learning Path in Colleges and Universities Based on Big Data Regression Analysis' adicionado. Total atual: 396\n",
      "📄 Artigo 'Empowering Engineering Minds: Unveiling the Significance of Personalized Learning in Mathematics Education' adicionado. Total atual: 397\n",
      "📄 Artigo 'Perceptions and readiness of high school mathematics teachers for integration of ICT tools in the teaching and learning of mathematics' adicionado. Total atual: 398\n",
      "📄 Artigo 'The Role of Adaptive Personalized Technologies in the Learning Process: Stepik as a Tool for Teaching Mathematics' adicionado. Total atual: 399\n",
      "📄 Artigo 'INVESTIGATION OF THE EFFECTIVENESS OF PERSONALIZED ADAPTIVE MATHEMATICS TEACHING' adicionado. Total atual: 400\n",
      "📄 Artigo 'Research on Blended Teaching of Advanced Mathematics Based on Personalized Learning' adicionado. Total atual: 401\n",
      "📄 Artigo 'A Review of use of Artificial Intelligence in Teaching and Learning of Mathematics' adicionado. Total atual: 402\n",
      "📄 Artigo 'Personalized Physical Education Teaching Path Planning and Optimization Based on Deep Reinforcement Learning' adicionado. Total atual: 403\n",
      "📄 Artigo 'Natural language processing in language learning: personalized and adaptive English language teaching using artificial intelligence' adicionado. Total atual: 404\n",
      "📄 Artigo 'Personalized Mathematics Teaching with The Support of AI Chatbots to Improve Mathematical Problem-Solving Competence for High School Students in Vietnam' adicionado. Total atual: 405\n",
      "📄 Artigo 'Exploring the role of artificial intelligence in psychoeducational personalized learning environments' adicionado. Total atual: 406\n",
      "📄 Artigo 'Enhancing Mathematics Education with ChatGPT-4 Personalized Problem-Solving and Consistent Learning' adicionado. Total atual: 407\n",
      "📄 Artigo 'Teaching Strategies and Student Performance in Combining Mathematics Teaching and Data Mining Techniques in Higher Education' adicionado. Total atual: 408\n",
      "📄 Artigo 'Research on Digital Teaching Resources Development and Personalized Teaching in Sensor Courses' adicionado. Total atual: 409\n",
      "📄 Artigo 'Exploring the future of mathematics teaching: Insight with ChatGPT' adicionado. Total atual: 410\n",
      "📄 Artigo 'Effectiveness of Artificial Intelligence in Mathematics Teaching by Protus 2.1' adicionado. Total atual: 411\n",
      "📄 Artigo 'Development of the Personalized Model of Teaching Mathematics by Means of Interactive Short Stories to Improve the Quality of Educational Results 0f Schoolchildren' adicionado. Total atual: 412\n",
      "📄 Artigo 'PERSONALIZED TEACHING OF MATHEMATICS THROUGH ICT AND THE PERSONAL PERCEPTION OF TEACHERS OF USING ICT IN THE LEARNING PROCESS' adicionado. Total atual: 413\n"
     ]
    },
    {
     "name": "stderr",
     "output_type": "stream",
     "text": [
      "10:15:14 [INFO] semantic_scholar:   -> 20 artigos relevantes adicionados do cache para '\"mathematics teaching\" AND \"personalized learning\"'.\n",
      "10:15:14 [INFO] semantic_scholar: 🔎 Iniciando busca para: '\"mathematics teaching\" AND \"intelligent tutoring systems\"'\n",
      "10:15:14 [INFO] semantic_scholar: 📋 Carregando 17 artigos do cache para '\"mathematics teaching\" AND \"intelligent tutoring systems\"'\n",
      "10:15:14 [INFO] semantic_scholar:   -> 17 artigos relevantes adicionados do cache para '\"mathematics teaching\" AND \"intelligent tutoring systems\"'.\n",
      "10:15:14 [INFO] semantic_scholar: 🔎 Iniciando busca para: '\"mathematics teaching\" AND \"learning analytics\"'\n",
      "10:15:14 [INFO] semantic_scholar: 📋 Carregando 20 artigos do cache para '\"mathematics teaching\" AND \"learning analytics\"'\n"
     ]
    },
    {
     "name": "stdout",
     "output_type": "stream",
     "text": [
      "📄 Artigo 'Teaching Mathematics Integrating Intelligent Tutoring Systems: Investigating Prospective Teachers’ Concerns and TPACK' adicionado. Total atual: 414\n",
      "📄 Artigo 'The Design of Guiding and Adaptive Prompts for Intelligent Tutoring Systems and Its Effect on Students’ Mathematics Learning' adicionado. Total atual: 415\n",
      "📄 Artigo 'Artificial Intelligence in Mathematics Education: A Systematic Literature Review on Intelligent Tutoring Systems' adicionado. Total atual: 416\n",
      "📄 Artigo 'Intelligent Tutoring Systems in Mathematics Education: A Systematic Literature Review Using the Substitution, Augmentation, Modification, Redefinition Model' adicionado. Total atual: 417\n",
      "📄 Artigo 'Teachers' Conceptions of Mathematics and the Use of Intelligent Tutoring Systems, Calculators, Dynamic Geometry Software and Desmos in the Classroom' adicionado. Total atual: 418\n",
      "📄 Artigo 'Intelligent Tutoring Systems: Why Teachers Abandoned a Technology Aimed at Automating Teaching Processes' adicionado. Total atual: 419\n",
      "📄 Artigo 'Toward Automatic Tutoring of Math Word Problems in Intelligent Tutoring Systems' adicionado. Total atual: 420\n",
      "📄 Artigo 'Intelligent tutoring systems for word problem solving in COVID-19 days: could they have been (part of) the solution?' adicionado. Total atual: 421\n",
      "📄 Artigo 'Investigating Pre-service Mathematics Teachers' Innovation Awareness and Views Regarding Intelligent Tutoring Systems' adicionado. Total atual: 422\n",
      "📄 Artigo 'Effect of Intelligent Tutoring on Teaching and Learning Mathematics: The case of use of Ignite the Learning System in selected primary schools in Kenya' adicionado. Total atual: 423\n",
      "📄 Artigo 'A Systematic Literature Review of Intelligent Tutoring Systems With Dialogue in Natural Language' adicionado. Total atual: 424\n",
      "📄 Artigo 'A Review of use of Artificial Intelligence in Teaching and Learning of Mathematics' adicionado. Total atual: 425\n",
      "📄 Artigo 'Cost Implications for a Discrete Mathematics Intelligent Tutoring System' adicionado. Total atual: 426\n",
      "📄 Artigo 'Intelligent Tutoring System of Linear Programming' adicionado. Total atual: 427\n",
      "📄 Artigo 'Mathematics intelligent tutoring system' adicionado. Total atual: 428\n",
      "📄 Artigo 'INTELLIGENT TUTORING SYSTEMS - TRENDS ON DESIGN, DEVELOPMENT AND DEPLOYMENT' adicionado. Total atual: 429\n",
      "📄 Artigo 'One Size doesn't Fit All: A Personalized Conversational Tutoring Agent for Mathematics Instruction' adicionado. Total atual: 430\n",
      "📄 Artigo 'Use of Learning Analytics in K-12 Mathematics Education: Systematic Scoping Review of the Impact on Teaching and Learning' adicionado. Total atual: 431\n",
      "📄 Artigo 'Learning analytics based formative assessment: Gaining insights through interactive dashboard components in mathematics teaching' adicionado. Total atual: 432\n",
      "📄 Artigo 'Learning mathematics in the new norms caused by digital game-based learning and learning analytics' adicionado. Total atual: 433\n",
      "📄 Artigo 'The Future of Embodied Design for Mathematics Teaching and Learning' adicionado. Total atual: 434\n",
      "📄 Artigo 'Intelligent IoT Devices and Data Analytics as a Guide to Enhancing the Effectiveness of English Language Teaching and Learning' adicionado. Total atual: 435\n",
      "📄 Artigo 'Fundamentals of e-learning in mathematics teaching: future perspectives' adicionado. Total atual: 436\n",
      "📄 Artigo 'Using Self-Regulated Learning Theory and Learning Analytics to Identify Explanatory Variables Affecting Learning Outcomes in Online/Hybrid Undergraduate Calculus' adicionado. Total atual: 437\n",
      "📄 Artigo 'Optimising Learning Analytics and Teaching Decisions in Digital Transformation Practices in English Language Education' adicionado. Total atual: 438\n",
      "📄 Artigo 'Improving Experienced Mathematics Teachers’ Classroom Talk: A Visual Learning Analytics Approach to Professional Development' adicionado. Total atual: 439\n",
      "📄 Artigo 'Filling gaps: assessment software and the production of mathematics and its teaching and learning in primary schools' adicionado. Total atual: 440\n",
      "📄 Artigo 'APPLYING LEARNING ANALYTICS IN MATHEMATICS AND SCIENCE EDUCATION LESSONS: EXPERIENCES OF TEACHERS IN BASIC EDUCATION' adicionado. Total atual: 441\n",
      "📄 Artigo 'Research on educational applications based on diagnostic learning analytics in the context of big data analytics' adicionado. Total atual: 442\n",
      "📄 Artigo 'The Impacts of Learning Analytics on Primary Level Mathematics Curriculum' adicionado. Total atual: 443\n",
      "📄 Artigo 'The design of game-based learning and learning analytics' adicionado. Total atual: 444\n",
      "📄 Artigo 'Learning Analytics in Mathematics: A Systematic Review' adicionado. Total atual: 445\n",
      "📄 Artigo 'A Study on the Learning Effectiveness and Behavioural Association of Predictive Analytics in English Teaching in Higher Education' adicionado. Total atual: 446\n",
      "📄 Artigo 'Exploration of Innovative Teaching Models of Civics in College Programs with Big Data Analytics' adicionado. Total atual: 447\n",
      "📄 Artigo 'eAnalytics: a model of a learning analytics visualization system' adicionado. Total atual: 448\n",
      "📄 Artigo 'Research on the Application of Smart Classroom in Higher Mathematics Teaching' adicionado. Total atual: 449\n",
      "📄 Artigo 'Effective Strategies for Blended Teaching of Elementary School Mathematics Based on the Smart Education Platform' adicionado. Total atual: 450\n"
     ]
    },
    {
     "name": "stderr",
     "output_type": "stream",
     "text": [
      "10:15:14 [INFO] semantic_scholar:   -> 20 artigos relevantes adicionados do cache para '\"mathematics teaching\" AND \"learning analytics\"'.\n",
      "10:15:14 [INFO] semantic_scholar: 🔎 Iniciando busca para: '\"mathematics teaching\" AND \"educational data mining\"'\n",
      "10:15:14 [INFO] semantic_scholar: 📋 Carregando 19 artigos do cache para '\"mathematics teaching\" AND \"educational data mining\"'\n"
     ]
    },
    {
     "name": "stdout",
     "output_type": "stream",
     "text": [
      "📄 Artigo 'Data Mining Methods for Educational Effectiveness in Higher Education Aesthetic Education Programs' adicionado. Total atual: 451\n",
      "📄 Artigo 'Innovative Application of Data Mining Technology in College Information System Based on Informatized Teaching Environment' adicionado. Total atual: 452\n",
      "📄 Artigo 'Reform and Effectiveness Assessment of Accounting Teaching in Colleges and Universities Based on Multi-source Data Mining' adicionado. Total atual: 453\n",
      "📄 Artigo 'The Educational Value and Implementation Strategies of Sports Data Mining Techniques in Physical Education Courses' adicionado. Total atual: 454\n",
      "📄 Artigo 'Data mining and neural network modeling for teaching and learning in vocational education: promoting innovation in academic management and teaching reforms' adicionado. Total atual: 455\n",
      "📄 Artigo 'Study on the Adjustment of Teaching Strategies and Tracking of Educational Effect of Youth Rule of Law Education Based on Big Data Analysis' adicionado. Total atual: 456\n",
      "📄 Artigo 'Mining Text Value in Japanese Translation Teaching Based on KH Coder Text Data' adicionado. Total atual: 457\n",
      "📄 Artigo 'Application of data mining model in English text writing training system' adicionado. Total atual: 458\n",
      "📄 Artigo 'Analysis and New Connotation of the Improvement Path of College Teachers’ Quality using Data Mining in the Perspective of Establishing Virtuous People' adicionado. Total atual: 459\n",
      "📄 Artigo 'A study on visualization of kindergarten teaching content assisted by big data technology' adicionado. Total atual: 460\n",
      "📄 Artigo 'Research on the Optimization Path of College Education and Teaching Based on Big Data Analysis' adicionado. Total atual: 461\n",
      "📄 Artigo 'Exploring the blended learning model of music teaching skills for teacher trainees based on teacher training professional certification in the context of big data' adicionado. Total atual: 462\n",
      "📄 Artigo 'Exploratory Study on the Path of Informatisation of Educational Management in Colleges and Universities under the Perspective of Intelligent Algorithm' adicionado. Total atual: 463\n"
     ]
    },
    {
     "name": "stderr",
     "output_type": "stream",
     "text": [
      "10:15:14 [INFO] semantic_scholar:   -> 19 artigos relevantes adicionados do cache para '\"mathematics teaching\" AND \"educational data mining\"'.\n",
      "10:15:14 [INFO] semantic_scholar: 🔎 Iniciando busca para: '\"mathematics teaching\" AND \"machine learning\"'\n",
      "10:15:14 [INFO] semantic_scholar: 📋 Carregando 20 artigos do cache para '\"mathematics teaching\" AND \"machine learning\"'\n"
     ]
    },
    {
     "name": "stdout",
     "output_type": "stream",
     "text": [
      "📄 Artigo 'Investigating the dialogic patterns of mathematics lessons in different stages of education' adicionado. Total atual: 464\n",
      "📄 Artigo 'Research on the Reform Path of Music Teaching in Colleges and Universities in the Era of Artificial Intelligence' adicionado. Total atual: 465\n",
      "📄 Artigo 'Optimization of Practical Path of Teaching Reform in Higher Education - Based on Distributed Logistic Model Application' adicionado. Total atual: 466\n",
      "📄 Artigo 'Innovation and Practice of Educational Management System of Colleges and Universities under the Concept of Internet+ Education' adicionado. Total atual: 467\n",
      "📄 Artigo 'The Optimization of Strategies for Precision Teaching Reform of Vocal Music Education in Colleges and Universities in the Framework of Information Technology' adicionado. Total atual: 468\n",
      "📄 Artigo 'Optimization of Teaching Path of Artificial Intelligence Programming Course in the Context of New Engineering Construction' adicionado. Total atual: 469\n",
      "📄 Artigo 'The Integration of Chinese Educational Teaching and Machine Learning Technologies in Cross-Cultural Exchange during the Late Qing and Early Republican Periods' adicionado. Total atual: 470\n",
      "📄 Artigo 'Teaching Computer Programming with Mathematics for Generating Digital Videos and Machine Learning Optimization' adicionado. Total atual: 471\n",
      "📄 Artigo 'Machine learning methods as auxiliary tool for effective mathematics teaching' adicionado. Total atual: 472\n",
      "📄 Artigo 'A Classification method of college mathematics MOOC teaching resources based on machine learning' adicionado. Total atual: 473\n",
      "📄 Artigo 'Research on Optimizing English Translation Teaching Methods for College Students Using Machine Learning Technology' adicionado. Total atual: 474\n",
      "📄 Artigo 'Research on the Interactive Enhancement Method of Teaching Ideological and Political Education in Colleges and Universities Based on Machine Learning' adicionado. Total atual: 475\n",
      "📄 Artigo 'Exploring strategies to improve the effectiveness of neurology ideology teaching team building using machine learning techniques' adicionado. Total atual: 476\n",
      "📄 Artigo 'Comparative Analysis of Adaptive Learning and Fast for Word Programs for ASD Students in Learning English, and Mathematics, and Predicting Future Academic Performance Using Machine Learning Algorithms' adicionado. Total atual: 477\n",
      "📄 Artigo 'Guiding Master Students in Computer Science to Value and Strive to Learn Mathematics through the Text Information Processing and Machine Translation Teaching' adicionado. Total atual: 478\n",
      "📄 Artigo 'The Relationship of Teacher Activity in the Teaching and Learning Process to Elementary Student Learning Outcomes Using Bootstrap Machine Learning' adicionado. Total atual: 479\n",
      "📄 Artigo 'Retracted: The Evaluation of Music Teaching in Colleges and Universities Based on Machine Learning' adicionado. Total atual: 480\n",
      "📄 Artigo 'Research on the Generation and Recommendation Algorithm of Civics Teaching Content for Engineering Management Course Based on Knowledge Graph and Machine Learning' adicionado. Total atual: 481\n",
      "📄 Artigo 'Research on the teaching quality evaluation of neural network machine learning algorithm' adicionado. Total atual: 482\n",
      "📄 Artigo 'Retracted: Teaching Quality Evaluation of Ideological and Political Courses in Colleges and Universities Based on Machine Learning' adicionado. Total atual: 483\n",
      "📄 Artigo 'Construction of a Machine Learning-based Model for Analyzing English Teaching and Learner Behavior' adicionado. Total atual: 484\n",
      "📄 Artigo 'Fuzzy mathematics and machine learning algorithms application in educational quality evaluation model' adicionado. Total atual: 485\n",
      "📄 Artigo 'Combining Statistical and Machine Learning Methods to Identify Predictors of Brazilian Students’ Proficiency in PISA 2018' adicionado. Total atual: 486\n"
     ]
    },
    {
     "name": "stderr",
     "output_type": "stream",
     "text": [
      "10:15:15 [INFO] semantic_scholar:   -> 20 artigos relevantes adicionados do cache para '\"mathematics teaching\" AND \"machine learning\"'.\n",
      "10:15:15 [INFO] semantic_scholar: 🔎 Iniciando busca para: '\"mathematics teaching\" AND \"artificial intelligence\"'\n",
      "10:15:15 [INFO] semantic_scholar: 📋 Carregando 20 artigos do cache para '\"mathematics teaching\" AND \"artificial intelligence\"'\n"
     ]
    },
    {
     "name": "stdout",
     "output_type": "stream",
     "text": [
      "📄 Artigo 'Machine Learning-Based English Learning Behaviour Pattern Recognition and Personalised Teaching Strategies for College Students' adicionado. Total atual: 487\n",
      "📄 Artigo 'Construction of Western Music Theory Teaching Model Based on Machine Learning' adicionado. Total atual: 488\n",
      "📄 Artigo 'Research on Optimizing Teaching Resource Allocation Strategies with Machine Learning Models for Intelligent English Teaching Systems' adicionado. Total atual: 489\n",
      "📄 Artigo 'Research on the Teaching of Discrete Mathematics Course in the Context of Talent Cultivation of Applied Big Data and Artificial Intelligence Professionals' adicionado. Total atual: 490\n",
      "📄 Artigo 'A Research of Activity Related to Convergence Teaching and Learning Methods Using Artificial Intelligence in Advanced Mathematics Courses for Gifted Students' adicionado. Total atual: 491\n",
      "📄 Artigo 'The impact of artificial intelligence and the future of ChatGPT for mathematics teaching and learning in schools and higher education' adicionado. Total atual: 492\n",
      "📄 Artigo 'A Review of use of Artificial Intelligence in Teaching and Learning of Mathematics' adicionado. Total atual: 493\n",
      "📄 Artigo 'تحليل ببليومتري ومراجعة منهجية لبحوث استخدام الذكاء الاصطناعي في تعليم الرياضيات وتعلمها A Bibliometric Analysis and a Systematic Review for Using Artificial Intelligence in Teaching and Learning Mathematics' adicionado. Total atual: 494\n",
      "📄 Artigo 'HARNESSING THE POWER OF ARTIFICIAL INTELLIGENCE IN MATHEMATICS EDUCATION: THE POTENTIAL OF PROBABILISTIC PROGRAMMING LANGUAGES IN THE TEACHING AND LEARNING OF BAYESIAN STATISTICS' adicionado. Total atual: 495\n",
      "📄 Artigo 'Navigating the Artificial Intelligence landscape: Implications for mathematics, science, and STEM teaching and learning' adicionado. Total atual: 496\n",
      "📄 Artigo 'USING ARTIFICIAL INTELLIGENCE IN MATHEMATICS TEACHING' adicionado. Total atual: 497\n",
      "📄 Artigo 'Effectiveness of Artificial Intelligence in Mathematics Teaching by Protus 2.1' adicionado. Total atual: 498\n",
      "📄 Artigo 'Use of Artificial Intelligence in High School Mathematics Teaching' adicionado. Total atual: 499\n",
      "📄 Artigo 'Exploring teaching and learning methods using artificial intelligence (AI) in the mathematics classroom: Focusing on the development of middle school statistic scenarios' adicionado. Total atual: 500\n",
      "📄 Artigo 'An Analysis of Elementary School Teachers\" Stages of Concern and Levels of Use about Artificial Intelligence Supported Elementary Mathematics Teaching System' adicionado. Total atual: 501\n",
      "📄 Artigo 'Overview of mathematics teaching services based on artificial intelligence in the training of future teachers' adicionado. Total atual: 502\n",
      "📄 Artigo 'Artificial Intelligence in Education: Mathematics Teachers’ Perspectives, Practices and Challenges' adicionado. Total atual: 503\n",
      "📄 Artigo 'Research on the Auxiliary System of University Mathematics Teaching Based on Computer Artificial Intelligence Technology' adicionado. Total atual: 504\n",
      "📄 Artigo 'Retracted: Effectiveness of Artificial Intelligence (AI) in Improving Pupils' Deep Learning in Primary School Mathematics Teaching in Fujian Province' adicionado. Total atual: 505\n",
      "📄 Artigo 'The Symbiosis between Artificial Intelligence and Secondary School Mathematics Teaching = La Simbiosis entre la Inteligencia Artificial y la Enseñanza de Matemáticas en la Escuela Secundaria' adicionado. Total atual: 506\n",
      "📄 Artigo 'Exploring the Application of Elementary Mathematics Supporting System using Artificial Intelligence in Teaching and Learning' adicionado. Total atual: 507\n",
      "📄 Artigo 'Effectiveness of Artificial Intelligence (AI) in Improving Pupils' Deep Learning in Primary School Mathematics Teaching in Fujian Province' adicionado. Total atual: 508\n"
     ]
    },
    {
     "name": "stderr",
     "output_type": "stream",
     "text": [
      "10:15:15 [INFO] semantic_scholar:   -> 20 artigos relevantes adicionados do cache para '\"mathematics teaching\" AND \"artificial intelligence\"'.\n",
      "10:15:15 [INFO] semantic_scholar: 🔎 Iniciando busca para: '\"mathematics teaching\" AND \"automated assessment\"'\n",
      "10:15:15 [INFO] semantic_scholar: 📋 Carregando 13 artigos do cache para '\"mathematics teaching\" AND \"automated assessment\"'\n"
     ]
    },
    {
     "name": "stdout",
     "output_type": "stream",
     "text": [
      "📄 Artigo 'Exploring elementary preservice teachers’ responsive teaching in mathematics through an artificial intelligence-based Chatbot' adicionado. Total atual: 509\n",
      "📄 Artigo 'Ten Good Reasons to Adopt an Automated Formative Assessment Model for Learning and Teaching Mathematics and Scientific Disciplines' adicionado. Total atual: 510\n",
      "📄 Artigo 'Automated Assessment in Mathematics' adicionado. Total atual: 511\n",
      "📄 Artigo 'FEATURES OF USING VBA IN TEACHING ACTUARIAL MATHEMATICS' adicionado. Total atual: 512\n",
      "📄 Artigo 'Innovative technologies for teaching higher mathematics using artificial intelligence (AI) to enhance the career prospects of future IT personnel' adicionado. Total atual: 513\n",
      "📄 Artigo 'ADAPTING STEM AUTOMATED ASSESSMENT SYSTEM TO ENHANCE LANGUAGE SKILLS' adicionado. Total atual: 514\n",
      "📄 Artigo 'Evaluation of Teaching Quality in Higher Mathematics Courses based on Artificial Neural Networks' adicionado. Total atual: 515\n",
      "📄 Artigo 'Automated Student Group Collaboration Assessment and Recommendation System Using Individual Role and Behavioral Cues' adicionado. Total atual: 516\n",
      "📄 Artigo 'Research on the Teaching Reform Path of Automotive Service Engineering Based on Artificial Intelligence Application' adicionado. Total atual: 517\n"
     ]
    },
    {
     "name": "stderr",
     "output_type": "stream",
     "text": [
      "10:15:15 [INFO] semantic_scholar:   -> 13 artigos relevantes adicionados do cache para '\"mathematics teaching\" AND \"automated assessment\"'.\n",
      "10:15:15 [INFO] semantic_scholar: 🔎 Iniciando busca para: '\"mathematics teaching\" AND \"competency identification\"'\n",
      "10:15:15 [INFO] semantic_scholar: 📋 Carregando 9 artigos do cache para '\"mathematics teaching\" AND \"competency identification\"'\n"
     ]
    },
    {
     "name": "stdout",
     "output_type": "stream",
     "text": [
      "📄 Artigo 'Investigating Bloom's Learning for Mastery in Mathematics with Online Assessment' adicionado. Total atual: 518\n",
      "📄 Artigo 'Computer Aided Assessment of Mathematics Using STACK' adicionado. Total atual: 519\n",
      "📄 Artigo 'Specific Mathematics Assessments that Reveal Thinking: An Online Tool to Build Teachers’ Diagnostic Competence and Support Teaching' adicionado. Total atual: 520\n",
      "📄 Artigo 'MAATSE: Prototyping and Evaluating an Open and Modular E-Assessment Tool for STEM Education' adicionado. Total atual: 521\n",
      "📄 Artigo 'A Systematic Review on Data Mining for Mathematics and Science Education' adicionado. Total atual: 522\n",
      "📄 Artigo 'Research on the application mode of information technology in the course of deepening design of assembled concrete structures using OBE-CDIO as a framework' adicionado. Total atual: 523\n",
      "📄 Artigo 'Metodología de enseñanza en centros eficaces de la Comunidad Autónoma del País Vasco' adicionado. Total atual: 524\n",
      "📄 Artigo 'Ambient Intelligence and e-Learning' adicionado. Total atual: 525\n",
      "📄 Artigo 'Development of professional competencies of future technical university specialists through professionally-oriented teaching of mathematics' adicionado. Total atual: 526\n",
      "📄 Artigo 'Correlates of Ghanaian Teachers' Understanding of Mathematics Strands and Cognitive Domains in Basic Education Certificate Examination' adicionado. Total atual: 527\n"
     ]
    },
    {
     "name": "stderr",
     "output_type": "stream",
     "text": [
      "10:15:16 [INFO] semantic_scholar:   -> 9 artigos relevantes adicionados do cache para '\"mathematics teaching\" AND \"competency identification\"'.\n",
      "10:15:16 [INFO] semantic_scholar: 🔎 Iniciando busca para: '\"mathematics teaching\" AND \"student modeling\"'\n"
     ]
    },
    {
     "name": "stdout",
     "output_type": "stream",
     "text": [
      "📄 Artigo 'Cognitive Technologies as the Tools for Improving the Quality of Learning and Developing Thinking in Mathematics Education' adicionado. Total atual: 528\n",
      "📄 Artigo 'IMPROVING THE METHODOLOGICAL SYSTEM OF TEACHING PHYSICS IN THE PROFESSIONAL TRAINING OF FILM ENGINEERS' adicionado. Total atual: 529\n",
      "📄 Artigo 'Developing teachers’ PCK about STEM teaching approach through the implementation of design research' adicionado. Total atual: 530\n",
      "📄 Artigo 'Teacher Analysis in Mathematics Learning Planning for Class XI MA Al Ikhlas Tinabogan' adicionado. Total atual: 531\n"
     ]
    },
    {
     "name": "stderr",
     "output_type": "stream",
     "text": [
      "10:15:16 [INFO] semantic_scholar: 📋 Carregando 9 artigos do cache para '\"mathematics teaching\" AND \"student modeling\"'\n"
     ]
    },
    {
     "name": "stdout",
     "output_type": "stream",
     "text": [
      "📄 Artigo 'Student Profile Modeling Using Boosting Algorithms' adicionado. Total atual: 532\n",
      "📄 Artigo 'Mathematical Modeling as a Catalyst for Equitable Mathematics Instruction: Preparing Teachers and Young Learners with 21st Century Skills' adicionado. Total atual: 533\n",
      "📄 Artigo 'Assessment of teaching to predict gains in student achievement in urban schools.' adicionado. Total atual: 534\n",
      "📄 Artigo 'From Modern Teaching to Mathematics Achievement: The Mediating Role of Mathematics Attitude, Achievement Motivation, and Self-Efficacy' adicionado. Total atual: 535\n",
      "📄 Artigo 'An Intelligent Recommendation System for Automating Academic Advising Based on Curriculum Analysis and Performance Modeling' adicionado. Total atual: 536\n",
      "📄 Artigo 'Teaching using moodle in mathematics education' adicionado. Total atual: 537\n",
      "📄 Artigo 'Instructional Practices in Developmental Mathematics: A Multilevel Analysis of Community College Student Perceptions' adicionado. Total atual: 538\n",
      "📄 Artigo 'The Effect of Teaching quality and teaching practices on PISA 2012 Mathematics Achievement of Turkish Students' adicionado. Total atual: 539\n",
      "📄 Artigo 'A Comparative Examination of Student Teacher and Intern Perceptions of Teaching Ability at the Preservice and Inservice Stages' adicionado. Total atual: 540\n"
     ]
    },
    {
     "name": "stderr",
     "output_type": "stream",
     "text": [
      "10:15:16 [INFO] semantic_scholar:   -> 9 artigos relevantes adicionados do cache para '\"mathematics teaching\" AND \"student modeling\"'.\n",
      "10:15:16 [INFO] semantic_scholar: 🔎 Iniciando busca para: '\"mathematics teaching\" AND \"predictive analytics\"'\n",
      "10:15:16 [INFO] semantic_scholar: 📋 Carregando 17 artigos do cache para '\"mathematics teaching\" AND \"predictive analytics\"'\n"
     ]
    },
    {
     "name": "stdout",
     "output_type": "stream",
     "text": [
      "📄 Artigo 'A Study on the Learning Effectiveness and Behavioural Association of Predictive Analytics in English Teaching in Higher Education' adicionado. Total atual: 541\n",
      "📄 Artigo 'Predictive Analytics on Academic Performance in Higher Education Institution during COVID-19 using Regression Model' adicionado. Total atual: 542\n",
      "📄 Artigo 'PREDICTIVE ANALYTICS IN MOOCS: A-REVIEW' adicionado. Total atual: 543\n",
      "📄 Artigo 'Identifying At-risk Students from Course-specific Predictive Analytics' adicionado. Total atual: 544\n",
      "📄 Artigo 'A Predictive Model for Students’ Performance and Risk Level Indicators Using Machine Learning' adicionado. Total atual: 545\n",
      "📄 Artigo 'Integration of learning analytics in blended learning course at a University of Technology' adicionado. Total atual: 546\n",
      "📄 Artigo 'Introducing Prescriptive and Predictive Analytics to MBA Students with Microsoft Excel' adicionado. Total atual: 547\n",
      "📄 Artigo 'Learning mathematics in the new norms caused by digital game-based learning and learning analytics' adicionado. Total atual: 548\n",
      "📄 Artigo 'Research on educational applications based on diagnostic learning analytics in the context of big data analytics' adicionado. Total atual: 549\n",
      "📄 Artigo 'Opportunities to learn ambitious mathematics teaching from co-planning instruction' adicionado. Total atual: 550\n",
      "📄 Artigo 'Learning Analytics in Mathematics: A Systematic Review' adicionado. Total atual: 551\n",
      "📄 Artigo 'Predictive Modeling for Engineering Student Performance Forecasting and Course Correction' adicionado. Total atual: 552\n",
      "📄 Artigo 'Fundamentals of Machine Learning for Predictive Data Analytics: Algorithms, Worked Examples, and Case Studies' adicionado. Total atual: 553\n",
      "📄 Artigo 'Research on the Optimization Path of College Education and Teaching Based on Big Data Analysis' adicionado. Total atual: 554\n",
      "📄 Artigo 'Towards Improving Mathematics Learning Using the Deep Learning Models' adicionado. Total atual: 555\n",
      "📄 Artigo 'Exploration and Practice of English Civics Teaching Design in Colleges and Universities Based on Big Data Analysis' adicionado. Total atual: 556\n"
     ]
    },
    {
     "name": "stderr",
     "output_type": "stream",
     "text": [
      "10:15:16 [INFO] semantic_scholar:   -> 17 artigos relevantes adicionados do cache para '\"mathematics teaching\" AND \"predictive analytics\"'.\n",
      "10:15:16 [INFO] semantic_scholar: 🔎 Iniciando busca para: '\"educação matemática\" AND \"adaptive learning\"'\n",
      "10:15:16 [INFO] semantic_scholar: 📋 Carregando 15 artigos do cache para '\"educação matemática\" AND \"adaptive learning\"'\n"
     ]
    },
    {
     "name": "stdout",
     "output_type": "stream",
     "text": [
      "📄 Artigo 'PECULIARITIES OF TEACHING HIGHER MATHEMATICS TO ECOLOGY SPECIALITY STUDENTS' adicionado. Total atual: 557\n",
      "📄 Artigo 'Em busca de compreensões sobre os objetos de aprendizagem na educação matemática por meio de uma revisão sistemática de literaturaIn search of understanding about learning objects in mathematics education through a systematic literature review' adicionado. Total atual: 558\n",
      "📄 Artigo 'Jogos e educação matemática: uma revisão sistemática sobre o uso de jogos nos anos iniciais do ensino fundamental' adicionado. Total atual: 559\n",
      "📄 Artigo 'Textos históricos do antigo Egito para o ensino de conteúdos de matemática na educação básica / Ancient Egyptian historical texts for teaching mathematics content in basic education' adicionado. Total atual: 560\n",
      "📄 Artigo 'Uma reflexão sobre pesquisas em Educação Matemática e Educação de Surdos' adicionado. Total atual: 561\n",
      "📄 Artigo 'Mapeamento sistemático das pesquisas realizadas nos programas de mestrado profissional que versam sobre a aprendizagem matemática na educação infantil' adicionado. Total atual: 562\n"
     ]
    },
    {
     "name": "stderr",
     "output_type": "stream",
     "text": [
      "10:15:17 [INFO] semantic_scholar:   -> 15 artigos relevantes adicionados do cache para '\"educação matemática\" AND \"adaptive learning\"'.\n",
      "10:15:17 [INFO] semantic_scholar: 🔎 Iniciando busca para: '\"educação matemática\" AND \"personalized learning\"'\n",
      "10:15:17 [INFO] semantic_scholar: 📋 Carregando 2 artigos do cache para '\"educação matemática\" AND \"personalized learning\"'\n",
      "10:15:17 [INFO] semantic_scholar:   -> 2 artigos relevantes adicionados do cache para '\"educação matemática\" AND \"personalized learning\"'.\n",
      "10:15:17 [INFO] semantic_scholar: 🔎 Iniciando busca para: '\"educação matemática\" AND \"intelligent tutoring systems\"'\n",
      "10:15:17 [INFO] semantic_scholar: 📋 Carregando 9 artigos do cache para '\"educação matemática\" AND \"intelligent tutoring systems\"'\n"
     ]
    },
    {
     "name": "stdout",
     "output_type": "stream",
     "text": [
      "📄 Artigo 'O Uso das Metodologias Ativas nas Áreas de Matemática e Ciência da Computação: um Mapeamento Sistemático da Literatura' adicionado. Total atual: 563\n",
      "📄 Artigo 'O “Big Data” – Possibilidades e Contribuições de Pesquisas Recentes para o Ensino e Aprendizagem de Matemática' adicionado. Total atual: 564\n",
      "📄 Artigo 'A DIFICULDADE DO ALUNO DE ENSINO SUPERIOR COM O APRENDIZADO DA MATEMÁTICA' adicionado. Total atual: 565\n",
      "📄 Artigo 'Desafios no Processo de Inclusão Digital no Ensino de Matemática em Escolas Públicas: Um Relato de Experiência do Projeto InfoMat' adicionado. Total atual: 566\n",
      "📄 Artigo 'O ensino híbrido como instrumento de recuperação paralela no Instituto Federal de Educação, Ciência e Tecnologia de São Paulo' adicionado. Total atual: 567\n",
      "📄 Artigo 'Avaliação do Impacto de Ambientes Virtuais na Percepção de Competências de Aprendizagem no Ensino de Ciências e das Expressões Físico-Motoras/ Evaluation of Virtual Environments Impact in the Perception of Learning Skills in Science Education and Physical' adicionado. Total atual: 568\n",
      "📄 Artigo 'Intervenção em Turmas de Jovens e Adultos numa Escola da Rede Pública do Recife, Multidisciplinaridade e Uso da Ferramenta Blockly Games: Um Relato de Experiência' adicionado. Total atual: 569\n",
      "📄 Artigo 'JOGO MEMÓRIA DAS EQUAÇÕES: ATIVIDADES DE ENSINO' adicionado. Total atual: 570\n",
      "📄 Artigo 'Um Plugin para Aprendizagem de Lógica e Programação no Portugol Studio Baseado em Sistemas Adaptativos com Trilhas de Aprendizagem' adicionado. Total atual: 571\n",
      "📄 Artigo 'Estratégias matemáticas de estudantes com síndrome de Down diante de situações do Campo Conceitual Aditivo (Student’s mathematical strategies with Down syndrome in face of Additive Conceptual Field situations)' adicionado. Total atual: 572\n",
      "📄 Artigo 'O ensino híbrido como instrumento de recuperação paralela no Instituto Federal de Educação, Ciência e Tecnologia de São Paulo' adicionado. Total atual: 573\n",
      "📄 Artigo 'Avaliando ambientes para ensino de programação com suporte para o desenvolvimento da metacognição' adicionado. Total atual: 574\n",
      "📄 Artigo 'Perspectiva de discentes do curso de Pedagogia sobre a tutoria e interação na EAD (Perspective of students from the Pedagogy course on tutoring and interaction in EAD)' adicionado. Total atual: 575\n",
      "📄 Artigo 'Trajetórias personalizáveis como estratégia para diminuir o abandono estudantil na Educação Superior a Distância / Customizable trajectories as a strategy to reduce student dropout in Higher Distance Education' adicionado. Total atual: 576\n",
      "📄 Artigo 'ARTIFICIAL INTELLIGENCE AND DEEPFAKE LEARNING IN HIGHER EDUCATION' adicionado. Total atual: 577\n",
      "📄 Artigo 'Mejorando el aprovechamiento de las actividades colaborativas por pares de estudiantes utilizando tecnología educativa en matemática' adicionado. Total atual: 578\n",
      "📄 Artigo 'STI - Lógica Livre: uma ferramenta para auxiliar a aprendizagem de equivalência lógica no âmbito da educação superior' adicionado. Total atual: 579\n",
      "📄 Artigo 'Uso de Inteligência Artificial em Sistemas de Tutores Inteligentes' adicionado. Total atual: 580\n",
      "📄 Artigo 'Inteligência Coletiva como ferramenta de apoio na construção de Loops Internos em Sistemas Tutores Inteligentes' adicionado. Total atual: 581\n",
      "📄 Artigo 'Um dashboard educacional para um sistema tutor baseado em passos' adicionado. Total atual: 582\n"
     ]
    },
    {
     "name": "stderr",
     "output_type": "stream",
     "text": [
      "10:15:17 [INFO] semantic_scholar:   -> 9 artigos relevantes adicionados do cache para '\"educação matemática\" AND \"intelligent tutoring systems\"'.\n",
      "10:15:17 [INFO] semantic_scholar: 🔎 Iniciando busca para: '\"educação matemática\" AND \"learning analytics\"'\n",
      "10:15:17 [INFO] semantic_scholar: 📋 Carregando 10 artigos do cache para '\"educação matemática\" AND \"learning analytics\"'\n",
      "10:15:17 [INFO] semantic_scholar:   -> 10 artigos relevantes adicionados do cache para '\"educação matemática\" AND \"learning analytics\"'.\n",
      "10:15:17 [INFO] semantic_scholar: 🔎 Iniciando busca para: '\"educação matemática\" AND \"educational data mining\"'\n",
      "10:15:17 [INFO] semantic_scholar: 📋 Carregando 16 artigos do cache para '\"educação matemática\" AND \"educational data mining\"'\n"
     ]
    },
    {
     "name": "stdout",
     "output_type": "stream",
     "text": [
      "📄 Artigo 'Detecção Automática e Dinâmica de Memória de Trabalho utilizando Q-Learning e Média Móvel Exponencialmente Ponderada' adicionado. Total atual: 583\n",
      "📄 Artigo 'Aplicações de game learning analytics na abordagem sobre conceitos de matemática' adicionado. Total atual: 584\n",
      "📄 Artigo 'Atividade de Programação Computacional para a Aprendizagem de Matemática na Educação Básica' adicionado. Total atual: 585\n",
      "📄 Artigo 'Aspectos metodológicos da pesquisa em Educação Matemática: rumos e perspectivasMethodological aspects of research in Mathematics Education: directions and perspectives' adicionado. Total atual: 586\n",
      "📄 Artigo 'Educação matemática e educação técnica agrícola na década de 1980Mathematics education and technical agricultural education in the 1980s' adicionado. Total atual: 587\n",
      "📄 Artigo 'Educação matemática realística: uma abordagem teórico-metodológica para o ensino de matemática nas escolas do campo' adicionado. Total atual: 588\n",
      "📄 Artigo 'Conhecimentos mobilizados por professores que ensinam matemática e o conceito de função na educação básica (Mobilized knowledge by teachers who teach mathematics and the concept of function in basic education)' adicionado. Total atual: 589\n",
      "📄 Artigo 'Conhecimento Especializado do Professor de Matemática em Dissertações e Teses Brasileiras' adicionado. Total atual: 590\n",
      "📄 Artigo 'A APRENDIZAGEM MATEMÁTICA DE SURDOS: enunciados que circulam nos Cadernos Cedes' adicionado. Total atual: 591\n",
      "📄 Artigo 'Statistical Education: An Analytical and Critical Look at Theses and Dissertations of the GPEE' adicionado. Total atual: 592\n",
      "📄 Artigo 'O potencial de um estudo piloto na pesquisa qualitativa (The potential of a pilot study in qualitative research)' adicionado. Total atual: 593\n",
      "📄 Artigo 'Predição do desempenho de Matemática e Suas Tecnologias do ENEM utilizando técnicas de Mineração De Dados' adicionado. Total atual: 594\n",
      "📄 Artigo 'Game Learning Analytics como Artefato Avaliativo Sobre o Conceito de Probabilidade' adicionado. Total atual: 595\n",
      "📄 Artigo 'Análise de Agrupamento Pelos Métodos Hierárquico e Particional, Utilizados para Educational Data Mining em Dados de Educação a Distância.' adicionado. Total atual: 596\n",
      "📄 Artigo 'Retracted: Enhancement of Predicting Students Performance Model Using Ensemble Approaches and Educational Data Mining Techniques' adicionado. Total atual: 597\n",
      "📄 Artigo 'Retracted: Educational Data Mining by Optimally Fusing Shallow and Deep Features' adicionado. Total atual: 598\n",
      "📄 Artigo 'Retracted: Effective Graph Mining for Educational Data Mining and Interest Recommendation' adicionado. Total atual: 599\n",
      "📄 Artigo 'Retratos de (ausências de) práticas educativas utilizando TDIC em aulas de Matemática na Educação Básica (Portraits of (absence of) educational practices using TDIC in Mathematics classes in Basic Education)' adicionado. Total atual: 600\n",
      "📄 Artigo 'Retracted: Teaching Mode Based on Educational Big Data Mining and Digital Twins' adicionado. Total atual: 601\n",
      "📄 Artigo 'Educação Inclusiva e seus Significados: a Percepção dos(as) Professores(as) de Matemática no Município de Porangatu (GO)' adicionado. Total atual: 602\n",
      "📄 Artigo 'Panorama das pesquisas envolvendo práticas pedagógicas em Matemática na Educação de Jovens e Adultos/Overview of research involving educational practices in mathematics education in youth and adults' adicionado. Total atual: 603\n",
      "📄 Artigo 'Projetos na escola e o protagonismo da criança: diálogo com Reggio Emilia e a Educação Matemática Crítica' adicionado. Total atual: 604\n",
      "📄 Artigo 'Ensino-aprendizagem de (noções) matemática(s) na educação infantil: um panorama de estudos recentes' adicionado. Total atual: 605\n",
      "📄 Artigo 'O Programa Residência Pedagógica Ciências da Natureza e Matemática (Ledoc/UFMA): potencializar concepções teóricas e metodológicas do paradigma da Educação do Campo em escolas públicas maranhenses' adicionado. Total atual: 606\n",
      "📄 Artigo 'Práticas Efetivas em Educação Matemática no contexto de um banco comunitário' adicionado. Total atual: 607\n"
     ]
    },
    {
     "name": "stderr",
     "output_type": "stream",
     "text": [
      "10:15:17 [INFO] semantic_scholar:   -> 16 artigos relevantes adicionados do cache para '\"educação matemática\" AND \"educational data mining\"'.\n",
      "10:15:17 [INFO] semantic_scholar: 🔎 Iniciando busca para: '\"educação matemática\" AND \"machine learning\"'\n",
      "10:15:17 [INFO] semantic_scholar: 📋 Carregando 3 artigos do cache para '\"educação matemática\" AND \"machine learning\"'\n",
      "10:15:17 [INFO] semantic_scholar:   -> 3 artigos relevantes adicionados do cache para '\"educação matemática\" AND \"machine learning\"'.\n",
      "10:15:17 [INFO] semantic_scholar: 🔎 Iniciando busca para: '\"educação matemática\" AND \"artificial intelligence\"'\n",
      "10:15:17 [INFO] semantic_scholar: ☁️ Cache não encontrado ou vazio para '\"educação matemática\" AND \"artificial intelligence\"'. Buscando na API...\n"
     ]
    },
    {
     "name": "stdout",
     "output_type": "stream",
     "text": [
      "📄 Artigo 'PRIVAÇÃO DE LIBERDADE E TECNOLOGIAS DIGITAIS DE INFORMAÇÃO E COMUNICAÇÃO: DESAFIOS PARA A PRÁTICA PEDAGÓGICA E FORMAÇÃO DE PROFESSORES DE MATEMÁTICA NA EJA DE SANTA CATARINA' adicionado. Total atual: 608\n",
      "📄 Artigo 'Diversidade, investigação e emancipação humana como princípios da formação de professores de Matemática em cursos de licenciatura em Educação do CampoDiversity, research and human emancipation as principles of mathematics teacher education in degree courses in field education' adicionado. Total atual: 609\n",
      "📄 Artigo 'Classificação Automática de Questões Problema de Matemática para Aplicações do Pensamento Computacional na Educação' adicionado. Total atual: 610\n",
      "📄 Artigo 'Mineração dos Perfis Acadêmico e Socioeconômico de Estudantes do 3º Ano do Ensino Médio da Rede Pública de Pernambuco, com Base nos Questionários da Avaliação Nacional da Educação Básica (ANEB)' adicionado. Total atual: 611\n",
      "📄 Artigo 'Uma experiência de organização e desenvolvimento curricular com Pedagogia de Projetos (Organization and curriculum development through Project - Based Learning)' adicionado. Total atual: 612\n"
     ]
    },
    {
     "name": "stderr",
     "output_type": "stream",
     "text": [
      "10:15:19 [ERROR] semantic_scholar: Erro ao converter item SemanticScholar para Paper: can only join an iterable - Item: {'paperId': 'dc348f193cafade9faf54f554b23f601bc0c96b8', 'url': 'https://www.semanticscholar.org/paper/dc348f193cafade9faf54f554b23f601bc0c96b8', 'title': 'Possibilidades de uso da inteligência artific\n",
      "10:15:19 [INFO] semantic_scholar: ℹ️ Nenhum artigo relevante encontrado na API para '\"educação matemática\" AND \"artificial intelligence\"' (3 descartados de 3 processados).\n",
      "10:15:19 [INFO] semantic_scholar: 🔎 Iniciando busca para: '\"educação matemática\" AND \"automated assessment\"'\n",
      "10:15:19 [INFO] semantic_scholar: ☁️ Cache não encontrado ou vazio para '\"educação matemática\" AND \"automated assessment\"'. Buscando na API...\n",
      "10:15:19 [INFO] semantic_scholar: ℹ️ Nenhum resultado retornado pela API para '\"educação matemática\" AND \"automated assessment\"'.\n",
      "10:15:19 [INFO] semantic_scholar: 🔎 Iniciando busca para: '\"educação matemática\" AND \"competency identification\"'\n",
      "10:15:19 [INFO] semantic_scholar: 📋 Carregando 1 artigos do cache para '\"educação matemática\" AND \"competency identification\"'\n",
      "10:15:19 [INFO] semantic_scholar:   -> 1 artigos relevantes adicionados do cache para '\"educação matemática\" AND \"competency identification\"'.\n",
      "10:15:19 [INFO] semantic_scholar: 🔎 Iniciando busca para: '\"educação matemática\" AND \"student modeling\"'\n",
      "10:15:19 [INFO] semantic_scholar: 📋 Carregando 9 artigos do cache para '\"educação matemática\" AND \"student modeling\"'\n"
     ]
    },
    {
     "name": "stdout",
     "output_type": "stream",
     "text": [
      "📄 Artigo 'Competências de matemática e de literacia emergente: Estudo correlacional' adicionado. Total atual: 613\n",
      "📄 Artigo 'Avaliação em atividades com Modelagem Matemática na Educação Matemática: uma proposta de instrumentoAssessment in practices with mathematical modeling in mathematics education: A proposal of an assessment tool' adicionado. Total atual: 614\n",
      "📄 Artigo 'Modelagem Matemática e Programação de Computadores: uma Possibilidade para a Construção de Conhecimento na Educação BásicaMathematical Modeling and Computer Programming: a Possibility for the Construction of Knowledge in Basic Education' adicionado. Total atual: 615\n",
      "📄 Artigo 'A Licenciatura em Educação do Campo e a formação de professor na Área de Matemática' adicionado. Total atual: 616\n",
      "📄 Artigo 'Educação matemática realística: uma abordagem teórico-metodológica para o ensino de matemática nas escolas do campo' adicionado. Total atual: 617\n",
      "📄 Artigo 'O uso de impressora 3D na inclusão de deficientes visuais na educação matemática' adicionado. Total atual: 618\n",
      "📄 Artigo 'Modelagem na Educação Matemática para o desenvolvimento de conceitos de Análise Combinatória' adicionado. Total atual: 619\n",
      "📄 Artigo 'EDUCAÇÃO AMBIENTAL MEDIANTE A MODELAGEM MATEMÁTICA DE RESÍDUOS SÓLIDOS PARA A SUPERAÇÃO DA CONSCIÊNCIA INGÊNUA' adicionado. Total atual: 620\n",
      "📄 Artigo 'Modelagem matemática e educação ambiental: desenvolvimento de fichas ambientais para aplicação no ensino básico' adicionado. Total atual: 621\n"
     ]
    },
    {
     "name": "stderr",
     "output_type": "stream",
     "text": [
      "10:15:20 [INFO] semantic_scholar:   -> 9 artigos relevantes adicionados do cache para '\"educação matemática\" AND \"student modeling\"'.\n",
      "10:15:20 [INFO] semantic_scholar: 🔎 Iniciando busca para: '\"educação matemática\" AND \"predictive analytics\"'\n",
      "10:15:20 [INFO] semantic_scholar: ☁️ Cache não encontrado ou vazio para '\"educação matemática\" AND \"predictive analytics\"'. Buscando na API...\n"
     ]
    },
    {
     "name": "stdout",
     "output_type": "stream",
     "text": [
      "📄 Artigo 'Contribuições da tecnologia na construção de uma educação inclusiva: o trabalho com um aluno deficiente visual nas aulas de Matemática' adicionado. Total atual: 622\n"
     ]
    },
    {
     "name": "stderr",
     "output_type": "stream",
     "text": [
      "10:15:21 [INFO] semantic_scholar: ℹ️ Nenhum resultado retornado pela API para '\"educação matemática\" AND \"predictive analytics\"'.\n",
      "10:15:21 [INFO] semantic_scholar: 🔎 Iniciando busca para: '\"ensino de matemática\" AND \"adaptive learning\"'\n",
      "10:15:21 [INFO] semantic_scholar: 📋 Carregando 16 artigos do cache para '\"ensino de matemática\" AND \"adaptive learning\"'\n"
     ]
    },
    {
     "name": "stdout",
     "output_type": "stream",
     "text": [
      "📄 Artigo 'Ludicidade e o ensino de Matemática: jogos, brincadeiras e dinâmicas' adicionado. Total atual: 623\n",
      "📄 Artigo 'O laboratório de ensino de matemática: estruturação, organização e contribuições no processo de ensino e de aprendizagem / The mathematics teaching laboratory: structuring, organization, and contributions to the teaching and learning process' adicionado. Total atual: 624\n",
      "📄 Artigo 'Planejar para realizar: um olhar inclusivo para o ensino de Matemática para estudantes surdos' adicionado. Total atual: 625\n",
      "📄 Artigo 'Abrindo uma Caixa-Preta: as Tecnologias Digitais como Atores Protagonistas no Ensino de Matemática' adicionado. Total atual: 626\n",
      "📄 Artigo 'Guia de Elaboração/Uso de Sequências Didáticas para o Ensino de Matemática' adicionado. Total atual: 627\n",
      "📄 Artigo 'Jogo digital para aprendizagem dos números e das operações básicas de matemática para os anos iniciais do ensino fundamental / Digital game for learning numbers and basic mathematics operations for the early years of elementary school' adicionado. Total atual: 628\n",
      "📄 Artigo 'Aspectos do ensino de Matemática nos Ginásios Vocacionais paulistas: integração de disciplinas e Matemática ModernaTeaching and learning Math in the Vocational Gymnasiums: some remarks on curricular integration and New Math Movement' adicionado. Total atual: 629\n",
      "📄 Artigo 'Possibilidades de uso didático do artefato mesopotâmico BM 13901 no ensino de Matemática' adicionado. Total atual: 630\n",
      "📄 Artigo 'Atividades Lúdicas no Ensino de Matemática: Contribuições Teóricas da Psicologia Histórico-Cultural' adicionado. Total atual: 631\n",
      "📄 Artigo 'A TEORIA DO MOBILE LEARNING E O ENSINO DE MATEMÁTICA EM ARTIGOS INTERNACIONAIS E TESES DEFENDIDAS EM UNIVERSIDADES BRASILEIRAS: UMA REVISÃO SISTEMÁTICA' adicionado. Total atual: 632\n",
      "📄 Artigo 'As Tecnologias Digitais de Informação e Comunicação e o Ensino-aprendizagem de Matemática: uma Revisão IntegrativaThe Digital Technologies of Information and Communication and the Teaching-learning of Mathematics: an Integrative Review' adicionado. Total atual: 633\n",
      "📄 Artigo 'A METODOLOGIA ATIVA TEAM BASED LEARNING (TBL) E SUAS CONTRIBUIÇÕES PARA O ENSINO/APRENDIZAGEM DE MATEMÁTICA' adicionado. Total atual: 634\n",
      "📄 Artigo 'Textos históricos do antigo Egito para o ensino de conteúdos de matemática na educação básica / Ancient Egyptian historical texts for teaching mathematics content in basic education' adicionado. Total atual: 635\n",
      "📄 Artigo 'uso dos aplicativos Photomath e Toon Math no ensino de matemática' adicionado. Total atual: 636\n",
      "📄 Artigo 'ANÁLISE DAS PRINCIPAIS METODOLOGIAS ATIVAS UTILIZADAS NO ENSINO DE MATEMÁTICA NA EDUCAÇÃO BÁSICA: UM ESTUDO BIBLIOGRÁFICO' adicionado. Total atual: 637\n"
     ]
    },
    {
     "name": "stderr",
     "output_type": "stream",
     "text": [
      "10:15:21 [INFO] semantic_scholar:   -> 16 artigos relevantes adicionados do cache para '\"ensino de matemática\" AND \"adaptive learning\"'.\n",
      "10:15:21 [INFO] semantic_scholar: 🔎 Iniciando busca para: '\"ensino de matemática\" AND \"personalized learning\"'\n",
      "10:15:21 [INFO] semantic_scholar: 📋 Carregando 18 artigos do cache para '\"ensino de matemática\" AND \"personalized learning\"'\n"
     ]
    },
    {
     "name": "stdout",
     "output_type": "stream",
     "text": [
      "📄 Artigo 'Robótica Educacional e o ensino de Matemática' adicionado. Total atual: 638\n",
      "📄 Artigo 'Ludicidade e o ensino de Matemática: jogos, brincadeiras e dinâmicas' adicionado. Total atual: 639\n",
      "📄 Artigo 'OS DESAFIOS NO ENSINO DE MATEMÁTICA PARA ALUNOS COM DEFICIÊNCIA AUDITIVA' adicionado. Total atual: 640\n",
      "📄 Artigo 'O laboratório de ensino de matemática: estruturação, organização e contribuições no processo de ensino e de aprendizagem / The mathematics teaching laboratory: structuring, organization, and contributions to the teaching and learning process' adicionado. Total atual: 641\n",
      "📄 Artigo 'Guia de Elaboração/Uso de Sequências Didáticas para o Ensino de Matemática' adicionado. Total atual: 642\n",
      "📄 Artigo 'ENSINO DE MATEMÁTICA E CIÊNCIAS NO FUNDAMENTAL I: ESTRATÉGIAS DE INCLUSÃO E INTEGRAÇÃO' adicionado. Total atual: 643\n",
      "📄 Artigo 'O USO DO PHOTOMATH NA FORMAÇÃO DE PROFESSORES E SUAS IMPLICAÇÕES NO ENSINO DE MATEMÁTICA' adicionado. Total atual: 644\n",
      "📄 Artigo 'Produção de Vídeos no Ensino de Matemática: Repercussões para a Aprendizagem de Estudantes dos Anos Finais do Ensino Fundamental' adicionado. Total atual: 645\n",
      "📄 Artigo 'Planejar para realizar: um olhar inclusivo para o ensino de Matemática para estudantes surdos' adicionado. Total atual: 646\n",
      "📄 Artigo 'Abrindo uma Caixa-Preta: as Tecnologias Digitais como Atores Protagonistas no Ensino de Matemática' adicionado. Total atual: 647\n",
      "📄 Artigo 'Jogo digital para aprendizagem dos números e das operações básicas de matemática para os anos iniciais do ensino fundamental / Digital game for learning numbers and basic mathematics operations for the early years of elementary school' adicionado. Total atual: 648\n",
      "📄 Artigo 'Aspectos do ensino de Matemática nos Ginásios Vocacionais paulistas: integração de disciplinas e Matemática ModernaTeaching and learning Math in the Vocational Gymnasiums: some remarks on curricular integration and New Math Movement' adicionado. Total atual: 649\n",
      "📄 Artigo 'O ensino da matemática associada à aplicabilidade do software geogebra (software de matemática)' adicionado. Total atual: 650\n",
      "📄 Artigo 'Atividades Lúdicas no Ensino de Matemática: Contribuições Teóricas da Psicologia Histórico-Cultural' adicionado. Total atual: 651\n",
      "📄 Artigo 'A TEORIA DO MOBILE LEARNING E O ENSINO DE MATEMÁTICA EM ARTIGOS INTERNACIONAIS E TESES DEFENDIDAS EM UNIVERSIDADES BRASILEIRAS: UMA REVISÃO SISTEMÁTICA' adicionado. Total atual: 652\n",
      "📄 Artigo 'Possibilidades de uso didático do artefato mesopotâmico BM 13901 no ensino de Matemática' adicionado. Total atual: 653\n"
     ]
    },
    {
     "name": "stderr",
     "output_type": "stream",
     "text": [
      "10:15:22 [INFO] semantic_scholar:   -> 18 artigos relevantes adicionados do cache para '\"ensino de matemática\" AND \"personalized learning\"'.\n",
      "10:15:22 [INFO] semantic_scholar: 🔎 Iniciando busca para: '\"ensino de matemática\" AND \"intelligent tutoring systems\"'\n",
      "10:15:22 [INFO] semantic_scholar: 📋 Carregando 8 artigos do cache para '\"ensino de matemática\" AND \"intelligent tutoring systems\"'\n"
     ]
    },
    {
     "name": "stdout",
     "output_type": "stream",
     "text": [
      "📄 Artigo 'As Tecnologias Digitais de Informação e Comunicação e o Ensino-aprendizagem de Matemática: uma Revisão IntegrativaThe Digital Technologies of Information and Communication and the Teaching-learning of Mathematics: an Integrative Review' adicionado. Total atual: 654\n",
      "📄 Artigo 'A METODOLOGIA ATIVA TEAM BASED LEARNING (TBL) E SUAS CONTRIBUIÇÕES PARA O ENSINO/APRENDIZAGEM DE MATEMÁTICA' adicionado. Total atual: 655\n",
      "📄 Artigo 'uso dos aplicativos Photomath e Toon Math no ensino de matemática' adicionado. Total atual: 656\n",
      "📄 Artigo 'EvoLogic: Sistema Tutor Inteligente para Ensino de Lógica' adicionado. Total atual: 657\n",
      "📄 Artigo 'Modelagem matemática no contexto da cultura digital: uma perspectiva de educar pela pesquisa no curso de técnico em meio ambiente integrado ao ensino médio' adicionado. Total atual: 658\n",
      "📄 Artigo 'Ambiente Inteligente de Aprendizagem MAZK com alunos do Ensino Fundamental II na disciplina de Ciências' adicionado. Total atual: 659\n",
      "📄 Artigo 'Ensino de Lógica de Programação baseado na indução-dedução através de exemplos' adicionado. Total atual: 660\n",
      "📄 Artigo 'Mejorando el aprovechamiento de las actividades colaborativas por pares de estudiantes utilizando tecnología educativa en matemática' adicionado. Total atual: 661\n",
      "📄 Artigo 'Perspectiva de discentes do curso de Pedagogia sobre a tutoria e interação na EAD (Perspective of students from the Pedagogy course on tutoring and interaction in EAD)' adicionado. Total atual: 662\n"
     ]
    },
    {
     "name": "stderr",
     "output_type": "stream",
     "text": [
      "10:15:23 [INFO] semantic_scholar:   -> 8 artigos relevantes adicionados do cache para '\"ensino de matemática\" AND \"intelligent tutoring systems\"'.\n",
      "10:15:23 [INFO] semantic_scholar: 🔎 Iniciando busca para: '\"ensino de matemática\" AND \"learning analytics\"'\n",
      "10:15:23 [INFO] semantic_scholar: 📋 Carregando 18 artigos do cache para '\"ensino de matemática\" AND \"learning analytics\"'\n"
     ]
    },
    {
     "name": "stdout",
     "output_type": "stream",
     "text": [
      "📄 Artigo 'O Ensino da Programação e o Desenvolvimento do Pensamento Lógico: uma Revisão Sistemática de Literatura' adicionado. Total atual: 663\n",
      "📄 Artigo 'Extração e Recomendação de Boas e Más Práticas Pedagógicas a Partir de Processos de Ensino e Aprendizagem usando um Sistema Tutor Inteligente Gamificado' adicionado. Total atual: 664\n",
      "📄 Artigo 'Aplicações de game learning analytics na abordagem sobre conceitos de matemática' adicionado. Total atual: 665\n",
      "📄 Artigo 'VLA Dashboard: Um Mecanismo para Visualização do Desempenho de Estudantes de Matemática no Ensino Médio' adicionado. Total atual: 666\n",
      "📄 Artigo 'Game Learning Analytics como Artefato Avaliativo Sobre o Conceito de Probabilidade' adicionado. Total atual: 667\n",
      "📄 Artigo 'LEARNING ANALYTICS PARA AVALIAR O DESEMPENHO DISCENTE EM UMA DISCIPLINA DE CURSOS A DISTÂNCIA' adicionado. Total atual: 668\n",
      "📄 Artigo 'Ludicidade e o ensino de Matemática: jogos, brincadeiras e dinâmicas' adicionado. Total atual: 669\n",
      "📄 Artigo 'Learning analytics em exame de desempenho de alunos de uma instituição de ensino superior' adicionado. Total atual: 670\n",
      "📄 Artigo 'Learning Analytics no Ensino de Introdução à Programação de Computadores' adicionado. Total atual: 671\n",
      "📄 Artigo 'O laboratório de ensino de matemática: estruturação, organização e contribuições no processo de ensino e de aprendizagem / The mathematics teaching laboratory: structuring, organization, and contributions to the teaching and learning process' adicionado. Total atual: 672\n",
      "📄 Artigo 'Análise do Nível de Maturidade na Adoção de Learning Analytics em Instituições de Ensino Superior do Sul e Sudeste Brasileiro' adicionado. Total atual: 673\n"
     ]
    },
    {
     "name": "stderr",
     "output_type": "stream",
     "text": [
      "10:15:23 [INFO] semantic_scholar:   -> 18 artigos relevantes adicionados do cache para '\"ensino de matemática\" AND \"learning analytics\"'.\n",
      "10:15:23 [INFO] semantic_scholar: 🔎 Iniciando busca para: '\"ensino de matemática\" AND \"educational data mining\"'\n",
      "10:15:23 [INFO] semantic_scholar: 📋 Carregando 16 artigos do cache para '\"ensino de matemática\" AND \"educational data mining\"'\n"
     ]
    },
    {
     "name": "stdout",
     "output_type": "stream",
     "text": [
      "📄 Artigo 'Revisão sistemática da literatura sobre o uso de learning analytics no ensino de programação' adicionado. Total atual: 674\n",
      "📄 Artigo 'Guia de Elaboração/Uso de Sequências Didáticas para o Ensino de Matemática' adicionado. Total atual: 675\n",
      "📄 Artigo 'Planejar para realizar: um olhar inclusivo para o ensino de Matemática para estudantes surdos' adicionado. Total atual: 676\n",
      "📄 Artigo 'Abrindo uma Caixa-Preta: as Tecnologias Digitais como Atores Protagonistas no Ensino de Matemática' adicionado. Total atual: 677\n",
      "📄 Artigo 'Aspectos do ensino de Matemática nos Ginásios Vocacionais paulistas: integração de disciplinas e Matemática ModernaTeaching and learning Math in the Vocational Gymnasiums: some remarks on curricular integration and New Math Movement' adicionado. Total atual: 678\n",
      "📄 Artigo 'Jogo digital para aprendizagem dos números e das operações básicas de matemática para os anos iniciais do ensino fundamental / Digital game for learning numbers and basic mathematics operations for the early years of elementary school' adicionado. Total atual: 679\n",
      "📄 Artigo 'Análise do Nível de Maturidade na Adoção de Learning Analytics em Instituições de Ensino Superior Brasileiras' adicionado. Total atual: 680\n",
      "📄 Artigo 'Chabots com Ferramenta de Learning Analytics no Ensino da Programação: Um Estudo de Mapeamento Sistemático' adicionado. Total atual: 681\n",
      "📄 Artigo 'Atividades Lúdicas no Ensino de Matemática: Contribuições Teóricas da Psicologia Histórico-Cultural' adicionado. Total atual: 682\n",
      "📄 Artigo 'Game Learning Analytics como Artefato Avaliativo Sobre o Conceito de Probabilidade' adicionado. Total atual: 683\n",
      "📄 Artigo 'Aprendizado de máquina sem matemática e programação: um relato de experiência de uma abordagem utilizando o software Orange Data Mining para alunos de administração' adicionado. Total atual: 684\n",
      "📄 Artigo 'O dispositivo da performatividade em um programa de intervenção pedagógica para o ensino de matemática' adicionado. Total atual: 685\n",
      "📄 Artigo 'Produção de Vídeos no Ensino de Matemática: Repercussões para a Aprendizagem de Estudantes dos Anos Finais do Ensino Fundamental' adicionado. Total atual: 686\n",
      "📄 Artigo 'Aspectos do ensino de Matemática nos Ginásios Vocacionais paulistas: integração de disciplinas e Matemática ModernaTeaching and learning Math in the Vocational Gymnasiums: some remarks on curricular integration and New Math Movement' adicionado. Total atual: 687\n",
      "📄 Artigo 'Ensino-aprendizagem matemática no Ensino Médio e sua relação com a afetividade' adicionado. Total atual: 688\n",
      "📄 Artigo 'Panorama das análises de dissertações e acompanhamento de egressos de mestrados profissionais em ensino de ciências e matemática (2001-2019)' adicionado. Total atual: 689\n",
      "📄 Artigo 'Articulação do ensino de física com o ensino de matemática através da modelagem matemática e das atividades experimentais' adicionado. Total atual: 690\n"
     ]
    },
    {
     "name": "stderr",
     "output_type": "stream",
     "text": [
      "10:15:23 [INFO] semantic_scholar:   -> 16 artigos relevantes adicionados do cache para '\"ensino de matemática\" AND \"educational data mining\"'.\n",
      "10:15:23 [INFO] semantic_scholar: 🔎 Iniciando busca para: '\"ensino de matemática\" AND \"machine learning\"'\n"
     ]
    },
    {
     "name": "stdout",
     "output_type": "stream",
     "text": [
      "📄 Artigo 'A Influência das Avaliações Externas SAEB e SPAECE nas Estratégias Educacionais no Estado do Ceará: uma Análise Sobre a Disciplina de Matemática em Escolas Públicas de Ensino Médio' adicionado. Total atual: 691\n",
      "📄 Artigo 'Educação Inclusiva e seus Significados: a Percepção dos(as) Professores(as) de Matemática no Município de Porangatu (GO)' adicionado. Total atual: 692\n",
      "📄 Artigo 'Tornando-se um Professor de Matemática Autônomo para Gerar um Ambiente de Ensino e Aprendizagem Enriquecido' adicionado. Total atual: 693\n",
      "📄 Artigo 'UMA ANÁLISE DOS PRODUTOS EDUCACIONAIS DA UTFPR QUE UTILIZAM TECNOLOGIAS DIGITAIS NO ENSINO DE MATEMÁTICA' adicionado. Total atual: 694\n",
      "📄 Artigo 'Ensino-aprendizagem de (noções) matemática(s) na educação infantil: um panorama de estudos recentes' adicionado. Total atual: 695\n",
      "📄 Artigo 'Retratos de (ausências de) práticas educativas utilizando TDIC em aulas de Matemática na Educação Básica (Portraits of (absence of) educational practices using TDIC in Mathematics classes in Basic Education)' adicionado. Total atual: 696\n",
      "📄 Artigo 'O Programa Escola da Terra na formação continuada de professores e professoras de escolas do campo e quilombolas: práticas socioculturais como temas geradores no ensino da matemática escolar' adicionado. Total atual: 697\n",
      "📄 Artigo 'ENSINO APRENDIZAGEM: PRÁTICA EDUCATIVA NO ENSINO MÉDIO DE CONTEUDO DA DISCIPLINA DE MATEMÁTICA' adicionado. Total atual: 698\n"
     ]
    },
    {
     "name": "stderr",
     "output_type": "stream",
     "text": [
      "10:15:23 [INFO] semantic_scholar: 📋 Carregando 19 artigos do cache para '\"ensino de matemática\" AND \"machine learning\"'\n"
     ]
    },
    {
     "name": "stdout",
     "output_type": "stream",
     "text": [
      "📄 Artigo 'Utilização da aprendizagem baseada em projetos aplicada em um torno CNC didático para o ensino de identificação de sistemas' adicionado. Total atual: 699\n",
      "📄 Artigo 'Ensino de física mediado pelo Machine Learning: O caso do pêndulo simples' adicionado. Total atual: 700\n",
      "📄 Artigo 'Eficácia das Metodologias Ativas e do Suporte Tecnológico no Ensino de Machine Learning na Educação Básica' adicionado. Total atual: 701\n",
      "📄 Artigo 'Ludicidade e o ensino de Matemática: jogos, brincadeiras e dinâmicas' adicionado. Total atual: 702\n",
      "📄 Artigo 'O laboratório de ensino de matemática: estruturação, organização e contribuições no processo de ensino e de aprendizagem / The mathematics teaching laboratory: structuring, organization, and contributions to the teaching and learning process' adicionado. Total atual: 703\n",
      "📄 Artigo 'Abrindo uma Caixa-Preta: as Tecnologias Digitais como Atores Protagonistas no Ensino de Matemática' adicionado. Total atual: 704\n",
      "📄 Artigo 'Planejar para realizar: um olhar inclusivo para o ensino de Matemática para estudantes surdos' adicionado. Total atual: 705\n",
      "📄 Artigo 'Guia de Elaboração/Uso de Sequências Didáticas para o Ensino de Matemática' adicionado. Total atual: 706\n",
      "📄 Artigo 'Jogo digital para aprendizagem dos números e das operações básicas de matemática para os anos iniciais do ensino fundamental / Digital game for learning numbers and basic mathematics operations for the early years of elementary school' adicionado. Total atual: 707\n",
      "📄 Artigo 'Ferramentas Visuais para o Ensino de Machine Learning na Educação Básica' adicionado. Total atual: 708\n",
      "📄 Artigo 'Ensino de Machine Learning na Educação Básica: um Mapeamento Sistemático do Estado da Arte' adicionado. Total atual: 709\n",
      "📄 Artigo 'Aspectos do ensino de Matemática nos Ginásios Vocacionais paulistas: integração de disciplinas e Matemática ModernaTeaching and learning Math in the Vocational Gymnasiums: some remarks on curricular integration and New Math Movement' adicionado. Total atual: 710\n",
      "📄 Artigo 'Proposta de introdução ao Machine Learning no ensino médio' adicionado. Total atual: 711\n",
      "📄 Artigo 'Possibilidades de uso didático do artefato mesopotâmico BM 13901 no ensino de Matemática' adicionado. Total atual: 712\n",
      "📄 Artigo 'Atividades Lúdicas no Ensino de Matemática: Contribuições Teóricas da Psicologia Histórico-Cultural' adicionado. Total atual: 713\n",
      "📄 Artigo 'A TEORIA DO MOBILE LEARNING E O ENSINO DE MATEMÁTICA EM ARTIGOS INTERNACIONAIS E TESES DEFENDIDAS EM UNIVERSIDADES BRASILEIRAS: UMA REVISÃO SISTEMÁTICA' adicionado. Total atual: 714\n",
      "📄 Artigo 'As Tecnologias Digitais de Informação e Comunicação e o Ensino-aprendizagem de Matemática: uma Revisão IntegrativaThe Digital Technologies of Information and Communication and the Teaching-learning of Mathematics: an Integrative Review' adicionado. Total atual: 715\n",
      "📄 Artigo 'A METODOLOGIA ATIVA TEAM BASED LEARNING (TBL) E SUAS CONTRIBUIÇÕES PARA O ENSINO/APRENDIZAGEM DE MATEMÁTICA' adicionado. Total atual: 716\n"
     ]
    },
    {
     "name": "stderr",
     "output_type": "stream",
     "text": [
      "10:15:24 [INFO] semantic_scholar:   -> 19 artigos relevantes adicionados do cache para '\"ensino de matemática\" AND \"machine learning\"'.\n",
      "10:15:24 [INFO] semantic_scholar: 🔎 Iniciando busca para: '\"ensino de matemática\" AND \"artificial intelligence\"'\n",
      "10:15:24 [INFO] semantic_scholar: 📋 Carregando 18 artigos do cache para '\"ensino de matemática\" AND \"artificial intelligence\"'\n"
     ]
    },
    {
     "name": "stdout",
     "output_type": "stream",
     "text": [
      "📄 Artigo 'uso dos aplicativos Photomath e Toon Math no ensino de matemática' adicionado. Total atual: 717\n",
      "📄 Artigo 'APLICAÇÕES DA MATEMÁTICA NO CAMPO DA INTELIGÊNCIA ARTIFICIAL: INOVAÇÕES E DESAFIOS PARA O ENSINO DE MATEMÁTICA' adicionado. Total atual: 718\n",
      "📄 Artigo 'A Utilização da Inteligência Artificial no Ensino de Matemática' adicionado. Total atual: 719\n",
      "📄 Artigo 'ALGUNS IMPACTOS DA INTELIGÊNCIA ARTIFICIAL NO ENSINO DE MATEMÁTICA: INFLUÊNCIA NA PRÁTICA DOCENTE E SEUS EFEITOS DELETÉRIOS' adicionado. Total atual: 720\n",
      "📄 Artigo 'O USO DA INTELIGÊNCIA ARTIFICIAL, MODELAGEM MATEMÁTICA E RESOLUÇÃO DE PROBLEMAS COMO POTENCIALIZADORES NO PROCESSO DE ENSINO E APRENDIZAGEM DE MATEMÁTICA NO SÉTIMO ANO DO ENSINO FUNDAMENTAL' adicionado. Total atual: 721\n",
      "📄 Artigo 'utilização da inteligência artificial como ferramenta para o ensino de estatística sob a perspectiva da investigação Matemática' adicionado. Total atual: 722\n",
      "📄 Artigo 'Abordagens Pedagógicas com o Google Gemini no Ensino de Matemática' adicionado. Total atual: 723\n",
      "📄 Artigo 'TEA HelpBot – Avaliação de um Assistente Pedagógico Conversacional no Ensino de Matemática para Estudantes Autistas das Series Finais do Ensino Fundamental' adicionado. Total atual: 724\n",
      "📄 Artigo 'NEUROCIÊNCIA E ENSINO DE MATEMÁTICA COM JOGOS DIGITAIS' adicionado. Total atual: 725\n",
      "📄 Artigo 'Abordagens inovadoras no ensino de ciências e matemática' adicionado. Total atual: 726\n",
      "📄 Artigo 'A modelagem de dados para inteligência artificial: implicações e percalços no ensino de literatura' adicionado. Total atual: 727\n",
      "📄 Artigo 'Inteligência Artificial e a Matemática: uma Revisão Sistemática de Literatura sobre Aplicações em Educação e Ensino' adicionado. Total atual: 728\n",
      "📄 Artigo 'El Lenguaje De La Inteligencia Artificial Y La Matemática De Letras (The Language of Artificial Intelligence and the Mathematics of Letters)' adicionado. Total atual: 729\n",
      "📄 Artigo 'INTELIGÊNCIA ARTIFICIAL E ENSINO DE QUÍMICA: UMA ANÁLISE PROPEDÊUTICA DO CHATGPT NA DEFINIÇÃO DE CONCEITOS QUÍMICOS' adicionado. Total atual: 730\n",
      "📄 Artigo 'O que revelam pesquisas recentes sobre as potencialidades e aplicabilidades da Inteligência Artificial para o ensino e aprendizagem da Matemática na Educação Básica?' adicionado. Total atual: 731\n",
      "📄 Artigo 'Explorando o pensamento computacional e as tecnologias móveis para o desenvolvimento de atividades no ensino de ciências e matemática nos anos iniciais do ensino fundamental' adicionado. Total atual: 732\n",
      "📄 Artigo 'INCORPORAÇÃO DA INTELIGÊNCIA ARTIFICIAL NAS AULAS DE MATEMÁTICA POR MEIO DA SUA APLICABILIDADE NO FUTEBOL' adicionado. Total atual: 733\n",
      "📄 Artigo 'Le diverse declinazioni della matematica per lo sviluppo dell’intelligenza artificiale nei seminari “AIM (Artificial Intelligence and Mathematics) - Fundamentals and beyond”. Il ciclo di seminari dell’Istituto per le Applicazioni del Calcolo (IAC)' adicionado. Total atual: 734\n"
     ]
    },
    {
     "name": "stderr",
     "output_type": "stream",
     "text": [
      "10:15:24 [INFO] semantic_scholar:   -> 18 artigos relevantes adicionados do cache para '\"ensino de matemática\" AND \"artificial intelligence\"'.\n",
      "10:15:24 [INFO] semantic_scholar: 🔎 Iniciando busca para: '\"ensino de matemática\" AND \"automated assessment\"'\n",
      "10:15:24 [INFO] semantic_scholar: 📋 Carregando 17 artigos do cache para '\"ensino de matemática\" AND \"automated assessment\"'\n"
     ]
    },
    {
     "name": "stdout",
     "output_type": "stream",
     "text": [
      "📄 Artigo 'Inteligência Artificial e neuroeducação: O futuro do ensino personalizado' adicionado. Total atual: 735\n",
      "📄 Artigo 'PROMOVENDO A EQUIDADE POR MEIO DO ENSINO DE MATEMÁTICA NA ESCOLA ESTADUAL HENRIQUE DUMONT VILLARES' adicionado. Total atual: 736\n",
      "📄 Artigo 'O dispositivo da performatividade em um programa de intervenção pedagógica para o ensino de matemática' adicionado. Total atual: 737\n",
      "📄 Artigo 'REFLEXÕES SOBRE A AVALIAÇÃO DE MATEMÁTICA DO PROGRAMA MAIS ALFABETIZAÇÃO REALIZADA POR UM ALUNO COM AUTISMO DO ENSINO FUNDAMENTAL' adicionado. Total atual: 738\n",
      "📄 Artigo 'A Influência das Avaliações Externas SAEB e SPAECE nas Estratégias Educacionais no Estado do Ceará: uma Análise Sobre a Disciplina de Matemática em Escolas Públicas de Ensino Médio' adicionado. Total atual: 739\n",
      "📄 Artigo 'Políticas de Avaliação como Políticas de Currículo: a ‘alquimia’ da Matemática no Exame Nacional do Ensino Médio' adicionado. Total atual: 740\n",
      "📄 Artigo 'Potencialidades da Tecnologia Touchscreen para o Ensino de Matemática' adicionado. Total atual: 741\n",
      "📄 Artigo 'Adaptação no roteiro da Metodologia de Ensino-Aprendizagem-Avaliação de Matemática do GTERP para ensinar Cálculo Diferencial e Integral através da Resolução de Problemas' adicionado. Total atual: 742\n",
      "📄 Artigo 'Tornando-se um Professor de Matemática Autônomo para Gerar um Ambiente de Ensino e Aprendizagem Enriquecido' adicionado. Total atual: 743\n",
      "📄 Artigo 'Descritores de matemática para prova Brasil no nono ano do ensino fundamental: Uma revisão de literatura' adicionado. Total atual: 744\n",
      "📄 Artigo 'Avaliação e comunicação na aula de matemática: conceções e práticas de professores do 2.º ciclo do ensino básico' adicionado. Total atual: 745\n",
      "📄 Artigo 'O ensino de estocástica no currículo de Matemática do Ensino Fundamental no Brasil The Stochastic Teaching in the Mathematics curriculum of Elementary School in Brazil' adicionado. Total atual: 746\n",
      "📄 Artigo 'A contextualização no ensino de matemática: concepções e práticas Contextualizationin the teaching of mathematics: conceptions and practices' adicionado. Total atual: 747\n",
      "📄 Artigo 'Percepções de professores de Matemática sobre o ensino de funções e sobre o uso de materiais tecnológicosPerceptions of mathematics teachers on the functions teaching and the use of technological materials' adicionado. Total atual: 748\n",
      "📄 Artigo 'PENSAMENTO CRÍTICO NO ENSINO DE CIÊNCIAS E EDUCAÇÃO MATEMÁTICA: UMA REVISÃO BIBLIOGRÁFICA SISTEMÁTICA' adicionado. Total atual: 749\n",
      "📄 Artigo 'Metodologia de Ensino-Aprendizagem-Avaliação de Matemática Através da Resolução de Problemas: uma Análise das Perspectivas de Licenciandos em Matemática' adicionado. Total atual: 750\n"
     ]
    },
    {
     "name": "stderr",
     "output_type": "stream",
     "text": [
      "10:15:25 [INFO] semantic_scholar:   -> 17 artigos relevantes adicionados do cache para '\"ensino de matemática\" AND \"automated assessment\"'.\n",
      "10:15:25 [INFO] semantic_scholar: 🔎 Iniciando busca para: '\"ensino de matemática\" AND \"competency identification\"'\n",
      "10:15:25 [INFO] semantic_scholar: 📋 Carregando 13 artigos do cache para '\"ensino de matemática\" AND \"competency identification\"'\n"
     ]
    },
    {
     "name": "stdout",
     "output_type": "stream",
     "text": [
      "📄 Artigo 'A AVALIAÇÃO E O ERRO NO PROCESSO DE ENSINO-APRENDIZAGEM NA FORMAÇÃO INICIAL E CONTINUADA DE PROFESSORES DE MATEMÁTICA' adicionado. Total atual: 751\n",
      "📄 Artigo 'Avaliação Nacional da Alfabetização em Matemática (ANA): relações com a formação de professores do PNAIC e o currículo dos anos iniciais do Ensino Fundamental' adicionado. Total atual: 752\n",
      "📄 Artigo 'Modelagem no Ensino de Matemática: primeiros relatos de um estudo de caso com estudantes cegos' adicionado. Total atual: 753\n",
      "📄 Artigo 'Educação Continuada e a Inserção da Resolução de Problemas no Ensino de Matemática' adicionado. Total atual: 754\n",
      "📄 Artigo 'O jogo da velha como alternativa de melhoria no processo de ensino-aprendizagem da Matemática na Educação de Jovens, Adultos e Idosos' adicionado. Total atual: 755\n",
      "📄 Artigo 'PERSPECTIVA SOBRE O CENÁRIO ATUAL DO ADOECIMENTO MENTAL DOS PROFESSORES DA REDE PÚBLICA DE ENSINO DE RONDÔNIA' adicionado. Total atual: 756\n"
     ]
    },
    {
     "name": "stderr",
     "output_type": "stream",
     "text": [
      "10:15:25 [INFO] semantic_scholar:   -> 13 artigos relevantes adicionados do cache para '\"ensino de matemática\" AND \"competency identification\"'.\n",
      "10:15:25 [INFO] semantic_scholar: 🔎 Iniciando busca para: '\"ensino de matemática\" AND \"student modeling\"'\n",
      "10:15:25 [INFO] semantic_scholar: 📋 Carregando 18 artigos do cache para '\"ensino de matemática\" AND \"student modeling\"'\n"
     ]
    },
    {
     "name": "stdout",
     "output_type": "stream",
     "text": [
      "📄 Artigo 'A falta de empatia no ensino de Matemática um estudo da prática docente e sua afinidade com a área de formação' adicionado. Total atual: 757\n",
      "📄 Artigo 'IDENTIFICAÇÃO E DESENVOLVIMENTO DE SABERES DOCENTES DESDE A FORMAÇÃO INICIAL DE PROFESSORES DE MATEMÁTICA UTILIZANDO UM CASO DE ENSINO' adicionado. Total atual: 758\n",
      "📄 Artigo 'DESAFIOS VIVENCIADOS PELOS DOCENTES QUE LECIONAM MATEMÁTICA SEM FORMAÇÃO ESPECÍFICA: UM ESTUDO NO CONTEXTO DO ENSINO FUNDAMENTAL II DO MUNICÍPIO DE PEREIRO-CEARÁ' adicionado. Total atual: 759\n",
      "📄 Artigo 'Teaching Process and Emotional Reactions in Mathematics Processo de Ensino e Reações Emocionais em Matemática' adicionado. Total atual: 760\n",
      "📄 Artigo 'Em Tempos de Pandemia, um Olhar Reflexivo para a Educação Matemática Inclusiva na Educação Básica Envolvendo o Ensino na Modalidade à Distância' adicionado. Total atual: 761\n",
      "📄 Artigo 'Ensino de álgebra no ensino fundamental: uma revisão histórica dos PCN à BNCC' adicionado. Total atual: 762\n",
      "📄 Artigo 'O ENSINO DE TRIGONOMETRIA COM AUXÍLIO DE RECURSOS TECNOLÓGICOS NA EDUCAÇÃO BÁSICA: UM MAPEAMENTO INICIAL' adicionado. Total atual: 763\n",
      "📄 Artigo 'Matemática Financeira: uma proposta de abordagem para o Ensino Médio por meio do tesouro direto' adicionado. Total atual: 764\n",
      "📄 Artigo 'Utilização da aprendizagem baseada em projetos aplicada em um torno CNC didático para o ensino de identificação de sistemas' adicionado. Total atual: 765\n",
      "📄 Artigo 'Modelagem no Ensino de Matemática: primeiros relatos de um estudo de caso com estudantes cegos' adicionado. Total atual: 766\n",
      "📄 Artigo 'Tarefa investigativa no ensino de derivadas em uma turma de Licenciatura em Matemática' adicionado. Total atual: 767\n",
      "📄 Artigo 'Modelagem matemática no ensino fundamental: estudo de funções 1º grau analisando contas de água e energia elétrica' adicionado. Total atual: 768\n",
      "📄 Artigo 'Porcentagem: uma proposta para o Ensino Fundamental de Modelagem Matemática a partir do controle calórico de alimentos' adicionado. Total atual: 769\n",
      "📄 Artigo 'A modelagem matemática como estratégia de melhoramento no ensino-aprendizagem' adicionado. Total atual: 770\n",
      "📄 Artigo 'Planejar para realizar: um olhar inclusivo para o ensino de Matemática para estudantes surdos' adicionado. Total atual: 771\n",
      "📄 Artigo 'Possibilidades de uso didático do artefato mesopotâmico BM 13901 no ensino de Matemática' adicionado. Total atual: 772\n",
      "📄 Artigo 'Como os Laboratórios Makers são Utilizados no Ensino e Aprendizagem de Matemática? Uma Revisão Sistemática da Literatura' adicionado. Total atual: 773\n",
      "📄 Artigo 'Um Estudo Sobre Conhecimentos Necessários ao Futuro Professor de Matemática para a Exploração de Séries no Ensino Médio' adicionado. Total atual: 774\n",
      "📄 Artigo 'Atividades Lúdicas no Ensino de Matemática: Contribuições Teóricas da Psicologia Histórico-Cultural' adicionado. Total atual: 775\n",
      "📄 Artigo 'CONHECIMENTOS MOBILIZADOS POR UMA PROFESSORA DE MATEMÁTICA NO ENSINO DE SÓLIDOS GEOMÉTRICOS PARA UMA ESTUDANTE CEGA' adicionado. Total atual: 776\n",
      "📄 Artigo 'Jogo de tabuleiro Reino das Funções como alternativa para o ensino e aprendizagem de Matemática' adicionado. Total atual: 777\n",
      "📄 Artigo 'O uso de tecnologias digitais no ensino de matemática nos anos iniciais' adicionado. Total atual: 778\n",
      "📄 Artigo 'Robótica Educacional e o ensino de Matemática' adicionado. Total atual: 779\n",
      "📄 Artigo 'A Influência das Avaliações Externas SAEB e SPAECE nas Estratégias Educacionais no Estado do Ceará: uma Análise Sobre a Disciplina de Matemática em Escolas Públicas de Ensino Médio' adicionado. Total atual: 780\n",
      "📄 Artigo 'Ensino-aprendizagem matemática no Ensino Médio e sua relação com a afetividade' adicionado. Total atual: 781\n",
      "📄 Artigo 'O Ensino de Matemática via Resolução de Problemas na Formação Inicial de Professores' adicionado. Total atual: 782\n"
     ]
    },
    {
     "name": "stderr",
     "output_type": "stream",
     "text": [
      "10:15:26 [INFO] semantic_scholar:   -> 18 artigos relevantes adicionados do cache para '\"ensino de matemática\" AND \"student modeling\"'.\n",
      "10:15:26 [INFO] semantic_scholar: 🔎 Iniciando busca para: '\"ensino de matemática\" AND \"predictive analytics\"'\n",
      "10:15:26 [INFO] semantic_scholar: 📋 Carregando 16 artigos do cache para '\"ensino de matemática\" AND \"predictive analytics\"'\n"
     ]
    },
    {
     "name": "stdout",
     "output_type": "stream",
     "text": [
      "📄 Artigo 'O Diálogo com estudantes com deficiência visual (Dv’s ) como Instrumento Formativo para um Ensino de Matemática InclusivoThe dialogue with visually impaired students as a formative tool for an inclusive mathematics teaching' adicionado. Total atual: 783\n",
      "📄 Artigo 'Aplicações de game learning analytics na abordagem sobre conceitos de matemática' adicionado. Total atual: 784\n",
      "📄 Artigo 'Reflexões Sobre a Apropriação das Tecnologias Digitais no Ensino de Matemática: uma Proposta a Partir de uma Revisão Teórica' adicionado. Total atual: 785\n",
      "📄 Artigo 'Experiências no ensino de matemática durante o ensino remoto emergencial na Unicamp' adicionado. Total atual: 786\n",
      "📄 Artigo 'Educação matemática realística: uma abordagem teórico-metodológica para o ensino de matemática nas escolas do campo' adicionado. Total atual: 787\n",
      "📄 Artigo 'Vamos Jogar Matemática: Utilizando o RPG Maker para Produzir um Recurso Educacional Digital para o Ensino de Matemática' adicionado. Total atual: 788\n",
      "📄 Artigo 'VLA Dashboard: Um Mecanismo para Visualização do Desempenho de Estudantes de Matemática no Ensino Médio' adicionado. Total atual: 789\n",
      "📄 Artigo 'Matemática na história da minha vida: uma análise das mudanças no ensino vividas por professoras iniciantes' adicionado. Total atual: 790\n",
      "📄 Artigo 'Análise de Aprendizagem em MOOCs de Ensino de Programação: um Mapeamento Sistemático da Literatura' adicionado. Total atual: 791\n",
      "📄 Artigo 'Potencialidades da Tecnologia Touchscreen para o Ensino de Matemática' adicionado. Total atual: 792\n",
      "📄 Artigo 'Dimensões sociais do currículo e do ensino de Matemática e a formação docente' adicionado. Total atual: 793\n",
      "📄 Artigo 'PENSAMENTO CRÍTICO NO ENSINO DE CIÊNCIAS E EDUCAÇÃO MATEMÁTICA: UMA REVISÃO BIBLIOGRÁFICA SISTEMÁTICA' adicionado. Total atual: 794\n",
      "📄 Artigo 'A engenharia didática para o ensino de olimpíadas de matemática: situações olímpicas com o amparo do software geogebra' adicionado. Total atual: 795\n",
      "📄 Artigo 'REMAT: análise do perfil de seus usuários por meio da ferramenta Google Analytics e difusão do conhecimento científico entre professores e estudantes de matemática' adicionado. Total atual: 796\n",
      "📄 Artigo 'Cinesiogame: inovações no ensino de cinesiologia através de jogos educacionais' adicionado. Total atual: 797\n"
     ]
    },
    {
     "name": "stderr",
     "output_type": "stream",
     "text": [
      "10:15:26 [INFO] semantic_scholar:   -> 16 artigos relevantes adicionados do cache para '\"ensino de matemática\" AND \"predictive analytics\"'.\n",
      "10:15:26 [INFO] semantic_scholar: 🏁 Busca concluída.\n",
      "10:15:26 [INFO] semantic_scholar:   Total adicionado do cache: 799\n",
      "10:15:26 [INFO] semantic_scholar:   Total adicionado da API: 0\n",
      "10:15:26 [INFO] semantic_scholar:   Total processado da API: 3\n",
      "10:15:26 [INFO] semantic_scholar:   Total descartado (API + Cache): 786\n",
      "10:15:26 [INFO] open_alex: 🔎 Iniciando busca para: '\"mathematics education\" AND \"adaptive learning\"'\n",
      "10:15:26 [INFO] open_alex: 📋 Carregando 7 artigos do cache para '\"mathematics education\" AND \"adaptive learning\"'\n"
     ]
    },
    {
     "name": "stdout",
     "output_type": "stream",
     "text": [
      "📄 Artigo 'Software MATLAB no ensino-aprendizagem da Matemática no 8ºano do fundamental: Uma análise analítica e geométrica no ensino de expressões algébricas e sistemas de equações do 1º grau' adicionado. Total atual: 798\n",
      "📄 Artigo 'Videoaulas de Matemática: Compreensões que Sustentam e Movimentam uma Produção' adicionado. Total atual: 799\n",
      "⚠️ Erro ao acessar Semantic Scholar: object of type 'NoneType' has no len()\n",
      "\n",
      "--- Iniciando busca no OpenAlex ---\n"
     ]
    },
    {
     "name": "stderr",
     "output_type": "stream",
     "text": [
      "10:15:26 [INFO] open_alex:   -> 7 artigos relevantes adicionados do cache para '\"mathematics education\" AND \"adaptive learning\"'.\n",
      "10:15:26 [INFO] open_alex: 🔎 Iniciando busca para: '\"mathematics education\" AND \"personalized learning\"'\n",
      "10:15:26 [INFO] open_alex: 📋 Carregando 10 artigos do cache para '\"mathematics education\" AND \"personalized learning\"'\n"
     ]
    },
    {
     "name": "stdout",
     "output_type": "stream",
     "text": [
      "📄 Artigo 'COVID-19, school closures, and child poverty: a social crisis in the making' adicionado. Total atual: 800\n",
      "📄 Artigo 'Adapting to PSTs’ Pedagogical Changes in Sustainable Mathematics Education through Flipped E-Learning: Ranking Its Criteria with MCDA/F-DEMATEL' adicionado. Total atual: 801\n",
      "📄 Artigo 'Analyzing the Effectiveness of AI-Powered Adaptive Learning Platforms in Mathematics Education' adicionado. Total atual: 802\n",
      "📄 Artigo 'STEM learning through engineering design: fourth-grade students’ investigations in aerospace' adicionado. Total atual: 803\n",
      "📄 Artigo 'Perceptions of Preservice Teachers about Adaptive Learning Programs in K-8 Mathematics Education' adicionado. Total atual: 804\n",
      "📄 Artigo 'When adaptive learning is effective learning: comparison of an adaptive learning system to teacher-led instruction' adicionado. Total atual: 805\n",
      "📄 Artigo 'STEAM education- metacognition – Specific Learning Disabilities' adicionado. Total atual: 806\n",
      "📄 Artigo 'Interacting with educational chatbots: A systematic review' adicionado. Total atual: 807\n",
      "📄 Artigo 'Artificial Intelligence in Dentistry: Chances and Challenges' adicionado. Total atual: 808\n",
      "📄 Artigo 'Roles and Research Trends of Artificial Intelligence in Mathematics Education: A Bibliometric Mapping Analysis and Systematic Review' adicionado. Total atual: 809\n"
     ]
    },
    {
     "name": "stderr",
     "output_type": "stream",
     "text": [
      "10:15:27 [INFO] open_alex:   -> 10 artigos relevantes adicionados do cache para '\"mathematics education\" AND \"personalized learning\"'.\n",
      "10:15:27 [INFO] open_alex: 🔎 Iniciando busca para: '\"mathematics education\" AND \"intelligent tutoring systems\"'\n",
      "10:15:27 [INFO] open_alex: 📋 Carregando 9 artigos do cache para '\"mathematics education\" AND \"intelligent tutoring systems\"'\n"
     ]
    },
    {
     "name": "stdout",
     "output_type": "stream",
     "text": [
      "📄 Artigo 'A Systematic Literature Review on Teaching and Learning Introductory Programming in Higher Education' adicionado. Total atual: 810\n",
      "📄 Artigo 'Online Diagnostic Assessment in Support of Personalized Teaching and Learning: The eDia System' adicionado. Total atual: 811\n",
      "📄 Artigo 'Past, present, and future of smart learning: a topic-based bibliometric analysis' adicionado. Total atual: 812\n",
      "📄 Artigo 'When adaptive learning is effective learning: comparison of an adaptive learning system to teacher-led instruction' adicionado. Total atual: 813\n",
      "📄 Artigo 'Future of education in the era of generative artificial intelligence: Consensus among Chinese scholars on applications of ChatGPT in schools' adicionado. Total atual: 814\n",
      "📄 Artigo 'Intelligent tutorial system based on personalized system of instruction to teach or remind mathematical concepts' adicionado. Total atual: 815\n",
      "📄 Artigo 'Investigating the Use of the Khan Academy and Mathematics Software with a Flipped Classroom Approach in Mathematics Teaching.' adicionado. Total atual: 816\n",
      "📄 Artigo 'The potential of digital tools to enhance mathematics and science learning in secondary schools: A context-specific meta-analysis' adicionado. Total atual: 817\n"
     ]
    },
    {
     "name": "stderr",
     "output_type": "stream",
     "text": [
      "10:15:27 [INFO] open_alex:   -> 9 artigos relevantes adicionados do cache para '\"mathematics education\" AND \"intelligent tutoring systems\"'.\n",
      "10:15:27 [INFO] open_alex: 🔎 Iniciando busca para: '\"mathematics education\" AND \"learning analytics\"'\n",
      "10:15:27 [INFO] open_alex: 📋 Carregando 8 artigos do cache para '\"mathematics education\" AND \"learning analytics\"'\n"
     ]
    },
    {
     "name": "stdout",
     "output_type": "stream",
     "text": [
      "📄 Artigo 'Incorporation of Artificial Intelligence Tutoring Techniques in Mathematics' adicionado. Total atual: 818\n",
      "📄 Artigo 'Prerequisite-Driven Deep Knowledge Tracing' adicionado. Total atual: 819\n",
      "📄 Artigo 'Intelligent Tutoring Systems: Why Teachers Abandoned a Technology Aimed at Automating Teaching Processes' adicionado. Total atual: 820\n",
      "📄 Artigo 'Learning Mathematics in Metacognitively Oriented ICT-Based Learning Environments: A Systematic Review of the Literature' adicionado. Total atual: 821\n",
      "📄 Artigo 'Intelligent tutoring chatbot for solving mathematical problems in High-school' adicionado. Total atual: 822\n",
      "📄 Artigo 'Intelligent Tutoring Systems' adicionado. Total atual: 823\n",
      "📄 Artigo 'The design, implementation and pilot application of an intelligent online proctoring system for online exams' adicionado. Total atual: 824\n",
      "📄 Artigo 'Intelligent tutoring systems for word problem solving in COVID-19 days: could they have been (part of) the solution?' adicionado. Total atual: 825\n",
      "📄 Artigo 'COVID-19, school closures, and child poverty: a social crisis in the making' adicionado. Total atual: 826\n",
      "📄 Artigo 'Effects of innovative science and mathematics teaching on student attitudes and achievement: A meta-analytic study' adicionado. Total atual: 827\n"
     ]
    },
    {
     "name": "stderr",
     "output_type": "stream",
     "text": [
      "10:15:27 [INFO] open_alex:   -> 8 artigos relevantes adicionados do cache para '\"mathematics education\" AND \"learning analytics\"'.\n",
      "10:15:27 [INFO] open_alex: 🔎 Iniciando busca para: '\"mathematics education\" AND \"educational data mining\"'\n"
     ]
    },
    {
     "name": "stdout",
     "output_type": "stream",
     "text": [
      "📄 Artigo 'Computational Literacy and “The Big Picture” Concerning Computers in Mathematics Education' adicionado. Total atual: 828\n",
      "📄 Artigo 'Privacy-Preserving Learning Analytics: Challenges and Techniques' adicionado. Total atual: 829\n",
      "📄 Artigo 'Application of Learning Analytics in University Mathematics Education' adicionado. Total atual: 830\n",
      "📄 Artigo 'Past, present, and future of smart learning: a topic-based bibliometric analysis' adicionado. Total atual: 831\n",
      "📄 Artigo 'The social life of Learning Analytics: cluster analysis and the ‘performance’ of algorithmic education' adicionado. Total atual: 832\n",
      "📄 Artigo 'Learning curves in surgery: variables, analysis and applications' adicionado. Total atual: 833\n"
     ]
    },
    {
     "name": "stderr",
     "output_type": "stream",
     "text": [
      "10:15:27 [INFO] open_alex: 📋 Carregando 10 artigos do cache para '\"mathematics education\" AND \"educational data mining\"'\n"
     ]
    },
    {
     "name": "stdout",
     "output_type": "stream",
     "text": [
      "📄 Artigo 'Handbook of Self-Regulation of Learning and Performance' adicionado. Total atual: 834\n",
      "📄 Artigo 'KnowEdu: A System to Construct Knowledge Graph for Education' adicionado. Total atual: 835\n",
      "📄 Artigo 'Data Mining Analysis on Student’s Academic Performance through Exploration of Student’s Background and Social Activities' adicionado. Total atual: 836\n",
      "📄 Artigo 'Educational Data Mining to Improve Learner Performance in Gauteng Primary Schools' adicionado. Total atual: 837\n",
      "📄 Artigo 'Data Mining for Student Performance Prediction in Education' adicionado. Total atual: 838\n",
      "📄 Artigo 'Identifying the Classification Performances of Educational Data Mining Methods: A Case Study for TIMSS' adicionado. Total atual: 839\n",
      "📄 Artigo 'FINDING THE BEST ALGORITHMS AND EFFECTIVE FACTORS IN CLASSIFICATION OF TURKISH SCIENCE STUDENT SUCCESS' adicionado. Total atual: 840\n",
      "📄 Artigo 'Selection of Best Decision Tree Algorithm for Prediction and Classification of Students’ Action' adicionado. Total atual: 841\n",
      "📄 Artigo 'How data analytics is changing entrepreneurial opportunities?' adicionado. Total atual: 842\n"
     ]
    },
    {
     "name": "stderr",
     "output_type": "stream",
     "text": [
      "10:15:28 [INFO] open_alex:   -> 10 artigos relevantes adicionados do cache para '\"mathematics education\" AND \"educational data mining\"'.\n",
      "10:15:28 [INFO] open_alex: 🔎 Iniciando busca para: '\"mathematics education\" AND \"machine learning\"'\n",
      "10:15:28 [INFO] open_alex: 📋 Carregando 10 artigos do cache para '\"mathematics education\" AND \"machine learning\"'\n"
     ]
    },
    {
     "name": "stdout",
     "output_type": "stream",
     "text": [
      "📄 Artigo 'Analysis of Factors Effecting PISA 2015 Mathematics Literacy via Educational Data Mining' adicionado. Total atual: 843\n",
      "📄 Artigo 'A Survey on Explainable Artificial Intelligence (XAI): Toward Medical XAI' adicionado. Total atual: 844\n",
      "📄 Artigo 'Artificial Intelligence in Dentistry: Chances and Challenges' adicionado. Total atual: 845\n",
      "📄 Artigo 'Machine Teaching: An Inverse Problem to Machine Learning and an Approach Toward Optimal Education' adicionado. Total atual: 846\n",
      "📄 Artigo '50 Years of Test (Un)fairness' adicionado. Total atual: 847\n",
      "📄 Artigo 'The Role of the Mizar Mathematical Library for Interactive Proof Development in Mizar' adicionado. Total atual: 848\n",
      "📄 Artigo '50 Years of Test (Un)fairness: Lessons for Machine Learning' adicionado. Total atual: 849\n",
      "📄 Artigo 'A machine learning approach to investigating the effects of mathematics dispositions on mathematical literacy' adicionado. Total atual: 850\n",
      "📄 Artigo 'The Ethical Algorithm: The Science of Socially Aware Algorithm Design' adicionado. Total atual: 851\n",
      "📄 Artigo 'Algorithmic Bias in Education' adicionado. Total atual: 852\n",
      "📄 Artigo 'Preparing High School Teachers to Integrate AI Methods into STEM Classrooms' adicionado. Total atual: 853\n"
     ]
    },
    {
     "name": "stderr",
     "output_type": "stream",
     "text": [
      "10:15:28 [INFO] open_alex:   -> 10 artigos relevantes adicionados do cache para '\"mathematics education\" AND \"machine learning\"'.\n",
      "10:15:28 [INFO] open_alex: 🔎 Iniciando busca para: '\"mathematics education\" AND \"artificial intelligence\"'\n",
      "10:15:28 [INFO] open_alex: 📋 Carregando 10 artigos do cache para '\"mathematics education\" AND \"artificial intelligence\"'\n"
     ]
    },
    {
     "name": "stdout",
     "output_type": "stream",
     "text": [
      "📄 Artigo 'Roles and Research Trends of Artificial Intelligence in Mathematics Education: A Bibliometric Mapping Analysis and Systematic Review' adicionado. Total atual: 854\n",
      "📄 Artigo 'Artificial intelligence, computational thinking, and mathematics education' adicionado. Total atual: 855\n",
      "📄 Artigo 'A Survey on Explainable Artificial Intelligence (XAI): Toward Medical XAI' adicionado. Total atual: 856\n",
      "📄 Artigo 'What Is the Impact of ChatGPT on Education? A Rapid Review of the Literature' adicionado. Total atual: 857\n",
      "📄 Artigo 'Artificial intelligence in mathematics education: A systematic literature review' adicionado. Total atual: 858\n",
      "📄 Artigo 'Artificial Intelligence in Education: Mathematics Teachers’ Perspectives, Practices and Challenges' adicionado. Total atual: 859\n",
      "📄 Artigo 'PISA 2018 Results (Volume I)' adicionado. Total atual: 860\n"
     ]
    },
    {
     "name": "stderr",
     "output_type": "stream",
     "text": [
      "10:15:28 [INFO] open_alex:   -> 10 artigos relevantes adicionados do cache para '\"mathematics education\" AND \"artificial intelligence\"'.\n",
      "10:15:28 [INFO] open_alex: 🔎 Iniciando busca para: '\"mathematics education\" AND \"automated assessment\"'\n",
      "10:15:28 [INFO] open_alex: 📋 Carregando 10 artigos do cache para '\"mathematics education\" AND \"automated assessment\"'\n"
     ]
    },
    {
     "name": "stdout",
     "output_type": "stream",
     "text": [
      "📄 Artigo 'Artificial Intelligence in Dentistry: Chances and Challenges' adicionado. Total atual: 861\n",
      "📄 Artigo 'Mathematics Education in the Age of Artificial Intelligence' adicionado. Total atual: 862\n",
      "📄 Artigo 'ChatGPT: A revolutionary tool for teaching and learning mathematics' adicionado. Total atual: 863\n",
      "📄 Artigo 'Partially-automated individualized assessment of higher education mathematics' adicionado. Total atual: 864\n",
      "📄 Artigo 'Online Diagnostic Assessment in Support of Personalized Teaching and Learning: The eDia System' adicionado. Total atual: 865\n",
      "📄 Artigo 'Digital curriculum resources in mathematics education: foundations for change' adicionado. Total atual: 866\n",
      "📄 Artigo 'Ten Good Reasons to Adopt an Automated Formative Assessment Model for Learning and Teaching Mathematics and Scientific Disciplines' adicionado. Total atual: 867\n",
      "📄 Artigo 'Is Education Losing the Race with Technology?' adicionado. Total atual: 868\n"
     ]
    },
    {
     "name": "stderr",
     "output_type": "stream",
     "text": [
      "10:15:29 [INFO] open_alex:   -> 10 artigos relevantes adicionados do cache para '\"mathematics education\" AND \"automated assessment\"'.\n",
      "10:15:29 [INFO] open_alex: 🔎 Iniciando busca para: '\"mathematics education\" AND \"competency identification\"'\n",
      "10:15:29 [INFO] open_alex: 📋 Carregando 7 artigos do cache para '\"mathematics education\" AND \"competency identification\"'\n"
     ]
    },
    {
     "name": "stdout",
     "output_type": "stream",
     "text": [
      "📄 Artigo 'Securing a Long-term Future for Coral Reefs' adicionado. Total atual: 869\n",
      "📄 Artigo 'An Automated Virtual Reality Training System for Teacher-Student Interaction: A Randomized Controlled Trial' adicionado. Total atual: 870\n",
      "📄 Artigo 'Creating mathematics formative assessments using LaTeX, PDF forms and computer algebra' adicionado. Total atual: 871\n",
      "📄 Artigo 'Assessing Product Creativity in Computing Education: A Systematic Mapping Study' adicionado. Total atual: 872\n",
      "📄 Artigo 'Uses of Artificial Intelligence in STEM Education' adicionado. Total atual: 873\n",
      "📄 Artigo 'Characterising immersive argument-based inquiry learning environments in school-based education: a systematic literature review' adicionado. Total atual: 874\n",
      "📄 Artigo 'Bridging science education and science communication research' adicionado. Total atual: 875\n",
      "📄 Artigo 'STEM-PBL Activity for Higher Education to Enhance the STEM Competency' adicionado. Total atual: 876\n"
     ]
    },
    {
     "name": "stderr",
     "output_type": "stream",
     "text": [
      "10:15:29 [INFO] open_alex:   -> 7 artigos relevantes adicionados do cache para '\"mathematics education\" AND \"competency identification\"'.\n",
      "10:15:29 [INFO] open_alex: 🔎 Iniciando busca para: '\"mathematics education\" AND \"student modeling\"'\n",
      "10:15:29 [INFO] open_alex: 📋 Carregando 8 artigos do cache para '\"mathematics education\" AND \"student modeling\"'\n"
     ]
    },
    {
     "name": "stdout",
     "output_type": "stream",
     "text": [
      "📄 Artigo 'Mathematical Critical Thinking Ability In Indonesia: Systematic Literature Review (SLR)' adicionado. Total atual: 877\n",
      "📄 Artigo 'Commemorating One-Year of the COVID-19 Pandemic: Indonesian and International Issues of Secondary and Tertiary Mathematics Learning' adicionado. Total atual: 878\n",
      "📄 Artigo 'Competency-based teacher education (CBTE): A training module to improve knowledge, attitude, and practices (KAP) of school teachers on learning disabilities in children' adicionado. Total atual: 879\n",
      "📄 Artigo 'Developing Alternative Assessment of Mathematical Performance for Vocational Students' adicionado. Total atual: 880\n",
      "📄 Artigo 'Weapons of Math Destruction: How Big Data Increases Inequality and Threatens Democracy' adicionado. Total atual: 881\n",
      "📄 Artigo 'Handbook Of Design Research Methods In Education: Innovations In Science, Technology, Engineering, And Mathematics Learning And Teaching' adicionado. Total atual: 882\n",
      "📄 Artigo 'Investigating Students’ Attitude towards Learning Mathematics' adicionado. Total atual: 883\n",
      "📄 Artigo 'Roles and Research Trends of Artificial Intelligence in Mathematics Education: A Bibliometric Mapping Analysis and Systematic Review' adicionado. Total atual: 884\n",
      "📄 Artigo 'Enhancing Diversity in Undergraduate Science: Self-Efficacy Drives Performance Gains with Active Learning' adicionado. Total atual: 885\n",
      "📄 Artigo 'STEM learning through engineering design: fourth-grade students’ investigations in aerospace' adicionado. Total atual: 886\n",
      "📄 Artigo 'Coming out in STEM: Factors affecting retention of sexual minority STEM students' adicionado. Total atual: 887\n"
     ]
    },
    {
     "name": "stderr",
     "output_type": "stream",
     "text": [
      "10:15:30 [INFO] open_alex:   -> 8 artigos relevantes adicionados do cache para '\"mathematics education\" AND \"student modeling\"'.\n",
      "10:15:30 [INFO] open_alex: 🔎 Iniciando busca para: '\"mathematics education\" AND \"predictive analytics\"'\n",
      "10:15:30 [INFO] open_alex: 📋 Carregando 7 artigos do cache para '\"mathematics education\" AND \"predictive analytics\"'\n"
     ]
    },
    {
     "name": "stdout",
     "output_type": "stream",
     "text": [
      "📄 Artigo 'TEACHERS’ KNOWLEDGE ABOUT HIGHER-ORDER THINKING SKILLS AND ITS LEARNING STRATEGY' adicionado. Total atual: 888\n",
      "📄 Artigo 'Machine Learning-based Predictive Analytics of Student Academic Performance in STEM Education' adicionado. Total atual: 889\n",
      "📄 Artigo 'Educing AI-Thinking in Science, Technology, Engineering, Arts, and Mathematics (STEAM) Education' adicionado. Total atual: 890\n",
      "📄 Artigo 'What and when' adicionado. Total atual: 891\n"
     ]
    },
    {
     "name": "stderr",
     "output_type": "stream",
     "text": [
      "10:15:30 [INFO] open_alex:   -> 7 artigos relevantes adicionados do cache para '\"mathematics education\" AND \"predictive analytics\"'.\n",
      "10:15:30 [INFO] open_alex: 🔎 Iniciando busca para: '\"math learning\" AND \"adaptive learning\"'\n",
      "10:15:30 [INFO] open_alex: 📋 Carregando 8 artigos do cache para '\"math learning\" AND \"adaptive learning\"'\n"
     ]
    },
    {
     "name": "stdout",
     "output_type": "stream",
     "text": [
      "📄 Artigo 'A Review on Student Attrition in Higher Education Using Big Data Analytics and Data Mining Techniques' adicionado. Total atual: 892\n",
      "📄 Artigo 'Advanced Learning Analytics in Academic Education' adicionado. Total atual: 893\n",
      "📄 Artigo 'Data Analytics and STEM Student Success: The Impact of Predictive Analytics-Informed Academic Advising Among Undeclared First-Year Engineering Students' adicionado. Total atual: 894\n",
      "📄 Artigo 'Marketing of Ukrainian higher educational institutions representation based on modeling of webometrics ranking' adicionado. Total atual: 895\n",
      "📄 Artigo 'Examining competitive, collaborative and adaptive gamification in young learners' math learning' adicionado. Total atual: 896\n",
      "📄 Artigo 'Federated Learning With Differential Privacy: Algorithms and Performance Analysis' adicionado. Total atual: 897\n",
      "📄 Artigo 'Learning to improve: how America's schools can get better at getting better' adicionado. Total atual: 898\n",
      "📄 Artigo 'Efficacy of an Adaptive Game-Based Math Learning App to Support Personalized Learning and Improve Early Elementary School Students’ Learning' adicionado. Total atual: 899\n",
      "📄 Artigo 'Dynamic Neural Networks: A Survey' adicionado. Total atual: 900\n",
      "📄 Artigo 'CCL: Cross-modal Correlation Learning With Multigrained Fusion by Hierarchical Network' adicionado. Total atual: 901\n",
      "📄 Artigo 'DER: Dynamically Expandable Representation for Class Incremental Learning' adicionado. Total atual: 902\n"
     ]
    },
    {
     "name": "stderr",
     "output_type": "stream",
     "text": [
      "10:15:31 [INFO] open_alex:   -> 8 artigos relevantes adicionados do cache para '\"math learning\" AND \"adaptive learning\"'.\n",
      "10:15:31 [INFO] open_alex: 🔎 Iniciando busca para: '\"math learning\" AND \"personalized learning\"'\n",
      "10:15:31 [INFO] open_alex: 📋 Carregando 10 artigos do cache para '\"math learning\" AND \"personalized learning\"'\n"
     ]
    },
    {
     "name": "stdout",
     "output_type": "stream",
     "text": [
      "📄 Artigo 'Multi-Orientation Scene Text Detection with Adaptive Clustering' adicionado. Total atual: 903\n",
      "📄 Artigo 'Accelerating Early Math Learning with Research-Based Personalized Learning Games: A Cluster Randomized Controlled Trial' adicionado. Total atual: 904\n",
      "📄 Artigo 'Efficacy of an Adaptive Game-Based Math Learning App to Support Personalized Learning and Improve Early Elementary School Students’ Learning' adicionado. Total atual: 905\n",
      "📄 Artigo 'Review of computer‐based assessment for learning in elementary and secondary education' adicionado. Total atual: 906\n",
      "📄 Artigo 'The role of situational interest in personalized learning.' adicionado. Total atual: 907\n",
      "📄 Artigo 'Pose-Controllable Talking Face Generation by Implicitly Modularized Audio-Visual Representation' adicionado. Total atual: 908\n",
      "📄 Artigo 'The eight essential elements of inclusive STEM high schools' adicionado. Total atual: 909\n",
      "📄 Artigo 'Continuous Authentication Through Finger Gesture Interaction for Smart Homes Using WiFi' adicionado. Total atual: 910\n",
      "📄 Artigo 'Disrupting Education? Experimental Evidence on Technology-Aided Instruction in India' adicionado. Total atual: 911\n"
     ]
    },
    {
     "name": "stderr",
     "output_type": "stream",
     "text": [
      "10:15:31 [INFO] open_alex:   -> 10 artigos relevantes adicionados do cache para '\"math learning\" AND \"personalized learning\"'.\n",
      "10:15:31 [INFO] open_alex: 🔎 Iniciando busca para: '\"math learning\" AND \"intelligent tutoring systems\"'\n",
      "10:15:31 [INFO] open_alex: 📋 Carregando 10 artigos do cache para '\"math learning\" AND \"intelligent tutoring systems\"'\n"
     ]
    },
    {
     "name": "stdout",
     "output_type": "stream",
     "text": [
      "📄 Artigo 'Mobility Digital Twin: Concept, Architecture, Case Study, and Future Challenges' adicionado. Total atual: 912\n",
      "📄 Artigo 'DeepLMS: a deep learning predictive model for supporting online learning in the Covid-19 era' adicionado. Total atual: 913\n",
      "📄 Artigo 'The role of situational interest in personalized learning.' adicionado. Total atual: 914\n",
      "📄 Artigo 'Intelligent tutors as teachers' aides' adicionado. Total atual: 915\n",
      "📄 Artigo 'An application of Chinese dialogue-based intelligent tutoring system in remedial instruction for mathematics learning' adicionado. Total atual: 916\n",
      "📄 Artigo 'Intelligent Tutoring System: Learning Math for 6th-Grade Primary School Students' adicionado. Total atual: 917\n",
      "📄 Artigo 'An Intelligent Math E-Tutoring System for Students with Specific Learning Disabilities' adicionado. Total atual: 918\n",
      "📄 Artigo 'Automatic Detection of Mind Wandering from Video in the Lab and in the Classroom' adicionado. Total atual: 919\n",
      "📄 Artigo 'Intelligent tutoring chatbot for solving mathematical problems in High-school' adicionado. Total atual: 920\n",
      "📄 Artigo 'Evaluating an Intelligent Tutoring System for Personalized Math Teaching' adicionado. Total atual: 921\n"
     ]
    },
    {
     "name": "stderr",
     "output_type": "stream",
     "text": [
      "10:15:32 [INFO] open_alex:   -> 10 artigos relevantes adicionados do cache para '\"math learning\" AND \"intelligent tutoring systems\"'.\n",
      "10:15:32 [INFO] open_alex: 🔎 Iniciando busca para: '\"math learning\" AND \"learning analytics\"'\n",
      "10:15:32 [INFO] open_alex: 📋 Carregando 10 artigos do cache para '\"math learning\" AND \"learning analytics\"'\n"
     ]
    },
    {
     "name": "stdout",
     "output_type": "stream",
     "text": [
      "📄 Artigo 'RadarMath: An Intelligent Tutoring System for Math Education' adicionado. Total atual: 922\n",
      "📄 Artigo 'Enhancing undergraduate chemistry learning by helping students make connections among multiple graphical representations' adicionado. Total atual: 923\n",
      "📄 Artigo 'Online Learning for Offloading and Autoscaling in Energy Harvesting Mobile Edge Computing' adicionado. Total atual: 924\n",
      "📄 Artigo 'Review of computer‐based assessment for learning in elementary and secondary education' adicionado. Total atual: 925\n",
      "📄 Artigo 'Federated Learning With Blockchain for Autonomous Vehicles: Analysis and Design Challenges' adicionado. Total atual: 926\n",
      "📄 Artigo 'VFL: A Verifiable Federated Learning With Privacy-Preserving for Big Data in Industrial IoT' adicionado. Total atual: 927\n",
      "📄 Artigo 'Intelligent tutors as teachers' aides' adicionado. Total atual: 928\n",
      "📄 Artigo 'Combining Learning Analytics and the Flipped Classroom in a MOOC of maths' adicionado. Total atual: 929\n",
      "📄 Artigo 'Blockchain Assisted Decentralized Federated Learning (BLADE-FL): Performance Analysis and Resource Allocation' adicionado. Total atual: 930\n"
     ]
    },
    {
     "name": "stderr",
     "output_type": "stream",
     "text": [
      "10:15:32 [INFO] open_alex:   -> 10 artigos relevantes adicionados do cache para '\"math learning\" AND \"learning analytics\"'.\n",
      "10:15:32 [INFO] open_alex: 🔎 Iniciando busca para: '\"math learning\" AND \"educational data mining\"'\n",
      "10:15:32 [INFO] open_alex: 📋 Carregando 10 artigos do cache para '\"math learning\" AND \"educational data mining\"'\n"
     ]
    },
    {
     "name": "stdout",
     "output_type": "stream",
     "text": [
      "📄 Artigo 'OuterSPACE: An Outer Product Based Sparse Matrix Multiplication Accelerator' adicionado. Total atual: 931\n",
      "📄 Artigo 'Jointly Learning Structured Analysis Discriminative Dictionary and Analysis Multiclass Classifier' adicionado. Total atual: 932\n",
      "📄 Artigo 'Multilateral surgical pattern cutting in 2D orthotropic gauze with deep reinforcement learning policies for tensioning' adicionado. Total atual: 933\n",
      "📄 Artigo 'Explanatory learner models: Why machine learning (alone) is not the answer' adicionado. Total atual: 934\n",
      "📄 Artigo 'An Efficient Data Mining Technique for Assessing Satisfaction Level With Online Learning for Higher Education Students During the COVID-19' adicionado. Total atual: 935\n",
      "📄 Artigo 'Educational Data Mining to Support Programming Learning Using Problem-Solving Data' adicionado. Total atual: 936\n",
      "📄 Artigo 'Discovering students use of learning resources with educational data mining' adicionado. Total atual: 937\n",
      "📄 Artigo 'Learning Analytics in MOOCs as an Instrument for Measuring Math Anxiety' adicionado. Total atual: 938\n",
      "📄 Artigo 'Data analysis and personalized recommendation of western music history information using deep learning under Internet of Things' adicionado. Total atual: 939\n",
      "📄 Artigo 'A Text Mining and Statistical Approach for Assessment of Pedagogical Impact of Students’ Evaluation of Teaching and Learning Outcome in Education' adicionado. Total atual: 940\n",
      "📄 Artigo 'Leveraging the Innovation-Based Learning Framework to Predict and Understand Student Success in Innovation' adicionado. Total atual: 941\n",
      "📄 Artigo 'Exploring students digital activities and performances through their activities logged in learning management system using educational data mining approach' adicionado. Total atual: 942\n",
      "📄 Artigo 'Using Learning Analytics to Improve Students’ Reading Skills: A case study in an American International School with EAL Students' adicionado. Total atual: 943\n"
     ]
    },
    {
     "name": "stderr",
     "output_type": "stream",
     "text": [
      "10:15:33 [INFO] open_alex:   -> 10 artigos relevantes adicionados do cache para '\"math learning\" AND \"educational data mining\"'.\n",
      "10:15:33 [INFO] open_alex: 🔎 Iniciando busca para: '\"math learning\" AND \"machine learning\"'\n",
      "10:15:33 [INFO] open_alex: 📋 Carregando 10 artigos do cache para '\"math learning\" AND \"machine learning\"'\n"
     ]
    },
    {
     "name": "stdout",
     "output_type": "stream",
     "text": [
      "📄 Artigo 'Introduction to Machine Learning with Python: A Guide for Data Scientists' adicionado. Total atual: 944\n",
      "📄 Artigo 'Federated Learning With Differential Privacy: Algorithms and Performance Analysis' adicionado. Total atual: 945\n",
      "📄 Artigo 'Reconfigurable Intelligent Surfaces: Principles and Opportunities' adicionado. Total atual: 946\n",
      "📄 Artigo 'A Survey on Curriculum Learning' adicionado. Total atual: 947\n",
      "📄 Artigo 'Algorithms of oppression: how search engines reinforce racism' adicionado. Total atual: 948\n",
      "📄 Artigo 'Edge-IIoTset: A New Comprehensive Realistic Cyber Security Dataset of IoT and IIoT Applications for Centralized and Federated Learning' adicionado. Total atual: 949\n",
      "📄 Artigo 'Armadillo: a template-based C++ library for linear algebra' adicionado. Total atual: 950\n",
      "📄 Artigo 'Event-Based Vision: A Survey' adicionado. Total atual: 951\n",
      "📄 Artigo 'Learning-Based Model Predictive Control for Autonomous Racing' adicionado. Total atual: 952\n",
      "📄 Artigo 'AI Fairness 360: An extensible toolkit for detecting and mitigating algorithmic bias' adicionado. Total atual: 953\n"
     ]
    },
    {
     "name": "stderr",
     "output_type": "stream",
     "text": [
      "10:15:33 [INFO] open_alex:   -> 10 artigos relevantes adicionados do cache para '\"math learning\" AND \"machine learning\"'.\n",
      "10:15:33 [INFO] open_alex: 🔎 Iniciando busca para: '\"math learning\" AND \"artificial intelligence\"'\n",
      "10:15:33 [INFO] open_alex: 📋 Carregando 10 artigos do cache para '\"math learning\" AND \"artificial intelligence\"'\n"
     ]
    },
    {
     "name": "stdout",
     "output_type": "stream",
     "text": [
      "📄 Artigo 'Algorithms of oppression: how search engines reinforce racism' adicionado. Total atual: 954\n",
      "📄 Artigo 'Atlas of AI: Power, Politics, and the Planetary Costs of Artificial Intelligence' adicionado. Total atual: 955\n",
      "📄 Artigo 'Deep Reinforcement Learning Paradigm for Performance Optimization of Channel Observation–Based MAC Protocols in Dense WLANs' adicionado. Total atual: 956\n",
      "📄 Artigo 'Communication-Efficient Edge AI: Algorithms and Systems' adicionado. Total atual: 957\n",
      "📄 Artigo 'ChatGPT: A revolutionary tool for teaching and learning mathematics' adicionado. Total atual: 958\n"
     ]
    },
    {
     "name": "stderr",
     "output_type": "stream",
     "text": [
      "10:15:33 [INFO] open_alex:   -> 10 artigos relevantes adicionados do cache para '\"math learning\" AND \"artificial intelligence\"'.\n",
      "10:15:33 [INFO] open_alex: 🔎 Iniciando busca para: '\"math learning\" AND \"automated assessment\"'\n",
      "10:15:33 [INFO] open_alex: 📋 Carregando 10 artigos do cache para '\"math learning\" AND \"automated assessment\"'\n"
     ]
    },
    {
     "name": "stdout",
     "output_type": "stream",
     "text": [
      "📄 Artigo 'Cross-Modality Bridging and Knowledge Transferring for Image Understanding' adicionado. Total atual: 959\n",
      "📄 Artigo 'Activity Recognition Using Temporal Optical Flow Convolutional Features and Multilayer LSTM' adicionado. Total atual: 960\n",
      "📄 Artigo 'Mobility Digital Twin: Concept, Architecture, Case Study, and Future Challenges' adicionado. Total atual: 961\n",
      "📄 Artigo 'Implementation of Hybrid Deep Learning Model (LSTM-CNN) for Ionospheric TEC Forecasting Using GPS Data' adicionado. Total atual: 962\n",
      "📄 Artigo 'Artificial Intelligence for Law Enforcement: Challenges and Opportunities' adicionado. Total atual: 963\n",
      "📄 Artigo 'XSleepNet: Multi-View Sequential Model for Automatic Sleep Staging' adicionado. Total atual: 964\n",
      "📄 Artigo 'Academic Outcomes 2 Years After Working Memory Training for Children With Low Working Memory' adicionado. Total atual: 965\n",
      "📄 Artigo 'Automated Assessment in Mathematics' adicionado. Total atual: 966\n",
      "📄 Artigo 'A Large Scale Quantitative Exploration of Modeling Strategies for Content Scoring' adicionado. Total atual: 967\n",
      "📄 Artigo 'Neural Architecture Search as Multiobjective Optimization Benchmarks: Problem Formulation and Performance Assessment' adicionado. Total atual: 968\n",
      "📄 Artigo 'Group Learning Assessment: Developing a Theory-Informed Analytics' adicionado. Total atual: 969\n",
      "📄 Artigo 'Automated Detection of Three-Dimensional Cars in Mobile Laser Scanning Point Clouds Using DBM-Hough-Forests' adicionado. Total atual: 970\n",
      "📄 Artigo 'Teaching Life-Saving Manoeuvres in Primary School' adicionado. Total atual: 971\n"
     ]
    },
    {
     "name": "stderr",
     "output_type": "stream",
     "text": [
      "10:15:34 [INFO] open_alex:   -> 10 artigos relevantes adicionados do cache para '\"math learning\" AND \"automated assessment\"'.\n",
      "10:15:34 [INFO] open_alex: 🔎 Iniciando busca para: '\"math learning\" AND \"competency identification\"'\n",
      "10:15:34 [INFO] open_alex: 📋 Carregando 8 artigos do cache para '\"math learning\" AND \"competency identification\"'\n"
     ]
    },
    {
     "name": "stdout",
     "output_type": "stream",
     "text": [
      "📄 Artigo 'Lesion Segmentation and Automated Melanoma Detection using Deep Convolutional Neural Networks and XGBoost' adicionado. Total atual: 972\n",
      "📄 Artigo 'Using Technology to Support Teaching Computer Science: A Study with Middle School Students' adicionado. Total atual: 973\n",
      "📄 Artigo 'Brain Structural Integrity and Intrinsic Functional Connectivity Forecast 6 Year Longitudinal Growth in Children's Numerical Abilities' adicionado. Total atual: 974\n",
      "📄 Artigo 'The relationship between teacher qualification and the quality of the early childhood education and care environment' adicionado. Total atual: 975\n",
      "📄 Artigo 'Sustainable Math Education of Female Students during a Pandemic: Online versus Face-to-Face Instruction' adicionado. Total atual: 976\n",
      "📄 Artigo 'Characterising immersive argument-based inquiry learning environments in school-based education: a systematic literature review' adicionado. Total atual: 977\n",
      "📄 Artigo 'STEM-PBL Activity for Higher Education to Enhance the STEM Competency' adicionado. Total atual: 978\n",
      "📄 Artigo 'Educational Placement and Goal Quality for Students With Complex Support Needs' adicionado. Total atual: 979\n"
     ]
    },
    {
     "name": "stderr",
     "output_type": "stream",
     "text": [
      "10:15:34 [INFO] open_alex:   -> 8 artigos relevantes adicionados do cache para '\"math learning\" AND \"competency identification\"'.\n",
      "10:15:34 [INFO] open_alex: 🔎 Iniciando busca para: '\"math learning\" AND \"student modeling\"'\n",
      "10:15:34 [INFO] open_alex: 📋 Carregando 7 artigos do cache para '\"math learning\" AND \"student modeling\"'\n"
     ]
    },
    {
     "name": "stdout",
     "output_type": "stream",
     "text": [
      "📄 Artigo 'STEM education K-12: perspectives on integration' adicionado. Total atual: 980\n",
      "📄 Artigo 'Artificial Intelligence in Education: A Review' adicionado. Total atual: 981\n",
      "📄 Artigo 'Effect of Mobile Augmented Reality on Learning Performance, Motivation, and Math Anxiety in a Math Course' adicionado. Total atual: 982\n",
      "📄 Artigo 'Even Einstein struggled: Effects of learning about great scientists’ struggles on high school students’ motivation to learn science.' adicionado. Total atual: 983\n",
      "📄 Artigo 'GAN Lab: Understanding Complex Deep Generative Models using Interactive Visual Experimentation' adicionado. Total atual: 984\n"
     ]
    },
    {
     "name": "stderr",
     "output_type": "stream",
     "text": [
      "10:15:35 [INFO] open_alex:   -> 7 artigos relevantes adicionados do cache para '\"math learning\" AND \"student modeling\"'.\n",
      "10:15:35 [INFO] open_alex: 🔎 Iniciando busca para: '\"math learning\" AND \"predictive analytics\"'\n",
      "10:15:35 [INFO] open_alex: 📋 Carregando 10 artigos do cache para '\"math learning\" AND \"predictive analytics\"'\n"
     ]
    },
    {
     "name": "stdout",
     "output_type": "stream",
     "text": [
      "📄 Artigo 'Identifying middle school students’ challenges in computational thinking-based science learning' adicionado. Total atual: 985\n",
      "📄 Artigo 'How Does ICT Use Influence Students’ Achievements in Math and Science Over Time? Evidence from PISA 2000 to 2012' adicionado. Total atual: 986\n",
      "📄 Artigo 'Achieving Elusive Teacher Change through Challenging Myths about Learning: A Blended Approach' adicionado. Total atual: 987\n",
      "📄 Artigo 'Explanatory learner models: Why machine learning (alone) is not the answer' adicionado. Total atual: 988\n",
      "📄 Artigo 'Learning to predict the cosmological structure formation' adicionado. Total atual: 989\n",
      "📄 Artigo 'Explanatory learner models: Why machine learning (alone) is not the answer' adicionado. Total atual: 990\n",
      "📄 Artigo 'Bayesian Inference for State-Space Models With Student-<i>t</i> Mixture Distributions' adicionado. Total atual: 991\n",
      "📄 Artigo 'A big data based deep learning approach for vehicle speed prediction' adicionado. Total atual: 992\n",
      "📄 Artigo 'A New Look at an Old Problem: A Universal Learning Approach to Linear Regression' adicionado. Total atual: 993\n",
      "📄 Artigo 'Novel Planar Auxetic Metamaterial Perforated with Orthogonally Aligned Oval‐Shaped Holes and Machine Learning Solutions' adicionado. Total atual: 994\n",
      "📄 Artigo 'Leveraging Class Balancing Techniques to Alleviate Algorithmic Bias for Predictive Tasks in Education' adicionado. Total atual: 995\n",
      "📄 Artigo 'TourSense: A Framework for Tourist Identification and Analytics Using Transport Data' adicionado. Total atual: 996\n",
      "📄 Artigo 'Effective Machine Learning Based Format Selection and Performance Modeling for SpMV on GPUs' adicionado. Total atual: 997\n"
     ]
    },
    {
     "name": "stderr",
     "output_type": "stream",
     "text": [
      "10:15:35 [INFO] open_alex:   -> 10 artigos relevantes adicionados do cache para '\"math learning\" AND \"predictive analytics\"'.\n",
      "10:15:35 [INFO] open_alex: 🔎 Iniciando busca para: '\"mathematics teaching\" AND \"adaptive learning\"'\n",
      "10:15:35 [INFO] open_alex: 📋 Carregando 7 artigos do cache para '\"mathematics teaching\" AND \"adaptive learning\"'\n"
     ]
    },
    {
     "name": "stdout",
     "output_type": "stream",
     "text": [
      "📄 Artigo 'Deep Learning Inverse Analysis of Higher Order Modes in Monocone TEM Cell' adicionado. Total atual: 998\n",
      "📄 Artigo 'Cognitive Apprenticeship: Teaching the Crafts of Reading, Writing, and Mathematics' adicionado. Total atual: 999\n",
      "📄 Artigo 'Improving Students’ Mathematical Problem Solving Ability and Self-Efficacy through Guided Discovery Learning in Local Culture Context' adicionado. Total atual: 1000\n",
      "📄 Artigo 'Online Mathematics Homework Increases Student Achievement' adicionado. Total atual: 1001\n",
      "📄 Artigo 'Intelligent Tutoring Systems' adicionado. Total atual: 1002\n"
     ]
    },
    {
     "name": "stderr",
     "output_type": "stream",
     "text": [
      "10:15:35 [INFO] open_alex:   -> 7 artigos relevantes adicionados do cache para '\"mathematics teaching\" AND \"adaptive learning\"'.\n",
      "10:15:35 [INFO] open_alex: 🔎 Iniciando busca para: '\"mathematics teaching\" AND \"personalized learning\"'\n",
      "10:15:35 [INFO] open_alex: 📋 Carregando 10 artigos do cache para '\"mathematics teaching\" AND \"personalized learning\"'\n"
     ]
    },
    {
     "name": "stdout",
     "output_type": "stream",
     "text": [
      "📄 Artigo 'Teaching for creativity in the common core classroom' adicionado. Total atual: 1003\n",
      "📄 Artigo 'Understanding innovative pedagogies' adicionado. Total atual: 1004\n",
      "📄 Artigo 'Perangkat pembelajaran matematika bercirikan PBL untuk mengembangkan HOTS siswa SMA' adicionado. Total atual: 1005\n",
      "📄 Artigo 'Interacting with educational chatbots: A systematic review' adicionado. Total atual: 1006\n",
      "📄 Artigo 'A Systematic Literature Review on Teaching and Learning Introductory Programming in Higher Education' adicionado. Total atual: 1007\n",
      "📄 Artigo 'Using Short Video Lectures to Enhance Mathematics Learning - Experiences on Differential and Integral Calculus Course for Engineering Students' adicionado. Total atual: 1008\n",
      "📄 Artigo 'Learning Styles and Development of Cognitive Skills in Mathematics Learning' adicionado. Total atual: 1009\n",
      "📄 Artigo 'Current Challenges and Future Research Directions in Augmented Reality for Education' adicionado. Total atual: 1010\n",
      "📄 Artigo 'Intelligent tutorial system based on personalized system of instruction to teach or remind mathematical concepts' adicionado. Total atual: 1011\n"
     ]
    },
    {
     "name": "stderr",
     "output_type": "stream",
     "text": [
      "10:15:36 [INFO] open_alex:   -> 10 artigos relevantes adicionados do cache para '\"mathematics teaching\" AND \"personalized learning\"'.\n",
      "10:15:36 [INFO] open_alex: 🔎 Iniciando busca para: '\"mathematics teaching\" AND \"intelligent tutoring systems\"'\n",
      "10:15:36 [INFO] open_alex: 📋 Carregando 10 artigos do cache para '\"mathematics teaching\" AND \"intelligent tutoring systems\"'\n"
     ]
    },
    {
     "name": "stdout",
     "output_type": "stream",
     "text": [
      "📄 Artigo 'Towards the gamification of inquiry-based flipped teaching of mathematics a conceptual analysis and framework' adicionado. Total atual: 1012\n",
      "📄 Artigo 'Exploring the future of mathematics teaching: Insight with ChatGPT' adicionado. Total atual: 1013\n",
      "📄 Artigo 'Developing a Personalised Learning Model Based on Interactive Novels to Improve the Quality of Mathematics Education' adicionado. Total atual: 1014\n",
      "📄 Artigo 'Beginnings of Artificial Intelligence in Medicine (AIM): Computational Artifice Assisting Scientific Inquiry and Clinical Art – with Reflections on Present AIM Challenges' adicionado. Total atual: 1015\n",
      "📄 Artigo 'Effects of Prior Knowledge in Mathematics on Learner-Interface Interactions in a Learning-by-Teaching Intelligent Tutoring System' adicionado. Total atual: 1016\n",
      "📄 Artigo 'Intelligent Tutoring Systems' adicionado. Total atual: 1017\n",
      "📄 Artigo 'Systematic Review: Trends in Intelligent Tutoring Systems in Mathematics Teaching and Learning' adicionado. Total atual: 1018\n",
      "📄 Artigo 'An application of Chinese dialogue-based intelligent tutoring system in remedial instruction for mathematics learning' adicionado. Total atual: 1019\n",
      "📄 Artigo 'Teaching Mathematics Integrating Intelligent Tutoring Systems: Investigating Prospective Teachers’ Concerns and TPACK' adicionado. Total atual: 1020\n",
      "📄 Artigo 'A Systematic Literature Review of Intelligent Tutoring Systems With Dialogue in Natural Language' adicionado. Total atual: 1021\n",
      "📄 Artigo 'Mathematics intelligent tutoring system for learning multiplication and division of fractions based on diagnostic teaching' adicionado. Total atual: 1022\n",
      "📄 Artigo 'Intelligent Tutoring Systems: Why Teachers Abandoned a Technology Aimed at Automating Teaching Processes' adicionado. Total atual: 1023\n",
      "📄 Artigo 'Intelligent tutoring chatbot for solving mathematical problems in High-school' adicionado. Total atual: 1024\n"
     ]
    },
    {
     "name": "stderr",
     "output_type": "stream",
     "text": [
      "10:15:36 [INFO] open_alex:   -> 10 artigos relevantes adicionados do cache para '\"mathematics teaching\" AND \"intelligent tutoring systems\"'.\n",
      "10:15:36 [INFO] open_alex: 🔎 Iniciando busca para: '\"mathematics teaching\" AND \"learning analytics\"'\n",
      "10:15:36 [INFO] open_alex: 📋 Carregando 8 artigos do cache para '\"mathematics teaching\" AND \"learning analytics\"'\n"
     ]
    },
    {
     "name": "stdout",
     "output_type": "stream",
     "text": [
      "📄 Artigo 'Intelligent Tutoring Systems' adicionado. Total atual: 1025\n",
      "📄 Artigo 'Fundamentals of Machine Learning for Predictive Data Analytics: Algorithms, Worked Examples, and Case Studies' adicionado. Total atual: 1026\n",
      "📄 Artigo 'Effects of innovative science and mathematics teaching on student attitudes and achievement: A meta-analytic study' adicionado. Total atual: 1027\n",
      "📄 Artigo 'The Future of Embodied Design for Mathematics Teaching and Learning' adicionado. Total atual: 1028\n",
      "📄 Artigo 'Supporting teachers in data‐informed educational design' adicionado. Total atual: 1029\n",
      "📄 Artigo 'A Framework for Describing Mathematics Discourse in Instruction and Interpreting Differences in Teaching' adicionado. Total atual: 1030\n",
      "📄 Artigo 'Synthesis of Modeling, Visualization, and Programming in GeoGebra as an Effective Approach for Teaching and Learning STEM Topics' adicionado. Total atual: 1031\n",
      "📄 Artigo 'The role of social network analysis as a learning analytics tool in online problem based learning' adicionado. Total atual: 1032\n"
     ]
    },
    {
     "name": "stderr",
     "output_type": "stream",
     "text": [
      "10:15:36 [INFO] open_alex:   -> 8 artigos relevantes adicionados do cache para '\"mathematics teaching\" AND \"learning analytics\"'.\n",
      "10:15:36 [INFO] open_alex: 🔎 Iniciando busca para: '\"mathematics teaching\" AND \"educational data mining\"'\n",
      "10:15:36 [INFO] open_alex: 📋 Carregando 10 artigos do cache para '\"mathematics teaching\" AND \"educational data mining\"'\n"
     ]
    },
    {
     "name": "stdout",
     "output_type": "stream",
     "text": [
      "📄 Artigo 'Creative Little Scientists: exploring pedagogical synergies between inquiry-based and creative approaches in Early Years science' adicionado. Total atual: 1033\n",
      "📄 Artigo 'Data Mining for Student Performance Prediction in Education' adicionado. Total atual: 1034\n",
      "📄 Artigo 'Increasing the Adaptivity of an Intelligent Tutoring System with Educational Data Mining: A System Overview' adicionado. Total atual: 1035\n",
      "📄 Artigo 'Methods of teaching educational data mining for pedagogical students' adicionado. Total atual: 1036\n",
      "📄 Artigo 'Systematic review of research on artificial intelligence applications in higher education – where are the educators?' adicionado. Total atual: 1037\n",
      "📄 Artigo 'Application of Data Mining Technology in Public Welfare Sports Education in the Era of Artificial Intelligence' adicionado. Total atual: 1038\n",
      "📄 Artigo 'Intentionality and Players of Effective Online Courses in Mathematics' adicionado. Total atual: 1039\n",
      "📄 Artigo 'Comparative analysis of classification algorithm evaluations to predict secondary school students’ achievement in core and elective subjects' adicionado. Total atual: 1040\n",
      "📄 Artigo 'Analysis on the Use of Continuous Improvement, Technology and Flipped Classroom in the Teaching-Learning Process by means of Data Science' adicionado. Total atual: 1041\n"
     ]
    },
    {
     "name": "stderr",
     "output_type": "stream",
     "text": [
      "10:15:37 [INFO] open_alex:   -> 10 artigos relevantes adicionados do cache para '\"mathematics teaching\" AND \"educational data mining\"'.\n",
      "10:15:37 [INFO] open_alex: 🔎 Iniciando busca para: '\"mathematics teaching\" AND \"machine learning\"'\n",
      "10:15:37 [INFO] open_alex: 📋 Carregando 10 artigos do cache para '\"mathematics teaching\" AND \"machine learning\"'\n"
     ]
    },
    {
     "name": "stdout",
     "output_type": "stream",
     "text": [
      "📄 Artigo 'Educational Data Mining with Learning Analytics and Unsupervised Algorithms: Analysis and Diagnosis in Basic Education' adicionado. Total atual: 1042\n",
      "📄 Artigo 'SmaEPho–Smart Photometry in Education 4.0' adicionado. Total atual: 1043\n",
      "📄 Artigo 'Fundamentals of Machine Learning for Predictive Data Analytics: Algorithms, Worked Examples, and Case Studies' adicionado. Total atual: 1044\n",
      "📄 Artigo 'Machine Teaching: An Inverse Problem to Machine Learning and an Approach Toward Optimal Education' adicionado. Total atual: 1045\n",
      "📄 Artigo 'A New Typology Design of Performance Metrics to Measure Errors in Machine Learning Regression Algorithms' adicionado. Total atual: 1046\n",
      "📄 Artigo 'The Alignment Problem: Machine Learning and Human Values' adicionado. Total atual: 1047\n",
      "📄 Artigo 'Classroom sound can be used to classify teaching practices in college science courses' adicionado. Total atual: 1048\n",
      "📄 Artigo 'Multimedia Interaction-Based Computer-Aided Translation Technology in Applied English Teaching' adicionado. Total atual: 1049\n",
      "📄 Artigo 'Evaluation of Physical Education Teaching Quality in Colleges Based on the Hybrid Technology of Data Mining and Hidden Markov Model' adicionado. Total atual: 1050\n"
     ]
    },
    {
     "name": "stderr",
     "output_type": "stream",
     "text": [
      "10:15:37 [INFO] open_alex:   -> 10 artigos relevantes adicionados do cache para '\"mathematics teaching\" AND \"machine learning\"'.\n",
      "10:15:37 [INFO] open_alex: 🔎 Iniciando busca para: '\"mathematics teaching\" AND \"artificial intelligence\"'\n",
      "10:15:37 [INFO] open_alex: 📋 Carregando 10 artigos do cache para '\"mathematics teaching\" AND \"artificial intelligence\"'\n"
     ]
    },
    {
     "name": "stdout",
     "output_type": "stream",
     "text": [
      "📄 Artigo 'Hands-on training about overfitting' adicionado. Total atual: 1051\n",
      "📄 Artigo 'Machine Learning-Based App for Self-Evaluation of Teacher-Specific Instructional Style and Tools' adicionado. Total atual: 1052\n",
      "📄 Artigo 'Modern Artificial Intelligence Model Development for Undergraduate Student Performance Prediction: An Investigation on Engineering Mathematics Courses' adicionado. Total atual: 1053\n",
      "📄 Artigo 'ChatGPT: A revolutionary tool for teaching and learning mathematics' adicionado. Total atual: 1054\n",
      "📄 Artigo 'PISA 2018 Results (Volume I)' adicionado. Total atual: 1055\n",
      "📄 Artigo 'RETRACTED: Visualization of Basic Mathematics Teaching Based on Artificial Intelligence' adicionado. Total atual: 1056\n",
      "📄 Artigo 'ChatGPT Challenges Blended Learning Methodologies in Engineering Education: A Case Study in Mathematics' adicionado. Total atual: 1057\n",
      "📄 Artigo 'Innovative Teaching of Integration of Artificial Intelligence and University Mathematics in Big Data Environment' adicionado. Total atual: 1058\n",
      "📄 Artigo 'Effectiveness of Artificial Intelligence (AI) in Improving Pupils’ Deep Learning in Primary School Mathematics Teaching in Fujian Province' adicionado. Total atual: 1059\n"
     ]
    },
    {
     "name": "stderr",
     "output_type": "stream",
     "text": [
      "10:15:37 [INFO] open_alex:   -> 10 artigos relevantes adicionados do cache para '\"mathematics teaching\" AND \"artificial intelligence\"'.\n",
      "10:15:37 [INFO] open_alex: 🔎 Iniciando busca para: '\"mathematics teaching\" AND \"automated assessment\"'\n",
      "10:15:37 [INFO] open_alex: 📋 Carregando 10 artigos do cache para '\"mathematics teaching\" AND \"automated assessment\"'\n"
     ]
    },
    {
     "name": "stdout",
     "output_type": "stream",
     "text": [
      "📄 Artigo 'Benefits and Limitations of the Artificial with Respect to the Traditional Learning of Mathematics' adicionado. Total atual: 1060\n",
      "📄 Artigo 'Artificial intelligence in mathematics education: A systematic literature review' adicionado. Total atual: 1061\n",
      "📄 Artigo 'Research on Teaching Reform of Probability Theory and Mathematical Statistics in Artificial Intelligence Major' adicionado. Total atual: 1062\n",
      "📄 Artigo 'The Alignment Problem: Machine Learning and Human Values' adicionado. Total atual: 1063\n",
      "📄 Artigo 'Ten Good Reasons to Adopt an Automated Formative Assessment Model for Learning and Teaching Mathematics and Scientific Disciplines' adicionado. Total atual: 1064\n",
      "📄 Artigo 'Automated Assessment in Mathematics' adicionado. Total atual: 1065\n",
      "📄 Artigo 'Creating mathematics formative assessments using LaTeX, PDF forms and computer algebra' adicionado. Total atual: 1066\n",
      "📄 Artigo 'Digital Support for University Guidance and Improvement of Study Results' adicionado. Total atual: 1067\n",
      "📄 Artigo 'Software Solution Improving Productivity and Quality for Big Volume Students' Group Assessment Process' adicionado. Total atual: 1068\n",
      "📄 Artigo 'Systematic review of research on artificial intelligence applications in higher education – where are the educators?' adicionado. Total atual: 1069\n",
      "📄 Artigo 'Exploring the role of computer-based assessment in diagnosing children’s mathematical errors in primary education in Ireland' adicionado. Total atual: 1070\n",
      "📄 Artigo 'Pedagogically-Driven Ontology Network for Conceptualizing the e-Learning Assessment Domain.' adicionado. Total atual: 1071\n"
     ]
    },
    {
     "name": "stderr",
     "output_type": "stream",
     "text": [
      "10:15:38 [INFO] open_alex:   -> 10 artigos relevantes adicionados do cache para '\"mathematics teaching\" AND \"automated assessment\"'.\n",
      "10:15:38 [INFO] open_alex: 🔎 Iniciando busca para: '\"mathematics teaching\" AND \"competency identification\"'\n",
      "10:15:38 [INFO] open_alex: 📋 Carregando 8 artigos do cache para '\"mathematics teaching\" AND \"competency identification\"'\n"
     ]
    },
    {
     "name": "stdout",
     "output_type": "stream",
     "text": [
      "📄 Artigo 'Problems of Teaching Future Teachers of Humanities the Basics of Fuzzy Logic and Ways to Overcome Them' adicionado. Total atual: 1072\n",
      "📄 Artigo 'Opinion Paper: “So what if ChatGPT wrote it?” Multidisciplinary perspectives on opportunities, challenges and implications of generative conversational AI for research, practice and policy' adicionado. Total atual: 1073\n",
      "📄 Artigo 'Systematic review of research on artificial intelligence applications in higher education – where are the educators?' adicionado. Total atual: 1074\n",
      "📄 Artigo 'THE EFFECT OF LESSON STUDY ON THE PERCEPTIONS OF MATHEMATICS TEACHERS ABOUT SUBJECT AREA COMPETENCIES' adicionado. Total atual: 1075\n",
      "📄 Artigo 'Developing teachers’ PCK about STEM teaching approach through the implementation of design research' adicionado. Total atual: 1076\n",
      "📄 Artigo 'Zone of proximal development and scaffolding required by junior high school students in solving mathematical problems' adicionado. Total atual: 1077\n"
     ]
    },
    {
     "name": "stderr",
     "output_type": "stream",
     "text": [
      "10:15:38 [INFO] open_alex:   -> 8 artigos relevantes adicionados do cache para '\"mathematics teaching\" AND \"competency identification\"'.\n",
      "10:15:38 [INFO] open_alex: 🔎 Iniciando busca para: '\"mathematics teaching\" AND \"student modeling\"'\n",
      "10:15:38 [INFO] open_alex: 📋 Carregando 9 artigos do cache para '\"mathematics teaching\" AND \"student modeling\"'\n"
     ]
    },
    {
     "name": "stdout",
     "output_type": "stream",
     "text": [
      "📄 Artigo 'Bridging science education and science communication research' adicionado. Total atual: 1078\n",
      "📄 Artigo 'Opinion Paper: “So what if ChatGPT wrote it?” Multidisciplinary perspectives on opportunities, challenges and implications of generative conversational AI for research, practice and policy' adicionado. Total atual: 1079\n",
      "📄 Artigo 'STEM education K-12: perspectives on integration' adicionado. Total atual: 1080\n",
      "📄 Artigo 'Manifestations of Mathematics within the Power Dynamics in a Pre-K Classroom' adicionado. Total atual: 1081\n",
      "📄 Artigo 'Introduction to the Finite Element Method' adicionado. Total atual: 1082\n",
      "📄 Artigo 'STUDENTS’ MATHEMATICAL PROBLEM-SOLVING ABILITY BASED ON TEACHING MODELS INTERVENTION AND COGNITIVE STYLE' adicionado. Total atual: 1083\n",
      "📄 Artigo 'Teacher performance toward students’ mathematical literacy in teaching linear program mathematical models' adicionado. Total atual: 1084\n",
      "📄 Artigo 'Teacher job satisfaction: the importance of school working conditions and teacher characteristics' adicionado. Total atual: 1085\n",
      "📄 Artigo 'Fundamentals of Machine Learning for Predictive Data Analytics: Algorithms, Worked Examples, and Case Studies' adicionado. Total atual: 1086\n"
     ]
    },
    {
     "name": "stderr",
     "output_type": "stream",
     "text": [
      "10:15:38 [INFO] open_alex:   -> 9 artigos relevantes adicionados do cache para '\"mathematics teaching\" AND \"student modeling\"'.\n",
      "10:15:38 [INFO] open_alex: 🔎 Iniciando busca para: '\"mathematics teaching\" AND \"predictive analytics\"'\n",
      "10:15:38 [INFO] open_alex: 📋 Carregando 9 artigos do cache para '\"mathematics teaching\" AND \"predictive analytics\"'\n"
     ]
    },
    {
     "name": "stdout",
     "output_type": "stream",
     "text": [
      "📄 Artigo 'Improving Students’ Mathematical Problem Solving Ability and Self-Efficacy through Guided Discovery Learning in Local Culture Context' adicionado. Total atual: 1087\n",
      "📄 Artigo 'The Oxford Handbook of Computational and Mathematical Psychology' adicionado. Total atual: 1088\n",
      "📄 Artigo 'Investigating Students’ Attitude towards Learning Mathematics' adicionado. Total atual: 1089\n",
      "📄 Artigo 'Assessing the effectiveness of the contextual teaching and learning model on students’ mathematical understanding ability: a meta-analysis study' adicionado. Total atual: 1090\n",
      "📄 Artigo 'Fundamentals of Machine Learning for Predictive Data Analytics: Algorithms, Worked Examples, and Case Studies' adicionado. Total atual: 1091\n",
      "📄 Artigo 'Multistep energy consumption forecasting by metaheuristic optimization of time‐series analysis and machine learning' adicionado. Total atual: 1092\n",
      "📄 Artigo 'What and when' adicionado. Total atual: 1093\n",
      "📄 Artigo 'Building personalised homework from a learning analytics based formative assessment: Effect on fifth‐grade students' understanding of fractions' adicionado. Total atual: 1094\n",
      "📄 Artigo 'Student Performance Predictions for Advanced Engineering Mathematics Course With New Multivariate Copula Models' adicionado. Total atual: 1095\n"
     ]
    },
    {
     "name": "stderr",
     "output_type": "stream",
     "text": [
      "10:15:38 [INFO] open_alex:   -> 9 artigos relevantes adicionados do cache para '\"mathematics teaching\" AND \"predictive analytics\"'.\n"
     ]
    },
    {
     "name": "stdout",
     "output_type": "stream",
     "text": [
      "📄 Artigo 'Parsing the notion of algebraic thinking within a cognitive perspective' adicionado. Total atual: 1096\n",
      "📄 Artigo 'Experimental Analytical Model of Conditions and Quality Control of Vocational Training of Workers and Specialists' adicionado. Total atual: 1097\n",
      "📄 Artigo 'Students� Analytical Thinking in Solving Problems of Polygon Areas' adicionado. Total atual: 1098\n",
      "📄 Artigo 'Quantitative Big Data: where chemometrics can contribute' adicionado. Total atual: 1099\n"
     ]
    },
    {
     "name": "stderr",
     "output_type": "stream",
     "text": [
      "10:15:39 [INFO] open_alex: 🔎 Iniciando busca para: '\"educação matemática\" AND \"adaptive learning\"'\n",
      "10:15:39 [INFO] open_alex: 📋 Carregando 6 artigos do cache para '\"educação matemática\" AND \"adaptive learning\"'\n"
     ]
    },
    {
     "name": "stdout",
     "output_type": "stream",
     "text": [
      "📄 Artigo 'Em busca de compreensões sobre os objetos de aprendizagem na educação matemática por meio de uma revisão sistemática de literatura&lt;br&gt;In search of understanding about learning objects in mathematics education through a systematic literature review' adicionado. Total atual: 1100\n",
      "📄 Artigo 'O Uso das Metodologias Ativas nas Áreas de Matemática e Ciência da Computação: um Mapeamento Sistemático da Literatura' adicionado. Total atual: 1101\n",
      "📄 Artigo 'CONHECIMENTOS PROFISSIONAIS EVIDENCIADOS EM ESTUDOS DE AULA NA PERSPECTIVA DE PROFESSORES PARTICIPANTES' adicionado. Total atual: 1102\n",
      "📄 Artigo 'O “Big Data” – Possibilidades e Contribuições de Pesquisas Recentes para o Ensino e Aprendizagem de Matemática' adicionado. Total atual: 1103\n"
     ]
    },
    {
     "name": "stderr",
     "output_type": "stream",
     "text": [
      "10:15:39 [INFO] open_alex:   -> 6 artigos relevantes adicionados do cache para '\"educação matemática\" AND \"adaptive learning\"'.\n",
      "10:15:39 [INFO] open_alex: 🔎 Iniciando busca para: '\"educação matemática\" AND \"personalized learning\"'\n",
      "10:15:39 [INFO] open_alex: 📋 Carregando 6 artigos do cache para '\"educação matemática\" AND \"personalized learning\"'\n"
     ]
    },
    {
     "name": "stdout",
     "output_type": "stream",
     "text": [
      "📄 Artigo 'FARMA: Uma Ferramenta de Autoria para Objetos de Aprendizagem de Conceitos Matemáticos' adicionado. Total atual: 1104\n",
      "📄 Artigo 'Aprendizagens Profissionais de Professores Evidenciadas em Pesquisas sobre Estudos de Aula' adicionado. Total atual: 1105\n"
     ]
    },
    {
     "name": "stderr",
     "output_type": "stream",
     "text": [
      "10:15:39 [INFO] open_alex:   -> 6 artigos relevantes adicionados do cache para '\"educação matemática\" AND \"personalized learning\"'.\n",
      "10:15:39 [INFO] open_alex: 🔎 Iniciando busca para: '\"educação matemática\" AND \"intelligent tutoring systems\"'\n",
      "10:15:39 [INFO] open_alex: 📋 Carregando 10 artigos do cache para '\"educação matemática\" AND \"intelligent tutoring systems\"'\n"
     ]
    },
    {
     "name": "stdout",
     "output_type": "stream",
     "text": [
      "📄 Artigo 'Contribuições de Stephen Ball para o campo das políticas educacionais' adicionado. Total atual: 1106\n",
      "📄 Artigo 'Community college mathematics instructors of color on the pursuit of supporting developmental students’ self-efficacy' adicionado. Total atual: 1107\n",
      "📄 Artigo 'Os impactos na educação do uso de plataformas adaptativas: o exemplo da Khan Academy' adicionado. Total atual: 1108\n",
      "📄 Artigo 'O POTENCIAL EDUCATIVO DO ENSINO HÍBRIDO ENQUANTO UMA METODOLOGIA ATIVA: UM ESTUDO DE CASO' adicionado. Total atual: 1109\n",
      "📄 Artigo 'Aprendizagem ativa com significado' adicionado. Total atual: 1110\n",
      "📄 Artigo 'CAPSI: Caracterização de uma versão on-line do Sistema Personalizado de Ensino' adicionado. Total atual: 1111\n",
      "📄 Artigo 'Uso de Técnicas de Inteligência Artificial num Sistema de Mesa Tangível' adicionado. Total atual: 1112\n",
      "📄 Artigo 'Uso de gamificação em ambientes virtuais de aprendizagem para reduzir o problema da externalização de comportamentos indesejáveis' adicionado. Total atual: 1113\n",
      "📄 Artigo 'Um estudo teórico sobre competências necessárias para compreender o uso da Inteligência Artificial na Educação' adicionado. Total atual: 1114\n",
      "📄 Artigo 'Proposta de arquitetura baseada em agentes inteligentes integrados em ambientes E-learning' adicionado. Total atual: 1115\n"
     ]
    },
    {
     "name": "stderr",
     "output_type": "stream",
     "text": [
      "10:15:40 [INFO] open_alex:   -> 10 artigos relevantes adicionados do cache para '\"educação matemática\" AND \"intelligent tutoring systems\"'.\n"
     ]
    },
    {
     "name": "stdout",
     "output_type": "stream",
     "text": [
      "📄 Artigo 'Sistemas Tutores Inteligentes na Aprendizagem por Competências: Uma Revisão Sistemática da Literatura' adicionado. Total atual: 1116\n",
      "📄 Artigo 'Sistemas Tutores Inteligentes: um Mapeamento das Produções Brasileiras' adicionado. Total atual: 1117\n",
      "📄 Artigo 'Organização e representação de conhecimento de temas de pesquisa' adicionado. Total atual: 1118\n",
      "📄 Artigo 'Caracterização de alunos em ambientes de ensino online: estendendo o uso da DAMICORE para minerar dados educacionais' adicionado. Total atual: 1119\n",
      "📄 Artigo 'Processo de Design Colaborativo de Artefatos Tangíveis para Crianças' adicionado. Total atual: 1120\n",
      "📄 Artigo 'Erros comuns de docentes sem letramento em Inteligência Artificial: uma revisão integrativa para o ensino superior' adicionado. Total atual: 1121\n"
     ]
    },
    {
     "name": "stderr",
     "output_type": "stream",
     "text": [
      "10:15:40 [INFO] open_alex: 🔎 Iniciando busca para: '\"educação matemática\" AND \"learning analytics\"'\n",
      "10:15:40 [INFO] open_alex: 📋 Carregando 9 artigos do cache para '\"educação matemática\" AND \"learning analytics\"'\n"
     ]
    },
    {
     "name": "stdout",
     "output_type": "stream",
     "text": [
      "📄 Artigo 'O potencial de um estudo piloto na pesquisa qualitativa (The potential of a pilot study in qualitative research)' adicionado. Total atual: 1122\n",
      "📄 Artigo 'Aplicações de game learning analytics na abordagem sobre conceitos de matemática' adicionado. Total atual: 1123\n",
      "📄 Artigo 'Educação matemática realística: uma abordagem teórico-metodológica para o ensino de matemática nas escolas do campo' adicionado. Total atual: 1124\n",
      "📄 Artigo 'Aspectos metodológicos da pesquisa em Educação Matemática: rumos e perspectivas&lt;br&gt;Methodological aspects of research in Mathematics Education: directions and perspectives' adicionado. Total atual: 1125\n"
     ]
    },
    {
     "name": "stderr",
     "output_type": "stream",
     "text": [
      "10:15:40 [INFO] open_alex:   -> 9 artigos relevantes adicionados do cache para '\"educação matemática\" AND \"learning analytics\"'.\n",
      "10:15:40 [INFO] open_alex: 🔎 Iniciando busca para: '\"educação matemática\" AND \"educational data mining\"'\n",
      "10:15:40 [INFO] open_alex: 📋 Carregando 6 artigos do cache para '\"educação matemática\" AND \"educational data mining\"'\n"
     ]
    },
    {
     "name": "stdout",
     "output_type": "stream",
     "text": [
      "📄 Artigo 'Educação matemática e educação técnica agrícola na década de 1980&lt;br&gt;Mathematics education and technical agricultural education in the 1980s' adicionado. Total atual: 1126\n",
      "📄 Artigo 'A APRENDIZAGEM MATEMÁTICA DE SURDOS: enunciados que circulam nos Cadernos Cedes' adicionado. Total atual: 1127\n",
      "📄 Artigo 'Aprendizagem e formação da consciência histórica: possibilidades de pesquisa em Educação Histórica' adicionado. Total atual: 1128\n",
      "📄 Artigo 'Atividade de Programação Computacional para a Aprendizagem de Matemática na Educação Básica' adicionado. Total atual: 1129\n",
      "📄 Artigo 'Conhecimento Especializado do Professor de Matemática em Dissertações e Teses Brasileiras' adicionado. Total atual: 1130\n",
      "📄 Artigo 'Mineração de dados orientada pelo domínio educacional: uma prova de conceito' adicionado. Total atual: 1131\n",
      "📄 Artigo 'MINERAÇÃO DE DADOS EM AMBIENTES VIRTUAIS DE APRENDIZAGEM: APORTES PARA A PESQUISA EM EDUCAÇÃO A DISTÂNCIA' adicionado. Total atual: 1132\n",
      "📄 Artigo 'Inteligência Artificial e Educação: conceitos, aplicações e implicações no fazer docente' adicionado. Total atual: 1133\n",
      "📄 Artigo 'Indicadores para avaliação de programas educacionais: desafios metodológicos' adicionado. Total atual: 1134\n",
      "📄 Artigo 'Research Trend on Ethnomathematics from 2012 To 2022: A Bibliometric Analysis' adicionado. Total atual: 1135\n"
     ]
    },
    {
     "name": "stderr",
     "output_type": "stream",
     "text": [
      "10:15:40 [INFO] open_alex:   -> 6 artigos relevantes adicionados do cache para '\"educação matemática\" AND \"educational data mining\"'.\n",
      "10:15:40 [INFO] open_alex: 🔎 Iniciando busca para: '\"educação matemática\" AND \"machine learning\"'\n",
      "10:15:40 [INFO] open_alex: ☁️ Cache não encontrado ou vazio para '\"educação matemática\" AND \"machine learning\"'. Buscando na API...\n"
     ]
    },
    {
     "name": "stdout",
     "output_type": "stream",
     "text": [
      "📄 Artigo 'Proposta de arquitetura baseada em agentes inteligentes integrados em ambientes E-learning' adicionado. Total atual: 1136\n"
     ]
    },
    {
     "name": "stderr",
     "output_type": "stream",
     "text": [
      "10:15:41 [ERROR] open_alex: OpenAlex Request failed (Attempt 1/3): 403 Client Error: FORBIDDEN for url: https://api.openalex.org/works?filter=publication_year%3A%3E2014&search=educa%C3%A7%C3%A3o+matem%C3%A1tica+AND+machine+learning&per-page=10&page=1&select=id%2Cdoi%2Ctitle%2Cpublication_year%2Cauthorships%2Chost_venue%2Cabstract_inverted_index%2Copen_access%2Cconcepts%2Ctopics%2Ckeywords\n"
     ]
    },
    {
     "name": "stdout",
     "output_type": "stream",
     "text": [
      "   ⏳ Aguardando 3.53 segundos antes de tentar novamente...\n"
     ]
    },
    {
     "name": "stderr",
     "output_type": "stream",
     "text": [
      "10:15:45 [ERROR] open_alex: OpenAlex Request failed (Attempt 2/3): 403 Client Error: FORBIDDEN for url: https://api.openalex.org/works?filter=publication_year%3A%3E2014&search=educa%C3%A7%C3%A3o+matem%C3%A1tica+AND+machine+learning&per-page=10&page=1&select=id%2Cdoi%2Ctitle%2Cpublication_year%2Cauthorships%2Chost_venue%2Cabstract_inverted_index%2Copen_access%2Cconcepts%2Ctopics%2Ckeywords\n"
     ]
    },
    {
     "name": "stdout",
     "output_type": "stream",
     "text": [
      "   ⏳ Aguardando 6.20 segundos antes de tentar novamente...\n"
     ]
    },
    {
     "name": "stderr",
     "output_type": "stream",
     "text": [
      "10:15:51 [ERROR] open_alex: OpenAlex Request failed (Attempt 3/3): 403 Client Error: FORBIDDEN for url: https://api.openalex.org/works?filter=publication_year%3A%3E2014&search=educa%C3%A7%C3%A3o+matem%C3%A1tica+AND+machine+learning&per-page=10&page=1&select=id%2Cdoi%2Ctitle%2Cpublication_year%2Cauthorships%2Chost_venue%2Cabstract_inverted_index%2Copen_access%2Cconcepts%2Ctopics%2Ckeywords\n",
      "10:15:51 [ERROR] open_alex: OpenAlex falhou após 3 tentativas para query '\"educação matemática\" AND \"machine learning\"', page 1.\n",
      "10:15:51 [INFO] open_alex: ℹ️ Nenhum resultado retornado pela API para '\"educação matemática\" AND \"machine learning\"'.\n",
      "10:15:51 [INFO] open_alex: 🔎 Iniciando busca para: '\"educação matemática\" AND \"artificial intelligence\"'\n",
      "10:15:51 [INFO] open_alex: 📋 Carregando 4 artigos do cache para '\"educação matemática\" AND \"artificial intelligence\"'\n",
      "10:15:51 [INFO] open_alex:   -> 4 artigos relevantes adicionados do cache para '\"educação matemática\" AND \"artificial intelligence\"'.\n",
      "10:15:51 [INFO] open_alex: 🔎 Iniciando busca para: '\"educação matemática\" AND \"automated assessment\"'\n",
      "10:15:51 [INFO] open_alex: 📋 Carregando 7 artigos do cache para '\"educação matemática\" AND \"automated assessment\"'\n",
      "10:15:51 [INFO] open_alex:   -> 7 artigos relevantes adicionados do cache para '\"educação matemática\" AND \"automated assessment\"'.\n",
      "10:15:51 [INFO] open_alex: 🔎 Iniciando busca para: '\"educação matemática\" AND \"competency identification\"'\n",
      "10:15:51 [INFO] open_alex: 📋 Carregando 6 artigos do cache para '\"educação matemática\" AND \"competency identification\"'\n",
      "10:15:51 [INFO] open_alex:   -> 6 artigos relevantes adicionados do cache para '\"educação matemática\" AND \"competency identification\"'.\n",
      "10:15:51 [INFO] open_alex: 🔎 Iniciando busca para: '\"educação matemática\" AND \"student modeling\"'\n",
      "10:15:51 [INFO] open_alex: 📋 Carregando 9 artigos do cache para '\"educação matemática\" AND \"student modeling\"'\n"
     ]
    },
    {
     "name": "stdout",
     "output_type": "stream",
     "text": [
      "📄 Artigo 'Ensino da Inteligência Artificial na Educação Básica: um novo horizonte para as pesquisas brasileiras' adicionado. Total atual: 1137\n",
      "📄 Artigo 'Recent developments in using digital technology in mathematics education' adicionado. Total atual: 1138\n",
      "📄 Artigo 'Chatbots na educação: uma Revisão Sistemática da Literatura' adicionado. Total atual: 1139\n",
      "📄 Artigo 'O ChatGPT como recurso de apoio no ensino da Matemática' adicionado. Total atual: 1140\n",
      "📄 Artigo 'Recent developments in using digital technology in mathematics education' adicionado. Total atual: 1141\n",
      "📄 Artigo 'Community college mathematics instructors of color on the pursuit of supporting developmental students’ self-efficacy' adicionado. Total atual: 1142\n",
      "📄 Artigo 'Single-Board Computers na Educação: Uma revisão sistemática da literatura' adicionado. Total atual: 1143\n",
      "📄 Artigo 'Creation and assessment of learning objects for the definition and geometric representation of operations and applications of vectors' adicionado. Total atual: 1144\n",
      "📄 Artigo 'Computational Thinking Goes to School: Implications for Teacher Education in Brazil' adicionado. Total atual: 1145\n",
      "📄 Artigo 'PLANNING OF MANIPULATIVE MATERIALS IN THE CONTEXT OF LESSON STUDY IN CONTINUOUS TEACHER TRAINING FOR INCLUSIVE MATHEMATICAL LITERACY' adicionado. Total atual: 1146\n",
      "📄 Artigo 'Ferramentas de Apoio ao Ensino Introdutório de Programação: um Mapeamento Sistemático' adicionado. Total atual: 1147\n",
      "📄 Artigo '“O pré-escolar faz a diferença?” Políticas educativas na educação de infância e práticas pedagógicas' adicionado. Total atual: 1148\n",
      "📄 Artigo 'The constitution of research groups in Mathematics Education in Brazil' adicionado. Total atual: 1149\n",
      "📄 Artigo 'Mathematical modelling as a virtual learning environment for teacher education programs' adicionado. Total atual: 1150\n",
      "📄 Artigo 'Formação de Professor: reflexões da educação matemática no ensino superior' adicionado. Total atual: 1151\n",
      "📄 Artigo 'Comparative study on current recommendations on technologies for the Teaching of Mathematics in Brazil and Portugal' adicionado. Total atual: 1152\n",
      "📄 Artigo 'School mathematics and teaching authorship in Brazilian curriculum production (1929-2019)' adicionado. Total atual: 1153\n",
      "📄 Artigo 'Avaliação em atividades com Modelagem Matemática na Educação Matemática: uma proposta de instrumento&lt;br&gt;Assessment in practices with mathematical modeling in mathematics education: A proposal of an assessment tool' adicionado. Total atual: 1154\n",
      "📄 Artigo 'Modelagem Matemática e Programação de Computadores: uma Possibilidade para a Construção de Conhecimento na Educação Básica&lt;br&gt;Mathematical Modeling and Computer Programming: a Possibility for the Construction of Knowledge in Basic Education' adicionado. Total atual: 1155\n",
      "📄 Artigo 'ANÁLISE DA PROFICIÊNCIA EM MATEMÁTICA POR MEIO DE REGRESSÃO LINEAR MÚLTIPLA' adicionado. Total atual: 1156\n",
      "📄 Artigo 'O Efeito da Capacitação Docente no Desempenho Dos Alunos: Uma Contribuição para A Formulação de Novas Políticas Públicas de Melhoria da Qualidade da Educação Básica' adicionado. Total atual: 1157\n"
     ]
    },
    {
     "name": "stderr",
     "output_type": "stream",
     "text": [
      "10:15:52 [INFO] open_alex:   -> 9 artigos relevantes adicionados do cache para '\"educação matemática\" AND \"student modeling\"'.\n",
      "10:15:52 [INFO] open_alex: 🔎 Iniciando busca para: '\"educação matemática\" AND \"predictive analytics\"'\n",
      "10:15:52 [INFO] open_alex: ☁️ Cache não encontrado ou vazio para '\"educação matemática\" AND \"predictive analytics\"'. Buscando na API...\n"
     ]
    },
    {
     "name": "stdout",
     "output_type": "stream",
     "text": [
      "📄 Artigo 'A geometria do táxi: uma proposta da geometria não euclidiana na educação básica &lt;br&gt; The táxicab geometry: a proposal non-euclidean geometry in basic education' adicionado. Total atual: 1158\n",
      "📄 Artigo 'Formação de professores em Modelagem e a escola: que caminhos perseguir?' adicionado. Total atual: 1159\n",
      "📄 Artigo 'Modelagem matemática e o funcionamento do velocímetro' adicionado. Total atual: 1160\n",
      "📄 Artigo 'Os Desafios do Estágio Supervisionado em um Curso de Licenciatura a Distância' adicionado. Total atual: 1161\n",
      "📄 Artigo 'REFLEXIONES SOBRE LA IMPORTANCIA DE LA MODELACIÓN MATEMÁTICA COMO ESTRATEGIA INDUCTORA DE COMPETENCIAS ESTADÍSTICAS' adicionado. Total atual: 1162\n"
     ]
    },
    {
     "name": "stderr",
     "output_type": "stream",
     "text": [
      "10:15:52 [ERROR] open_alex: OpenAlex Request failed (Attempt 1/3): 403 Client Error: FORBIDDEN for url: https://api.openalex.org/works?filter=publication_year%3A%3E2014&search=educa%C3%A7%C3%A3o+matem%C3%A1tica+AND+predictive+analytics&per-page=10&page=1&select=id%2Cdoi%2Ctitle%2Cpublication_year%2Cauthorships%2Chost_venue%2Cabstract_inverted_index%2Copen_access%2Cconcepts%2Ctopics%2Ckeywords\n"
     ]
    },
    {
     "name": "stdout",
     "output_type": "stream",
     "text": [
      "   ⏳ Aguardando 3.34 segundos antes de tentar novamente...\n"
     ]
    },
    {
     "name": "stderr",
     "output_type": "stream",
     "text": [
      "10:15:56 [ERROR] open_alex: OpenAlex Request failed (Attempt 2/3): 403 Client Error: FORBIDDEN for url: https://api.openalex.org/works?filter=publication_year%3A%3E2014&search=educa%C3%A7%C3%A3o+matem%C3%A1tica+AND+predictive+analytics&per-page=10&page=1&select=id%2Cdoi%2Ctitle%2Cpublication_year%2Cauthorships%2Chost_venue%2Cabstract_inverted_index%2Copen_access%2Cconcepts%2Ctopics%2Ckeywords\n"
     ]
    },
    {
     "name": "stdout",
     "output_type": "stream",
     "text": [
      "   ⏳ Aguardando 6.12 segundos antes de tentar novamente...\n"
     ]
    },
    {
     "name": "stderr",
     "output_type": "stream",
     "text": [
      "10:16:02 [ERROR] open_alex: OpenAlex Request failed (Attempt 3/3): 403 Client Error: FORBIDDEN for url: https://api.openalex.org/works?filter=publication_year%3A%3E2014&search=educa%C3%A7%C3%A3o+matem%C3%A1tica+AND+predictive+analytics&per-page=10&page=1&select=id%2Cdoi%2Ctitle%2Cpublication_year%2Cauthorships%2Chost_venue%2Cabstract_inverted_index%2Copen_access%2Cconcepts%2Ctopics%2Ckeywords\n",
      "10:16:02 [ERROR] open_alex: OpenAlex falhou após 3 tentativas para query '\"educação matemática\" AND \"predictive analytics\"', page 1.\n",
      "10:16:02 [INFO] open_alex: ℹ️ Nenhum resultado retornado pela API para '\"educação matemática\" AND \"predictive analytics\"'.\n",
      "10:16:02 [INFO] open_alex: 🔎 Iniciando busca para: '\"ensino de matemática\" AND \"adaptive learning\"'\n",
      "10:16:02 [INFO] open_alex: 📋 Carregando 9 artigos do cache para '\"ensino de matemática\" AND \"adaptive learning\"'\n",
      "10:16:02 [INFO] open_alex:   -> 9 artigos relevantes adicionados do cache para '\"ensino de matemática\" AND \"adaptive learning\"'.\n",
      "10:16:02 [INFO] open_alex: 🔎 Iniciando busca para: '\"ensino de matemática\" AND \"personalized learning\"'\n",
      "10:16:02 [INFO] open_alex: 📋 Carregando 6 artigos do cache para '\"ensino de matemática\" AND \"personalized learning\"'\n",
      "10:16:02 [INFO] open_alex:   -> 6 artigos relevantes adicionados do cache para '\"ensino de matemática\" AND \"personalized learning\"'.\n",
      "10:16:02 [INFO] open_alex: 🔎 Iniciando busca para: '\"ensino de matemática\" AND \"intelligent tutoring systems\"'\n",
      "10:16:02 [INFO] open_alex: 📋 Carregando 10 artigos do cache para '\"ensino de matemática\" AND \"intelligent tutoring systems\"'\n"
     ]
    },
    {
     "name": "stdout",
     "output_type": "stream",
     "text": [
      "📄 Artigo 'Estratégias e Procedimentos Emergentes na Resolução de Questões de Análise Combinatória e o Ensino Exploratório de Matemática' adicionado. Total atual: 1163\n",
      "📄 Artigo 'O Uso das Metodologias Ativas nas Áreas de Matemática e Ciência da Computação: um Mapeamento Sistemático da Literatura' adicionado. Total atual: 1164\n",
      "📄 Artigo 'Em busca de compreensões sobre os objetos de aprendizagem na educação matemática por meio de uma revisão sistemática de literatura&lt;br&gt;In search of understanding about learning objects in mathematics education through a systematic literature review' adicionado. Total atual: 1165\n",
      "📄 Artigo 'As perspectivas de aplicação de atividades matemáticas para alunos autistas: habilidades na aprendizagem matemática' adicionado. Total atual: 1166\n",
      "📄 Artigo 'CONHECIMENTOS PROFISSIONAIS EVIDENCIADOS EM ESTUDOS DE AULA NA PERSPECTIVA DE PROFESSORES PARTICIPANTES' adicionado. Total atual: 1167\n",
      "📄 Artigo 'O “Big Data” – Possibilidades e Contribuições de Pesquisas Recentes para o Ensino e Aprendizagem de Matemática' adicionado. Total atual: 1168\n",
      "📄 Artigo 'O ensino híbrido como instrumento de recuperação paralela no Instituto Federal de Educação, Ciência e Tecnologia de São Paulo' adicionado. Total atual: 1169\n",
      "📄 Artigo 'Jogos e educação matemática: uma revisão sistemática sobre o uso de jogos nos anos iniciais do ensino fundamental' adicionado. Total atual: 1170\n",
      "📄 Artigo 'FARMA: Uma Ferramenta de Autoria para Objetos de Aprendizagem de Conceitos Matemáticos' adicionado. Total atual: 1171\n",
      "📄 Artigo 'O ensino híbrido como instrumento de recuperação paralela no Instituto Federal de Educação, Ciência e Tecnologia de São Paulo' adicionado. Total atual: 1172\n",
      "📄 Artigo 'Os impactos na educação do uso de plataformas adaptativas: o exemplo da Khan Academy' adicionado. Total atual: 1173\n",
      "📄 Artigo 'O POTENCIAL EDUCATIVO DO ENSINO HÍBRIDO ENQUANTO UMA METODOLOGIA ATIVA: UM ESTUDO DE CASO' adicionado. Total atual: 1174\n",
      "📄 Artigo 'Aprendizagem ativa com significado' adicionado. Total atual: 1175\n",
      "📄 Artigo 'CAPSI: Caracterização de uma versão on-line do Sistema Personalizado de Ensino' adicionado. Total atual: 1176\n",
      "📄 Artigo 'Analysis of Learning Styles of Students Enrolled in a Technical Course in Electromechanics with the Application of the Inventory of Kolb' adicionado. Total atual: 1177\n",
      "📄 Artigo 'Uso de Técnicas de Inteligência Artificial num Sistema de Mesa Tangível' adicionado. Total atual: 1178\n",
      "📄 Artigo 'Uso de gamificação em ambientes virtuais de aprendizagem para reduzir o problema da externalização de comportamentos indesejáveis' adicionado. Total atual: 1179\n",
      "📄 Artigo 'Um estudo teórico sobre competências necessárias para compreender o uso da Inteligência Artificial na Educação' adicionado. Total atual: 1180\n",
      "📄 Artigo 'Proposta de arquitetura baseada em agentes inteligentes integrados em ambientes E-learning' adicionado. Total atual: 1181\n"
     ]
    },
    {
     "name": "stderr",
     "output_type": "stream",
     "text": [
      "10:16:02 [INFO] open_alex:   -> 10 artigos relevantes adicionados do cache para '\"ensino de matemática\" AND \"intelligent tutoring systems\"'.\n",
      "10:16:02 [INFO] open_alex: 🔎 Iniciando busca para: '\"ensino de matemática\" AND \"learning analytics\"'\n",
      "10:16:02 [INFO] open_alex: 📋 Carregando 10 artigos do cache para '\"ensino de matemática\" AND \"learning analytics\"'\n"
     ]
    },
    {
     "name": "stdout",
     "output_type": "stream",
     "text": [
      "📄 Artigo 'Processo de Design Colaborativo de Artefatos Tangíveis para Crianças' adicionado. Total atual: 1182\n",
      "📄 Artigo 'Caracterização de alunos em ambientes de ensino online: estendendo o uso da DAMICORE para minerar dados educacionais' adicionado. Total atual: 1183\n",
      "📄 Artigo 'Sistemas Tutores Inteligentes na Aprendizagem por Competências: Uma Revisão Sistemática da Literatura' adicionado. Total atual: 1184\n",
      "📄 Artigo 'Sistemas Tutores Inteligentes: um Mapeamento das Produções Brasileiras' adicionado. Total atual: 1185\n",
      "📄 Artigo 'Organização e representação de conhecimento de temas de pesquisa' adicionado. Total atual: 1186\n",
      "📄 Artigo 'STI Curumim: Uma Ferramenta de Aprendizagem de Trigonometria baseada na Teoria das Experiências de Aprendizagem Mediadas' adicionado. Total atual: 1187\n",
      "📄 Artigo 'Aplicações de game learning analytics na abordagem sobre conceitos de matemática' adicionado. Total atual: 1188\n",
      "📄 Artigo 'Relações com o saber, com o ensinar e com a aprendizagem em um projeto de formação inicial de professores de matemática no Brasil &lt;br&gt; Relations with the knowledge, teaching and learning in a initial training Project of mathematic teachers in Brazil' adicionado. Total atual: 1189\n",
      "📄 Artigo 'VLA Dashboard: Um Mecanismo para Visualização do Desempenho de Estudantes de Matemática no Ensino Médio' adicionado. Total atual: 1190\n",
      "📄 Artigo 'O potencial de um estudo piloto na pesquisa qualitativa (The potential of a pilot study in qualitative research)' adicionado. Total atual: 1191\n",
      "📄 Artigo 'Educação matemática realística: uma abordagem teórico-metodológica para o ensino de matemática nas escolas do campo' adicionado. Total atual: 1192\n",
      "📄 Artigo 'Aspectos metodológicos da pesquisa em Educação Matemática: rumos e perspectivas&lt;br&gt;Methodological aspects of research in Mathematics Education: directions and perspectives' adicionado. Total atual: 1193\n",
      "📄 Artigo 'Videoaulas de Matemática: Compreensões que Sustentam e Movimentam uma Produção' adicionado. Total atual: 1194\n",
      "📄 Artigo 'Game Learning Analytics como Artefato Avaliativo Sobre o Conceito de Probabilidade' adicionado. Total atual: 1195\n",
      "📄 Artigo 'Eixos de Afinidades de Pesquisa Acadêmica e o Ensino de Funções Exponenciais e Logarítmicas: uma Revisão de Literatura' adicionado. Total atual: 1196\n",
      "📄 Artigo 'As concepções de acadêmicos de Engenharia, no início do curso, sobre a Matemática e a aprendizagem Matemática' adicionado. Total atual: 1197\n"
     ]
    },
    {
     "name": "stderr",
     "output_type": "stream",
     "text": [
      "10:16:02 [INFO] open_alex:   -> 10 artigos relevantes adicionados do cache para '\"ensino de matemática\" AND \"learning analytics\"'.\n",
      "10:16:02 [INFO] open_alex: 🔎 Iniciando busca para: '\"ensino de matemática\" AND \"educational data mining\"'\n",
      "10:16:02 [INFO] open_alex: 📋 Carregando 9 artigos do cache para '\"ensino de matemática\" AND \"educational data mining\"'\n",
      "10:16:02 [INFO] open_alex:   -> 9 artigos relevantes adicionados do cache para '\"ensino de matemática\" AND \"educational data mining\"'.\n",
      "10:16:02 [INFO] open_alex: 🔎 Iniciando busca para: '\"ensino de matemática\" AND \"machine learning\"'\n",
      "10:16:02 [INFO] open_alex: ☁️ Cache não encontrado ou vazio para '\"ensino de matemática\" AND \"machine learning\"'. Buscando na API...\n"
     ]
    },
    {
     "name": "stdout",
     "output_type": "stream",
     "text": [
      "📄 Artigo 'Uma metodologia para a descoberta de conhecimento em bases de dados da Prova Brasil&lt;br&gt;A methodology for knowledge discovering in Prova Brasil databases' adicionado. Total atual: 1198\n",
      "📄 Artigo 'Early Prediction of College Attrition Using Data Mining' adicionado. Total atual: 1199\n",
      "📄 Artigo 'Game Learning Analytics como Artefato Avaliativo Sobre o Conceito de Probabilidade' adicionado. Total atual: 1200\n",
      "📄 Artigo 'Mineração de dados orientada pelo domínio educacional: uma prova de conceito' adicionado. Total atual: 1201\n",
      "📄 Artigo 'Indicadores para avaliação de programas educacionais: desafios metodológicos' adicionado. Total atual: 1202\n",
      "📄 Artigo 'Inteligência Artificial e Educação: conceitos, aplicações e implicações no fazer docente' adicionado. Total atual: 1203\n",
      "📄 Artigo 'MINERAÇÃO DE DADOS EM AMBIENTES VIRTUAIS DE APRENDIZAGEM: APORTES PARA A PESQUISA EM EDUCAÇÃO A DISTÂNCIA' adicionado. Total atual: 1204\n",
      "📄 Artigo 'Mineracão de dados da educação básica brasileira usando as bases do INEP: Uma revisão sistemática da literatura' adicionado. Total atual: 1205\n",
      "📄 Artigo 'Aplicación de Learning Analytics y Educational Data Mining en una institución de educación superior en Colombia' adicionado. Total atual: 1206\n"
     ]
    },
    {
     "name": "stderr",
     "output_type": "stream",
     "text": [
      "10:16:03 [ERROR] open_alex: OpenAlex Request failed (Attempt 1/3): 403 Client Error: FORBIDDEN for url: https://api.openalex.org/works?filter=publication_year%3A%3E2014&search=ensino+de+matem%C3%A1tica+AND+machine+learning&per-page=10&page=1&select=id%2Cdoi%2Ctitle%2Cpublication_year%2Cauthorships%2Chost_venue%2Cabstract_inverted_index%2Copen_access%2Cconcepts%2Ctopics%2Ckeywords\n"
     ]
    },
    {
     "name": "stdout",
     "output_type": "stream",
     "text": [
      "   ⏳ Aguardando 3.14 segundos antes de tentar novamente...\n"
     ]
    },
    {
     "name": "stderr",
     "output_type": "stream",
     "text": [
      "10:16:06 [ERROR] open_alex: OpenAlex Request failed (Attempt 2/3): 403 Client Error: FORBIDDEN for url: https://api.openalex.org/works?filter=publication_year%3A%3E2014&search=ensino+de+matem%C3%A1tica+AND+machine+learning&per-page=10&page=1&select=id%2Cdoi%2Ctitle%2Cpublication_year%2Cauthorships%2Chost_venue%2Cabstract_inverted_index%2Copen_access%2Cconcepts%2Ctopics%2Ckeywords\n"
     ]
    },
    {
     "name": "stdout",
     "output_type": "stream",
     "text": [
      "   ⏳ Aguardando 6.46 segundos antes de tentar novamente...\n"
     ]
    },
    {
     "name": "stderr",
     "output_type": "stream",
     "text": [
      "10:16:13 [ERROR] open_alex: OpenAlex Request failed (Attempt 3/3): 403 Client Error: FORBIDDEN for url: https://api.openalex.org/works?filter=publication_year%3A%3E2014&search=ensino+de+matem%C3%A1tica+AND+machine+learning&per-page=10&page=1&select=id%2Cdoi%2Ctitle%2Cpublication_year%2Cauthorships%2Chost_venue%2Cabstract_inverted_index%2Copen_access%2Cconcepts%2Ctopics%2Ckeywords\n",
      "10:16:13 [ERROR] open_alex: OpenAlex falhou após 3 tentativas para query '\"ensino de matemática\" AND \"machine learning\"', page 1.\n",
      "10:16:13 [INFO] open_alex: ℹ️ Nenhum resultado retornado pela API para '\"ensino de matemática\" AND \"machine learning\"'.\n",
      "10:16:13 [INFO] open_alex: 🔎 Iniciando busca para: '\"ensino de matemática\" AND \"artificial intelligence\"'\n",
      "10:16:13 [INFO] open_alex: 📋 Carregando 6 artigos do cache para '\"ensino de matemática\" AND \"artificial intelligence\"'\n",
      "10:16:13 [INFO] open_alex:   -> 6 artigos relevantes adicionados do cache para '\"ensino de matemática\" AND \"artificial intelligence\"'.\n",
      "10:16:13 [INFO] open_alex: 🔎 Iniciando busca para: '\"ensino de matemática\" AND \"automated assessment\"'\n",
      "10:16:13 [INFO] open_alex: 📋 Carregando 6 artigos do cache para '\"ensino de matemática\" AND \"automated assessment\"'\n"
     ]
    },
    {
     "name": "stdout",
     "output_type": "stream",
     "text": [
      "📄 Artigo 'Early Prediction of College Attrition Using Data Mining' adicionado. Total atual: 1207\n",
      "📄 Artigo 'Resolução de Problemas Envolvendo Escalas Lineares, Superficiais e Volumétricas: Inteligência Artificial e Pensamento Computacional' adicionado. Total atual: 1208\n",
      "📄 Artigo 'Ensino da Inteligência Artificial na Educação Básica: um novo horizonte para as pesquisas brasileiras' adicionado. Total atual: 1209\n",
      "📄 Artigo 'Chatbots na educação: uma Revisão Sistemática da Literatura' adicionado. Total atual: 1210\n",
      "📄 Artigo 'Evolução da inteligência competitiva com base em estudo métrico de sua literatura' adicionado. Total atual: 1211\n",
      "📄 Artigo 'O ChatGPT como recurso de apoio no ensino da Matemática' adicionado. Total atual: 1212\n",
      "📄 Artigo 'Single-Board Computers na Educação: Uma revisão sistemática da literatura' adicionado. Total atual: 1213\n",
      "📄 Artigo 'Creation and assessment of learning objects for the definition and geometric representation of operations and applications of vectors' adicionado. Total atual: 1214\n"
     ]
    },
    {
     "name": "stderr",
     "output_type": "stream",
     "text": [
      "10:16:13 [INFO] open_alex:   -> 6 artigos relevantes adicionados do cache para '\"ensino de matemática\" AND \"automated assessment\"'.\n",
      "10:16:13 [INFO] open_alex: 🔎 Iniciando busca para: '\"ensino de matemática\" AND \"competency identification\"'\n",
      "10:16:13 [INFO] open_alex: 📋 Carregando 7 artigos do cache para '\"ensino de matemática\" AND \"competency identification\"'\n"
     ]
    },
    {
     "name": "stdout",
     "output_type": "stream",
     "text": [
      "📄 Artigo 'Teste Adaptativo Multiestágio para o ENEM' adicionado. Total atual: 1215\n",
      "📄 Artigo 'Ferramentas de Apoio ao Ensino Introdutório de Programação: um Mapeamento Sistemático' adicionado. Total atual: 1216\n",
      "📄 Artigo 'PLANNING OF MANIPULATIVE MATERIALS IN THE CONTEXT OF LESSON STUDY IN CONTINUOUS TEACHER TRAINING FOR INCLUSIVE MATHEMATICAL LITERACY' adicionado. Total atual: 1217\n",
      "📄 Artigo 'COMUNICAÇÃO CIENTÍFICA APOIADA POR REALIDADE AUMENTADA: O CASO DO APLICATIVO AUMENTANDO KIRIMURÊ' adicionado. Total atual: 1218\n",
      "📄 Artigo '“O pré-escolar faz a diferença?” Políticas educativas na educação de infância e práticas pedagógicas' adicionado. Total atual: 1219\n",
      "📄 Artigo 'Formação de Professor: reflexões da educação matemática no ensino superior' adicionado. Total atual: 1220\n",
      "📄 Artigo 'The constitution of research groups in Mathematics Education in Brazil' adicionado. Total atual: 1221\n",
      "📄 Artigo 'Comparative study on current recommendations on technologies for the Teaching of Mathematics in Brazil and Portugal' adicionado. Total atual: 1222\n",
      "📄 Artigo 'Segregation within integrated schools: Racially disproportionate student-teacher assignments in middle school' adicionado. Total atual: 1223\n"
     ]
    },
    {
     "name": "stderr",
     "output_type": "stream",
     "text": [
      "10:16:13 [INFO] open_alex:   -> 7 artigos relevantes adicionados do cache para '\"ensino de matemática\" AND \"competency identification\"'.\n",
      "10:16:13 [INFO] open_alex: 🔎 Iniciando busca para: '\"ensino de matemática\" AND \"student modeling\"'\n",
      "10:16:13 [INFO] open_alex: 📋 Carregando 9 artigos do cache para '\"ensino de matemática\" AND \"student modeling\"'\n"
     ]
    },
    {
     "name": "stdout",
     "output_type": "stream",
     "text": [
      "📄 Artigo 'Knowledge in (Trans)Training and the Role of Experts: Curricula, Mathematics Education and Teacher Training, 1920-2020' adicionado. Total atual: 1224\n",
      "📄 Artigo 'Cultivating Mathematical Proficiencies and Identities through Culturally and Community Inspired Activities' adicionado. Total atual: 1225\n",
      "📄 Artigo 'Os números naturais no processo de ensino e aprendizagem da matemática através do lúdico' adicionado. Total atual: 1226\n",
      "📄 Artigo 'GeoGebra como herramienta mediadora de un fenómeno físico' adicionado. Total atual: 1227\n",
      "📄 Artigo 'Avaliação em atividades com Modelagem Matemática na Educação Matemática: uma proposta de instrumento&lt;br&gt;Assessment in practices with mathematical modeling in mathematics education: A proposal of an assessment tool' adicionado. Total atual: 1228\n",
      "📄 Artigo 'Modelagem Matemática e Programação de Computadores: uma Possibilidade para a Construção de Conhecimento na Educação Básica&lt;br&gt;Mathematical Modeling and Computer Programming: a Possibility for the Construction of Knowledge in Basic Education' adicionado. Total atual: 1229\n"
     ]
    },
    {
     "name": "stderr",
     "output_type": "stream",
     "text": [
      "10:16:14 [INFO] open_alex:   -> 9 artigos relevantes adicionados do cache para '\"ensino de matemática\" AND \"student modeling\"'.\n",
      "10:16:14 [INFO] open_alex: 🔎 Iniciando busca para: '\"ensino de matemática\" AND \"predictive analytics\"'\n",
      "10:16:14 [INFO] open_alex: ☁️ Cache não encontrado ou vazio para '\"ensino de matemática\" AND \"predictive analytics\"'. Buscando na API...\n"
     ]
    },
    {
     "name": "stdout",
     "output_type": "stream",
     "text": [
      "📄 Artigo 'O Efeito da Capacitação Docente no Desempenho Dos Alunos: Uma Contribuição para A Formulação de Novas Políticas Públicas de Melhoria da Qualidade da Educação Básica' adicionado. Total atual: 1230\n",
      "📄 Artigo 'ANÁLISIS DE LA REFLEXIÓN REALIZADA POR UN FUTURO PROFESOR SOBRE EL PAPEL DE LA MODELIZACIÓN MATEMÁTICA EN LA MEJORA DE UN PROCESO DE INSTRUCCIÓN PARA ENSEÑAR TRIGONOMETRÍA' adicionado. Total atual: 1231\n",
      "📄 Artigo 'Modelagem matemática e o funcionamento do velocímetro' adicionado. Total atual: 1232\n",
      "📄 Artigo 'Las ecuaciones diferenciales lineales de segundo orden como modelos matemáticos' adicionado. Total atual: 1233\n",
      "📄 Artigo 'ANÁLISE DA PROFICIÊNCIA EM MATEMÁTICA POR MEIO DE REGRESSÃO LINEAR MÚLTIPLA' adicionado. Total atual: 1234\n"
     ]
    },
    {
     "name": "stderr",
     "output_type": "stream",
     "text": [
      "10:16:14 [ERROR] open_alex: OpenAlex Request failed (Attempt 1/3): 403 Client Error: FORBIDDEN for url: https://api.openalex.org/works?filter=publication_year%3A%3E2014&search=ensino+de+matem%C3%A1tica+AND+predictive+analytics&per-page=10&page=1&select=id%2Cdoi%2Ctitle%2Cpublication_year%2Cauthorships%2Chost_venue%2Cabstract_inverted_index%2Copen_access%2Cconcepts%2Ctopics%2Ckeywords\n"
     ]
    },
    {
     "name": "stdout",
     "output_type": "stream",
     "text": [
      "   ⏳ Aguardando 4.33 segundos antes de tentar novamente...\n"
     ]
    },
    {
     "name": "stderr",
     "output_type": "stream",
     "text": [
      "10:16:19 [ERROR] open_alex: OpenAlex Request failed (Attempt 2/3): 403 Client Error: FORBIDDEN for url: https://api.openalex.org/works?filter=publication_year%3A%3E2014&search=ensino+de+matem%C3%A1tica+AND+predictive+analytics&per-page=10&page=1&select=id%2Cdoi%2Ctitle%2Cpublication_year%2Cauthorships%2Chost_venue%2Cabstract_inverted_index%2Copen_access%2Cconcepts%2Ctopics%2Ckeywords\n"
     ]
    },
    {
     "name": "stdout",
     "output_type": "stream",
     "text": [
      "   ⏳ Aguardando 6.06 segundos antes de tentar novamente...\n"
     ]
    },
    {
     "name": "stderr",
     "output_type": "stream",
     "text": [
      "10:16:25 [ERROR] open_alex: OpenAlex Request failed (Attempt 3/3): 403 Client Error: FORBIDDEN for url: https://api.openalex.org/works?filter=publication_year%3A%3E2014&search=ensino+de+matem%C3%A1tica+AND+predictive+analytics&per-page=10&page=1&select=id%2Cdoi%2Ctitle%2Cpublication_year%2Cauthorships%2Chost_venue%2Cabstract_inverted_index%2Copen_access%2Cconcepts%2Ctopics%2Ckeywords\n",
      "10:16:25 [ERROR] open_alex: OpenAlex falhou após 3 tentativas para query '\"ensino de matemática\" AND \"predictive analytics\"', page 1.\n",
      "10:16:25 [INFO] open_alex: ℹ️ Nenhum resultado retornado pela API para '\"ensino de matemática\" AND \"predictive analytics\"'.\n",
      "10:16:25 [INFO] open_alex: 🏁 Busca concluída.\n",
      "10:16:25 [INFO] open_alex:   Total adicionado do cache: 435\n",
      "10:16:25 [INFO] open_alex:   Total adicionado da API: 0\n",
      "10:16:25 [INFO] open_alex:   Total processado da API: 0\n",
      "10:16:25 [INFO] open_alex:   Total descartado (API + Cache): 435\n",
      "10:16:25 [INFO] crossref: CrossrefSearcher inicializado, usando instância 'works' global.\n",
      "10:16:25 [INFO] crossref: 🔎 Iniciando busca para: '\"mathematics education\" AND \"adaptive learning\"'\n",
      "10:16:25 [INFO] crossref: 📋 Carregando 16 artigos do cache para '\"mathematics education\" AND \"adaptive learning\"'\n",
      "10:16:25 [INFO] crossref:   -> 16 artigos relevantes adicionados do cache para '\"mathematics education\" AND \"adaptive learning\"'.\n"
     ]
    },
    {
     "name": "stdout",
     "output_type": "stream",
     "text": [
      "⚠️ Erro ao acessar OpenAlex: object of type 'NoneType' has no len()\n",
      "\n",
      "--- Iniciando busca no CrossRef ---\n",
      "📄 Artigo 'Self-adaptive e-Learning Website for Mathematics' adicionado. Total atual: 1235\n",
      "📄 Artigo 'Designing Adaptive Online Mathematics Course Based on Individualization Learning' adicionado. Total atual: 1236\n",
      "📄 Artigo 'Using Didactic Models to Design Adaptive Pathways to Meet Students’ Learning Needs in an Online Learning Environment' adicionado. Total atual: 1237\n",
      "📄 Artigo 'Collecting and Analysing Learners Data to Support the Adaptive Engine of OPERA, a Learning System for Mathematics' adicionado. Total atual: 1238\n",
      "📄 Artigo 'Analyzing the Effectiveness of AI-Powered Adaptive Learning Platforms in Mathematics Education' adicionado. Total atual: 1239\n",
      "📄 Artigo 'Perceptions of Preservice Teachers about Adaptive Learning Programs in K-8 Mathematics Education' adicionado. Total atual: 1240\n",
      "📄 Artigo 'Designing and Developing a Novel Hybrid Adaptive Learning Path Recommendation System (ALPRS) for Gamification Mathematics Geometry Course' adicionado. Total atual: 1241\n",
      "📄 Artigo 'DIGITAL TECHNOLOGIES AS A MEANS OF ADAPTIVE LEARNING FOR HIGHER EDUCATION INFORMATICS AND MATHEMATICS' adicionado. Total atual: 1242\n",
      "📄 Artigo 'Primary school mathematics during the COVID-19 pandemic: No evidence of learning gaps in adaptive practicing results' adicionado. Total atual: 1243\n",
      "📄 Artigo 'Hierarchical Reinforcement Learning for Adaptive Text Summarization' adicionado. Total atual: 1244\n",
      "📄 Artigo 'Supporting teacher learning about argumentation through adaptive, school-based professional development' adicionado. Total atual: 1245\n",
      "📄 Artigo 'Multimedia: Students' Adaptive Learning Engagement in Mathematics Classrooms' adicionado. Total atual: 1246\n",
      "📄 Artigo 'An Enhanced Learning Style Index: Implementation and Integration into an Intelligent and Adaptive e-Learning System' adicionado. Total atual: 1247\n",
      "📄 Artigo 'Learning from Feature and Global Topologies: Adaptive Multi-View Parallel Graph Contrastive Learning' adicionado. Total atual: 1248\n",
      "📄 Artigo 'Adaptive Batch Size Selection in Active Learning for Regression' adicionado. Total atual: 1249\n",
      "📄 Artigo 'Computer Adaptive-Based Learning and Assessment for Enhancing STEM Education in Africa: A Fourth Industrial Revolution Possibility' adicionado. Total atual: 1250\n"
     ]
    },
    {
     "name": "stderr",
     "output_type": "stream",
     "text": [
      "10:16:25 [INFO] crossref: 🔎 Iniciando busca para: '\"mathematics education\" AND \"personalized learning\"'\n",
      "10:16:25 [INFO] crossref: 📋 Carregando 20 artigos do cache para '\"mathematics education\" AND \"personalized learning\"'\n",
      "10:16:25 [INFO] crossref:   -> 20 artigos relevantes adicionados do cache para '\"mathematics education\" AND \"personalized learning\"'.\n",
      "10:16:25 [INFO] crossref: 🔎 Iniciando busca para: '\"mathematics education\" AND \"intelligent tutoring systems\"'\n",
      "10:16:25 [INFO] crossref: 📋 Carregando 13 artigos do cache para '\"mathematics education\" AND \"intelligent tutoring systems\"'\n"
     ]
    },
    {
     "name": "stdout",
     "output_type": "stream",
     "text": [
      "📄 Artigo 'Reimagining Mathematics Education: The Role of AI in Personalized Learning' adicionado. Total atual: 1251\n",
      "📄 Artigo 'Immersive Holographic Learning for Next Generation Personalized STEAM Education' adicionado. Total atual: 1252\n",
      "📄 Artigo 'Personalized Learning Examples in Gifted Education' adicionado. Total atual: 1253\n",
      "📄 Artigo 'Gifted Education, Talent Development, and Personalized Learning' adicionado. Total atual: 1254\n",
      "📄 Artigo 'Indian Folk Art Form Grooms and Improves Education With Personalized Learning Methods' adicionado. Total atual: 1255\n",
      "📄 Artigo 'Personalized Learning' adicionado. Total atual: 1256\n",
      "📄 Artigo 'Personalized Learning in STEAM' adicionado. Total atual: 1257\n",
      "📄 Artigo 'Empowering Engineering Minds: Unveiling the Significance of Personalized Learning in Mathematics Education' adicionado. Total atual: 1258\n",
      "📄 Artigo 'Revolutionizing STEAM Education' adicionado. Total atual: 1259\n",
      "📄 Artigo 'Artificial Intelligence Plays a Crucial Role in Integrating Personalized Learning Methods Into STEAM Education' adicionado. Total atual: 1260\n",
      "📄 Artigo 'The effects on the personalized learning platform with machine learning recommendation modules: Focused on learning time, self-directed learning ability, attitudes toward mathematics, and mathematics achievement' adicionado. Total atual: 1261\n",
      "📄 Artigo 'AI-Driven Personalized Learning: A Comprehensive Survey of Chatbot Applications in Education and Training' adicionado. Total atual: 1262\n",
      "📄 Artigo 'Enhancing Mathematics Education with ChatGPT-4 Personalized Problem-Solving and Consistent Learning' adicionado. Total atual: 1263\n",
      "📄 Artigo 'Evaluating Personalized Learning Designs' adicionado. Total atual: 1264\n",
      "📄 Artigo 'Personalized Learning and Student Achievement' adicionado. Total atual: 1265\n",
      "📄 Artigo 'Approaches to Personalized Learning' adicionado. Total atual: 1266\n",
      "📄 Artigo 'Student Engagement in Personalized Learning of Indian Literature in Sanskrit Language' adicionado. Total atual: 1267\n",
      "📄 Artigo 'Personalized Instructional Path Generation for Chinese Language Education Incorporating Reinforcement Learning' adicionado. Total atual: 1268\n",
      "📄 Artigo 'Personalized Physical Education Teaching Path Planning and Optimization Based on Deep Reinforcement Learning' adicionado. Total atual: 1269\n",
      "📄 Artigo 'The History of Personalized Learning' adicionado. Total atual: 1270\n"
     ]
    },
    {
     "name": "stderr",
     "output_type": "stream",
     "text": [
      "10:16:25 [INFO] crossref:   -> 13 artigos relevantes adicionados do cache para '\"mathematics education\" AND \"intelligent tutoring systems\"'.\n",
      "10:16:25 [INFO] crossref: 🔎 Iniciando busca para: '\"mathematics education\" AND \"learning analytics\"'\n",
      "10:16:25 [INFO] crossref: 📋 Carregando 19 artigos do cache para '\"mathematics education\" AND \"learning analytics\"'\n"
     ]
    },
    {
     "name": "stdout",
     "output_type": "stream",
     "text": [
      "📄 Artigo 'Intelligent Tutoring Systems in Mathematics Education: A Systematic Literature Review Using the Substitution, Augmentation, Modification, Redefinition Model' adicionado. Total atual: 1271\n",
      "📄 Artigo 'Tutoring Process in Emotionally Intelligent Tutoring Systems' adicionado. Total atual: 1272\n",
      "📄 Artigo 'Prospects and Challenges of Equipping Mathematics Tutoring Systems with Personalized Learning Strategies' adicionado. Total atual: 1273\n",
      "📄 Artigo 'Teaching Mathematics Integrating Intelligent Tutoring Systems: Investigating Prospective Teachers’ Concerns and TPACK' adicionado. Total atual: 1274\n",
      "📄 Artigo 'Learning Math for 1st Grade Primary School Students using Intelligent Tutoring Systems' adicionado. Total atual: 1275\n",
      "📄 Artigo 'AI in Education: Intelligent Tutoring Systems' adicionado. Total atual: 1276\n",
      "📄 Artigo 'Intelligent Tutoring Systems in Music Education' adicionado. Total atual: 1277\n",
      "📄 Artigo 'A Personalized Intelligent Tutoring System for Mathematics Homework' adicionado. Total atual: 1278\n",
      "📄 Artigo 'Intelligent Technologies in E-learning and Intelligent Tutoring Systems' adicionado. Total atual: 1279\n",
      "📄 Artigo 'Artificial Intelligence in Mathematics Education: A Systematic Literature Review on Intelligent Tutoring Systems' adicionado. Total atual: 1280\n",
      "📄 Artigo 'Systematic Review: Trends in Intelligent Tutoring Systems in Mathematics Teaching and Learning' adicionado. Total atual: 1281\n",
      "📄 Artigo 'Integration of an Intelligent Tutoring Software within an accelerated Engineering mathematics course' adicionado. Total atual: 1282\n",
      "📄 Artigo 'Enhancing mathematics education through artificial intelligence: A review of intelligent tutoring systems and adaptive learning technologies' adicionado. Total atual: 1283\n",
      "📄 Artigo 'Use of Learning Analytics in K–12 Mathematics Education' adicionado. Total atual: 1284\n",
      "📄 Artigo 'Learning Analytics in Higher Education' adicionado. Total atual: 1285\n",
      "📄 Artigo 'Learning mathematics in the new norms caused by digital game-based learning and learning analytics' adicionado. Total atual: 1286\n",
      "📄 Artigo 'Learning Analytics Support in Higher-Education: Towards a Multi-Level Shared Learning Analytics Framework' adicionado. Total atual: 1287\n",
      "📄 Artigo 'Federated Learning for Education Data Analytics' adicionado. Total atual: 1288\n",
      "📄 Artigo 'The Impact of Intelligent Analytics Platform on Secondary Mathematics Education Based on Smart Learning Network Study' adicionado. Total atual: 1289\n"
     ]
    },
    {
     "name": "stderr",
     "output_type": "stream",
     "text": [
      "10:16:26 [INFO] crossref:   -> 19 artigos relevantes adicionados do cache para '\"mathematics education\" AND \"learning analytics\"'.\n",
      "10:16:26 [INFO] crossref: 🔎 Iniciando busca para: '\"mathematics education\" AND \"educational data mining\"'\n",
      "10:16:26 [INFO] crossref: 📋 Carregando 20 artigos do cache para '\"mathematics education\" AND \"educational data mining\"'\n"
     ]
    },
    {
     "name": "stdout",
     "output_type": "stream",
     "text": [
      "📄 Artigo 'Integrating Option Tracing into Knowledge Tracing' adicionado. Total atual: 1290\n",
      "📄 Artigo 'Learning analytics in mathematics education: the case of feedback use in a digital classification task on reflective symmetry' adicionado. Total atual: 1291\n",
      "📄 Artigo 'Multimodal Learning Analytics and Education Data Mining: using computational technologies to measure complex learning tasks' adicionado. Total atual: 1292\n",
      "📄 Artigo 'Rearchitecting Data for Researchers:  A Collaborative Model for Enabling Institutional Learning Analytics in Higher Education' adicionado. Total atual: 1293\n",
      "📄 Artigo 'Predictive Learning Analytics 'At Scale': Guidelines to Successful Implementation in Higher Education' adicionado. Total atual: 1294\n",
      "📄 Artigo '“Trust the Process!”: Implementing Learning Analytics in Higher Education Institutions' adicionado. Total atual: 1295\n",
      "📄 Artigo 'Six Practical Recommendations Enabling Ethical Use of Predictive Learning Analytics in Distance Education' adicionado. Total atual: 1296\n",
      "📄 Artigo 'Uncovering Engagement Profiles of Young Learners in K–8 Education through Learning Analytics' adicionado. Total atual: 1297\n",
      "📄 Artigo 'Learning Analytics in Physics Education' adicionado. Total atual: 1298\n",
      "📄 Artigo 'Learning analytics in online education: data-driven insights into student success' adicionado. Total atual: 1299\n",
      "📄 Artigo 'A Capability Model for Learning Analytics Adoption: Identifying Organizational Capabilities from Literature on Learning Analytics, Big Data Analytics, and Business Analytics' adicionado. Total atual: 1300\n",
      "📄 Artigo 'Desperately Seeking the Impact of Learning Analytics in Education at Scale' adicionado. Total atual: 1301\n",
      "📄 Artigo 'Big Data Analytics in Education for Dynamic Personalised Learning Design' adicionado. Total atual: 1302\n",
      "📄 Artigo 'Data Mining Methods for Educational Effectiveness in Higher Education Aesthetic Education Programs' adicionado. Total atual: 1303\n",
      "📄 Artigo 'Predicting Students' Performance in Mathematics through Educational Data Mining Techniques during the Transition from Primary to Lower Secondary School' adicionado. Total atual: 1304\n",
      "📄 Artigo 'An Analysis of Educational Data Mining (EDM) in Advanced Education System' adicionado. Total atual: 1305\n",
      "📄 Artigo 'Educational Data Mining Rule based Recommender Systems' adicionado. Total atual: 1306\n",
      "📄 Artigo 'The Educational Value and Implementation Strategies of Sports Data Mining Techniques in Physical Education Courses' adicionado. Total atual: 1307\n",
      "📄 Artigo 'Educational Data Mining' adicionado. Total atual: 1308\n",
      "📄 Artigo 'Educational data mining that supports quality teaching: How to create a culture of data in educational policies' adicionado. Total atual: 1309\n",
      "📄 Artigo 'Educational Assessment, Educational Data Mining, and Learning Analytics' adicionado. Total atual: 1310\n",
      "📄 Artigo 'Educational Assessment, Educational Data Mining, and Learning Analytics' adicionado. Total atual: 1311\n",
      "📄 Artigo 'An Analysis of PISA 2018 Mathematics Assessment for Asia-Pacific Countries Using Educational Data Mining' adicionado. Total atual: 1312\n",
      "📄 Artigo 'Handling Big Data in Education: A Review of Educational Data Mining Techniques for Specific Educational Problems' adicionado. Total atual: 1313\n",
      "📄 Artigo 'Educational data mining: A tutorial for the rattle package in R' adicionado. Total atual: 1314\n",
      "📄 Artigo 'The social life of education data science: Learning analytics, educational data mining and metrological platforms' adicionado. Total atual: 1315\n",
      "📄 Artigo 'Prediction of mathematics performance using educational data mining techniques' adicionado. Total atual: 1316\n",
      "📄 Artigo 'Text Mining and Topic Modeling in Education: Revealing Insights from Educational Textual Data' adicionado. Total atual: 1317\n",
      "📄 Artigo 'Emerging Research Directions in Educational Data Mining' adicionado. Total atual: 1318\n",
      "📄 Artigo 'Research on the Application of Data Mining Technology in Educational Management System' adicionado. Total atual: 1319\n",
      "📄 Artigo 'Data Mining for Educational Management' adicionado. Total atual: 1320\n",
      "📄 Artigo 'Data Mining for Educational Management' adicionado. Total atual: 1321\n",
      "📄 Artigo 'Educational Data Mining Techniques and Applications' adicionado. Total atual: 1322\n"
     ]
    },
    {
     "name": "stderr",
     "output_type": "stream",
     "text": [
      "10:16:26 [INFO] crossref:   -> 20 artigos relevantes adicionados do cache para '\"mathematics education\" AND \"educational data mining\"'.\n",
      "10:16:26 [INFO] crossref: 🔎 Iniciando busca para: '\"mathematics education\" AND \"machine learning\"'\n",
      "10:16:26 [INFO] crossref: 📋 Carregando 20 artigos do cache para '\"mathematics education\" AND \"machine learning\"'\n"
     ]
    },
    {
     "name": "stdout",
     "output_type": "stream",
     "text": [
      "📄 Artigo 'Digital Device and Mathematics: Multilevel vs Machine Learning Models for Value-added Ranking in Italy' adicionado. Total atual: 1323\n",
      "📄 Artigo 'Application and Effect Evaluation of Machine Learning in Mathematics Education Assessment and Feedback' adicionado. Total atual: 1324\n",
      "📄 Artigo 'Exploring students’ constructions of data-based decision trees after an introductory teaching unit on machine learning' adicionado. Total atual: 1325\n",
      "📄 Artigo 'Retracted: International Chinese Education Expert System Based on Artificial Intelligence and Machine Learning Algorithms' adicionado. Total atual: 1326\n",
      "📄 Artigo 'AWS Machine Learning Services' adicionado. Total atual: 1327\n",
      "📄 Artigo 'Anomaly Detection in Network Traffic using Machine Learning and Deep Learning Techniques' adicionado. Total atual: 1328\n",
      "📄 Artigo 'Chapter 1: The Basics of Machine Learning' adicionado. Total atual: 1329\n",
      "📄 Artigo 'Onion Yield Prediction Based on Machine Learning' adicionado. Total atual: 1330\n",
      "📄 Artigo 'Machine Learning: A Review of Learning Types' adicionado. Total atual: 1331\n",
      "📄 Artigo 'Bias in Machine Learning Algorithms' adicionado. Total atual: 1332\n",
      "📄 Artigo 'Applications of Vedic Mathematics  for Machine Learning' adicionado. Total atual: 1333\n",
      "📄 Artigo 'Mental Health Prediction Models Using Machine Learning in Higher Education Institution' adicionado. Total atual: 1334\n",
      "📄 Artigo 'Introduction to Financial Econometrics, Mathematics, Statistics, and Machine Learning' adicionado. Total atual: 1335\n"
     ]
    },
    {
     "name": "stderr",
     "output_type": "stream",
     "text": [
      "10:16:26 [INFO] crossref:   -> 20 artigos relevantes adicionados do cache para '\"mathematics education\" AND \"machine learning\"'.\n",
      "10:16:26 [INFO] crossref: 🔎 Iniciando busca para: '\"mathematics education\" AND \"artificial intelligence\"'\n",
      "10:16:26 [INFO] crossref: 📋 Carregando 11 artigos do cache para '\"mathematics education\" AND \"artificial intelligence\"'\n"
     ]
    },
    {
     "name": "stdout",
     "output_type": "stream",
     "text": [
      "📄 Artigo 'Application of Machine Learning in Predicting the Fatigue behaviour of Materials Using Deep Learning' adicionado. Total atual: 1336\n",
      "📄 Artigo 'Cardiovascular Diseases Prediction Using Machine Learning Algorithms' adicionado. Total atual: 1337\n",
      "📄 Artigo 'Machine Learning Methods Performance Evaluation*' adicionado. Total atual: 1338\n",
      "📄 Artigo 'A Survey on Heart Attack Prediction Using Machine Learning' adicionado. Total atual: 1339\n",
      "📄 Artigo 'Analysis of Various Optimization Techniques in Machine Learning' adicionado. Total atual: 1340\n",
      "📄 Artigo 'Machine‐Learning Forensics: Incorporating Machine‐Learning (ML) Techniques for Implementing Digital Forensic Readiness Model' adicionado. Total atual: 1341\n",
      "📄 Artigo 'Mathematics, Optimization and Machine Learning' adicionado. Total atual: 1342\n",
      "📄 Artigo 'A Classification of Artificial Intelligence Systems for Mathematics Education' adicionado. Total atual: 1343\n",
      "📄 Artigo 'Combining Pencil/Paper Proofs and Formal Proofs, A Challenge for Artificial Intelligence and Mathematics Education' adicionado. Total atual: 1344\n",
      "📄 Artigo 'Creative Use of Dynamic Mathematical Environment in Mathematics Teacher Training' adicionado. Total atual: 1345\n",
      "📄 Artigo 'Mathematics Education in the Age of Artificial Intelligence' adicionado. Total atual: 1346\n",
      "📄 Artigo 'Modeling Practices to Design Computer Simulators for Trainees’ and Mentors’ Education' adicionado. Total atual: 1347\n",
      "📄 Artigo 'Engaging Students in Making Artificial Intelligence Tools for Mathematics Education: An Iterative Design Approach' adicionado. Total atual: 1348\n",
      "📄 Artigo 'Review of mathematics education in the age of artificial intelligence' adicionado. Total atual: 1349\n",
      "📄 Artigo 'AI and Mathematics Interaction for a New Learning Paradigm on Monumental Heritage' adicionado. Total atual: 1350\n",
      "📄 Artigo 'Evaluating the Perceptions of Mathematics Educators and Students Regarding the Integration of Artificial Intelligence in Mathematics Education at Colleges of Education in Anambra State.' adicionado. Total atual: 1351\n",
      "📄 Artigo 'Artificial Intelligence and Human Society (Artificial Intelligence and Education)' adicionado. Total atual: 1352\n"
     ]
    },
    {
     "name": "stderr",
     "output_type": "stream",
     "text": [
      "10:16:26 [INFO] crossref:   -> 11 artigos relevantes adicionados do cache para '\"mathematics education\" AND \"artificial intelligence\"'.\n",
      "10:16:26 [INFO] crossref: 🔎 Iniciando busca para: '\"mathematics education\" AND \"automated assessment\"'\n",
      "10:16:26 [INFO] crossref: 📋 Carregando 13 artigos do cache para '\"mathematics education\" AND \"automated assessment\"'\n",
      "10:16:27 [INFO] crossref:   -> 13 artigos relevantes adicionados do cache para '\"mathematics education\" AND \"automated assessment\"'.\n",
      "10:16:27 [INFO] crossref: 🔎 Iniciando busca para: '\"mathematics education\" AND \"competency identification\"'\n",
      "10:16:27 [INFO] crossref: 📋 Carregando 4 artigos do cache para '\"mathematics education\" AND \"competency identification\"'\n"
     ]
    },
    {
     "name": "stdout",
     "output_type": "stream",
     "text": [
      "📄 Artigo 'Can Artificial Intelligence Facilitate Mathematics Instruction?' adicionado. Total atual: 1353\n",
      "📄 Artigo 'A Critical Review on Recent Proposed Automated Programming Assessment Tool' adicionado. Total atual: 1354\n",
      "📄 Artigo 'Partially-automated individualized assessment of higher education mathematics' adicionado. Total atual: 1355\n",
      "📄 Artigo 'Formative assessment in mathematics education' adicionado. Total atual: 1356\n",
      "📄 Artigo 'Delay Assessment Framework for Automated Question-Answering System: An Approach for eLearning Paradigm' adicionado. Total atual: 1357\n",
      "📄 Artigo 'Beliefs about Mathematics and Mathematics Assessment in Post-Secondary Education' adicionado. Total atual: 1358\n",
      "📄 Artigo 'External Assessment in Mathematics Education' adicionado. Total atual: 1359\n",
      "📄 Artigo 'Automated Assessment in Mathematics' adicionado. Total atual: 1360\n",
      "📄 Artigo 'Mathematics Classroom Assessment' adicionado. Total atual: 1361\n",
      "📄 Artigo 'Assessment in Mathematics Education: A Gatekeeping Dispositive' adicionado. Total atual: 1362\n",
      "📄 Artigo 'How automated feedback from a digital mathematics textbook affects primary students’ conceptual development: two case studies' adicionado. Total atual: 1363\n",
      "📄 Artigo 'Assessment of Mathematics Teacher Knowledge' adicionado. Total atual: 1364\n",
      "📄 Artigo 'Classroom Assessment Literacy Levels of Mathematics Teachers in Ghanaian Senior High Schools' adicionado. Total atual: 1365\n",
      "📄 Artigo 'Online Automated Assessment and Student Learning: The PEPITE Project in Elementary Algebra' adicionado. Total atual: 1366\n"
     ]
    },
    {
     "name": "stderr",
     "output_type": "stream",
     "text": [
      "10:16:27 [INFO] crossref:   -> 4 artigos relevantes adicionados do cache para '\"mathematics education\" AND \"competency identification\"'.\n",
      "10:16:27 [INFO] crossref: 🔎 Iniciando busca para: '\"mathematics education\" AND \"student modeling\"'\n",
      "10:16:27 [INFO] crossref: 📋 Carregando 9 artigos do cache para '\"mathematics education\" AND \"student modeling\"'\n",
      "10:16:27 [INFO] crossref:   -> 9 artigos relevantes adicionados do cache para '\"mathematics education\" AND \"student modeling\"'.\n"
     ]
    },
    {
     "name": "stdout",
     "output_type": "stream",
     "text": [
      "📄 Artigo 'Issue Analysis of Competency-Based Mathematics Curriculum Design in African Countries: A Case Study of Mozambique’s Primary Mathematics Education' adicionado. Total atual: 1367\n",
      "📄 Artigo 'Mathematics teacher competency analysis during online learning' adicionado. Total atual: 1368\n",
      "📄 Artigo 'The effect of realistic mathematics education on the problem-solving competency of high school students through learning calculus topics' adicionado. Total atual: 1369\n",
      "📄 Artigo 'Assessment and Learning Mathematics Integrated 21st Century Competency-Computational Thinking Skills in Junior High School: Partly Detailed and Completed Intervention Stage' adicionado. Total atual: 1370\n",
      "📄 Artigo 'Practicality of Student-Centered Assessment/Learning using Mathematics Modeling Process Worksheets to Improve the Quality of Education' adicionado. Total atual: 1371\n",
      "📄 Artigo 'Modeling the Coupling of Mental Health Education and Student Management in Colleges and Universities' adicionado. Total atual: 1372\n",
      "📄 Artigo 'Modeling Scientific Processes With Mathematics Equations Enhances Student Qualitative Conceptual Understanding and Quantitative Problem Solving' adicionado. Total atual: 1373\n",
      "📄 Artigo 'Assessing and Modeling Student Academic Practices and Performance in First-Year Mathematics Courses in Higher Education' adicionado. Total atual: 1374\n",
      "📄 Artigo 'Modeling Student Management and Civic Education Strategies from an Interdisciplinary Perspective' adicionado. Total atual: 1375\n",
      "📄 Artigo 'Motivational climate in mathematics classrooms: teacher self-efficacy for student engagement, student- and teacher-reported emotional support and student interest' adicionado. Total atual: 1376\n",
      "📄 Artigo 'Design of Application Thesis Detector for Student of Mathematics Education Department of IAIN Palopo' adicionado. Total atual: 1377\n",
      "📄 Artigo 'Quantitative Analysis and Modeling of Student Innovation Capability in Higher Education Management in an Innovative and Entrepreneurial Environment' adicionado. Total atual: 1378\n",
      "📄 Artigo 'Mathematical Modeling of Student Performance in Mathematics: Exploring the Impact of Attendance, Study Habits, and Teaching Methods' adicionado. Total atual: 1379\n"
     ]
    },
    {
     "name": "stderr",
     "output_type": "stream",
     "text": [
      "10:16:27 [INFO] crossref: 🔎 Iniciando busca para: '\"mathematics education\" AND \"predictive analytics\"'\n",
      "10:16:27 [INFO] crossref: 📋 Carregando 13 artigos do cache para '\"mathematics education\" AND \"predictive analytics\"'\n",
      "10:16:27 [INFO] crossref:   -> 13 artigos relevantes adicionados do cache para '\"mathematics education\" AND \"predictive analytics\"'.\n"
     ]
    },
    {
     "name": "stdout",
     "output_type": "stream",
     "text": [
      "📄 Artigo 'ecision Farming and Predictive Analytics in Precision Farming and Predictive Analytics in Precision Farming and Predictive Analytics in Precision Farming and Predictive Analytics in Precision Farming and Predictive Analytics in Precision Farming and Predictive Analytics in Precision Farming and Predictive Analytics in Precision Farming and Predictive Analytics in Precision Farming and Predictive Analytics in Precision Farming and Predictive Analytics in Precision Farming and Predictive Analytics in Precision Farming and Predictive Analytics in Precision Farming and Predictive Analytics in Precision Farming and Predictive Analytics in Precision Farming and Predictive Analytics in Precision Farming and Predictive Analytics in Precision Farming and Predictive Analytics in Precision Farming and Predictive Analytics in Precision Farming and Predictive Analytics in Precision Farming and Predictive Analytics in Precision Farming and Predictive Analytics in Precision Farming and Predictive Analytics in Precision Farming and Predictive Analytics in Precision Farming and Predictive Analytics in Precision Farming and Predictive Analytics in Precision Farming and Predictive Analytics in Precision Farming and Predictive Analytics in Precision Farming and Predictive Analytics in Precision Farming and Predictive Analytics in Precision Farming and Predictive Analytics in Precision Farming and Predictive Analytics in Precision Farming and Predictive Analytics in Precision Farming and Predictive Analytics in Precision Farming and Predictive Analytics in Precision Farming and Predictive Analytics in Precision Farming and Predictive Analytics in Precision Farming and Predictive Analytics in Precision Farming and Predictive Analytics in Precision Farming and Predictive Analytics in Precision Farming and Predictive Analytics in Agriculture ContextAgriculture ContextAgriculture ContextAgriculture ContextAgriculture ContextAgriculture ContextAgriculture ContextAgriculture ContextAgriculture ContextAgriculture ContextAgriculture Context Agriculture ContextAgriculture ContextAgriculture ContextAgriculture ContextAgriculture ContextAgriculture ContextAgriculture' adicionado. Total atual: 1380\n",
      "📄 Artigo 'Predictive analytics of student performance: Multi-method and code' adicionado. Total atual: 1381\n",
      "📄 Artigo 'Predictive Learning Analytics in Higher Education' adicionado. Total atual: 1382\n",
      "📄 Artigo 'Predictive Analytics in Heart Failure Prediction: A Systematic Review' adicionado. Total atual: 1383\n",
      "📄 Artigo 'Predictive Learning Analytics 'At Scale': Guidelines to Successful Implementation in Higher Education' adicionado. Total atual: 1384\n",
      "📄 Artigo 'Six Practical Recommendations Enabling Ethical Use of Predictive Learning Analytics in Distance Education' adicionado. Total atual: 1385\n",
      "📄 Artigo 'Predictive Analytics in Gamified Education: A Hybrid Model for Identifying At-Risk Students' adicionado. Total atual: 1386\n",
      "📄 Artigo 'Exploring Machine Learning Techniques for Predictive Analytics in Computational Mathematics' adicionado. Total atual: 1387\n",
      "📄 Artigo 'A Study on the Learning Effectiveness and Behavioural Association of Predictive Analytics in English Teaching in Higher Education' adicionado. Total atual: 1388\n",
      "📄 Artigo 'Programming the platform university: Learning analytics and predictive infrastructures in higher education' adicionado. Total atual: 1389\n",
      "📄 Artigo 'Artificial intelligence and predictive analytics in nursing education' adicionado. Total atual: 1390\n",
      "📄 Artigo 'Evolutionary Algorithms and Collective Intelligence in Computational Mathematics for Predictive Analytics' adicionado. Total atual: 1391\n",
      "📄 Artigo 'Predictive Analytics in Educational Outcomes' adicionado. Total atual: 1392\n"
     ]
    },
    {
     "name": "stderr",
     "output_type": "stream",
     "text": [
      "10:16:27 [INFO] crossref: 🔎 Iniciando busca para: '\"math learning\" AND \"adaptive learning\"'\n",
      "10:16:27 [INFO] crossref: 📋 Carregando 15 artigos do cache para '\"math learning\" AND \"adaptive learning\"'\n",
      "10:16:27 [INFO] crossref:   -> 15 artigos relevantes adicionados do cache para '\"math learning\" AND \"adaptive learning\"'.\n",
      "10:16:27 [INFO] crossref: 🔎 Iniciando busca para: '\"math learning\" AND \"personalized learning\"'\n",
      "10:16:27 [INFO] crossref: 📋 Carregando 18 artigos do cache para '\"math learning\" AND \"personalized learning\"'\n"
     ]
    },
    {
     "name": "stdout",
     "output_type": "stream",
     "text": [
      "📄 Artigo 'Tracing students’ practice behavior in an adaptive math learning program: Does it mediate the math anxiety–performance link?' adicionado. Total atual: 1393\n",
      "📄 Artigo 'Adaptive Learning Research Methods' adicionado. Total atual: 1394\n",
      "📄 Artigo 'Science, Psychology, and Adaptive Learning' adicionado. Total atual: 1395\n",
      "📄 Artigo 'Adaptive Learning and Self-Actualization' adicionado. Total atual: 1396\n",
      "📄 Artigo '—Reusability in Adaptive and Personalization Learning' adicionado. Total atual: 1397\n",
      "📄 Artigo 'Adaptive Learning' adicionado. Total atual: 1398\n",
      "📄 Artigo 'Effects of an Adaptive Math Learning Program on Students&amp;amp;#39; Competencies, Self-Concept, and Anxiety' adicionado. Total atual: 1399\n",
      "📄 Artigo 'Trustworthy AI for Adaptive Learning' adicionado. Total atual: 1400\n",
      "📄 Artigo '—Implementation Process of Adaptive and Personalized Learning Environments' adicionado. Total atual: 1401\n",
      "📄 Artigo 'PCA Learning Algorithms with Adaptive Learning Rates' adicionado. Total atual: 1402\n",
      "📄 Artigo 'Data analytics and adaptive learning' adicionado. Total atual: 1403\n",
      "📄 Artigo 'Frameworks for Trustworthy AI for Adaptive Learning' adicionado. Total atual: 1404\n",
      "📄 Artigo 'Effects of an Adaptive Math Learning Program on Students' Competencies, Self-Concept, and Anxiety' adicionado. Total atual: 1405\n",
      "📄 Artigo 'Social Learning, Learning Organizations, and Adaptive Environmental Management' adicionado. Total atual: 1406\n",
      "📄 Artigo 'Efficacy of an Adaptive Game-Based Math Learning App to Support Personalized Learning and Improve Early Elementary School Students’ Learning' adicionado. Total atual: 1407\n",
      "📄 Artigo 'Support Student Math Learning With a Personalized Learning System That Responds to Student Affect (Poster 38)' adicionado. Total atual: 1408\n",
      "📄 Artigo 'The Consequences of Personalized Machine Learning' adicionado. Total atual: 1409\n"
     ]
    },
    {
     "name": "stderr",
     "output_type": "stream",
     "text": [
      "10:16:27 [INFO] crossref:   -> 18 artigos relevantes adicionados do cache para '\"math learning\" AND \"personalized learning\"'.\n",
      "10:16:27 [INFO] crossref: 🔎 Iniciando busca para: '\"math learning\" AND \"intelligent tutoring systems\"'\n",
      "10:16:27 [INFO] crossref: 📋 Carregando 12 artigos do cache para '\"math learning\" AND \"intelligent tutoring systems\"'\n"
     ]
    },
    {
     "name": "stdout",
     "output_type": "stream",
     "text": [
      "📄 Artigo 'Personalized Learning' adicionado. Total atual: 1410\n",
      "📄 Artigo '—Implementation Process of Adaptive and Personalized Learning Environments' adicionado. Total atual: 1411\n",
      "📄 Artigo 'The Prospects of Personalized Learning' adicionado. Total atual: 1412\n",
      "📄 Artigo 'Revolutionizing Math Education: The Power of Personalized Learning' adicionado. Total atual: 1413\n",
      "📄 Artigo 'Assessing the Impact of Exact Path Personalized Learning Program on Diverse Learners in Math Achievement (Poster 14)' adicionado. Total atual: 1414\n",
      "📄 Artigo 'Professional learning communities as a sample framework for personalized continuing professional learning' adicionado. Total atual: 1415\n",
      "📄 Artigo 'Personalized Learning in STEAM' adicionado. Total atual: 1416\n",
      "📄 Artigo 'Personalized Learning Squared (PLUS): Doubling Math Learning through  AI-assisted Tutoring' adicionado. Total atual: 1417\n",
      "📄 Artigo 'Motivation-oriented personalized continuing professional learning' adicionado. Total atual: 1418\n",
      "📄 Artigo 'Immersive Holographic Learning for Next Generation Personalized STEAM Education' adicionado. Total atual: 1419\n",
      "📄 Artigo 'Personalized Learning Attenuates Learning Loss Among Rural Students' adicionado. Total atual: 1420\n",
      "📄 Artigo 'Empowerment-oriented personalized continuing professional learning' adicionado. Total atual: 1421\n",
      "📄 Artigo 'Career stage-oriented personalized continuing professional learning' adicionado. Total atual: 1422\n",
      "📄 Artigo 'Aspects of teachers' personalized continuing professional learning' adicionado. Total atual: 1423\n",
      "📄 Artigo 'Evaluating Personalized Learning Designs' adicionado. Total atual: 1424\n",
      "📄 Artigo 'Personalized Learning and Student Achievement' adicionado. Total atual: 1425\n"
     ]
    },
    {
     "name": "stderr",
     "output_type": "stream",
     "text": [
      "10:16:27 [INFO] crossref:   -> 12 artigos relevantes adicionados do cache para '\"math learning\" AND \"intelligent tutoring systems\"'.\n",
      "10:16:28 [INFO] crossref: 🔎 Iniciando busca para: '\"math learning\" AND \"learning analytics\"'\n"
     ]
    },
    {
     "name": "stdout",
     "output_type": "stream",
     "text": [
      "📄 Artigo 'Using Deep Reinforcement Learning to Build Intelligent Tutoring Systems' adicionado. Total atual: 1426\n",
      "📄 Artigo 'Tutoring Process in Emotionally Intelligent Tutoring Systems' adicionado. Total atual: 1427\n",
      "📄 Artigo 'Learning Math for 1st Grade Primary School Students using Intelligent Tutoring Systems' adicionado. Total atual: 1428\n",
      "📄 Artigo 'Fundamentals of Adaptive Intelligent Tutoring Systems for Self-Regulated Learning' adicionado. Total atual: 1429\n",
      "📄 Artigo 'Embedding Intelligent Tutoring Systems in MOOCs and e-Learning Platforms' adicionado. Total atual: 1430\n",
      "📄 Artigo 'Intelligent Tutoring System for Learning Digital Systems on MOOC Environments' adicionado. Total atual: 1431\n",
      "📄 Artigo 'Intelligent Technologies in E-learning and Intelligent Tutoring Systems' adicionado. Total atual: 1432\n",
      "📄 Artigo 'Hybrid Intelligent Tutoring Systems Based on Psychological Profiles and Learning Styles: Design, Implementation and Evaluation' adicionado. Total atual: 1433\n",
      "📄 Artigo 'Are Pedagogical Agents’ External Regulation Effective in Fostering Learning with Intelligent Tutoring Systems?' adicionado. Total atual: 1434\n",
      "📄 Artigo 'Modeling Learning Group's Communication in Intelligent Tutoring Systems' adicionado. Total atual: 1435\n",
      "📄 Artigo 'Towards a Learning Analytics Support for Intelligent Tutoring Systems on MOOC Platforms' adicionado. Total atual: 1436\n",
      "📄 Artigo 'An Adaptive, Structure-Aware Intelligent Tutoring System for Learning Management Systems' adicionado. Total atual: 1437\n"
     ]
    },
    {
     "name": "stderr",
     "output_type": "stream",
     "text": [
      "10:16:28 [INFO] crossref: 📋 Carregando 20 artigos do cache para '\"math learning\" AND \"learning analytics\"'\n"
     ]
    },
    {
     "name": "stdout",
     "output_type": "stream",
     "text": [
      "📄 Artigo 'Ethical Challenges for Learning Analytics' adicionado. Total atual: 1438\n",
      "📄 Artigo 'What’s the Problem with Learning Analytics?' adicionado. Total atual: 1439\n",
      "📄 Artigo 'Learning Analytics: Practitioners, Take Note' adicionado. Total atual: 1440\n",
      "📄 Artigo 'De-Identification in Learning Analytics' adicionado. Total atual: 1441\n",
      "📄 Artigo 'A Data Protection Framework for Learning Analytics' adicionado. Total atual: 1442\n",
      "📄 Artigo 'Developing a Code of Practice for Learning Analytics' adicionado. Total atual: 1443\n",
      "📄 Artigo 'Predicting Math Identity Through Language and Click-Stream Patterns in a Blended Learning Mathematics Program for Elementary Students' adicionado. Total atual: 1444\n",
      "📄 Artigo 'Book Review:  Learning Analytics Explained by Niall Sclater' adicionado. Total atual: 1445\n",
      "📄 Artigo 'Discourse Centric Learning Analytics: Mapping the Terrain' adicionado. Total atual: 1446\n",
      "📄 Artigo 'Understanding, evaluating, and supporting self-regulated learning using learning analytics' adicionado. Total atual: 1447\n",
      "📄 Artigo 'Human-Centred Learning Analytics' adicionado. Total atual: 1448\n",
      "📄 Artigo 'Learning Analytics and the Abolitionist Imagination' adicionado. Total atual: 1449\n",
      "📄 Artigo 'From Theory Use to Theory Building in Learning Analytics: A Commentary on “Learning Analytics to Support Teachers during Synchronous CSCL”' adicionado. Total atual: 1450\n",
      "📄 Artigo 'Student Vulnerability, Agency and Learning Analytics: An Exploration' adicionado. Total atual: 1451\n",
      "📄 Artigo 'Challenging Assumptions in Learning Analytics' adicionado. Total atual: 1452\n",
      "📄 Artigo 'What Does Methodology Mean for Learning Analytics?' adicionado. Total atual: 1453\n"
     ]
    },
    {
     "name": "stderr",
     "output_type": "stream",
     "text": [
      "10:16:28 [INFO] crossref:   -> 20 artigos relevantes adicionados do cache para '\"math learning\" AND \"learning analytics\"'.\n",
      "10:16:28 [INFO] crossref: 🔎 Iniciando busca para: '\"math learning\" AND \"educational data mining\"'\n",
      "10:16:28 [INFO] crossref: 📋 Carregando 16 artigos do cache para '\"math learning\" AND \"educational data mining\"'\n"
     ]
    },
    {
     "name": "stdout",
     "output_type": "stream",
     "text": [
      "📄 Artigo 'Learning Analytics and Learning at Scale' adicionado. Total atual: 1454\n",
      "📄 Artigo 'What Constitutes an ‘Actionable Insight’ in Learning Analytics?' adicionado. Total atual: 1455\n",
      "📄 Artigo 'Fostering An Impactful Field of Learning Analytics' adicionado. Total atual: 1456\n",
      "📄 Artigo 'Ethics and Privacy as Enablers of Learning Analytics' adicionado. Total atual: 1457\n",
      "📄 Artigo 'DESIGN OF AN ADAPTIVE LEARNING SYSTEM AND EDUCATIONAL DATA MINING' adicionado. Total atual: 1458\n",
      "📄 Artigo 'Integrating Educational Data Mining in Augmented Reality Virtual Learning Environment' adicionado. Total atual: 1459\n",
      "📄 Artigo 'Educational Data Mining Using Analysis Student Learning Process' adicionado. Total atual: 1460\n",
      "📄 Artigo 'Data Mining Of Educational Data In Government Distance Learning' adicionado. Total atual: 1461\n",
      "📄 Artigo 'Educational Data Mining in E-Learning System' adicionado. Total atual: 1462\n",
      "📄 Artigo 'Educational Data Mining and Learning Analytics in the 21st Century' adicionado. Total atual: 1463\n",
      "📄 Artigo 'Educational Assessment, Educational Data Mining, and Learning Analytics' adicionado. Total atual: 1464\n",
      "📄 Artigo 'Educational Assessment, Educational Data Mining, and Learning Analytics' adicionado. Total atual: 1465\n",
      "📄 Artigo 'Association Rule Mining in Educational Data: Unveiling Patterns for Enhanced Learning Outcomes' adicionado. Total atual: 1466\n",
      "📄 Artigo 'Aktuelle Erkenntnisse aus der Literatur zu Data Mining und Learning Analytics im Bildungsbereich' adicionado. Total atual: 1467\n",
      "📄 Artigo 'EDUCATIONAL FUZZY DATA-SETS AND DATA MINING IN A LINEAR FUZZY REAL ENVIRONMENT' adicionado. Total atual: 1468\n",
      "📄 Artigo 'Data Mining in Global Higher Education' adicionado. Total atual: 1469\n",
      "📄 Artigo 'EDUCATIONAL PROCESS MINING' adicionado. Total atual: 1470\n"
     ]
    },
    {
     "name": "stderr",
     "output_type": "stream",
     "text": [
      "10:16:28 [INFO] crossref:   -> 16 artigos relevantes adicionados do cache para '\"math learning\" AND \"educational data mining\"'.\n",
      "10:16:28 [INFO] crossref: 🔎 Iniciando busca para: '\"math learning\" AND \"machine learning\"'\n",
      "10:16:28 [INFO] crossref: 📋 Carregando 12 artigos do cache para '\"math learning\" AND \"machine learning\"'\n",
      "10:16:28 [INFO] crossref:   -> 12 artigos relevantes adicionados do cache para '\"math learning\" AND \"machine learning\"'.\n"
     ]
    },
    {
     "name": "stdout",
     "output_type": "stream",
     "text": [
      "📄 Artigo 'The social life of education data science: Learning analytics, educational data mining and metrological platforms' adicionado. Total atual: 1471\n",
      "📄 Artigo 'APPLIED CLASSIFICATION RULE MINING TO ENHANCE E-LEARNING IN THE CONTEXT OF EDUCATIONAL DATA' adicionado. Total atual: 1472\n",
      "📄 Artigo 'Analysing Ongoing Learning Experience with Educational Data Mining for Interactive Learning Environments' adicionado. Total atual: 1473\n",
      "📄 Artigo 'CONVEX OPTIMIZATION PROBLEMS FOR MACHINE LEARNING AND BASIC PROPERTIES OF CONVEXITY' adicionado. Total atual: 1474\n",
      "📄 Artigo 'MACHINE LEARNING APPROACH FOR  PRONOMINAL ANAPHORA RESOLUTION BASED ON  LINGUISTIC AND COMPUTATIONAL FEATURES' adicionado. Total atual: 1475\n",
      "📄 Artigo 'Machine Learning Method to Differentiate Ataxias' adicionado. Total atual: 1476\n",
      "📄 Artigo 'ANDROID MALWARE DETECTION BASED ON MACHINE LEARNING ANALYSIS OF TRAFFIC FEATURES' adicionado. Total atual: 1477\n",
      "📄 Artigo 'Machine learning with sklearn' adicionado. Total atual: 1478\n",
      "📄 Artigo 'Machine Learning Analysis of Junior High Students' Math Representation in HOTS Problems' adicionado. Total atual: 1479\n",
      "📄 Artigo 'RESEARCH ON COMMON LUNG DISEASES BASED  ON MACHINE LEARNING' adicionado. Total atual: 1480\n",
      "📄 Artigo 'Optimization and Machine Learning' adicionado. Total atual: 1481\n",
      "📄 Artigo 'Why Use Automated Machine Learning?' adicionado. Total atual: 1482\n",
      "📄 Artigo 'International Journal of Applied Mathematics and Machine Learning' adicionado. Total atual: 1483\n",
      "📄 Artigo 'Reinforcement learning' adicionado. Total atual: 1484\n",
      "📄 Artigo 'Supervised Learning' adicionado. Total atual: 1485\n"
     ]
    },
    {
     "name": "stderr",
     "output_type": "stream",
     "text": [
      "10:16:28 [INFO] crossref: 🔎 Iniciando busca para: '\"math learning\" AND \"artificial intelligence\"'\n",
      "10:16:28 [INFO] crossref: 📋 Carregando 12 artigos do cache para '\"math learning\" AND \"artificial intelligence\"'\n",
      "10:16:28 [INFO] crossref:   -> 12 artigos relevantes adicionados do cache para '\"math learning\" AND \"artificial intelligence\"'.\n",
      "10:16:28 [INFO] crossref: 🔎 Iniciando busca para: '\"math learning\" AND \"automated assessment\"'\n",
      "10:16:28 [INFO] crossref: 📋 Carregando 20 artigos do cache para '\"math learning\" AND \"automated assessment\"'\n"
     ]
    },
    {
     "name": "stdout",
     "output_type": "stream",
     "text": [
      "📄 Artigo '13 Explainable Artificial Intelligence Techniques in Deep Learning-Based Liver Tumor Analysis' adicionado. Total atual: 1486\n",
      "📄 Artigo '12 Deep Learning-Based Ultrasound Analysis Using Explainable Artificial Intelligence (XAI) Methods for Breast Cancer' adicionado. Total atual: 1487\n",
      "📄 Artigo 'Artificial Intelligence and Learning' adicionado. Total atual: 1488\n",
      "📄 Artigo 'Artificial intelligence, machine learning, deep learning and generative artificial intelligence' adicionado. Total atual: 1489\n",
      "📄 Artigo 'Machine Learning, Deep Learning, and Artificial Intelligence' adicionado. Total atual: 1490\n",
      "📄 Artigo 'AI-based Learning Assistants: Enhancing Math Learning for Migrant Students in German Schools' adicionado. Total atual: 1491\n",
      "📄 Artigo 'Artificial Intelligence, Machine Learning, and Psychology' adicionado. Total atual: 1492\n",
      "📄 Artigo 'Artificial Intelligence and Advances' adicionado. Total atual: 1493\n",
      "📄 Artigo 'ARTIFICIAL INTELLIGENCE ITS RELEVANCE IN BLENDED LEARNING' adicionado. Total atual: 1494\n",
      "📄 Artigo 'Artificial Intelligence requires more than deep learning — but what, exactly?' adicionado. Total atual: 1495\n",
      "📄 Artigo 'The Influence of Affect in Help-Seeking Behaviors and Performance in a Math Intelligent Tutoring System' adicionado. Total atual: 1496\n",
      "📄 Artigo 'Using 'The New Math' - Artificial Intelligence and Machine Learning Applications in the Nuclear Power Industry' adicionado. Total atual: 1497\n",
      "📄 Artigo 'Astronomical Images Quality Assessment with Automated Machine Learning' adicionado. Total atual: 1498\n",
      "📄 Artigo 'Risk Assessment and Automated Anomaly Detection Using a Deep Learning Architecture' adicionado. Total atual: 1499\n"
     ]
    },
    {
     "name": "stderr",
     "output_type": "stream",
     "text": [
      "10:16:29 [INFO] crossref:   -> 20 artigos relevantes adicionados do cache para '\"math learning\" AND \"automated assessment\"'.\n",
      "10:16:29 [INFO] crossref: 🔎 Iniciando busca para: '\"math learning\" AND \"competency identification\"'\n"
     ]
    },
    {
     "name": "stdout",
     "output_type": "stream",
     "text": [
      "📄 Artigo 'On Deep Learning Approaches to Automated Assessment: Strategies for Short Answer Grading' adicionado. Total atual: 1500\n",
      "📄 Artigo 'eLife assessment: A deep learning framework for automated and generalized synaptic event analysis' adicionado. Total atual: 1501\n",
      "📄 Artigo 'Automated Structural Integrity Assessment of Bridges: A Deep Learning Fusion Methodology' adicionado. Total atual: 1502\n",
      "📄 Artigo 'eLife Assessment: A deep learning framework for automated and generalized synaptic event analysis' adicionado. Total atual: 1503\n",
      "📄 Artigo 'Developing authentic assessment: Project assessment on mathematics learning evaluation by using e-learning' adicionado. Total atual: 1504\n",
      "📄 Artigo 'eLife Assessment: A deep learning framework for automated and generalized synaptic event analysis' adicionado. Total atual: 1505\n",
      "📄 Artigo 'Validity of Automated Learning Progress Assessment in English Written Expression for Students with Learning Difficulties' adicionado. Total atual: 1506\n",
      "📄 Artigo 'Automated Assessment of Fruit Quality Using Transfer Learning and Mobilenetv2' adicionado. Total atual: 1507\n",
      "📄 Artigo 'Automated Structural Integrity Assessment of Bridges: A Deep Learning Fusion Methodology' adicionado. Total atual: 1508\n",
      "📄 Artigo 'eLife assessment: A deep learning approach for automated scoring of the Rey–Osterrieth complex figure' adicionado. Total atual: 1509\n",
      "📄 Artigo 'Assessment for Learning in a Math Classroom' adicionado. Total atual: 1510\n",
      "📄 Artigo 'Supplemental Material for Machine Learning and Deep Learning Systems for Automated Measurement of “Advanced” Theory of Mind: Reliability and Validity in Children and Adolescents' adicionado. Total atual: 1511\n",
      "📄 Artigo 'Review for \"Automated assessment of human engineered heart tissues using deep learning and template matching for segmentation and tracking\"' adicionado. Total atual: 1512\n",
      "📄 Artigo 'Towards a Development of Automated Feedback and Diagnostic Assessment System in Support of Literacy Teaching and Learning' adicionado. Total atual: 1513\n",
      "📄 Artigo 'Automated Risk Assessment in SAP Financial Modules through Machine Learning' adicionado. Total atual: 1514\n",
      "📄 Artigo 'Automated conservation assessment of the orchid family using deep learning' adicionado. Total atual: 1515\n",
      "📄 Artigo 'Why Use Automated Machine Learning?' adicionado. Total atual: 1516\n",
      "📄 Artigo 'Automated Assessment in Learning and Teaching Programming Languages using Virtual Learning Environment' adicionado. Total atual: 1517\n"
     ]
    },
    {
     "name": "stderr",
     "output_type": "stream",
     "text": [
      "10:16:29 [INFO] crossref: 📋 Carregando 4 artigos do cache para '\"math learning\" AND \"competency identification\"'\n",
      "10:16:29 [INFO] crossref:   -> 4 artigos relevantes adicionados do cache para '\"math learning\" AND \"competency identification\"'.\n",
      "10:16:29 [INFO] crossref: 🔎 Iniciando busca para: '\"math learning\" AND \"student modeling\"'\n",
      "10:16:29 [INFO] crossref: 📋 Carregando 9 artigos do cache para '\"math learning\" AND \"student modeling\"'\n",
      "10:16:29 [INFO] crossref:   -> 9 artigos relevantes adicionados do cache para '\"math learning\" AND \"student modeling\"'.\n",
      "10:16:29 [INFO] crossref: 🔎 Iniciando busca para: '\"math learning\" AND \"predictive analytics\"'\n",
      "10:16:29 [INFO] crossref: 📋 Carregando 15 artigos do cache para '\"math learning\" AND \"predictive analytics\"'\n"
     ]
    },
    {
     "name": "stdout",
     "output_type": "stream",
     "text": [
      "📄 Artigo 'Personalized Learning and Competency' adicionado. Total atual: 1518\n",
      "📄 Artigo 'The relationship between learning community activity and core competency: the multiple mediating effect of self-assessment of basic learning ability and learning engagement' adicionado. Total atual: 1519\n",
      "📄 Artigo 'The Effects of Self-leadership, Self-directed Learning Competency, and Clinical Competency on Career Adaptability of Nursing Students: Focusing on Mediating Effects of Self-directed Learning Competency and Clinical Competency' adicionado. Total atual: 1520\n",
      "📄 Artigo 'A Review of Implementations of Math Competency Oriented Teaching-Learning Systems' adicionado. Total atual: 1521\n",
      "📄 Artigo 'Support Student Math Learning With a Personalized Learning System That Responds to Student Affect (Poster 38)' adicionado. Total atual: 1522\n",
      "📄 Artigo 'Optimizing Student Engagement in Online Learning Environments' adicionado. Total atual: 1523\n",
      "📄 Artigo 'Predictive Modeling And Code-Mixing Corpus For Student Learning Behaviors In E-Learning Environments' adicionado. Total atual: 1524\n",
      "📄 Artigo 'HOTS-oriented mathematical problemsolving ability judging from student learning styles' adicionado. Total atual: 1525\n",
      "📄 Artigo 'Optimizing Student Engagement in Online Learning Environments' adicionado. Total atual: 1526\n",
      "📄 Artigo 'Personalized Learning Modeling for the Control of Student Creativity in Physics Learning Media' adicionado. Total atual: 1527\n",
      "📄 Artigo 'Differences of student mathematics learning results with discovery learning and problem based learning from emotional intelligence' adicionado. Total atual: 1528\n",
      "📄 Artigo 'Student learning difficulties in Mathematics learning at Madrasah Tsanawiyah' adicionado. Total atual: 1529\n",
      "📄 Artigo 'Mathematical model of student learning behavior with the effect of learning motivation and student social interaction' adicionado. Total atual: 1530\n",
      "📄 Artigo 'ecision Farming and Predictive Analytics in Precision Farming and Predictive Analytics in Precision Farming and Predictive Analytics in Precision Farming and Predictive Analytics in Precision Farming and Predictive Analytics in Precision Farming and Predictive Analytics in Precision Farming and Predictive Analytics in Precision Farming and Predictive Analytics in Precision Farming and Predictive Analytics in Precision Farming and Predictive Analytics in Precision Farming and Predictive Analytics in Precision Farming and Predictive Analytics in Precision Farming and Predictive Analytics in Precision Farming and Predictive Analytics in Precision Farming and Predictive Analytics in Precision Farming and Predictive Analytics in Precision Farming and Predictive Analytics in Precision Farming and Predictive Analytics in Precision Farming and Predictive Analytics in Precision Farming and Predictive Analytics in Precision Farming and Predictive Analytics in Precision Farming and Predictive Analytics in Precision Farming and Predictive Analytics in Precision Farming and Predictive Analytics in Precision Farming and Predictive Analytics in Precision Farming and Predictive Analytics in Precision Farming and Predictive Analytics in Precision Farming and Predictive Analytics in Precision Farming and Predictive Analytics in Precision Farming and Predictive Analytics in Precision Farming and Predictive Analytics in Precision Farming and Predictive Analytics in Precision Farming and Predictive Analytics in Precision Farming and Predictive Analytics in Precision Farming and Predictive Analytics in Precision Farming and Predictive Analytics in Precision Farming and Predictive Analytics in Precision Farming and Predictive Analytics in Precision Farming and Predictive Analytics in Precision Farming and Predictive Analytics in Agriculture ContextAgriculture ContextAgriculture ContextAgriculture ContextAgriculture ContextAgriculture ContextAgriculture ContextAgriculture ContextAgriculture ContextAgriculture ContextAgriculture Context Agriculture ContextAgriculture ContextAgriculture ContextAgriculture ContextAgriculture ContextAgriculture ContextAgriculture' adicionado. Total atual: 1531\n",
      "📄 Artigo 'Healthcare Predictive Analytics using Machine Learning' adicionado. Total atual: 1532\n",
      "📄 Artigo 'The 2010 KDD Cup Competition Dataset: Engaging the machine learning community in predictive learning analytics' adicionado. Total atual: 1533\n",
      "📄 Artigo 'Predictive Learning Analytics 'At Scale': Guidelines to Successful Implementation in Higher Education' adicionado. Total atual: 1534\n"
     ]
    },
    {
     "name": "stderr",
     "output_type": "stream",
     "text": [
      "10:16:29 [INFO] crossref:   -> 15 artigos relevantes adicionados do cache para '\"math learning\" AND \"predictive analytics\"'.\n",
      "10:16:29 [INFO] crossref: 🔎 Iniciando busca para: '\"mathematics teaching\" AND \"adaptive learning\"'\n",
      "10:16:29 [INFO] crossref: 📋 Carregando 4 artigos do cache para '\"mathematics teaching\" AND \"adaptive learning\"'\n",
      "10:16:29 [INFO] crossref:   -> 4 artigos relevantes adicionados do cache para '\"mathematics teaching\" AND \"adaptive learning\"'.\n",
      "10:16:29 [INFO] crossref: 🔎 Iniciando busca para: '\"mathematics teaching\" AND \"personalized learning\"'\n",
      "10:16:29 [INFO] crossref: 📋 Carregando 7 artigos do cache para '\"mathematics teaching\" AND \"personalized learning\"'\n"
     ]
    },
    {
     "name": "stdout",
     "output_type": "stream",
     "text": [
      "📄 Artigo 'Six Practical Recommendations Enabling Ethical Use of Predictive Learning Analytics in Distance Education' adicionado. Total atual: 1535\n",
      "📄 Artigo 'Predictive Analytics in Healthcare System using Deep Learning Approach' adicionado. Total atual: 1536\n",
      "📄 Artigo 'Predictive Learning Analytics in Higher Education' adicionado. Total atual: 1537\n",
      "📄 Artigo 'Comparative Analysis of Machine Learning Models in Predictive Analytics for Residential Energy Consumption' adicionado. Total atual: 1538\n",
      "📄 Artigo 'Yet Another Predictive Model? Fair Predictions of Students’ Learning Outcomes in an Online Math Learning Platform' adicionado. Total atual: 1539\n",
      "📄 Artigo 'Predictive Modeling in Business Analytics: Leveraging AI  &amp; Machine Learning' adicionado. Total atual: 1540\n",
      "📄 Artigo 'Machine Learning Algorithms for Predictive Analytics in E-Commerce' adicionado. Total atual: 1541\n",
      "📄 Artigo 'Machine Learning Frameworks for Predictive Analytics' adicionado. Total atual: 1542\n",
      "📄 Artigo 'Machine Learning for Healthcare: Predictive Analytics and Personalized Medicine' adicionado. Total atual: 1543\n",
      "📄 Artigo 'Evaluating Predictive Models of Student Success: Closing the Methodological Gap' adicionado. Total atual: 1544\n",
      "📄 Artigo 'Machine Learning Toolbox for Social Scientists' adicionado. Total atual: 1545\n",
      "📄 Artigo 'Adaptive Teaching: Learning Trajectories' adicionado. Total atual: 1546\n",
      "📄 Artigo 'Multimedia: Students' Adaptive Learning Engagement in Mathematics Classrooms' adicionado. Total atual: 1547\n",
      "📄 Artigo 'Design and Implementation of Intelligent Adaptive Learning System in Wushu Teaching and Learning' adicionado. Total atual: 1548\n",
      "📄 Artigo 'Teaching Online EMI Mathematics Courses' adicionado. Total atual: 1549\n",
      "📄 Artigo 'Research on Personalized Teaching Strategies Selection based on Deep Learning' adicionado. Total atual: 1550\n",
      "📄 Artigo 'PERSONALIZED TEACHING OF MATHEMATICS THROUGH ICT AND THE PERSONAL PERCEPTION OF TEACHERS OF USING ICT IN THE LEARNING PROCESS' adicionado. Total atual: 1551\n",
      "📄 Artigo 'Research on Blended Teaching of Advanced Mathematics Based on Personalized Learning' adicionado. Total atual: 1552\n"
     ]
    },
    {
     "name": "stderr",
     "output_type": "stream",
     "text": [
      "10:16:29 [INFO] crossref:   -> 7 artigos relevantes adicionados do cache para '\"mathematics teaching\" AND \"personalized learning\"'.\n",
      "10:16:29 [INFO] crossref: 🔎 Iniciando busca para: '\"mathematics teaching\" AND \"intelligent tutoring systems\"'\n",
      "10:16:29 [INFO] crossref: 📋 Carregando 11 artigos do cache para '\"mathematics teaching\" AND \"intelligent tutoring systems\"'\n",
      "10:16:29 [INFO] crossref:   -> 11 artigos relevantes adicionados do cache para '\"mathematics teaching\" AND \"intelligent tutoring systems\"'.\n",
      "10:16:29 [INFO] crossref: 🔎 Iniciando busca para: '\"mathematics teaching\" AND \"learning analytics\"'\n",
      "10:16:29 [INFO] crossref: 📋 Carregando 18 artigos do cache para '\"mathematics teaching\" AND \"learning analytics\"'\n"
     ]
    },
    {
     "name": "stdout",
     "output_type": "stream",
     "text": [
      "📄 Artigo 'Personalized Physical Education Teaching Path Planning and Optimization Based on Deep Reinforcement Learning' adicionado. Total atual: 1553\n",
      "📄 Artigo 'Research on Personalized Recommendation Strategy for Teaching Content of Sports Culture Based on Deep Learning' adicionado. Total atual: 1554\n",
      "📄 Artigo 'Machine Learning Model Construction and Practice for Personalized Training Programs in Physical Education and Sport Teaching' adicionado. Total atual: 1555\n",
      "📄 Artigo 'Natural language processing in language learning: personalized and adaptive English language teaching using artificial intelligence' adicionado. Total atual: 1556\n",
      "📄 Artigo 'Tutoring Process in Emotionally Intelligent Tutoring Systems' adicionado. Total atual: 1557\n",
      "📄 Artigo 'Teaching Mathematics Integrating Intelligent Tutoring Systems: Investigating Prospective Teachers’ Concerns and TPACK' adicionado. Total atual: 1558\n",
      "📄 Artigo 'Intelligent Tutoring Systems in Music Education' adicionado. Total atual: 1559\n",
      "📄 Artigo 'Teachers' Conceptions of Mathematics and the Use of Intelligent Tutoring Systems, Calculators, Dynamic Geometry Software and Desmos in the Classroom' adicionado. Total atual: 1560\n",
      "📄 Artigo 'Systematic Review: Trends in Intelligent Tutoring Systems in Mathematics Teaching and Learning' adicionado. Total atual: 1561\n",
      "📄 Artigo 'Integrating an Intelligent Language Tutoring System in Teaching English Grammar' adicionado. Total atual: 1562\n",
      "📄 Artigo 'AI in Teaching and Learning and Intelligent Tutoring Systems' adicionado. Total atual: 1563\n",
      "📄 Artigo 'Intelligent Tutoring System for Teaching and Learning Mathematics' adicionado. Total atual: 1564\n",
      "📄 Artigo 'Predicting Students' Progress in Intelligent Tutoring Systems' adicionado. Total atual: 1565\n",
      "📄 Artigo 'Predicting Students' Progress in Intelligent Tutoring Systems' adicionado. Total atual: 1566\n",
      "📄 Artigo 'Deskilling of Teaching and  the Case for Intelligent Tutoring Systems' adicionado. Total atual: 1567\n",
      "📄 Artigo 'Use of Learning Analytics in K–12 Mathematics Education' adicionado. Total atual: 1568\n",
      "📄 Artigo 'IMPROVING TEACHING OF MATHEMATICS THROUGH DATA MINING AND LEARNING ANALYTICS' adicionado. Total atual: 1569\n",
      "📄 Artigo 'Adoption of Learning Analytics' adicionado. Total atual: 1570\n",
      "📄 Artigo 'Learning Analytics and the Measurement of Learning Engagement' adicionado. Total atual: 1571\n",
      "📄 Artigo 'The Politics of Learning Analytics' adicionado. Total atual: 1572\n",
      "📄 Artigo 'The LAVA Model: Learning Analytics Meets Visual Analytics' adicionado. Total atual: 1573\n",
      "📄 Artigo 'How and Why Faculty Adopt Learning Analytics' adicionado. Total atual: 1574\n",
      "📄 Artigo 'Introducing Practicable Learning Analytics' adicionado. Total atual: 1575\n"
     ]
    },
    {
     "name": "stderr",
     "output_type": "stream",
     "text": [
      "10:16:29 [INFO] crossref:   -> 18 artigos relevantes adicionados do cache para '\"mathematics teaching\" AND \"learning analytics\"'.\n",
      "10:16:29 [INFO] crossref: 🔎 Iniciando busca para: '\"mathematics teaching\" AND \"educational data mining\"'\n",
      "10:16:29 [INFO] crossref: 📋 Carregando 19 artigos do cache para '\"mathematics teaching\" AND \"educational data mining\"'\n"
     ]
    },
    {
     "name": "stdout",
     "output_type": "stream",
     "text": [
      "📄 Artigo 'Learning analytics and teaching' adicionado. Total atual: 1576\n",
      "📄 Artigo 'Experiential Learning in Labs and Multimodal Learning Analytics' adicionado. Total atual: 1577\n",
      "📄 Artigo 'The Framework of Learning Analytics for Prevention, Intervention, and Postvention in E-Learning Environments' adicionado. Total atual: 1578\n",
      "📄 Artigo 'Evidence-Based Learning Design Through Learning Analytics' adicionado. Total atual: 1579\n",
      "📄 Artigo 'Building Confidence in Learning Analytics Solutions: Two Complementary Pilot Studies' adicionado. Total atual: 1580\n",
      "📄 Artigo '“Trust the Process!”: Implementing Learning Analytics in Higher Education Institutions' adicionado. Total atual: 1581\n",
      "📄 Artigo 'Adoption of Data Analytics in Higher Education Learning and Teaching' adicionado. Total atual: 1582\n",
      "📄 Artigo 'A Framework to Support Interdisciplinary Engagement with Learning Analytics' adicionado. Total atual: 1583\n",
      "📄 Artigo 'Web Analytics as Extension for a Learning Analytics Dashboard of a Massive Open Online Platform' adicionado. Total atual: 1584\n",
      "📄 Artigo 'Experiences in Scaling Up Learning Analytics in Blended Learning Scenarios' adicionado. Total atual: 1585\n",
      "📄 Artigo 'Predicting Students' Performance in Mathematics through Educational Data Mining Techniques during the Transition from Primary to Lower Secondary School' adicionado. Total atual: 1586\n",
      "📄 Artigo 'Educational data mining that supports quality teaching: How to create a culture of data in educational policies' adicionado. Total atual: 1587\n",
      "📄 Artigo 'Exploration of Educational Data Mining in Improving Teaching Quality' adicionado. Total atual: 1588\n",
      "📄 Artigo 'Application of Decision Tree Algorithm in Educational Data Mining' adicionado. Total atual: 1589\n",
      "📄 Artigo 'Teaching Strategies and Student Performance in Combining Mathematics Teaching and Data Mining Techniques in Higher Education' adicionado. Total atual: 1590\n",
      "📄 Artigo 'An Extended Study on the Impact on Teaching Methods and Students during this Pandemic using Educational Data Mining' adicionado. Total atual: 1591\n",
      "📄 Artigo 'An Analysis of PISA 2018 Mathematics Assessment for Asia-Pacific Countries Using Educational Data Mining' adicionado. Total atual: 1592\n",
      "📄 Artigo 'SUPPORTING TEACHING AND LEARNING THROUGH THE APPLICATION OF EDUCATIONAL DATA MINING TECHNIQUES' adicionado. Total atual: 1593\n",
      "📄 Artigo 'Visual Analytics for Faculty Teaching Practice and Performance: A Case Study of Educational Data Mining' adicionado. Total atual: 1594\n",
      "📄 Artigo 'Educational Data Mining for Teaching and Learning' adicionado. Total atual: 1595\n",
      "📄 Artigo 'Data Mining of Online Teaching Evaluation Based on Deep Learning' adicionado. Total atual: 1596\n",
      "📄 Artigo 'A Comprehensive Survey on Educational Data Mining and Use of Data Mining Techniques for Improving Teaching and Predicting Student Performance' adicionado. Total atual: 1597\n",
      "📄 Artigo 'IMPROVING TEACHING OF MATHEMATICS THROUGH DATA MINING AND LEARNING ANALYTICS' adicionado. Total atual: 1598\n",
      "📄 Artigo 'Enhancing Teaching With Effective Data Mining Protocols' adicionado. Total atual: 1599\n"
     ]
    },
    {
     "name": "stderr",
     "output_type": "stream",
     "text": [
      "10:16:30 [INFO] crossref:   -> 19 artigos relevantes adicionados do cache para '\"mathematics teaching\" AND \"educational data mining\"'.\n",
      "10:16:30 [INFO] crossref: 🔎 Iniciando busca para: '\"mathematics teaching\" AND \"machine learning\"'\n",
      "10:16:30 [INFO] crossref: 📋 Carregando 10 artigos do cache para '\"mathematics teaching\" AND \"machine learning\"'\n",
      "10:16:30 [INFO] crossref:   -> 10 artigos relevantes adicionados do cache para '\"mathematics teaching\" AND \"machine learning\"'.\n"
     ]
    },
    {
     "name": "stdout",
     "output_type": "stream",
     "text": [
      "📄 Artigo 'The language of mathematics teaching: a text mining approach to explore the zeitgeist of US mathematics education' adicionado. Total atual: 1600\n",
      "📄 Artigo 'Prediction of mathematics performance using educational data mining techniques' adicionado. Total atual: 1601\n",
      "📄 Artigo 'Framing Learning Analytics and Educational Data Mining for Teaching: Critical Inferencing, Domain Knowledge, and Pedagogy' adicionado. Total atual: 1602\n",
      "📄 Artigo 'Methods of teaching educational data mining for pedagogical students' adicionado. Total atual: 1603\n",
      "📄 Artigo 'Educational Data Mining Review' adicionado. Total atual: 1604\n",
      "📄 Artigo 'Integrating Machine Learning in Mathematics Classrooms' adicionado. Total atual: 1605\n",
      "📄 Artigo 'Gradient descent methods in machine learning' adicionado. Total atual: 1606\n",
      "📄 Artigo 'Integrating Machine Learning in Secondary Geometry' adicionado. Total atual: 1607\n",
      "📄 Artigo 'Machine Learning——Teaching and Learning' adicionado. Total atual: 1608\n",
      "📄 Artigo 'Retracted: The Evaluation of Music Teaching in Colleges and Universities Based on Machine Learning' adicionado. Total atual: 1609\n",
      "📄 Artigo 'Research on Optimizing Teaching Resource Allocation Strategies with Machine Learning Models for Intelligent English Teaching Systems' adicionado. Total atual: 1610\n",
      "📄 Artigo 'Retracted: Teaching Quality Evaluation of Ideological and Political Courses in Colleges and Universities Based on Machine Learning' adicionado. Total atual: 1611\n",
      "📄 Artigo 'Research on the teaching quality evaluation of neural network machine learning algorithm' adicionado. Total atual: 1612\n",
      "📄 Artigo 'A Classification method of college mathematics MOOC teaching resources based on machine learning' adicionado. Total atual: 1613\n",
      "📄 Artigo 'Machine Learning for Improving Teaching Methods Through Sentiment Analysis' adicionado. Total atual: 1614\n"
     ]
    },
    {
     "name": "stderr",
     "output_type": "stream",
     "text": [
      "10:16:30 [INFO] crossref: 🔎 Iniciando busca para: '\"mathematics teaching\" AND \"artificial intelligence\"'\n",
      "10:16:30 [INFO] crossref: 📋 Carregando 13 artigos do cache para '\"mathematics teaching\" AND \"artificial intelligence\"'\n",
      "10:16:30 [INFO] crossref:   -> 13 artigos relevantes adicionados do cache para '\"mathematics teaching\" AND \"artificial intelligence\"'.\n",
      "10:16:30 [INFO] crossref: 🔎 Iniciando busca para: '\"mathematics teaching\" AND \"automated assessment\"'\n",
      "10:16:30 [INFO] crossref: 📋 Carregando 9 artigos do cache para '\"mathematics teaching\" AND \"automated assessment\"'\n"
     ]
    },
    {
     "name": "stdout",
     "output_type": "stream",
     "text": [
      "📄 Artigo 'Developing an Artificial Intelligence Simulator to Support Mathematics Teacher Questioning: The A.I. Classroom Teaching Simulator (ACTS)' adicionado. Total atual: 1615\n",
      "📄 Artigo 'The Application of Artificial Intelligence Teaching Software in College English Teaching' adicionado. Total atual: 1616\n",
      "📄 Artigo 'The Use of Artificial Intelligence Services by Teachers in Teaching Science and Mathematics Subjects in General Secondary Education Institutions' adicionado. Total atual: 1617\n",
      "📄 Artigo 'APPLICATION OF PYTHON FOR DESIGNING VISUAL AIDS AND INTEGRATION OF ARTIFICIAL INTELLIGENCE (AI) TO TEACHING MATHEMATICS AT HIGH SCHOOLS' adicionado. Total atual: 1618\n",
      "📄 Artigo 'Artificial Intelligence and the Future of Teaching and Learning Mathematics in a Global Context: An Overview of Contemporary Research' adicionado. Total atual: 1619\n",
      "📄 Artigo 'Construction of Teacher-Student Interaction Evaluation Index System for High School Mathematics Concept Assimilation Learning Based on Artificial Intelligence' adicionado. Total atual: 1620\n",
      "📄 Artigo 'Artificial Intelligence as Teaching Aid: Polyphonic Lessons From the “Great Calculator Debate” in Mathematics Education' adicionado. Total atual: 1621\n",
      "📄 Artigo 'Design and Application of SPOC Hybrid Teaching for College Basketball Teaching Based on Artificial Intelligence Technology' adicionado. Total atual: 1622\n",
      "📄 Artigo 'CAS Use in University Mathematics Teaching and Assessment: Applying Oates’ Taxonomy for Integrated Technology' adicionado. Total atual: 1623\n",
      "📄 Artigo 'ARTIFICIAL INTELLIGENCE AND EDUCATION' adicionado. Total atual: 1624\n",
      "📄 Artigo 'Teaching Mathematics in the Age of Generative Artificial Intelligence' adicionado. Total atual: 1625\n",
      "📄 Artigo 'Artificial Intelligence Enabled Teaching Optimization for General Studies Elective Courses' adicionado. Total atual: 1626\n",
      "📄 Artigo 'Retracted: Effectiveness of Artificial Intelligence (AI) in Improving Pupils’ Deep Learning in Primary School Mathematics Teaching in Fujian Province' adicionado. Total atual: 1627\n",
      "📄 Artigo 'An examplary application of mathematics teaching based on formative assessment' adicionado. Total atual: 1628\n",
      "📄 Artigo 'Ten Good Reasons to Adopt an Automated Formative Assessment Model for Learning and Teaching Mathematics and Scientific Disciplines' adicionado. Total atual: 1629\n",
      "📄 Artigo 'Effective computer-aided assessment of mathematics; principles, practice and results' adicionado. Total atual: 1630\n",
      "📄 Artigo 'Peer assessment as an exam prerequisite in undergraduate mathematics teaching: experiment and practical advice' adicionado. Total atual: 1631\n",
      "📄 Artigo 'Towards a Development of Automated Feedback and Diagnostic Assessment System in Support of Literacy Teaching and Learning' adicionado. Total atual: 1632\n",
      "📄 Artigo 'Organization of formative assessment in teaching Mathematics' adicionado. Total atual: 1633\n",
      "📄 Artigo 'Building Teachers’ Capacity in Mathematics Authentic Assessment' adicionado. Total atual: 1634\n",
      "📄 Artigo 'Enhancing Mathematics Teaching and Learning Through Sound Assessment Practices' adicionado. Total atual: 1635\n"
     ]
    },
    {
     "name": "stderr",
     "output_type": "stream",
     "text": [
      "10:16:30 [INFO] crossref:   -> 9 artigos relevantes adicionados do cache para '\"mathematics teaching\" AND \"automated assessment\"'.\n",
      "10:16:30 [INFO] crossref: 🔎 Iniciando busca para: '\"mathematics teaching\" AND \"competency identification\"'\n",
      "10:16:30 [INFO] crossref: 📋 Carregando 8 artigos do cache para '\"mathematics teaching\" AND \"competency identification\"'\n",
      "10:16:30 [INFO] crossref:   -> 8 artigos relevantes adicionados do cache para '\"mathematics teaching\" AND \"competency identification\"'.\n",
      "10:16:30 [INFO] crossref: 🔎 Iniciando busca para: '\"mathematics teaching\" AND \"student modeling\"'\n",
      "10:16:30 [INFO] crossref: 📋 Carregando 1 artigos do cache para '\"mathematics teaching\" AND \"student modeling\"'\n",
      "10:16:30 [INFO] crossref:   -> 1 artigos relevantes adicionados do cache para '\"mathematics teaching\" AND \"student modeling\"'.\n",
      "10:16:30 [INFO] crossref: 🔎 Iniciando busca para: '\"mathematics teaching\" AND \"predictive analytics\"'\n",
      "10:16:30 [INFO] crossref: 📋 Carregando 10 artigos do cache para '\"mathematics teaching\" AND \"predictive analytics\"'\n"
     ]
    },
    {
     "name": "stdout",
     "output_type": "stream",
     "text": [
      "📄 Artigo 'Mathematics Teacher Education Training for Quality School Teachers: An Assessment of Mathematics Teaching Needs of Preservice Teachers’' adicionado. Total atual: 1636\n",
      "📄 Artigo 'Big data-based output-oriented teaching competency development for mathematics teacher trainees' adicionado. Total atual: 1637\n",
      "📄 Artigo 'The Effect of Teaching a Mathematics Teaching Theory Course Based on Deep Learning to Enhance Mathematics Teaching Competency for Student Teachers at Zhoukou Normal University' adicionado. Total atual: 1638\n",
      "📄 Artigo 'Development of Mathematics Teaching Materials for Junior High School Students Based on Minimum Competency' adicionado. Total atual: 1639\n",
      "📄 Artigo 'Competency Framework for the Qualification of Facilitators of Mathematics' adicionado. Total atual: 1640\n",
      "📄 Artigo 'Design of a Competency Assessment System for English Teaching Positions Based on the SERVQUAL Model' adicionado. Total atual: 1641\n",
      "📄 Artigo 'Using of the competency oriented tasks in the teaching of discipline «Technologies of teaching in the educational field of mathematics»' adicionado. Total atual: 1642\n",
      "📄 Artigo 'Content Analysis of Teaching Competency in CBSE Textbooks in Mathematics of VI Standard' adicionado. Total atual: 1643\n",
      "📄 Artigo 'Towards a definition of “mathematical digital competency for teaching”' adicionado. Total atual: 1644\n",
      "📄 Artigo 'Mathematical Modeling of Student Performance in Mathematics: Exploring the Impact of Attendance, Study Habits, and Teaching Methods' adicionado. Total atual: 1645\n",
      "📄 Artigo 'ecision Farming and Predictive Analytics in Precision Farming and Predictive Analytics in Precision Farming and Predictive Analytics in Precision Farming and Predictive Analytics in Precision Farming and Predictive Analytics in Precision Farming and Predictive Analytics in Precision Farming and Predictive Analytics in Precision Farming and Predictive Analytics in Precision Farming and Predictive Analytics in Precision Farming and Predictive Analytics in Precision Farming and Predictive Analytics in Precision Farming and Predictive Analytics in Precision Farming and Predictive Analytics in Precision Farming and Predictive Analytics in Precision Farming and Predictive Analytics in Precision Farming and Predictive Analytics in Precision Farming and Predictive Analytics in Precision Farming and Predictive Analytics in Precision Farming and Predictive Analytics in Precision Farming and Predictive Analytics in Precision Farming and Predictive Analytics in Precision Farming and Predictive Analytics in Precision Farming and Predictive Analytics in Precision Farming and Predictive Analytics in Precision Farming and Predictive Analytics in Precision Farming and Predictive Analytics in Precision Farming and Predictive Analytics in Precision Farming and Predictive Analytics in Precision Farming and Predictive Analytics in Precision Farming and Predictive Analytics in Precision Farming and Predictive Analytics in Precision Farming and Predictive Analytics in Precision Farming and Predictive Analytics in Precision Farming and Predictive Analytics in Precision Farming and Predictive Analytics in Precision Farming and Predictive Analytics in Precision Farming and Predictive Analytics in Precision Farming and Predictive Analytics in Precision Farming and Predictive Analytics in Precision Farming and Predictive Analytics in Agriculture ContextAgriculture ContextAgriculture ContextAgriculture ContextAgriculture ContextAgriculture ContextAgriculture ContextAgriculture ContextAgriculture ContextAgriculture ContextAgriculture Context Agriculture ContextAgriculture ContextAgriculture ContextAgriculture ContextAgriculture ContextAgriculture ContextAgriculture' adicionado. Total atual: 1646\n",
      "📄 Artigo 'A Study on the Learning Effectiveness and Behavioural Association of Predictive Analytics in English Teaching in Higher Education' adicionado. Total atual: 1647\n",
      "📄 Artigo 'Predictive Modelling in Teaching and Learning' adicionado. Total atual: 1648\n",
      "📄 Artigo 'Predictive Analytics in Heart Failure Prediction: A Systematic Review' adicionado. Total atual: 1649\n",
      "📄 Artigo 'Using predictive analytics in teaching and advising: Promising practices and practical considerations' adicionado. Total atual: 1650\n",
      "📄 Artigo 'Exploring Machine Learning Techniques for Predictive Analytics in Computational Mathematics' adicionado. Total atual: 1651\n",
      "📄 Artigo 'Evolutionary Algorithms and Collective Intelligence in Computational Mathematics for Predictive Analytics' adicionado. Total atual: 1652\n"
     ]
    },
    {
     "name": "stderr",
     "output_type": "stream",
     "text": [
      "10:16:30 [INFO] crossref:   -> 10 artigos relevantes adicionados do cache para '\"mathematics teaching\" AND \"predictive analytics\"'.\n",
      "10:16:30 [INFO] crossref: 🔎 Iniciando busca para: '\"educação matemática\" AND \"adaptive learning\"'\n",
      "10:16:30 [INFO] crossref: 📋 Carregando 8 artigos do cache para '\"educação matemática\" AND \"adaptive learning\"'\n",
      "10:16:30 [INFO] crossref:   -> 8 artigos relevantes adicionados do cache para '\"educação matemática\" AND \"adaptive learning\"'.\n",
      "10:16:30 [INFO] crossref: 🔎 Iniciando busca para: '\"educação matemática\" AND \"personalized learning\"'\n",
      "10:16:30 [INFO] crossref: 📋 Carregando 9 artigos do cache para '\"educação matemática\" AND \"personalized learning\"'\n"
     ]
    },
    {
     "name": "stdout",
     "output_type": "stream",
     "text": [
      "📄 Artigo 'Predictive Modelling in Teaching and Learning' adicionado. Total atual: 1653\n",
      "📄 Artigo 'Data Analytics and Predictive Modeling' adicionado. Total atual: 1654\n",
      "📄 Artigo 'Mitigating Academic Institution Dropout Rates with Predictive Analytics Algorithms' adicionado. Total atual: 1655\n",
      "📄 Artigo 'A MODELAGEM MATEMÁTICA NA  PERSPECTIVA DA EDUCAÇÃO MATEMÁTICA' adicionado. Total atual: 1656\n",
      "📄 Artigo 'TAREFAS DE MATEMÁTICA  À LUZ DA EDUCAÇÃO MATEMÁTICA REALÍSTICA' adicionado. Total atual: 1657\n",
      "📄 Artigo 'EDUCAÇÃO MATEMÁTICA CRÍTICA NO ENSINO FUNDAMENTAL I : PROJETO DE EDUCAÇÃO FINANCEIRA' adicionado. Total atual: 1658\n",
      "📄 Artigo 'TEMÁTICAS NO CURRÍCULO DE MATEMÁTICA' adicionado. Total atual: 1659\n",
      "📄 Artigo 'Anais do Encontro Pernambucano de Educação Matemática' adicionado. Total atual: 1660\n",
      "📄 Artigo 'Educação Matemática e Currículo Escolar: um estudo da matemática praticada no ensino técnico agrícola' adicionado. Total atual: 1661\n",
      "📄 Artigo 'Educação Matemática Crítica e Educação Ambiental: uma forma matemática de adiar o fim do mundo' adicionado. Total atual: 1662\n",
      "📄 Artigo 'EDUCAÇÃO MATEMÁTICA E EDUCAÇÃO PROFISSIONAL: UM CURSO TÉCNICO COMO LÓCUS DE ESTUDO' adicionado. Total atual: 1663\n",
      "📄 Artigo 'A MODELAGEM MATEMÁTICA NA  PERSPECTIVA DA EDUCAÇÃO MATEMÁTICA' adicionado. Total atual: 1664\n",
      "📄 Artigo 'TAREFAS DE MATEMÁTICA  À LUZ DA EDUCAÇÃO MATEMÁTICA REALÍSTICA' adicionado. Total atual: 1665\n",
      "📄 Artigo 'EDUCAÇÃO MATEMÁTICA CRÍTICA NO ENSINO FUNDAMENTAL I : PROJETO DE EDUCAÇÃO FINANCEIRA' adicionado. Total atual: 1666\n",
      "📄 Artigo 'TEMÁTICAS NO CURRÍCULO DE MATEMÁTICA' adicionado. Total atual: 1667\n",
      "📄 Artigo 'Educação Matemática e Currículo Escolar: um estudo da matemática praticada no ensino técnico agrícola' adicionado. Total atual: 1668\n",
      "📄 Artigo 'Educação Matemática Crítica e Educação Ambiental: uma forma matemática de adiar o fim do mundo' adicionado. Total atual: 1669\n",
      "📄 Artigo 'Problematizando a emergência da modelagem matemática na educação matemática' adicionado. Total atual: 1670\n",
      "📄 Artigo 'Anais do Encontro Pernambucano de Educação Matemática' adicionado. Total atual: 1671\n",
      "📄 Artigo 'MATEMÁTICA NA ENGENHARIA: MAPEAMENTO DE PRODUÇÕES EM EDUCAÇÃO MATEMÁTICA DA PUC-SP DE 2010 A 2020' adicionado. Total atual: 1672\n"
     ]
    },
    {
     "name": "stderr",
     "output_type": "stream",
     "text": [
      "10:16:30 [INFO] crossref:   -> 9 artigos relevantes adicionados do cache para '\"educação matemática\" AND \"personalized learning\"'.\n",
      "10:16:30 [INFO] crossref: 🔎 Iniciando busca para: '\"educação matemática\" AND \"intelligent tutoring systems\"'\n",
      "10:16:30 [INFO] crossref: 📋 Carregando 7 artigos do cache para '\"educação matemática\" AND \"intelligent tutoring systems\"'\n",
      "10:16:31 [INFO] crossref:   -> 7 artigos relevantes adicionados do cache para '\"educação matemática\" AND \"intelligent tutoring systems\"'.\n",
      "10:16:31 [INFO] crossref: 🔎 Iniciando busca para: '\"educação matemática\" AND \"learning analytics\"'\n",
      "10:16:31 [INFO] crossref: 📋 Carregando 8 artigos do cache para '\"educação matemática\" AND \"learning analytics\"'\n",
      "10:16:31 [INFO] crossref:   -> 8 artigos relevantes adicionados do cache para '\"educação matemática\" AND \"learning analytics\"'.\n",
      "10:16:31 [INFO] crossref: 🔎 Iniciando busca para: '\"educação matemática\" AND \"educational data mining\"'\n",
      "10:16:31 [INFO] crossref: 📋 Carregando 9 artigos do cache para '\"educação matemática\" AND \"educational data mining\"'\n"
     ]
    },
    {
     "name": "stdout",
     "output_type": "stream",
     "text": [
      "📄 Artigo 'Tutoring Process in Emotionally Intelligent Tutoring Systems' adicionado. Total atual: 1673\n",
      "📄 Artigo 'Co-designing Gamified Intelligent Tutoring Systems with Teachers' adicionado. Total atual: 1674\n",
      "📄 Artigo 'A MODELAGEM MATEMÁTICA NA  PERSPECTIVA DA EDUCAÇÃO MATEMÁTICA' adicionado. Total atual: 1675\n",
      "📄 Artigo 'Explainable AI for Intelligent Tutoring Systems' adicionado. Total atual: 1676\n",
      "📄 Artigo 'Using Deep Reinforcement Learning to Build Intelligent Tutoring Systems' adicionado. Total atual: 1677\n",
      "📄 Artigo 'TAREFAS DE MATEMÁTICA  À LUZ DA EDUCAÇÃO MATEMÁTICA REALÍSTICA' adicionado. Total atual: 1678\n",
      "📄 Artigo 'Embedding Intelligent Tutoring Systems in MOOCs and e-Learning Platforms' adicionado. Total atual: 1679\n",
      "📄 Artigo 'A MODELAGEM MATEMÁTICA NA  PERSPECTIVA DA EDUCAÇÃO MATEMÁTICA' adicionado. Total atual: 1680\n",
      "📄 Artigo 'TAREFAS DE MATEMÁTICA  À LUZ DA EDUCAÇÃO MATEMÁTICA REALÍSTICA' adicionado. Total atual: 1681\n",
      "📄 Artigo 'EDUCAÇÃO MATEMÁTICA CRÍTICA NO ENSINO FUNDAMENTAL I : PROJETO DE EDUCAÇÃO FINANCEIRA' adicionado. Total atual: 1682\n",
      "📄 Artigo 'TEMÁTICAS NO CURRÍCULO DE MATEMÁTICA' adicionado. Total atual: 1683\n",
      "📄 Artigo 'Educação Matemática Crítica e Educação Ambiental: uma forma matemática de adiar o fim do mundo' adicionado. Total atual: 1684\n",
      "📄 Artigo 'Educação Matemática e Currículo Escolar: um estudo da matemática praticada no ensino técnico agrícola' adicionado. Total atual: 1685\n",
      "📄 Artigo 'Problematizando a emergência da modelagem matemática na educação matemática' adicionado. Total atual: 1686\n",
      "📄 Artigo 'Anais do Encontro Pernambucano de Educação Matemática' adicionado. Total atual: 1687\n",
      "📄 Artigo 'A MODELAGEM MATEMÁTICA NA  PERSPECTIVA DA EDUCAÇÃO MATEMÁTICA' adicionado. Total atual: 1688\n",
      "📄 Artigo 'TAREFAS DE MATEMÁTICA  À LUZ DA EDUCAÇÃO MATEMÁTICA REALÍSTICA' adicionado. Total atual: 1689\n",
      "📄 Artigo 'EDUCAÇÃO MATEMÁTICA CRÍTICA NO ENSINO FUNDAMENTAL I : PROJETO DE EDUCAÇÃO FINANCEIRA' adicionado. Total atual: 1690\n",
      "📄 Artigo 'TEMÁTICAS NO CURRÍCULO DE MATEMÁTICA' adicionado. Total atual: 1691\n",
      "📄 Artigo 'Anais do Encontro Pernambucano de Educação Matemática' adicionado. Total atual: 1692\n",
      "📄 Artigo 'Educação Matemática e Currículo Escolar: um estudo da matemática praticada no ensino técnico agrícola' adicionado. Total atual: 1693\n",
      "📄 Artigo 'Educação Matemática Crítica e Educação Ambiental: uma forma matemática de adiar o fim do mundo' adicionado. Total atual: 1694\n",
      "📄 Artigo 'EDUCAÇÃO MATEMÁTICA E EDUCAÇÃO PROFISSIONAL: UM CURSO TÉCNICO COMO LÓCUS DE ESTUDO' adicionado. Total atual: 1695\n"
     ]
    },
    {
     "name": "stderr",
     "output_type": "stream",
     "text": [
      "10:16:31 [INFO] crossref:   -> 9 artigos relevantes adicionados do cache para '\"educação matemática\" AND \"educational data mining\"'.\n",
      "10:16:31 [INFO] crossref: 🔎 Iniciando busca para: '\"educação matemática\" AND \"machine learning\"'\n",
      "10:16:31 [INFO] crossref: 📋 Carregando 8 artigos do cache para '\"educação matemática\" AND \"machine learning\"'\n",
      "10:16:31 [INFO] crossref:   -> 8 artigos relevantes adicionados do cache para '\"educação matemática\" AND \"machine learning\"'.\n",
      "10:16:31 [INFO] crossref: 🔎 Iniciando busca para: '\"educação matemática\" AND \"artificial intelligence\"'\n",
      "10:16:31 [INFO] crossref: 📋 Carregando 9 artigos do cache para '\"educação matemática\" AND \"artificial intelligence\"'\n"
     ]
    },
    {
     "name": "stdout",
     "output_type": "stream",
     "text": [
      "📄 Artigo 'Problematizando a emergência da modelagem matemática na educação matemática' adicionado. Total atual: 1696\n",
      "📄 Artigo 'A MODELAGEM MATEMÁTICA NA  PERSPECTIVA DA EDUCAÇÃO MATEMÁTICA' adicionado. Total atual: 1697\n",
      "📄 Artigo 'TAREFAS DE MATEMÁTICA  À LUZ DA EDUCAÇÃO MATEMÁTICA REALÍSTICA' adicionado. Total atual: 1698\n",
      "📄 Artigo 'EDUCAÇÃO MATEMÁTICA CRÍTICA NO ENSINO FUNDAMENTAL I : PROJETO DE EDUCAÇÃO FINANCEIRA' adicionado. Total atual: 1699\n",
      "📄 Artigo 'TEMÁTICAS NO CURRÍCULO DE MATEMÁTICA' adicionado. Total atual: 1700\n",
      "📄 Artigo 'Anais do Encontro Pernambucano de Educação Matemática' adicionado. Total atual: 1701\n",
      "📄 Artigo 'Educação Matemática e Currículo Escolar: um estudo da matemática praticada no ensino técnico agrícola' adicionado. Total atual: 1702\n",
      "📄 Artigo 'Educação Matemática Crítica e Educação Ambiental: uma forma matemática de adiar o fim do mundo' adicionado. Total atual: 1703\n",
      "📄 Artigo 'EDUCAÇÃO MATEMÁTICA E EDUCAÇÃO PROFISSIONAL: UM CURSO TÉCNICO COMO LÓCUS DE ESTUDO' adicionado. Total atual: 1704\n",
      "📄 Artigo 'Inteligencia Artificial en educación matemática: Una revisión sistemática' adicionado. Total atual: 1705\n",
      "📄 Artigo 'Formação de Professores de Matemática e o Currículo de Inteligência Artificial da Educação Básica - Unesco' adicionado. Total atual: 1706\n",
      "📄 Artigo 'INTELIGÊNCIA ARTIFICIAL GENERATIVA (IAG) E EDUCAÇÃO MATEMÁTICA: POSSIBILIDADES EM SALA DE AULA' adicionado. Total atual: 1707\n"
     ]
    },
    {
     "name": "stderr",
     "output_type": "stream",
     "text": [
      "10:16:31 [INFO] crossref:   -> 9 artigos relevantes adicionados do cache para '\"educação matemática\" AND \"artificial intelligence\"'.\n",
      "10:16:31 [INFO] crossref: 🔎 Iniciando busca para: '\"educação matemática\" AND \"automated assessment\"'\n",
      "10:16:31 [INFO] crossref: 📋 Carregando 10 artigos do cache para '\"educação matemática\" AND \"automated assessment\"'\n"
     ]
    },
    {
     "name": "stdout",
     "output_type": "stream",
     "text": [
      "📄 Artigo 'A MODELAGEM MATEMÁTICA NA  PERSPECTIVA DA EDUCAÇÃO MATEMÁTICA' adicionado. Total atual: 1708\n",
      "📄 Artigo 'TAREFAS DE MATEMÁTICA  À LUZ DA EDUCAÇÃO MATEMÁTICA REALÍSTICA' adicionado. Total atual: 1709\n",
      "📄 Artigo 'EDUCAÇÃO MATEMÁTICA CRÍTICA NO ENSINO FUNDAMENTAL I : PROJETO DE EDUCAÇÃO FINANCEIRA' adicionado. Total atual: 1710\n",
      "📄 Artigo 'TEMÁTICAS NO CURRÍCULO DE MATEMÁTICA' adicionado. Total atual: 1711\n",
      "📄 Artigo 'Educação Matemática e Currículo Escolar: um estudo da matemática praticada no ensino técnico agrícola' adicionado. Total atual: 1712\n",
      "📄 Artigo 'Educação Matemática Crítica e Educação Ambiental: uma forma matemática de adiar o fim do mundo' adicionado. Total atual: 1713\n",
      "📄 Artigo 'Avaliação em atividades com Modelagem Matemática na Educação Matemática: uma proposta de instrumento&lt;br&gt;Assessment in practices with mathematical modeling in mathematics education:  A proposal of an assessment tool' adicionado. Total atual: 1714\n",
      "📄 Artigo 'A MODELAGEM MATEMÁTICA NA  PERSPECTIVA DA EDUCAÇÃO MATEMÁTICA' adicionado. Total atual: 1715\n",
      "📄 Artigo 'EDUCAÇÃO MATEMÁTICA CRÍTICA NO ENSINO FUNDAMENTAL I : PROJETO DE EDUCAÇÃO FINANCEIRA' adicionado. Total atual: 1716\n",
      "📄 Artigo 'TAREFAS DE MATEMÁTICA  À LUZ DA EDUCAÇÃO MATEMÁTICA REALÍSTICA' adicionado. Total atual: 1717\n",
      "📄 Artigo 'TEMÁTICAS NO CURRÍCULO DE MATEMÁTICA' adicionado. Total atual: 1718\n",
      "📄 Artigo 'Educação Matemática Crítica e Educação Ambiental: uma forma matemática de adiar o fim do mundo' adicionado. Total atual: 1719\n"
     ]
    },
    {
     "name": "stderr",
     "output_type": "stream",
     "text": [
      "10:16:31 [INFO] crossref:   -> 10 artigos relevantes adicionados do cache para '\"educação matemática\" AND \"automated assessment\"'.\n",
      "10:16:31 [INFO] crossref: 🔎 Iniciando busca para: '\"educação matemática\" AND \"competency identification\"'\n",
      "10:16:31 [INFO] crossref: 📋 Carregando 9 artigos do cache para '\"educação matemática\" AND \"competency identification\"'\n"
     ]
    },
    {
     "name": "stdout",
     "output_type": "stream",
     "text": [
      "📄 Artigo 'Educação Matemática e Currículo Escolar: um estudo da matemática praticada no ensino técnico agrícola' adicionado. Total atual: 1720\n",
      "📄 Artigo 'Problematizando a emergência da modelagem matemática na educação matemática' adicionado. Total atual: 1721\n",
      "📄 Artigo 'Anais do Encontro Pernambucano de Educação Matemática' adicionado. Total atual: 1722\n",
      "📄 Artigo 'MATEMÁTICA NA ENGENHARIA: MAPEAMENTO DE PRODUÇÕES EM EDUCAÇÃO MATEMÁTICA DA PUC-SP DE 2010 A 2020' adicionado. Total atual: 1723\n",
      "📄 Artigo 'A MODELAGEM MATEMÁTICA NA  PERSPECTIVA DA EDUCAÇÃO MATEMÁTICA' adicionado. Total atual: 1724\n",
      "📄 Artigo 'TAREFAS DE MATEMÁTICA  À LUZ DA EDUCAÇÃO MATEMÁTICA REALÍSTICA' adicionado. Total atual: 1725\n",
      "📄 Artigo 'EDUCAÇÃO MATEMÁTICA CRÍTICA NO ENSINO FUNDAMENTAL I : PROJETO DE EDUCAÇÃO FINANCEIRA' adicionado. Total atual: 1726\n",
      "📄 Artigo 'TEMÁTICAS NO CURRÍCULO DE MATEMÁTICA' adicionado. Total atual: 1727\n",
      "📄 Artigo 'Educação Matemática Crítica e Educação Ambiental: uma forma matemática de adiar o fim do mundo' adicionado. Total atual: 1728\n"
     ]
    },
    {
     "name": "stderr",
     "output_type": "stream",
     "text": [
      "10:16:31 [INFO] crossref:   -> 9 artigos relevantes adicionados do cache para '\"educação matemática\" AND \"competency identification\"'.\n",
      "10:16:31 [INFO] crossref: 🔎 Iniciando busca para: '\"educação matemática\" AND \"student modeling\"'\n",
      "10:16:32 [INFO] crossref: 📋 Carregando 11 artigos do cache para '\"educação matemática\" AND \"student modeling\"'\n"
     ]
    },
    {
     "name": "stdout",
     "output_type": "stream",
     "text": [
      "📄 Artigo 'Educação Matemática e Currículo Escolar: um estudo da matemática praticada no ensino técnico agrícola' adicionado. Total atual: 1729\n",
      "📄 Artigo 'Problematizando a emergência da modelagem matemática na educação matemática' adicionado. Total atual: 1730\n",
      "📄 Artigo 'Anais do Encontro Pernambucano de Educação Matemática' adicionado. Total atual: 1731\n",
      "📄 Artigo 'MATEMÁTICA NA ENGENHARIA: MAPEAMENTO DE PRODUÇÕES EM EDUCAÇÃO MATEMÁTICA DA PUC-SP DE 2010 A 2020' adicionado. Total atual: 1732\n",
      "📄 Artigo 'Avaliação em atividades com Modelagem Matemática na Educação Matemática: uma proposta de instrumento&lt;br&gt;Assessment in practices with mathematical modeling in mathematics education:  A proposal of an assessment tool' adicionado. Total atual: 1733\n",
      "📄 Artigo 'O ciclo investigativo de modelagem matemática &lt;br&gt; The investigative cycle in mathematical modeling' adicionado. Total atual: 1734\n",
      "📄 Artigo 'A MODELAGEM MATEMÁTICA NA  PERSPECTIVA DA EDUCAÇÃO MATEMÁTICA' adicionado. Total atual: 1735\n",
      "📄 Artigo 'Formação de professores em Modelagem Matemática: uma hermenêutica dos relatórios do GT 10 – Modelagem Matemática da SBEM &lt;br&gt; Teacher education in Mathematical Modeling: a hermeneutics of the reports of WG 10 - Mathematical Modeling of SBEM' adicionado. Total atual: 1736\n",
      "📄 Artigo 'TAREFAS DE MATEMÁTICA  À LUZ DA EDUCAÇÃO MATEMÁTICA REALÍSTICA' adicionado. Total atual: 1737\n",
      "📄 Artigo 'EDUCAÇÃO MATEMÁTICA CRÍTICA NO ENSINO FUNDAMENTAL I : PROJETO DE EDUCAÇÃO FINANCEIRA' adicionado. Total atual: 1738\n",
      "📄 Artigo 'Assistência contínua ao estudante na avaliação em matemática em forma de teia &lt;br&gt; Continuous assistance to student in evaluation in mathematics in web form' adicionado. Total atual: 1739\n",
      "📄 Artigo 'Reflections about modeling processes: a case of translational motion in horizontal direction' adicionado. Total atual: 1740\n",
      "📄 Artigo 'TEMÁTICAS NO CURRÍCULO DE MATEMÁTICA' adicionado. Total atual: 1741\n",
      "📄 Artigo 'Educação Matemática e Currículo Escolar: um estudo da matemática praticada no ensino técnico agrícola' adicionado. Total atual: 1742\n",
      "📄 Artigo 'Educação Matemática Crítica e Educação Ambiental: uma forma matemática de adiar o fim do mundo' adicionado. Total atual: 1743\n"
     ]
    },
    {
     "name": "stderr",
     "output_type": "stream",
     "text": [
      "10:16:32 [INFO] crossref:   -> 11 artigos relevantes adicionados do cache para '\"educação matemática\" AND \"student modeling\"'.\n",
      "10:16:32 [INFO] crossref: 🔎 Iniciando busca para: '\"educação matemática\" AND \"predictive analytics\"'\n",
      "10:16:32 [INFO] crossref: 📋 Carregando 10 artigos do cache para '\"educação matemática\" AND \"predictive analytics\"'\n",
      "10:16:32 [INFO] crossref:   -> 10 artigos relevantes adicionados do cache para '\"educação matemática\" AND \"predictive analytics\"'.\n",
      "10:16:32 [INFO] crossref: 🔎 Iniciando busca para: '\"ensino de matemática\" AND \"adaptive learning\"'\n",
      "10:16:32 [INFO] crossref: 📋 Carregando 3 artigos do cache para '\"ensino de matemática\" AND \"adaptive learning\"'\n"
     ]
    },
    {
     "name": "stdout",
     "output_type": "stream",
     "text": [
      "📄 Artigo 'ecision Farming and Predictive Analytics in Precision Farming and Predictive Analytics in Precision Farming and Predictive Analytics in Precision Farming and Predictive Analytics in Precision Farming and Predictive Analytics in Precision Farming and Predictive Analytics in Precision Farming and Predictive Analytics in Precision Farming and Predictive Analytics in Precision Farming and Predictive Analytics in Precision Farming and Predictive Analytics in Precision Farming and Predictive Analytics in Precision Farming and Predictive Analytics in Precision Farming and Predictive Analytics in Precision Farming and Predictive Analytics in Precision Farming and Predictive Analytics in Precision Farming and Predictive Analytics in Precision Farming and Predictive Analytics in Precision Farming and Predictive Analytics in Precision Farming and Predictive Analytics in Precision Farming and Predictive Analytics in Precision Farming and Predictive Analytics in Precision Farming and Predictive Analytics in Precision Farming and Predictive Analytics in Precision Farming and Predictive Analytics in Precision Farming and Predictive Analytics in Precision Farming and Predictive Analytics in Precision Farming and Predictive Analytics in Precision Farming and Predictive Analytics in Precision Farming and Predictive Analytics in Precision Farming and Predictive Analytics in Precision Farming and Predictive Analytics in Precision Farming and Predictive Analytics in Precision Farming and Predictive Analytics in Precision Farming and Predictive Analytics in Precision Farming and Predictive Analytics in Precision Farming and Predictive Analytics in Precision Farming and Predictive Analytics in Precision Farming and Predictive Analytics in Precision Farming and Predictive Analytics in Precision Farming and Predictive Analytics in Agriculture ContextAgriculture ContextAgriculture ContextAgriculture ContextAgriculture ContextAgriculture ContextAgriculture ContextAgriculture ContextAgriculture ContextAgriculture ContextAgriculture Context Agriculture ContextAgriculture ContextAgriculture ContextAgriculture ContextAgriculture ContextAgriculture ContextAgriculture' adicionado. Total atual: 1744\n",
      "📄 Artigo 'A MODELAGEM MATEMÁTICA NA  PERSPECTIVA DA EDUCAÇÃO MATEMÁTICA' adicionado. Total atual: 1745\n",
      "📄 Artigo 'TAREFAS DE MATEMÁTICA  À LUZ DA EDUCAÇÃO MATEMÁTICA REALÍSTICA' adicionado. Total atual: 1746\n",
      "📄 Artigo 'EDUCAÇÃO MATEMÁTICA CRÍTICA NO ENSINO FUNDAMENTAL I : PROJETO DE EDUCAÇÃO FINANCEIRA' adicionado. Total atual: 1747\n",
      "📄 Artigo 'TEMÁTICAS NO CURRÍCULO DE MATEMÁTICA' adicionado. Total atual: 1748\n",
      "📄 Artigo 'Anais do Encontro Pernambucano de Educação Matemática' adicionado. Total atual: 1749\n",
      "📄 Artigo 'Educação Matemática Crítica e Educação Ambiental: uma forma matemática de adiar o fim do mundo' adicionado. Total atual: 1750\n",
      "📄 Artigo 'Educação Matemática e Currículo Escolar: um estudo da matemática praticada no ensino técnico agrícola' adicionado. Total atual: 1751\n",
      "📄 Artigo 'EDUCAÇÃO MATEMÁTICA E EDUCAÇÃO PROFISSIONAL: UM CURSO TÉCNICO COMO LÓCUS DE ESTUDO' adicionado. Total atual: 1752\n",
      "📄 Artigo 'Problematizando a emergência da modelagem matemática na educação matemática' adicionado. Total atual: 1753\n"
     ]
    },
    {
     "name": "stderr",
     "output_type": "stream",
     "text": [
      "10:16:32 [INFO] crossref:   -> 3 artigos relevantes adicionados do cache para '\"ensino de matemática\" AND \"adaptive learning\"'.\n",
      "10:16:32 [INFO] crossref: 🔎 Iniciando busca para: '\"ensino de matemática\" AND \"personalized learning\"'\n",
      "10:16:32 [INFO] crossref: 📋 Carregando 3 artigos do cache para '\"ensino de matemática\" AND \"personalized learning\"'\n",
      "10:16:32 [INFO] crossref:   -> 3 artigos relevantes adicionados do cache para '\"ensino de matemática\" AND \"personalized learning\"'.\n",
      "10:16:32 [INFO] crossref: 🔎 Iniciando busca para: '\"ensino de matemática\" AND \"intelligent tutoring systems\"'\n",
      "10:16:32 [INFO] crossref: 📋 Carregando 3 artigos do cache para '\"ensino de matemática\" AND \"intelligent tutoring systems\"'\n",
      "10:16:32 [INFO] crossref:   -> 3 artigos relevantes adicionados do cache para '\"ensino de matemática\" AND \"intelligent tutoring systems\"'.\n",
      "10:16:32 [INFO] crossref: 🔎 Iniciando busca para: '\"ensino de matemática\" AND \"learning analytics\"'\n",
      "10:16:32 [INFO] crossref: 📋 Carregando 5 artigos do cache para '\"ensino de matemática\" AND \"learning analytics\"'\n"
     ]
    },
    {
     "name": "stdout",
     "output_type": "stream",
     "text": [
      "📄 Artigo 'ATIVIDADE ORIENTADORA DE ENSINO: PRINCÍPIOS E PRÁTICAS PARA ORGANIZAÇÃO DO ENSINO DE MATEMÁTICA' adicionado. Total atual: 1754\n",
      "📄 Artigo 'Anais do(a) Anais do Encontro de Professores que Ensinam Matemática no Araguaia: os desafios para o ensino de matemática nos diversos níveis de ensino.' adicionado. Total atual: 1755\n",
      "📄 Artigo 'UMA PROPOSTA DE MATERIAL DIDÁTICO: A CAIXA EDUCATIVA DE MATEMÁTICA - CAEDUM' adicionado. Total atual: 1756\n",
      "📄 Artigo 'ATIVIDADE ORIENTADORA DE ENSINO: PRINCÍPIOS E PRÁTICAS PARA ORGANIZAÇÃO DO ENSINO DE MATEMÁTICA' adicionado. Total atual: 1757\n",
      "📄 Artigo 'Anais do(a) Anais do Encontro de Professores que Ensinam Matemática no Araguaia: os desafios para o ensino de matemática nos diversos níveis de ensino.' adicionado. Total atual: 1758\n",
      "📄 Artigo 'UMA PROPOSTA DE MATERIAL DIDÁTICO: A CAIXA EDUCATIVA DE MATEMÁTICA - CAEDUM' adicionado. Total atual: 1759\n",
      "📄 Artigo 'Tutoring Process in Emotionally Intelligent Tutoring Systems' adicionado. Total atual: 1760\n",
      "📄 Artigo 'ATIVIDADE ORIENTADORA DE ENSINO: PRINCÍPIOS E PRÁTICAS PARA ORGANIZAÇÃO DO ENSINO DE MATEMÁTICA' adicionado. Total atual: 1761\n",
      "📄 Artigo 'Anais do(a) Anais do Encontro de Professores que Ensinam Matemática no Araguaia: os desafios para o ensino de matemática nos diversos níveis de ensino.' adicionado. Total atual: 1762\n",
      "📄 Artigo 'Learning Analytics para avaliar o desempenho discente em uma disciplina de cursos a distância' adicionado. Total atual: 1763\n",
      "📄 Artigo 'Learning Analytics no Ensino de Introdução à Programação de Computadores' adicionado. Total atual: 1764\n"
     ]
    },
    {
     "name": "stderr",
     "output_type": "stream",
     "text": [
      "10:16:32 [INFO] crossref:   -> 5 artigos relevantes adicionados do cache para '\"ensino de matemática\" AND \"learning analytics\"'.\n",
      "10:16:32 [INFO] crossref: 🔎 Iniciando busca para: '\"ensino de matemática\" AND \"educational data mining\"'\n",
      "10:16:32 [INFO] crossref: 📋 Carregando 3 artigos do cache para '\"ensino de matemática\" AND \"educational data mining\"'\n",
      "10:16:32 [INFO] crossref:   -> 3 artigos relevantes adicionados do cache para '\"ensino de matemática\" AND \"educational data mining\"'.\n",
      "10:16:32 [INFO] crossref: 🔎 Iniciando busca para: '\"ensino de matemática\" AND \"machine learning\"'\n",
      "10:16:32 [INFO] crossref: 📋 Carregando 3 artigos do cache para '\"ensino de matemática\" AND \"machine learning\"'\n",
      "10:16:32 [INFO] crossref:   -> 3 artigos relevantes adicionados do cache para '\"ensino de matemática\" AND \"machine learning\"'.\n",
      "10:16:32 [INFO] crossref: 🔎 Iniciando busca para: '\"ensino de matemática\" AND \"artificial intelligence\"'\n",
      "10:16:32 [INFO] crossref: 📋 Carregando 4 artigos do cache para '\"ensino de matemática\" AND \"artificial intelligence\"'\n"
     ]
    },
    {
     "name": "stdout",
     "output_type": "stream",
     "text": [
      "📄 Artigo 'ATIVIDADE ORIENTADORA DE ENSINO: PRINCÍPIOS E PRÁTICAS PARA ORGANIZAÇÃO DO ENSINO DE MATEMÁTICA' adicionado. Total atual: 1765\n",
      "📄 Artigo 'Anais do II Workshop de Aplicações Práticas de Learning Analytics em Instituições de Ensino no Brasil (WAPLA 2023)' adicionado. Total atual: 1766\n",
      "📄 Artigo 'Anais do I Workshop de Aplicações Práticas de Learning Analytics em Instituições de Ensino no Brasil (WAPLA 2022)' adicionado. Total atual: 1767\n",
      "📄 Artigo 'ATIVIDADE ORIENTADORA DE ENSINO: PRINCÍPIOS E PRÁTICAS PARA ORGANIZAÇÃO DO ENSINO DE MATEMÁTICA' adicionado. Total atual: 1768\n",
      "📄 Artigo 'Anais do(a) Anais do Encontro de Professores que Ensinam Matemática no Araguaia: os desafios para o ensino de matemática nos diversos níveis de ensino.' adicionado. Total atual: 1769\n",
      "📄 Artigo 'UMA PROPOSTA DE MATERIAL DIDÁTICO: A CAIXA EDUCATIVA DE MATEMÁTICA - CAEDUM' adicionado. Total atual: 1770\n",
      "📄 Artigo 'ATIVIDADE ORIENTADORA DE ENSINO: PRINCÍPIOS E PRÁTICAS PARA ORGANIZAÇÃO DO ENSINO DE MATEMÁTICA' adicionado. Total atual: 1771\n",
      "📄 Artigo 'Anais do(a) Anais do Encontro de Professores que Ensinam Matemática no Araguaia: os desafios para o ensino de matemática nos diversos níveis de ensino.' adicionado. Total atual: 1772\n",
      "📄 Artigo 'UMA PROPOSTA DE MATERIAL DIDÁTICO: A CAIXA EDUCATIVA DE MATEMÁTICA - CAEDUM' adicionado. Total atual: 1773\n",
      "📄 Artigo 'O USO DA INTELIGÊNCIA ARTIFICIAL, MODELAGEM MATEMÁTICA E RESOLUÇÃO DE PROBLEMAS COMO POTENCIALIZADORES NO PROCESSO DE ENSINO E APRENDIZAGEM DE MATEMÁTICA NO SÉTIMO ANO DO ENSINO FUNDAMENTAL' adicionado. Total atual: 1774\n",
      "📄 Artigo 'ATIVIDADE ORIENTADORA DE ENSINO: PRINCÍPIOS E PRÁTICAS PARA ORGANIZAÇÃO DO ENSINO DE MATEMÁTICA' adicionado. Total atual: 1775\n",
      "📄 Artigo 'Anais do(a) Anais do Encontro de Professores que Ensinam Matemática no Araguaia: os desafios para o ensino de matemática nos diversos níveis de ensino.' adicionado. Total atual: 1776\n",
      "📄 Artigo 'UMA PROPOSTA DE MATERIAL DIDÁTICO: A CAIXA EDUCATIVA DE MATEMÁTICA - CAEDUM' adicionado. Total atual: 1777\n"
     ]
    },
    {
     "name": "stderr",
     "output_type": "stream",
     "text": [
      "10:16:32 [INFO] crossref:   -> 4 artigos relevantes adicionados do cache para '\"ensino de matemática\" AND \"artificial intelligence\"'.\n",
      "10:16:32 [INFO] crossref: 🔎 Iniciando busca para: '\"ensino de matemática\" AND \"automated assessment\"'\n",
      "10:16:32 [INFO] crossref: 📋 Carregando 3 artigos do cache para '\"ensino de matemática\" AND \"automated assessment\"'\n",
      "10:16:33 [INFO] crossref:   -> 3 artigos relevantes adicionados do cache para '\"ensino de matemática\" AND \"automated assessment\"'.\n",
      "10:16:33 [INFO] crossref: 🔎 Iniciando busca para: '\"ensino de matemática\" AND \"competency identification\"'\n",
      "10:16:33 [INFO] crossref: 📋 Carregando 3 artigos do cache para '\"ensino de matemática\" AND \"competency identification\"'\n",
      "10:16:33 [INFO] crossref:   -> 3 artigos relevantes adicionados do cache para '\"ensino de matemática\" AND \"competency identification\"'.\n",
      "10:16:33 [INFO] crossref: 🔎 Iniciando busca para: '\"ensino de matemática\" AND \"student modeling\"'\n",
      "10:16:33 [INFO] crossref: 📋 Carregando 4 artigos do cache para '\"ensino de matemática\" AND \"student modeling\"'\n",
      "10:16:33 [INFO] crossref:   -> 4 artigos relevantes adicionados do cache para '\"ensino de matemática\" AND \"student modeling\"'.\n",
      "10:16:33 [INFO] crossref: 🔎 Iniciando busca para: '\"ensino de matemática\" AND \"predictive analytics\"'\n"
     ]
    },
    {
     "name": "stdout",
     "output_type": "stream",
     "text": [
      "📄 Artigo 'ATIVIDADE ORIENTADORA DE ENSINO: PRINCÍPIOS E PRÁTICAS PARA ORGANIZAÇÃO DO ENSINO DE MATEMÁTICA' adicionado. Total atual: 1778\n",
      "📄 Artigo 'Anais do(a) Anais do Encontro de Professores que Ensinam Matemática no Araguaia: os desafios para o ensino de matemática nos diversos níveis de ensino.' adicionado. Total atual: 1779\n",
      "📄 Artigo 'UMA PROPOSTA DE MATERIAL DIDÁTICO: A CAIXA EDUCATIVA DE MATEMÁTICA - CAEDUM' adicionado. Total atual: 1780\n",
      "📄 Artigo 'ATIVIDADE ORIENTADORA DE ENSINO: PRINCÍPIOS E PRÁTICAS PARA ORGANIZAÇÃO DO ENSINO DE MATEMÁTICA' adicionado. Total atual: 1781\n",
      "📄 Artigo 'Anais do(a) Anais do Encontro de Professores que Ensinam Matemática no Araguaia: os desafios para o ensino de matemática nos diversos níveis de ensino.' adicionado. Total atual: 1782\n",
      "📄 Artigo 'UMA PROPOSTA DE MATERIAL DIDÁTICO: A CAIXA EDUCATIVA DE MATEMÁTICA - CAEDUM' adicionado. Total atual: 1783\n",
      "📄 Artigo 'Ensino de funções por meio de Modelagem Matemática: uma análise do olhar dos estudantes do Ensino Médio' adicionado. Total atual: 1784\n",
      "📄 Artigo 'ATIVIDADE ORIENTADORA DE ENSINO: PRINCÍPIOS E PRÁTICAS PARA ORGANIZAÇÃO DO ENSINO DE MATEMÁTICA' adicionado. Total atual: 1785\n",
      "📄 Artigo 'Skills developed from the Mathematical Modeling Student Problem Situation Activity' adicionado. Total atual: 1786\n",
      "📄 Artigo 'La modelación matemática en el proceso de formación de docentes de matemática de secundaria' adicionado. Total atual: 1787\n"
     ]
    },
    {
     "name": "stderr",
     "output_type": "stream",
     "text": [
      "10:16:33 [INFO] crossref: 📋 Carregando 3 artigos do cache para '\"ensino de matemática\" AND \"predictive analytics\"'\n",
      "10:16:33 [INFO] crossref:   -> 3 artigos relevantes adicionados do cache para '\"ensino de matemática\" AND \"predictive analytics\"'.\n",
      "10:16:33 [INFO] crossref: 🏁 Busca concluída.\n",
      "10:16:33 [INFO] crossref:   Total adicionado do cache: 556\n",
      "10:16:33 [INFO] crossref:   Total adicionado da API: 0\n",
      "10:16:33 [INFO] crossref:   Total processado da API: 0\n",
      "10:16:33 [INFO] crossref:   Total descartado (API + Cache): 553\n",
      "10:16:33 [INFO] core: 🔎 Iniciando busca para: '\"mathematics education\" AND \"adaptive learning\"'\n",
      "10:16:33 [INFO] core: 📋 Carregando 4 artigos do cache para '\"mathematics education\" AND \"adaptive learning\"'\n"
     ]
    },
    {
     "name": "stdout",
     "output_type": "stream",
     "text": [
      "📄 Artigo 'ATIVIDADE ORIENTADORA DE ENSINO: PRINCÍPIOS E PRÁTICAS PARA ORGANIZAÇÃO DO ENSINO DE MATEMÁTICA' adicionado. Total atual: 1788\n",
      "📄 Artigo 'Anais do(a) Anais do Encontro de Professores que Ensinam Matemática no Araguaia: os desafios para o ensino de matemática nos diversos níveis de ensino.' adicionado. Total atual: 1789\n",
      "📄 Artigo 'UMA PROPOSTA DE MATERIAL DIDÁTICO: A CAIXA EDUCATIVA DE MATEMÁTICA - CAEDUM' adicionado. Total atual: 1790\n",
      "⚠️ Erro ao acessar CrossRef: object of type 'NoneType' has no len()\n",
      "\n",
      "--- Iniciando busca no CORE ---\n",
      "📄 Artigo 'The Relationship Between Prisoners’ Academic Self-efficacy and Participation in Education, Previous Convictions, Sentence Length, and Portion of Sentence Served' adicionado. Total atual: 1791\n",
      "📄 Artigo 'Active Solidarity: Centering The Demands And Vision Of The Black Lives Matter Movement In Teacher Education' adicionado. Total atual: 1792\n"
     ]
    },
    {
     "name": "stderr",
     "output_type": "stream",
     "text": [
      "10:16:33 [INFO] core:   -> 4 artigos relevantes adicionados do cache para '\"mathematics education\" AND \"adaptive learning\"'.\n",
      "10:16:33 [INFO] core: 🔎 Iniciando busca para: '\"mathematics education\" AND \"personalized learning\"'\n",
      "10:16:33 [INFO] core: 📋 Carregando 6 artigos do cache para '\"mathematics education\" AND \"personalized learning\"'\n"
     ]
    },
    {
     "name": "stdout",
     "output_type": "stream",
     "text": [
      "📄 Artigo 'A Usability Study on Shape Shape Hooray: an Adaptive Educational Game Associating 3D Geometric Shapes to Daily Objects' adicionado. Total atual: 1793\n",
      "📄 Artigo 'A Talk on the Wild Side: The Direct and Indirect Impact of Speech Recognition on Learning Gains' adicionado. Total atual: 1794\n",
      "📄 Artigo 'Continued Progress: Promising Evidence on Personalized Learning' adicionado. Total atual: 1795\n",
      "📄 Artigo 'Promising State Policies for Personalized Learning' adicionado. Total atual: 1796\n",
      "📄 Artigo 'Blending Learning: The Evolution of Online and Face-to-Face Education from 20082015' adicionado. Total atual: 1797\n",
      "📄 Artigo 'Looking Under the Hood of Competency-Based Education: The Relationship Between Competency-Based Education Practices and Students' Learning Skills, Behaviors, and Dispositions' adicionado. Total atual: 1798\n",
      "📄 Artigo 'A review of the Development Trend of Personalized learning Technologies and its Applications' adicionado. Total atual: 1799\n"
     ]
    },
    {
     "name": "stderr",
     "output_type": "stream",
     "text": [
      "10:16:33 [INFO] core:   -> 6 artigos relevantes adicionados do cache para '\"mathematics education\" AND \"personalized learning\"'.\n",
      "10:16:33 [INFO] core: 🔎 Iniciando busca para: '\"mathematics education\" AND \"intelligent tutoring systems\"'\n",
      "10:16:33 [INFO] core: 📋 Carregando 8 artigos do cache para '\"mathematics education\" AND \"intelligent tutoring systems\"'\n"
     ]
    },
    {
     "name": "stdout",
     "output_type": "stream",
     "text": [
      "📄 Artigo 'Personalized Learning in Education' adicionado. Total atual: 1800\n",
      "📄 Artigo 'Mathematics Intelligent Tutoring System' adicionado. Total atual: 1801\n",
      "📄 Artigo 'Teachers\\u27 Conceptions of Mathematics and Intelligent Tutoring System Use' adicionado. Total atual: 1802\n",
      "📄 Artigo 'ADO-Tutor: Intelligent Tutoring System for leaning ADO.NET' adicionado. Total atual: 1803\n",
      "📄 Artigo 'Adaptive Intelligent Tutoring System for learning Computer Theory' adicionado. Total atual: 1804\n",
      "📄 Artigo 'Intelligent tutoring system for mathematics' adicionado. Total atual: 1805\n",
      "📄 Artigo 'The effectiveness of using intelligent tutoring systems to increase student achievement' adicionado. Total atual: 1806\n",
      "📄 Artigo 'An Intelligent Tutoring System for Learning TOEFL' adicionado. Total atual: 1807\n"
     ]
    },
    {
     "name": "stderr",
     "output_type": "stream",
     "text": [
      "10:16:33 [INFO] core:   -> 8 artigos relevantes adicionados do cache para '\"mathematics education\" AND \"intelligent tutoring systems\"'.\n",
      "10:16:33 [INFO] core: 🔎 Iniciando busca para: '\"mathematics education\" AND \"learning analytics\"'\n",
      "10:16:33 [INFO] core: 📋 Carregando 8 artigos do cache para '\"mathematics education\" AND \"learning analytics\"'\n"
     ]
    },
    {
     "name": "stdout",
     "output_type": "stream",
     "text": [
      "📄 Artigo 'ITS for Teaching TOEFL' adicionado. Total atual: 1808\n",
      "📄 Artigo '‘A double-edged sword. This is powerful but it could be used destructively’: Perspectives of early career education researchers on learning analytics' adicionado. Total atual: 1809\n",
      "📄 Artigo 'What learning analytics based prediction models tell us about feedback preferences of students' adicionado. Total atual: 1810\n",
      "📄 Artigo 'Open Pathway Quality Initiative Report' adicionado. Total atual: 1811\n",
      "📄 Artigo 'Stability and sensitivity of Learning Analytics based prediction models' adicionado. Total atual: 1812\n",
      "📄 Artigo 'The impact of an online mathematics education project (MATACTIVA) on higher education students' adicionado. Total atual: 1813\n",
      "📄 Artigo 'Student profiling in a dispositional learning analytics application using formative assessment' adicionado. Total atual: 1814\n"
     ]
    },
    {
     "name": "stderr",
     "output_type": "stream",
     "text": [
      "10:16:34 [INFO] core:   -> 8 artigos relevantes adicionados do cache para '\"mathematics education\" AND \"learning analytics\"'.\n",
      "10:16:34 [INFO] core: 🔎 Iniciando busca para: '\"mathematics education\" AND \"educational data mining\"'\n",
      "10:16:34 [INFO] core: 📋 Carregando 5 artigos do cache para '\"mathematics education\" AND \"educational data mining\"'\n",
      "10:16:34 [INFO] core:   -> 5 artigos relevantes adicionados do cache para '\"mathematics education\" AND \"educational data mining\"'.\n",
      "10:16:34 [INFO] core: 🔎 Iniciando busca para: '\"mathematics education\" AND \"machine learning\"'\n",
      "10:16:34 [INFO] core: 📋 Carregando 2 artigos do cache para '\"mathematics education\" AND \"machine learning\"'\n"
     ]
    },
    {
     "name": "stdout",
     "output_type": "stream",
     "text": [
      "📄 Artigo 'Learning from their mistakes - an online approach to evaluate teacher education students\\u27 numeracy capability' adicionado. Total atual: 1815\n",
      "📄 Artigo 'Supporting STEM knowledge and skills in engineering education – PELARS project' adicionado. Total atual: 1816\n",
      "📄 Artigo 'Review on Application of Data Mining Educational Big Data' adicionado. Total atual: 1817\n",
      "📄 Artigo 'Reshaping Ability Grouping Through Big Data' adicionado. Total atual: 1818\n",
      "📄 Artigo 'Big data for monitoring educational systems' adicionado. Total atual: 1819\n",
      "📄 Artigo 'Big Data – Opportunities and Challenges for Education' adicionado. Total atual: 1820\n",
      "📄 Artigo 'Data Mining for Student Performance Prediction in Education' adicionado. Total atual: 1821\n",
      "📄 Artigo 'A Machine Learning Approach' adicionado. Total atual: 1822\n",
      "📄 Artigo 'Ontology-based Fuzzy Markup Language Agent for Student and Robot\n",
      "  Co-Learning' adicionado. Total atual: 1823\n"
     ]
    },
    {
     "name": "stderr",
     "output_type": "stream",
     "text": [
      "10:16:34 [INFO] core:   -> 2 artigos relevantes adicionados do cache para '\"mathematics education\" AND \"machine learning\"'.\n",
      "10:16:34 [INFO] core: 🔎 Iniciando busca para: '\"mathematics education\" AND \"artificial intelligence\"'\n",
      "10:16:34 [INFO] core: 📋 Carregando 5 artigos do cache para '\"mathematics education\" AND \"artificial intelligence\"'\n",
      "10:16:34 [INFO] core:   -> 5 artigos relevantes adicionados do cache para '\"mathematics education\" AND \"artificial intelligence\"'.\n",
      "10:16:34 [INFO] core: 🔎 Iniciando busca para: '\"mathematics education\" AND \"automated assessment\"'\n",
      "10:16:34 [INFO] core: 📋 Carregando 5 artigos do cache para '\"mathematics education\" AND \"automated assessment\"'\n",
      "10:16:34 [INFO] core:   -> 5 artigos relevantes adicionados do cache para '\"mathematics education\" AND \"automated assessment\"'.\n",
      "10:16:34 [INFO] core: 🔎 Iniciando busca para: '\"mathematics education\" AND \"competency identification\"'\n",
      "10:16:34 [INFO] core: 📋 Carregando 3 artigos do cache para '\"mathematics education\" AND \"competency identification\"'\n",
      "10:16:34 [INFO] core:   -> 3 artigos relevantes adicionados do cache para '\"mathematics education\" AND \"competency identification\"'.\n"
     ]
    },
    {
     "name": "stdout",
     "output_type": "stream",
     "text": [
      "📄 Artigo 'Artificial Intelligence Research in Education: A Bibliometric Analysis' adicionado. Total atual: 1824\n",
      "📄 Artigo 'Using Scratch to Teach Undergraduate Students' Skills on Artificial\n",
      "  Intelligence' adicionado. Total atual: 1825\n",
      "📄 Artigo 'Artificial Intelligence in Education' adicionado. Total atual: 1826\n",
      "📄 Artigo 'The Role of Artificial Intelligence as a Transformation of Learning in the Modern Era' adicionado. Total atual: 1827\n",
      "📄 Artigo 'Artificial Intelligence and Personalized Learning' adicionado. Total atual: 1828\n",
      "📄 Artigo 'Assessment of engineering mathematics in the context of distance learning' adicionado. Total atual: 1829\n",
      "📄 Artigo 'Automated Assessment in Mathematics' adicionado. Total atual: 1830\n",
      "📄 Artigo 'Ten Good Reasons to Adopt an Automated Formative Assessment Model for Learning and Teaching Mathematics and Scientific Disciplines' adicionado. Total atual: 1831\n",
      "📄 Artigo 'Teaching Mathematics to Non-Mathematics Majors through Problem Solving and New Technologies' adicionado. Total atual: 1832\n",
      "📄 Artigo 'Rhetorical relationships with students: A higher education case study of perceptions of online assessment in mathematics' adicionado. Total atual: 1833\n",
      "📄 Artigo 'Towards a technocritical mathematics education' adicionado. Total atual: 1834\n",
      "📄 Artigo 'IDENTIFICATION: THE EFFECT OF MATHEMATICAL COMPETENCE ON PEDAGOGIC COMPETENCY OF PROSPECTIVE TEACHER' adicionado. Total atual: 1835\n",
      "📄 Artigo 'EMPLOYABILITY AND SATISFACTION OF MATHEMATICS EDUCATION PROGRAM GRADUATES OF A SCIENCE AND TECHNOLOGY UNIVERSITY IN SOUTHERN PHILIPPINES' adicionado. Total atual: 1836\n"
     ]
    },
    {
     "name": "stderr",
     "output_type": "stream",
     "text": [
      "10:16:34 [INFO] core: 🔎 Iniciando busca para: '\"mathematics education\" AND \"student modeling\"'\n",
      "10:16:34 [INFO] core: 📋 Carregando 2 artigos do cache para '\"mathematics education\" AND \"student modeling\"'\n",
      "10:16:34 [INFO] core:   -> 2 artigos relevantes adicionados do cache para '\"mathematics education\" AND \"student modeling\"'.\n",
      "10:16:34 [INFO] core: 🔎 Iniciando busca para: '\"mathematics education\" AND \"predictive analytics\"'\n",
      "10:16:34 [INFO] core: 📋 Carregando 4 artigos do cache para '\"mathematics education\" AND \"predictive analytics\"'\n",
      "10:16:34 [INFO] core:   -> 4 artigos relevantes adicionados do cache para '\"mathematics education\" AND \"predictive analytics\"'.\n",
      "10:16:34 [INFO] core: 🔎 Iniciando busca para: '\"math learning\" AND \"adaptive learning\"'\n",
      "10:16:34 [INFO] core: 📋 Carregando 3 artigos do cache para '\"math learning\" AND \"adaptive learning\"'\n"
     ]
    },
    {
     "name": "stdout",
     "output_type": "stream",
     "text": [
      "📄 Artigo 'SENIOR HIGH SCHOOL MATHEMATICS LEARNING THROUGH MATHEMATICS MODELING APPROACH' adicionado. Total atual: 1837\n",
      "📄 Artigo 'Emphasis on Mathematical Modeling: The Problems of Contour Values in Calculating the Deflection of a Beam' adicionado. Total atual: 1838\n",
      "📄 Artigo 'Research and Education in Computational Science and Engineering' adicionado. Total atual: 1839\n",
      "📄 Artigo 'Stability and sensitivity of Learning Analytics based prediction models' adicionado. Total atual: 1840\n",
      "📄 Artigo 'Applied Predictive Analytics' adicionado. Total atual: 1841\n",
      "📄 Artigo '‘A double-edged sword. This is powerful but it could be used destructively’: Perspectives of early career education researchers on learning analytics' adicionado. Total atual: 1842\n",
      "📄 Artigo 'Open Pathway Quality Initiative Report' adicionado. Total atual: 1843\n",
      "📄 Artigo 'Performance comparison of an AI-based Adaptive Learning System in China' adicionado. Total atual: 1844\n",
      "📄 Artigo 'NEOLAF, an LLM-powered neural-symbolic cognitive architecture' adicionado. Total atual: 1845\n"
     ]
    },
    {
     "name": "stderr",
     "output_type": "stream",
     "text": [
      "10:16:34 [INFO] core:   -> 3 artigos relevantes adicionados do cache para '\"math learning\" AND \"adaptive learning\"'.\n",
      "10:16:34 [INFO] core: 🔎 Iniciando busca para: '\"math learning\" AND \"personalized learning\"'\n",
      "10:16:34 [INFO] core: 📋 Carregando 6 artigos do cache para '\"math learning\" AND \"personalized learning\"'\n",
      "10:16:35 [INFO] core:   -> 6 artigos relevantes adicionados do cache para '\"math learning\" AND \"personalized learning\"'.\n",
      "10:16:35 [INFO] core: 🔎 Iniciando busca para: '\"math learning\" AND \"intelligent tutoring systems\"'\n",
      "10:16:35 [INFO] core: 📋 Carregando 6 artigos do cache para '\"math learning\" AND \"intelligent tutoring systems\"'\n",
      "10:16:35 [INFO] core:   -> 6 artigos relevantes adicionados do cache para '\"math learning\" AND \"intelligent tutoring systems\"'.\n"
     ]
    },
    {
     "name": "stdout",
     "output_type": "stream",
     "text": [
      "📄 Artigo 'Open Pathway Quality Initiative Report' adicionado. Total atual: 1846\n",
      "📄 Artigo 'Young learners’ motivation, self-regulation and performance in personalized learning' adicionado. Total atual: 1847\n",
      "📄 Artigo 'Performance comparison of an AI-based Adaptive Learning System in China' adicionado. Total atual: 1848\n",
      "📄 Artigo 'Building Summit Basecamp: Year 1' adicionado. Total atual: 1849\n",
      "📄 Artigo 'Continued Progress: Promising Evidence on Personalized Learning' adicionado. Total atual: 1850\n",
      "📄 Artigo 'Beyond recommendation acceptance: explanation’s learning effects in a math recommender system' adicionado. Total atual: 1851\n",
      "📄 Artigo 'Mathematics Intelligent Tutoring System' adicionado. Total atual: 1852\n",
      "📄 Artigo 'Intelligent tutoring system for mathematics' adicionado. Total atual: 1853\n",
      "📄 Artigo 'Teachers\\u27 Conceptions of Mathematics and Intelligent Tutoring System Use' adicionado. Total atual: 1854\n",
      "📄 Artigo 'Performance comparison of an AI-based Adaptive Learning System in China' adicionado. Total atual: 1855\n",
      "📄 Artigo 'Learning Computer Networks Using Intelligent Tutoring System' adicionado. Total atual: 1856\n",
      "📄 Artigo 'ITS for Learning computer networks' adicionado. Total atual: 1857\n"
     ]
    },
    {
     "name": "stderr",
     "output_type": "stream",
     "text": [
      "10:16:35 [INFO] core: 🔎 Iniciando busca para: '\"math learning\" AND \"learning analytics\"'\n",
      "10:16:35 [INFO] core: 📋 Carregando 6 artigos do cache para '\"math learning\" AND \"learning analytics\"'\n",
      "10:16:35 [INFO] core:   -> 6 artigos relevantes adicionados do cache para '\"math learning\" AND \"learning analytics\"'.\n",
      "10:16:35 [INFO] core: 🔎 Iniciando busca para: '\"math learning\" AND \"educational data mining\"'\n",
      "10:16:35 [INFO] core: 📋 Carregando 5 artigos do cache para '\"math learning\" AND \"educational data mining\"'\n"
     ]
    },
    {
     "name": "stdout",
     "output_type": "stream",
     "text": [
      "📄 Artigo 'Open Pathway Quality Initiative Report' adicionado. Total atual: 1858\n",
      "📄 Artigo 'What learning analytics based prediction models tell us about feedback preferences of students' adicionado. Total atual: 1859\n",
      "📄 Artigo 'Beyond recommendation acceptance: explanation’s learning effects in a math recommender system' adicionado. Total atual: 1860\n",
      "📄 Artigo 'Performance comparison of an AI-based Adaptive Learning System in China' adicionado. Total atual: 1861\n",
      "📄 Artigo 'Student profiling in a dispositional learning analytics application using formative assessment' adicionado. Total atual: 1862\n",
      "📄 Artigo 'Stability and sensitivity of Learning Analytics based prediction models' adicionado. Total atual: 1863\n",
      "📄 Artigo 'Reshaping Ability Grouping Through Big Data' adicionado. Total atual: 1864\n",
      "📄 Artigo 'Identifying the Predictors of Mathematics Anxiety AND Performance in Canada: An Educational Data Mining Approach' adicionado. Total atual: 1865\n",
      "📄 Artigo 'DESIGN OF STUDENT SUCCESS PREDICTION APPLICATION IN ONLINE LEARNING USING FUZZY-KNN' adicionado. Total atual: 1866\n"
     ]
    },
    {
     "name": "stderr",
     "output_type": "stream",
     "text": [
      "10:16:35 [INFO] core:   -> 5 artigos relevantes adicionados do cache para '\"math learning\" AND \"educational data mining\"'.\n",
      "10:16:35 [INFO] core: 🔎 Iniciando busca para: '\"math learning\" AND \"machine learning\"'\n",
      "10:16:35 [INFO] core: 📋 Carregando 3 artigos do cache para '\"math learning\" AND \"machine learning\"'\n",
      "10:16:35 [INFO] core:   -> 3 artigos relevantes adicionados do cache para '\"math learning\" AND \"machine learning\"'.\n",
      "10:16:35 [INFO] core: 🔎 Iniciando busca para: '\"math learning\" AND \"artificial intelligence\"'\n",
      "10:16:35 [INFO] core: 📋 Carregando 2 artigos do cache para '\"math learning\" AND \"artificial intelligence\"'\n",
      "10:16:35 [INFO] core:   -> 2 artigos relevantes adicionados do cache para '\"math learning\" AND \"artificial intelligence\"'.\n",
      "10:16:35 [INFO] core: 🔎 Iniciando busca para: '\"math learning\" AND \"automated assessment\"'\n",
      "10:16:35 [INFO] core: 📋 Carregando 4 artigos do cache para '\"math learning\" AND \"automated assessment\"'\n",
      "10:16:35 [INFO] core:   -> 4 artigos relevantes adicionados do cache para '\"math learning\" AND \"automated assessment\"'.\n",
      "10:16:35 [INFO] core: 🔎 Iniciando busca para: '\"math learning\" AND \"competency identification\"'\n",
      "10:16:35 [INFO] core: 📋 Carregando 2 artigos do cache para '\"math learning\" AND \"competency identification\"'\n"
     ]
    },
    {
     "name": "stdout",
     "output_type": "stream",
     "text": [
      "📄 Artigo 'Ensemble Learning Methods for Educational Data Mining Applications' adicionado. Total atual: 1867\n",
      "📄 Artigo 'Predicting Math Success in an Online Tutoring System Using Language Data and Click-Stream Variables: A Longitudinal Analysis' adicionado. Total atual: 1868\n",
      "📄 Artigo 'Atari games and Intel processors' adicionado. Total atual: 1869\n",
      "📄 Artigo 'Ontology-based Fuzzy Markup Language Agent for Student and Robot\n",
      "  Co-Learning' adicionado. Total atual: 1870\n",
      "📄 Artigo 'Machine learning classification–Regression schemes for desert locust presence prediction in western Africa' adicionado. Total atual: 1871\n",
      "📄 Artigo 'AI Without Math: Making AI and ML Comprehensible' adicionado. Total atual: 1872\n",
      "📄 Artigo 'Using Scratch to Teach Undergraduate Students' Skills on Artificial\n",
      "  Intelligence' adicionado. Total atual: 1873\n",
      "📄 Artigo 'Assessments in Mathematics, undergraduate degree' adicionado. Total atual: 1874\n",
      "📄 Artigo 'Raising early achievement in math with interactive apps: a randomized control trial' adicionado. Total atual: 1875\n",
      "📄 Artigo 'Using Online Interventions to Address Summer Learning Loss in Rising Sixth-Graders' adicionado. Total atual: 1876\n",
      "📄 Artigo 'Ten Good Reasons to Adopt an Automated Formative Assessment Model for Learning and Teaching Mathematics and Scientific Disciplines' adicionado. Total atual: 1877\n",
      "📄 Artigo 'Blending Learning: The Evolution of Online and Face-to-Face Education from 20082015' adicionado. Total atual: 1878\n"
     ]
    },
    {
     "name": "stderr",
     "output_type": "stream",
     "text": [
      "10:16:35 [INFO] core:   -> 2 artigos relevantes adicionados do cache para '\"math learning\" AND \"competency identification\"'.\n",
      "10:16:35 [INFO] core: 🔎 Iniciando busca para: '\"math learning\" AND \"student modeling\"'\n",
      "10:16:35 [INFO] core: 📋 Carregando 4 artigos do cache para '\"math learning\" AND \"student modeling\"'\n",
      "10:16:35 [INFO] core:   -> 4 artigos relevantes adicionados do cache para '\"math learning\" AND \"student modeling\"'.\n",
      "10:16:35 [INFO] core: 🔎 Iniciando busca para: '\"math learning\" AND \"predictive analytics\"'\n"
     ]
    },
    {
     "name": "stdout",
     "output_type": "stream",
     "text": [
      "📄 Artigo 'Standardized Testing: A Comparison Amongst Magnet, STEM, and Traditional Middle Schools' adicionado. Total atual: 1879\n",
      "📄 Artigo 'Assessing Learning Outcomes in Middle-Division Classical Mechanics: The\n",
      "  Colorado Classical Mechanics/Math Methods Instrument' adicionado. Total atual: 1880\n",
      "📄 Artigo 'Student Engagement as the Factor of Math Mastery in University: The Relationship Between Social Factor and Learning Practices' adicionado. Total atual: 1881\n",
      "📄 Artigo 'Modeling student pathways in a physics bachelor's degree program' adicionado. Total atual: 1882\n",
      "📄 Artigo 'Students’ Learning Patterns in Using the Web-based Summary Box to Improve Their Math Word Problem Solving' adicionado. Total atual: 1883\n"
     ]
    },
    {
     "name": "stderr",
     "output_type": "stream",
     "text": [
      "10:16:35 [INFO] core: 📋 Carregando 9 artigos do cache para '\"math learning\" AND \"predictive analytics\"'\n",
      "10:16:35 [INFO] core:   -> 9 artigos relevantes adicionados do cache para '\"math learning\" AND \"predictive analytics\"'.\n",
      "10:16:36 [INFO] core: 🔎 Iniciando busca para: '\"mathematics teaching\" AND \"adaptive learning\"'\n"
     ]
    },
    {
     "name": "stdout",
     "output_type": "stream",
     "text": [
      "📄 Artigo 'Predictive Analytics In Higher Education: Five Guiding Practices for Ethical Use' adicionado. Total atual: 1884\n",
      "📄 Artigo 'Stability and sensitivity of Learning Analytics based prediction models' adicionado. Total atual: 1885\n",
      "📄 Artigo 'What learning analytics based prediction models tell us about feedback preferences of students' adicionado. Total atual: 1886\n",
      "📄 Artigo 'Student profiling in a dispositional learning analytics application using formative assessment' adicionado. Total atual: 1887\n",
      "📄 Artigo 'Evidence and Promises of AI Predictions to Understand Student Approaches to Math Learning in Abu Dhabi K12 Public Schools' adicionado. Total atual: 1888\n",
      "📄 Artigo 'Open Pathway Quality Initiative Report' adicionado. Total atual: 1889\n",
      "📄 Artigo 'Scalable aggregation predictive analytics: a query-driven machine learning approach' adicionado. Total atual: 1890\n",
      "📄 Artigo 'The Nature and Extent of Instructors’ Use of Learning Analytics in Higher Education to Inform Teaching and Learning' adicionado. Total atual: 1891\n",
      "📄 Artigo 'Practitioner Perspectives on the Use of Predictive Analytics in Targeted Advising for College Students' adicionado. Total atual: 1892\n"
     ]
    },
    {
     "name": "stderr",
     "output_type": "stream",
     "text": [
      "10:16:36 [INFO] core: 📋 Carregando 4 artigos do cache para '\"mathematics teaching\" AND \"adaptive learning\"'\n",
      "10:16:36 [INFO] core:   -> 4 artigos relevantes adicionados do cache para '\"mathematics teaching\" AND \"adaptive learning\"'.\n",
      "10:16:36 [INFO] core: 🔎 Iniciando busca para: '\"mathematics teaching\" AND \"personalized learning\"'\n",
      "10:16:36 [INFO] core: 📋 Carregando 4 artigos do cache para '\"mathematics teaching\" AND \"personalized learning\"'\n",
      "10:16:36 [INFO] core:   -> 4 artigos relevantes adicionados do cache para '\"mathematics teaching\" AND \"personalized learning\"'.\n",
      "10:16:36 [INFO] core: 🔎 Iniciando busca para: '\"mathematics teaching\" AND \"intelligent tutoring systems\"'\n"
     ]
    },
    {
     "name": "stdout",
     "output_type": "stream",
     "text": [
      "📄 Artigo 'Examining Teachers\\u27 Use of Adaptive Diagnostic Assessment to Improve Mathematics Teaching and Learning' adicionado. Total atual: 1893\n",
      "📄 Artigo 'A study of mathematics teaching models of high schools based on Kolb’s learning style inventory' adicionado. Total atual: 1894\n",
      "📄 Artigo 'Design and implementation of adaptive technology for teaching mathematics to school children based on integrated diagnostic approach to subject preparation and competence development' adicionado. Total atual: 1895\n",
      "📄 Artigo 'Narratives of the Experiences of Indonesian Pre-Service Teachers in Learning Mathematics and Their Relationship with Their Beliefs in Mathematics Teaching' adicionado. Total atual: 1896\n",
      "📄 Artigo 'Continued Progress: Promising Evidence on Personalized Learning' adicionado. Total atual: 1897\n",
      "📄 Artigo 'Promising State Policies for Personalized Learning' adicionado. Total atual: 1898\n",
      "📄 Artigo 'A study of mathematics teaching models of high schools based on Kolb’s learning style inventory' adicionado. Total atual: 1899\n",
      "📄 Artigo 'Factors on Memory Retention: Effect to Students’ Academic Performance' adicionado. Total atual: 1900\n"
     ]
    },
    {
     "name": "stderr",
     "output_type": "stream",
     "text": [
      "10:16:36 [INFO] core: 📋 Carregando 7 artigos do cache para '\"mathematics teaching\" AND \"intelligent tutoring systems\"'\n",
      "10:16:36 [INFO] core:   -> 7 artigos relevantes adicionados do cache para '\"mathematics teaching\" AND \"intelligent tutoring systems\"'.\n",
      "10:16:36 [INFO] core: 🔎 Iniciando busca para: '\"mathematics teaching\" AND \"learning analytics\"'\n",
      "10:16:36 [INFO] core: 📋 Carregando 6 artigos do cache para '\"mathematics teaching\" AND \"learning analytics\"'\n",
      "10:16:36 [INFO] core:   -> 6 artigos relevantes adicionados do cache para '\"mathematics teaching\" AND \"learning analytics\"'.\n",
      "10:16:36 [INFO] core: 🔎 Iniciando busca para: '\"mathematics teaching\" AND \"educational data mining\"'\n",
      "10:16:36 [INFO] core: 📋 Carregando 4 artigos do cache para '\"mathematics teaching\" AND \"educational data mining\"'\n"
     ]
    },
    {
     "name": "stdout",
     "output_type": "stream",
     "text": [
      "📄 Artigo 'Mathematics Intelligent Tutoring System' adicionado. Total atual: 1901\n",
      "📄 Artigo 'ITS for Teaching TOEFL' adicionado. Total atual: 1902\n",
      "📄 Artigo 'Teachers\\u27 Conceptions of Mathematics and Intelligent Tutoring System Use' adicionado. Total atual: 1903\n",
      "📄 Artigo 'Intelligent tutoring system for mathematics' adicionado. Total atual: 1904\n",
      "📄 Artigo 'ADO-Tutor: Intelligent Tutoring System for leaning ADO.NET' adicionado. Total atual: 1905\n",
      "📄 Artigo 'Adaptive Intelligent Tutoring System for learning Computer Theory' adicionado. Total atual: 1906\n",
      "📄 Artigo 'An Intelligent Tutoring System for Learning TOEFL' adicionado. Total atual: 1907\n",
      "📄 Artigo 'What learning analytics based prediction models tell us about feedback preferences of students' adicionado. Total atual: 1908\n",
      "📄 Artigo 'Stability and sensitivity of Learning Analytics based prediction models' adicionado. Total atual: 1909\n",
      "📄 Artigo '‘A double-edged sword. This is powerful but it could be used destructively’: Perspectives of early career education researchers on learning analytics' adicionado. Total atual: 1910\n",
      "📄 Artigo 'Open Pathway Quality Initiative Report' adicionado. Total atual: 1911\n",
      "📄 Artigo 'Student profiling in a dispositional learning analytics application using formative assessment' adicionado. Total atual: 1912\n",
      "📄 Artigo 'Mixing and Matching Learning Design and Learning Analytics' adicionado. Total atual: 1913\n",
      "📄 Artigo 'Review on Application of Data Mining Educational Big Data' adicionado. Total atual: 1914\n",
      "📄 Artigo 'Reshaping Ability Grouping Through Big Data' adicionado. Total atual: 1915\n",
      "📄 Artigo 'Big data for monitoring educational systems' adicionado. Total atual: 1916\n",
      "📄 Artigo 'Data Mining for Student Performance Prediction in Education' adicionado. Total atual: 1917\n"
     ]
    },
    {
     "name": "stderr",
     "output_type": "stream",
     "text": [
      "10:16:36 [INFO] core:   -> 4 artigos relevantes adicionados do cache para '\"mathematics teaching\" AND \"educational data mining\"'.\n",
      "10:16:36 [INFO] core: 🔎 Iniciando busca para: '\"mathematics teaching\" AND \"machine learning\"'\n",
      "10:16:36 [INFO] core: 📋 Carregando 2 artigos do cache para '\"mathematics teaching\" AND \"machine learning\"'\n",
      "10:16:36 [INFO] core:   -> 2 artigos relevantes adicionados do cache para '\"mathematics teaching\" AND \"machine learning\"'.\n",
      "10:16:36 [INFO] core: 🔎 Iniciando busca para: '\"mathematics teaching\" AND \"artificial intelligence\"'\n",
      "10:16:36 [INFO] core: 📋 Carregando 4 artigos do cache para '\"mathematics teaching\" AND \"artificial intelligence\"'\n",
      "10:16:36 [INFO] core:   -> 4 artigos relevantes adicionados do cache para '\"mathematics teaching\" AND \"artificial intelligence\"'.\n",
      "10:16:36 [INFO] core: 🔎 Iniciando busca para: '\"mathematics teaching\" AND \"automated assessment\"'\n",
      "10:16:36 [INFO] core: 📋 Carregando 5 artigos do cache para '\"mathematics teaching\" AND \"automated assessment\"'\n",
      "10:16:36 [INFO] core:   -> 5 artigos relevantes adicionados do cache para '\"mathematics teaching\" AND \"automated assessment\"'.\n",
      "10:16:36 [INFO] core: 🔎 Iniciando busca para: '\"mathematics teaching\" AND \"competency identification\"'\n",
      "10:16:36 [INFO] core: 📋 Carregando 5 artigos do cache para '\"mathematics teaching\" AND \"competency identification\"'\n",
      "10:16:36 [INFO] core:   -> 5 artigos relevantes adicionados do cache para '\"mathematics teaching\" AND \"competency identification\"'.\n"
     ]
    },
    {
     "name": "stdout",
     "output_type": "stream",
     "text": [
      "📄 Artigo 'Ontology-based Fuzzy Markup Language Agent for Student and Robot\n",
      "  Co-Learning' adicionado. Total atual: 1918\n",
      "📄 Artigo 'Association of interest, attitude and learning habit in mathematics learning towards enhancing students’ achievement' adicionado. Total atual: 1919\n",
      "📄 Artigo 'Using Scratch to Teach Undergraduate Students' Skills on Artificial\n",
      "  Intelligence' adicionado. Total atual: 1920\n",
      "📄 Artigo 'Artificial Intelligence Helps Primary School Teachers to Plan and Execute Physics Classroom Experiments' adicionado. Total atual: 1921\n",
      "📄 Artigo 'Artificial intelligence and medical education: a global mixed-methods study of medical students’ perspectives' adicionado. Total atual: 1922\n",
      "📄 Artigo 'Mathematics Intelligent Tutoring System' adicionado. Total atual: 1923\n",
      "📄 Artigo 'Ten Good Reasons to Adopt an Automated Formative Assessment Model for Learning and Teaching Mathematics and Scientific Disciplines' adicionado. Total atual: 1924\n",
      "📄 Artigo 'Automated Assessment in Mathematics' adicionado. Total atual: 1925\n",
      "📄 Artigo 'Assessment of engineering mathematics in the context of distance learning' adicionado. Total atual: 1926\n",
      "📄 Artigo 'Assessments in Mathematics, undergraduate degree' adicionado. Total atual: 1927\n",
      "📄 Artigo 'Examining Teachers\\u27 Use of Adaptive Diagnostic Assessment to Improve Mathematics Teaching and Learning' adicionado. Total atual: 1928\n",
      "📄 Artigo 'Teacher professional learning for technology integration in mathematics classrooms through online learning communities : a thesis presented in partial fulfilment of the requirements for the degree of Doctor of Philosophy in Information Technology at Massey University, Albany, New Zealand' adicionado. Total atual: 1929\n",
      "📄 Artigo 'EFFECTIVENESS OF MATHEMATICS INTERVENTION PROGRAM (MIP) AMONG PRIMARY SCHOOL TEACHERS' adicionado. Total atual: 1930\n",
      "📄 Artigo 'ASSESSMENT OF MATHEMATICS TEACHERS’ PROFESSIONAL COMPETENCE' adicionado. Total atual: 1931\n",
      "📄 Artigo 'THE EFFECT OF LESSON STUDY  ON THE PERCEPTIONS OF MATHEMATICS TEACHERS  ABOUT SUBJECT AREA COMPETENCIES' adicionado. Total atual: 1932\n",
      "📄 Artigo 'Data Praxis : Teacher educators using data to inform and enhance pre-service teacher mathematics' adicionado. Total atual: 1933\n"
     ]
    },
    {
     "name": "stderr",
     "output_type": "stream",
     "text": [
      "10:16:36 [INFO] core: 🔎 Iniciando busca para: '\"mathematics teaching\" AND \"student modeling\"'\n",
      "10:16:36 [INFO] core: 📋 Carregando 2 artigos do cache para '\"mathematics teaching\" AND \"student modeling\"'\n",
      "10:16:36 [INFO] core:   -> 2 artigos relevantes adicionados do cache para '\"mathematics teaching\" AND \"student modeling\"'.\n",
      "10:16:36 [INFO] core: 🔎 Iniciando busca para: '\"mathematics teaching\" AND \"predictive analytics\"'\n",
      "10:16:36 [INFO] core: 📋 Carregando 1 artigos do cache para '\"mathematics teaching\" AND \"predictive analytics\"'\n",
      "10:16:36 [INFO] core:   -> 1 artigos relevantes adicionados do cache para '\"mathematics teaching\" AND \"predictive analytics\"'.\n",
      "10:16:36 [INFO] core: 🔎 Iniciando busca para: '\"educação matemática\" AND \"adaptive learning\"'\n",
      "10:16:36 [INFO] core: 📋 Carregando 4 artigos do cache para '\"educação matemática\" AND \"adaptive learning\"'\n",
      "10:16:36 [INFO] core:   -> 4 artigos relevantes adicionados do cache para '\"educação matemática\" AND \"adaptive learning\"'.\n",
      "10:16:36 [INFO] core: 🔎 Iniciando busca para: '\"educação matemática\" AND \"personalized learning\"'\n",
      "10:16:36 [INFO] core: 📋 Carregando 5 artigos do cache para '\"educação matemática\" AND \"personalized learning\"'\n"
     ]
    },
    {
     "name": "stdout",
     "output_type": "stream",
     "text": [
      "📄 Artigo 'SENIOR HIGH SCHOOL MATHEMATICS LEARNING THROUGH MATHEMATICS MODELING APPROACH' adicionado. Total atual: 1934\n",
      "📄 Artigo 'THE PEDAGOGICAL CONTENT KNOWLEDGE DIMENSIONS OF MATHEMATICS TEACHER IN MATHEMATICS MODELING LEARNING' adicionado. Total atual: 1935\n",
      "📄 Artigo 'Stability and sensitivity of Learning Analytics based prediction models' adicionado. Total atual: 1936\n",
      "📄 Artigo 'GAMIFICAÇÃO E APRENDIZAGEM: INTELIGÊNCIA ARTIFICIAL APLICADA À EDUCAÇÃO' adicionado. Total atual: 1937\n",
      "📄 Artigo 'The Construction of Number Concept in the Perspective of a Student Inclusion with Jacobsen Syndrome' adicionado. Total atual: 1938\n",
      "📄 Artigo 'Contribuições do aprendizado multimídia para jogos com foco nas dificuldades da matemática' adicionado. Total atual: 1939\n",
      "📄 Artigo 'Aplicações de gamificação na educação em matemática: um mapeamento sistemático' adicionado. Total atual: 1940\n",
      "📄 Artigo 'GAMIFICAÇÃO E APRENDIZAGEM: INTELIGÊNCIA ARTIFICIAL APLICADA À EDUCAÇÃO' adicionado. Total atual: 1941\n",
      "📄 Artigo 'Distance learning in covid-19 times: from opportunism to legitimation / O ensino a distância em tempos de covid-19:  do oportunismo à legitimação' adicionado. Total atual: 1942\n",
      "📄 Artigo 'Aprendizaje reportado por tres docentes y enseñanza de álgebra en los primeros grados' adicionado. Total atual: 1943\n",
      "📄 Artigo 'Blended learning, e-learning and mobile learning in mathematics education' adicionado. Total atual: 1944\n"
     ]
    },
    {
     "name": "stderr",
     "output_type": "stream",
     "text": [
      "10:16:36 [INFO] core:   -> 5 artigos relevantes adicionados do cache para '\"educação matemática\" AND \"personalized learning\"'.\n",
      "10:16:36 [INFO] core: 🔎 Iniciando busca para: '\"educação matemática\" AND \"intelligent tutoring systems\"'\n",
      "10:16:36 [INFO] core: 📋 Carregando 4 artigos do cache para '\"educação matemática\" AND \"intelligent tutoring systems\"'\n",
      "10:16:36 [INFO] core:   -> 4 artigos relevantes adicionados do cache para '\"educação matemática\" AND \"intelligent tutoring systems\"'.\n",
      "10:16:36 [INFO] core: 🔎 Iniciando busca para: '\"educação matemática\" AND \"learning analytics\"'\n",
      "10:16:37 [INFO] core: 📋 Carregando 5 artigos do cache para '\"educação matemática\" AND \"learning analytics\"'\n",
      "10:16:37 [INFO] core:   -> 5 artigos relevantes adicionados do cache para '\"educação matemática\" AND \"learning analytics\"'.\n",
      "10:16:37 [INFO] core: 🔎 Iniciando busca para: '\"educação matemática\" AND \"educational data mining\"'\n",
      "10:16:37 [INFO] core: 📋 Carregando 6 artigos do cache para '\"educação matemática\" AND \"educational data mining\"'\n"
     ]
    },
    {
     "name": "stdout",
     "output_type": "stream",
     "text": [
      "📄 Artigo 'Aprendizagem relatada por três professoras e o ensino de álgebra nos anos iniciais' adicionado. Total atual: 1945\n",
      "📄 Artigo 'Tutores inteligentes voltados à matemática: um mapeamento do cenário nacional' adicionado. Total atual: 1946\n",
      "📄 Artigo 'O papel da inteligência artificial no desenvolvimento de métodos e abordagens inovadores no domínio da educação' adicionado. Total atual: 1947\n",
      "📄 Artigo 'Os avatares Maria e João: tutores virtuais na plataforma e-learning da Universidade Aberta' adicionado. Total atual: 1948\n",
      "📄 Artigo 'LETRAMENTO EM INTELIGÊNCIA ARTIFICIAL NO CONTEXTO DA EDUCAÇÃO MATEMÁTICA: UM ESTUDO EXPLORATÓRIO' adicionado. Total atual: 1949\n",
      "📄 Artigo 'Aplicações de game learning analytics na abordagem sobre conceitos de matemática' adicionado. Total atual: 1950\n",
      "📄 Artigo 'Methodological Aspects of the Theory of Objectification' adicionado. Total atual: 1951\n",
      "📄 Artigo 'Tendências de Learning Analytics em Moodle: uma Revisão Sistemática' adicionado. Total atual: 1952\n",
      "📄 Artigo 'IV Conferência Ibérica de Inovação na Educação com TIC (ieTIC 2016): livro de atas' adicionado. Total atual: 1953\n",
      "📄 Artigo 'O potencial de LA para o moodle do curso de licenciatura em computação: um estudo de caso' adicionado. Total atual: 1954\n",
      "📄 Artigo 'Mineração de dados educacionais aplicada a performance de estudantes: uma revisão sistemática da literatura' adicionado. Total atual: 1955\n",
      "📄 Artigo 'Mapeamento sistemático da literatura brasileira sobre educational data mining e learning analytics / Systematic mapping of brazilian literature on educational data mining and learning analytics' adicionado. Total atual: 1956\n",
      "📄 Artigo 'Impact of Philosophy and Sociology Teaching on School Performance: An Analysis of the School Census Microdata from the National Institute for Educational Studies and Research (INEP)' adicionado. Total atual: 1957\n",
      "📄 Artigo 'Mineração de dados educacionais: um estudo sobre a proficiência em matemática no Ceará:   Educational data mining: a study on mathematics proficiency in Ceará' adicionado. Total atual: 1958\n",
      "📄 Artigo 'The relationship between socioeconomic level and mathematics proficiency of 9th grade students from Pernambuco through Educational Data Mining' adicionado. Total atual: 1959\n"
     ]
    },
    {
     "name": "stderr",
     "output_type": "stream",
     "text": [
      "10:16:37 [INFO] core:   -> 6 artigos relevantes adicionados do cache para '\"educação matemática\" AND \"educational data mining\"'.\n",
      "10:16:37 [INFO] core: 🔎 Iniciando busca para: '\"educação matemática\" AND \"machine learning\"'\n",
      "10:16:37 [INFO] core: 📋 Carregando 3 artigos do cache para '\"educação matemática\" AND \"machine learning\"'\n",
      "10:16:37 [INFO] core:   -> 3 artigos relevantes adicionados do cache para '\"educação matemática\" AND \"machine learning\"'.\n",
      "10:16:37 [INFO] core: 🔎 Iniciando busca para: '\"educação matemática\" AND \"artificial intelligence\"'\n",
      "10:16:37 [INFO] core: 📋 Carregando 6 artigos do cache para '\"educação matemática\" AND \"artificial intelligence\"'\n",
      "10:16:37 [INFO] core:   -> 6 artigos relevantes adicionados do cache para '\"educação matemática\" AND \"artificial intelligence\"'.\n",
      "10:16:37 [INFO] core: 🔎 Iniciando busca para: '\"educação matemática\" AND \"automated assessment\"'\n",
      "10:16:37 [INFO] core: 📋 Carregando 5 artigos do cache para '\"educação matemática\" AND \"automated assessment\"'\n"
     ]
    },
    {
     "name": "stdout",
     "output_type": "stream",
     "text": [
      "📄 Artigo 'Aplicações de game learning analytics na abordagem sobre conceitos de matemática' adicionado. Total atual: 1960\n",
      "📄 Artigo 'Big Data as a Technology-to-think-with for Scientific Literacy' adicionado. Total atual: 1961\n",
      "📄 Artigo 'Preditores do Desempenho em Matemática de Estudantes do Ensino Médio' adicionado. Total atual: 1962\n",
      "📄 Artigo 'Disability, Economy and the Limits of Inclusive Education' adicionado. Total atual: 1963\n",
      "📄 Artigo 'O papel da inteligência artificial no desenvolvimento de métodos e abordagens inovadores no domínio da educação' adicionado. Total atual: 1964\n",
      "📄 Artigo 'Educação e chatbots: aprendência e movimentos rizomáticos em tempos de Web 4.0' adicionado. Total atual: 1965\n",
      "📄 Artigo 'GAMIFICAÇÃO E APRENDIZAGEM: INTELIGÊNCIA ARTIFICIAL APLICADA À EDUCAÇÃO' adicionado. Total atual: 1966\n",
      "📄 Artigo 'Inteligência Artificial e a Matemática: uma Revisão Sistemática de Literatura sobre Aplicações em Educação e Ensino' adicionado. Total atual: 1967\n",
      "📄 Artigo 'LETRAMENTO EM INTELIGÊNCIA ARTIFICIAL NO CONTEXTO DA EDUCAÇÃO MATEMÁTICA: UM ESTUDO EXPLORATÓRIO' adicionado. Total atual: 1968\n",
      "📄 Artigo 'DESAFIOS E OPORTUNIDADES PARA O USO DO CHAT GPT NA PESQUISA EM EDUCAÇÃO MATEMÁTICA' adicionado. Total atual: 1969\n",
      "📄 Artigo 'Some theoretical references related to advanced mathematical thinking' adicionado. Total atual: 1970\n",
      "📄 Artigo 'O papel da inteligência artificial no desenvolvimento de métodos e abordagens inovadores no domínio da educação' adicionado. Total atual: 1971\n",
      "📄 Artigo 'Exclusion and inclusion processes in Mathematics classrooms: reflections on difference, normality and cultural issues within three different contexts' adicionado. Total atual: 1972\n",
      "📄 Artigo 'As redes associativas pathfinder e a teoria dos conceitos nucleares no estudo da estrutura cognitiva sobre o conceito de probabilidade' adicionado. Total atual: 1973\n"
     ]
    },
    {
     "name": "stderr",
     "output_type": "stream",
     "text": [
      "10:16:37 [INFO] core:   -> 5 artigos relevantes adicionados do cache para '\"educação matemática\" AND \"automated assessment\"'.\n",
      "10:16:37 [INFO] core: 🔎 Iniciando busca para: '\"educação matemática\" AND \"competency identification\"'\n",
      "10:16:37 [INFO] core: 📋 Carregando 5 artigos do cache para '\"educação matemática\" AND \"competency identification\"'\n"
     ]
    },
    {
     "name": "stdout",
     "output_type": "stream",
     "text": [
      "📄 Artigo 'Uma estratégia de aprendizagem cooperativa para desenvolvimento do pensamento computacional por meio de atividades de produção de jogos digitais' adicionado. Total atual: 1974\n"
     ]
    },
    {
     "name": "stderr",
     "output_type": "stream",
     "text": [
      "10:16:37 [INFO] core:   -> 5 artigos relevantes adicionados do cache para '\"educação matemática\" AND \"competency identification\"'.\n",
      "10:16:37 [INFO] core: 🔎 Iniciando busca para: '\"educação matemática\" AND \"student modeling\"'\n",
      "10:16:37 [INFO] core: 📋 Carregando 6 artigos do cache para '\"educação matemática\" AND \"student modeling\"'\n",
      "10:16:37 [INFO] core:   -> 6 artigos relevantes adicionados do cache para '\"educação matemática\" AND \"student modeling\"'.\n",
      "10:16:37 [INFO] core: 🔎 Iniciando busca para: '\"educação matemática\" AND \"predictive analytics\"'\n"
     ]
    },
    {
     "name": "stdout",
     "output_type": "stream",
     "text": [
      "📄 Artigo 'Strategies and procedures in literacy cycle children in problem situations involving information processing' adicionado. Total atual: 1975\n",
      "📄 Artigo 'Atas do XXVIII Seminário de Investigação em Educação Matemática' adicionado. Total atual: 1976\n",
      "📄 Artigo 'TRANSFUSION GAME, A PLAYFUL RESOURCE FOR TEACHING NURSING STUDENS HEMOTHERAPY' adicionado. Total atual: 1977\n",
      "📄 Artigo 'The role performed by the teacher’s question in the learning of quadratic function in an exploratory mathem' adicionado. Total atual: 1978\n",
      "📄 Artigo 'Dynamic geometry and square of the circle in Thomas Hobbes' adicionado. Total atual: 1979\n",
      "📄 Artigo 'Emphasis on Mathematical Modeling: The Problems of Contour Values in Calculating the Deflection of a Beam' adicionado. Total atual: 1980\n",
      "📄 Artigo 'Modeling and projects: healthy eating, environmental awareness and proposing a theme' adicionado. Total atual: 1981\n",
      "📄 Artigo 'MODELING AND PROJECTS: HEALTHY EATING, ENVIRONMENTAL AWARENESS AND PROPOSING A THEME' adicionado. Total atual: 1982\n",
      "📄 Artigo 'MODELAGEM MATEMÁTICA E A TECNOLOGIA: BREVES CONSIDERAÇÕES' adicionado. Total atual: 1983\n",
      "📄 Artigo 'Modelagem Matemática na Educação do Campo: Um olhar para os saberes locais' adicionado. Total atual: 1984\n",
      "📄 Artigo 'Policy implications of achievement testing using multilevel models: the case of Brazilian elementary schools' adicionado. Total atual: 1985\n"
     ]
    },
    {
     "name": "stderr",
     "output_type": "stream",
     "text": [
      "10:16:37 [INFO] core: 📋 Carregando 6 artigos do cache para '\"educação matemática\" AND \"predictive analytics\"'\n",
      "10:16:37 [INFO] core:   -> 6 artigos relevantes adicionados do cache para '\"educação matemática\" AND \"predictive analytics\"'.\n",
      "10:16:37 [INFO] core: 🔎 Iniciando busca para: '\"ensino de matemática\" AND \"adaptive learning\"'\n",
      "10:16:37 [INFO] core: 📋 Carregando 3 artigos do cache para '\"ensino de matemática\" AND \"adaptive learning\"'\n",
      "10:16:37 [INFO] core:   -> 3 artigos relevantes adicionados do cache para '\"ensino de matemática\" AND \"adaptive learning\"'.\n",
      "10:16:37 [INFO] core: 🔎 Iniciando busca para: '\"ensino de matemática\" AND \"personalized learning\"'\n"
     ]
    },
    {
     "name": "stdout",
     "output_type": "stream",
     "text": [
      "📄 Artigo 'Tendências de Learning Analytics em Moodle: uma Revisão Sistemática' adicionado. Total atual: 1986\n",
      "📄 Artigo 'Morphological aspects of data processing in school management. The Analytics potential' adicionado. Total atual: 1987\n",
      "📄 Artigo 'Fusão de dados aplicando modelos de machine learning' adicionado. Total atual: 1988\n",
      "📄 Artigo 'Análise de Dados em Linguagem R' adicionado. Total atual: 1989\n",
      "📄 Artigo 'Web application for the analysis of assessment tests' adicionado. Total atual: 1990\n",
      "📄 Artigo 'Business plan: Launch of an e-learning platform' adicionado. Total atual: 1991\n",
      "📄 Artigo 'GAMIFICAÇÃO E APRENDIZAGEM: INTELIGÊNCIA ARTIFICIAL APLICADA À EDUCAÇÃO' adicionado. Total atual: 1992\n",
      "📄 Artigo 'The Construction of Number Concept in the Perspective of a Student Inclusion with Jacobsen Syndrome' adicionado. Total atual: 1993\n",
      "📄 Artigo 'Adaptive learning e inteligência artificial: um jogo educacional para a alfabetização' adicionado. Total atual: 1994\n"
     ]
    },
    {
     "name": "stderr",
     "output_type": "stream",
     "text": [
      "10:16:38 [INFO] core: 📋 Carregando 5 artigos do cache para '\"ensino de matemática\" AND \"personalized learning\"'\n",
      "10:16:38 [INFO] core:   -> 5 artigos relevantes adicionados do cache para '\"ensino de matemática\" AND \"personalized learning\"'.\n",
      "10:16:38 [INFO] core: 🔎 Iniciando busca para: '\"ensino de matemática\" AND \"intelligent tutoring systems\"'\n",
      "10:16:38 [INFO] core: 📋 Carregando 3 artigos do cache para '\"ensino de matemática\" AND \"intelligent tutoring systems\"'\n",
      "10:16:38 [INFO] core:   -> 3 artigos relevantes adicionados do cache para '\"ensino de matemática\" AND \"intelligent tutoring systems\"'.\n",
      "10:16:38 [INFO] core: 🔎 Iniciando busca para: '\"ensino de matemática\" AND \"learning analytics\"'\n",
      "10:16:38 [INFO] core: 📋 Carregando 8 artigos do cache para '\"ensino de matemática\" AND \"learning analytics\"'\n"
     ]
    },
    {
     "name": "stdout",
     "output_type": "stream",
     "text": [
      "📄 Artigo 'GAMIFICAÇÃO E APRENDIZAGEM: INTELIGÊNCIA ARTIFICIAL APLICADA À EDUCAÇÃO' adicionado. Total atual: 1995\n",
      "📄 Artigo 'APRENDENDO ATRAVÉS DO ENSINO COM VÍDEOS' adicionado. Total atual: 1996\n",
      "📄 Artigo 'Aprendizaje reportado por tres docentes y enseñanza de álgebra en los primeros grados' adicionado. Total atual: 1997\n",
      "📄 Artigo 'Aprendizagem relatada por três professoras e o ensino de álgebra nos anos iniciais' adicionado. Total atual: 1998\n",
      "📄 Artigo 'Projeto EduLabs: perceções, práticas e impacto do uso de tecnologias em contexto educativo' adicionado. Total atual: 1999\n",
      "📄 Artigo 'Os avatares Maria e João: tutores virtuais na plataforma e-learning da Universidade Aberta' adicionado. Total atual: 2000\n",
      "📄 Artigo 'Tutores inteligentes voltados à matemática: um mapeamento do cenário nacional' adicionado. Total atual: 2001\n",
      "📄 Artigo 'Deep learning para autoria automatizada de modelos de domínios de sistemas tutores baseados em passo' adicionado. Total atual: 2002\n",
      "📄 Artigo 'Aplicações de game learning analytics na abordagem sobre conceitos de matemática' adicionado. Total atual: 2003\n",
      "📄 Artigo 'Tendências de Learning Analytics em Moodle: uma Revisão Sistemática' adicionado. Total atual: 2004\n",
      "📄 Artigo 'O potencial de LA para o moodle do curso de licenciatura em computação: um estudo de caso' adicionado. Total atual: 2005\n",
      "📄 Artigo 'GAMIFICAÇÃO E APRENDIZAGEM: INTELIGÊNCIA ARTIFICIAL APLICADA À EDUCAÇÃO' adicionado. Total atual: 2006\n",
      "📄 Artigo 'IV Conferência Ibérica de Inovação na Educação com TIC (ieTIC 2016): livro de atas' adicionado. Total atual: 2007\n",
      "📄 Artigo 'Modelo de diagnóstico de dificuldades de aprendizagem orientado a conceitos' adicionado. Total atual: 2008\n",
      "📄 Artigo 'VLA Dashboard: Um Mecanismo para Visualização do Desempenho de Estudantes de Matemática no Ensino Médio' adicionado. Total atual: 2009\n"
     ]
    },
    {
     "name": "stderr",
     "output_type": "stream",
     "text": [
      "10:16:38 [INFO] core:   -> 8 artigos relevantes adicionados do cache para '\"ensino de matemática\" AND \"learning analytics\"'.\n",
      "10:16:38 [INFO] core: 🔎 Iniciando busca para: '\"ensino de matemática\" AND \"educational data mining\"'\n",
      "10:16:38 [INFO] core: 📋 Carregando 8 artigos do cache para '\"ensino de matemática\" AND \"educational data mining\"'\n",
      "10:16:38 [INFO] core:   -> 8 artigos relevantes adicionados do cache para '\"ensino de matemática\" AND \"educational data mining\"'.\n",
      "10:16:38 [INFO] core: 🔎 Iniciando busca para: '\"ensino de matemática\" AND \"machine learning\"'\n",
      "10:16:38 [INFO] core: 📋 Carregando 4 artigos do cache para '\"ensino de matemática\" AND \"machine learning\"'\n",
      "10:16:38 [INFO] core:   -> 4 artigos relevantes adicionados do cache para '\"ensino de matemática\" AND \"machine learning\"'.\n",
      "10:16:38 [INFO] core: 🔎 Iniciando busca para: '\"ensino de matemática\" AND \"artificial intelligence\"'\n",
      "10:16:38 [INFO] core: 📋 Carregando 6 artigos do cache para '\"ensino de matemática\" AND \"artificial intelligence\"'\n"
     ]
    },
    {
     "name": "stdout",
     "output_type": "stream",
     "text": [
      "📄 Artigo 'Business plan: Launch of an e-learning platform' adicionado. Total atual: 2010\n",
      "📄 Artigo 'Mapeamento sistemático da literatura brasileira sobre educational data mining e learning analytics / Systematic mapping of brazilian literature on educational data mining and learning analytics' adicionado. Total atual: 2011\n",
      "📄 Artigo 'Mineração de dados educacionais: um estudo sobre a proficiência em matemática no Ceará:   Educational data mining: a study on mathematics proficiency in Ceará' adicionado. Total atual: 2012\n",
      "📄 Artigo 'Mineração de dados educacionais aplicada a performance de estudantes: uma revisão sistemática da literatura' adicionado. Total atual: 2013\n",
      "📄 Artigo 'The relationship between socioeconomic level and mathematics proficiency of 9th grade students from Pernambuco through Educational Data Mining' adicionado. Total atual: 2014\n",
      "📄 Artigo 'Aplicações de game learning analytics na abordagem sobre conceitos de matemática' adicionado. Total atual: 2015\n",
      "📄 Artigo 'Analysis of teaching certification programs in federal schools using data mining' adicionado. Total atual: 2016\n",
      "📄 Artigo 'Preditores do Desempenho em Matemática de Estudantes do Ensino Médio' adicionado. Total atual: 2017\n",
      "📄 Artigo 'Impact of Philosophy and Sociology Teaching on School Performance: An Analysis of the School Census Microdata from the National Institute for Educational Studies and Research (INEP)' adicionado. Total atual: 2018\n",
      "📄 Artigo 'conceções e práticas de ensino de professores' adicionado. Total atual: 2019\n",
      "📄 Artigo 'Fusão de dados aplicando modelos de machine learning' adicionado. Total atual: 2020\n",
      "📄 Artigo 'Preditores do Desempenho em Matemática de Estudantes do Ensino Médio' adicionado. Total atual: 2021\n",
      "📄 Artigo 'Big Data as a Technology-to-think-with for Scientific Literacy' adicionado. Total atual: 2022\n"
     ]
    },
    {
     "name": "stderr",
     "output_type": "stream",
     "text": [
      "10:16:38 [INFO] core:   -> 6 artigos relevantes adicionados do cache para '\"ensino de matemática\" AND \"artificial intelligence\"'.\n",
      "10:16:38 [INFO] core: 🔎 Iniciando busca para: '\"ensino de matemática\" AND \"automated assessment\"'\n",
      "10:16:38 [INFO] core: 📋 Carregando 4 artigos do cache para '\"ensino de matemática\" AND \"automated assessment\"'\n",
      "10:16:38 [INFO] core:   -> 4 artigos relevantes adicionados do cache para '\"ensino de matemática\" AND \"automated assessment\"'.\n",
      "10:16:38 [INFO] core: 🔎 Iniciando busca para: '\"ensino de matemática\" AND \"competency identification\"'\n"
     ]
    },
    {
     "name": "stdout",
     "output_type": "stream",
     "text": [
      "📄 Artigo 'GAMIFICAÇÃO E APRENDIZAGEM: INTELIGÊNCIA ARTIFICIAL APLICADA À EDUCAÇÃO' adicionado. Total atual: 2023\n",
      "📄 Artigo 'Educação e chatbots: aprendência e movimentos rizomáticos em tempos de Web 4.0' adicionado. Total atual: 2024\n",
      "📄 Artigo 'Inteligência Artificial e a Matemática: uma Revisão Sistemática de Literatura sobre Aplicações em Educação e Ensino' adicionado. Total atual: 2025\n",
      "📄 Artigo 'DESAFIOS E OPORTUNIDADES PARA O USO DO CHAT GPT NA PESQUISA EM EDUCAÇÃO MATEMÁTICA' adicionado. Total atual: 2026\n",
      "📄 Artigo 'Ética para uso de inteligência artificial na educação superior no Brasil' adicionado. Total atual: 2027\n",
      "📄 Artigo 'LETRAMENTO EM INTELIGÊNCIA ARTIFICIAL NO CONTEXTO DA EDUCAÇÃO MATEMÁTICA: UM ESTUDO EXPLORATÓRIO' adicionado. Total atual: 2028\n",
      "📄 Artigo 'As redes associativas pathfinder e a teoria dos conceitos nucleares no estudo da estrutura cognitiva sobre o conceito de probabilidade' adicionado. Total atual: 2029\n",
      "📄 Artigo 'Who checks the news, algorithms or journalists? The critical logic of C. S. Peirce as a process for identifying a Fake News' adicionado. Total atual: 2030\n",
      "📄 Artigo 'Uma estratégia de aprendizagem cooperativa para desenvolvimento do pensamento computacional por meio de atividades de produção de jogos digitais' adicionado. Total atual: 2031\n",
      "📄 Artigo 'Some theoretical references related to advanced mathematical thinking' adicionado. Total atual: 2032\n"
     ]
    },
    {
     "name": "stderr",
     "output_type": "stream",
     "text": [
      "10:16:38 [INFO] core: 📋 Carregando 7 artigos do cache para '\"ensino de matemática\" AND \"competency identification\"'\n",
      "10:16:38 [INFO] core:   -> 7 artigos relevantes adicionados do cache para '\"ensino de matemática\" AND \"competency identification\"'.\n",
      "10:16:38 [INFO] core: 🔎 Iniciando busca para: '\"ensino de matemática\" AND \"student modeling\"'\n",
      "10:16:38 [INFO] core: 📋 Carregando 6 artigos do cache para '\"ensino de matemática\" AND \"student modeling\"'\n",
      "10:16:38 [INFO] core:   -> 6 artigos relevantes adicionados do cache para '\"ensino de matemática\" AND \"student modeling\"'.\n",
      "10:16:38 [INFO] core: 🔎 Iniciando busca para: '\"ensino de matemática\" AND \"predictive analytics\"'\n",
      "10:16:38 [INFO] core: 📋 Carregando 5 artigos do cache para '\"ensino de matemática\" AND \"predictive analytics\"'\n"
     ]
    },
    {
     "name": "stdout",
     "output_type": "stream",
     "text": [
      "📄 Artigo 'Atas do XXVIII Seminário de Investigação em Educação Matemática' adicionado. Total atual: 2033\n",
      "📄 Artigo 'ESCALAS DE AUTOAVALIAÇÃO DE COMPETÊNCIAS DOCENTES EM ARTIGOS INTERNACIONAIS' adicionado. Total atual: 2034\n",
      "📄 Artigo 'TRANSFUSION GAME, A PLAYFUL RESOURCE FOR TEACHING NURSING STUDENS HEMOTHERAPY' adicionado. Total atual: 2035\n",
      "📄 Artigo '5th International Conference on Teacher Education' adicionado. Total atual: 2036\n",
      "📄 Artigo 'IV Conferência Ibérica de Inovação na Educação com TIC (ieTIC 2016): livro de atas' adicionado. Total atual: 2037\n",
      "📄 Artigo 'Teaching competence to observe with sense situations of teaching' adicionado. Total atual: 2038\n",
      "📄 Artigo 'Instrumentos de avaliação da motivação para a aprendizagem no ensino básico: uma revisão sistemática da literatura' adicionado. Total atual: 2039\n",
      "📄 Artigo 'MODELAGEM MATEMÁTICA E A TECNOLOGIA: BREVES CONSIDERAÇÕES' adicionado. Total atual: 2040\n",
      "📄 Artigo 'Concepções de professores sobre a modelagem matemática como recurso de ensino-aprendizagem de matemática' adicionado. Total atual: 2041\n",
      "📄 Artigo 'Uma Proposta Para o Ensino do Modelo do Gás Ideal em Turmas de Segundo Ano do Ensino Médio' adicionado. Total atual: 2042\n",
      "📄 Artigo 'Modelagem no Ensino de Matemática: primeiros relatos de um estudo de caso com estudantes cegos' adicionado. Total atual: 2043\n",
      "📄 Artigo 'A MODELAGEM MATEMÁTICA COMO PROPOSTA PEDAGÓGICA NA PERSPECTIVA DO ENSINO DA MATEMÁTICA EM AMBIENTES INFORMATIZADOS NO ENSINO MÉDIO' adicionado. Total atual: 2044\n",
      "📄 Artigo 'Emphasis on Mathematical Modeling: The Problems of Contour Values in Calculating the Deflection of a Beam' adicionado. Total atual: 2045\n",
      "📄 Artigo 'Tendências de Learning Analytics em Moodle: uma Revisão Sistemática' adicionado. Total atual: 2046\n",
      "📄 Artigo 'Fusão de dados aplicando modelos de machine learning' adicionado. Total atual: 2047\n",
      "📄 Artigo 'Morphological aspects of data processing in school management. The Analytics potential' adicionado. Total atual: 2048\n",
      "📄 Artigo 'Aplicação de algoritmo de machine learning na identificação de alunos em risco de evasão' adicionado. Total atual: 2049\n"
     ]
    },
    {
     "name": "stderr",
     "output_type": "stream",
     "text": [
      "10:16:38 [INFO] core:   -> 5 artigos relevantes adicionados do cache para '\"ensino de matemática\" AND \"predictive analytics\"'.\n",
      "10:16:38 [INFO] core: 🏁 Busca concluída.\n",
      "10:16:38 [INFO] core:   Total adicionado do cache: 260\n",
      "10:16:38 [INFO] core:   Total adicionado da API: 0\n",
      "10:16:38 [INFO] core:   Total processado da API: 0\n",
      "10:16:38 [INFO] core:   Total descartado (API + Cache): 255\n"
     ]
    },
    {
     "name": "stdout",
     "output_type": "stream",
     "text": [
      "📄 Artigo 'Web application for the analysis of assessment tests' adicionado. Total atual: 2050\n",
      "⚠️ Erro ao acessar CORE: object of type 'NoneType' has no len()\n",
      "\n",
      "Nenhum artigo encontrado em nenhuma base de dados.\n",
      "\n",
      "Total de artigos encontrados: 0\n"
     ]
    },
    {
     "data": {
      "application/vnd.microsoft.datawrangler.viewer.v0+json": {
       "columns": [
        {
         "name": "index",
         "rawType": "int64",
         "type": "integer"
        },
        {
         "name": "title",
         "rawType": "object",
         "type": "string"
        },
        {
         "name": "authors",
         "rawType": "object",
         "type": "string"
        },
        {
         "name": "year",
         "rawType": "object",
         "type": "string"
        },
        {
         "name": "source_publication",
         "rawType": "object",
         "type": "string"
        },
        {
         "name": "abstract",
         "rawType": "object",
         "type": "string"
        },
        {
         "name": "full_text",
         "rawType": "object",
         "type": "string"
        },
        {
         "name": "doi_url",
         "rawType": "object",
         "type": "string"
        },
        {
         "name": "database",
         "rawType": "object",
         "type": "string"
        },
        {
         "name": "search_terms",
         "rawType": "object",
         "type": "string"
        },
        {
         "name": "is_open_access",
         "rawType": "object",
         "type": "string"
        },
        {
         "name": "country",
         "rawType": "object",
         "type": "string"
        },
        {
         "name": "study_type",
         "rawType": "object",
         "type": "string"
        },
        {
         "name": "comp_techniques",
         "rawType": "object",
         "type": "string"
        },
        {
         "name": "eval_methods",
         "rawType": "object",
         "type": "string"
        },
        {
         "name": "math_topic",
         "rawType": "object",
         "type": "string"
        },
        {
         "name": "main_results",
         "rawType": "object",
         "type": "string"
        },
        {
         "name": "identified_gaps",
         "rawType": "object",
         "type": "string"
        },
        {
         "name": "relevance_score",
         "rawType": "object",
         "type": "string"
        },
        {
         "name": "selection_stage",
         "rawType": "object",
         "type": "string"
        },
        {
         "name": "exclusion_reason",
         "rawType": "object",
         "type": "string"
        },
        {
         "name": "notes",
         "rawType": "object",
         "type": "string"
        }
       ],
       "ref": "6e82fa84-4037-48b1-8db1-6b9c695a6ad4",
       "rows": [],
       "shape": {
        "columns": 21,
        "rows": 0
       }
      },
      "text/html": [
       "<div>\n",
       "<style scoped>\n",
       "    .dataframe tbody tr th:only-of-type {\n",
       "        vertical-align: middle;\n",
       "    }\n",
       "\n",
       "    .dataframe tbody tr th {\n",
       "        vertical-align: top;\n",
       "    }\n",
       "\n",
       "    .dataframe thead th {\n",
       "        text-align: right;\n",
       "    }\n",
       "</style>\n",
       "<table border=\"1\" class=\"dataframe\">\n",
       "  <thead>\n",
       "    <tr style=\"text-align: right;\">\n",
       "      <th></th>\n",
       "      <th>title</th>\n",
       "      <th>authors</th>\n",
       "      <th>year</th>\n",
       "      <th>source_publication</th>\n",
       "      <th>abstract</th>\n",
       "      <th>full_text</th>\n",
       "      <th>doi_url</th>\n",
       "      <th>database</th>\n",
       "      <th>search_terms</th>\n",
       "      <th>is_open_access</th>\n",
       "      <th>...</th>\n",
       "      <th>study_type</th>\n",
       "      <th>comp_techniques</th>\n",
       "      <th>eval_methods</th>\n",
       "      <th>math_topic</th>\n",
       "      <th>main_results</th>\n",
       "      <th>identified_gaps</th>\n",
       "      <th>relevance_score</th>\n",
       "      <th>selection_stage</th>\n",
       "      <th>exclusion_reason</th>\n",
       "      <th>notes</th>\n",
       "    </tr>\n",
       "  </thead>\n",
       "  <tbody>\n",
       "  </tbody>\n",
       "</table>\n",
       "<p>0 rows × 21 columns</p>\n",
       "</div>"
      ],
      "text/plain": [
       "Empty DataFrame\n",
       "Columns: [title, authors, year, source_publication, abstract, full_text, doi_url, database, search_terms, is_open_access, country, study_type, comp_techniques, eval_methods, math_topic, main_results, identified_gaps, relevance_score, selection_stage, exclusion_reason, notes]\n",
       "Index: []\n",
       "\n",
       "[0 rows x 21 columns]"
      ]
     },
     "metadata": {},
     "output_type": "display_data"
    }
   ],
   "source": [
    "def researsh_papers() -> pd.DataFrame:\n",
    "    \"\"\"\n",
    "    Função principal para buscar artigos relevantes usando as APIs do Semantic Scholar, OpenAlex, CrossRef e CORE.\n",
    "    Retorna um DataFrame combinado com colunas padronizadas.\n",
    "\n",
    "    Parameters:\n",
    "    ----------\n",
    "    None\n",
    "\n",
    "    Returns:\n",
    "    -------\n",
    "    pd.DataFrame\n",
    "        DataFrame com os artigos encontrados e colunas padronizadas.\n",
    "    \"\"\"\n",
    "    queries = queries_generator(first_terms, second_terms)\n",
    "\n",
    "    print(\"\\n📚 Buscando artigos em múltiplas fontes de dados científicos...\")\n",
    "    \n",
    "    all_dfs = [] # Lista para armazenar os dataframes de cada fonte\n",
    "\n",
    "    # Buscar artigos no Semantic Scholar\n",
    "    try:\n",
    "        print(\"\\n--- Iniciando busca no Semantic Scholar ---\")\n",
    "        df_semantic_scholar = SemanticScholarSearcher().search(queries, max_results_per_query=10, year_min=2015, langs=[\"en\", \"pt\"]) # Aumentar max_results\n",
    "        print(f\"Semantic Scholar retornou {len(df_semantic_scholar)} artigos.\")\n",
    "        if not df_semantic_scholar.empty:\n",
    "             all_dfs.append(df_semantic_scholar)\n",
    "    except Exception as e:\n",
    "        print(f\"⚠️ Erro ao acessar Semantic Scholar: {e}\")\n",
    "        df_semantic_scholar = pd.DataFrame(columns=columns) # Cria df vazio com colunas certas\n",
    "\n",
    "    # Buscar artigos no OpenAlex\n",
    "    try: \n",
    "        print(\"\\n--- Iniciando busca no OpenAlex ---\")\n",
    "        df_open_alex = OpenAlexSearcher().search(queries, max_results_per_query=10, year_min=2015, langs=[\"en\", \"pt\"]) # Aumentar max_results\n",
    "        print(f\"OpenAlex retornou {len(df_open_alex)} artigos.\")\n",
    "        if not df_open_alex.empty:\n",
    "             all_dfs.append(df_open_alex)\n",
    "    except Exception as e:\n",
    "        print(f\"⚠️ Erro ao acessar OpenAlex: {e}\")\n",
    "        df_open_alex = pd.DataFrame(columns=columns)\n",
    "\n",
    "    # Buscar artigos no CrossRef\n",
    "    try:\n",
    "        print(\"\\n--- Iniciando busca no CrossRef ---\")\n",
    "        df_crossref = CrossrefSearcher().search(queries, max_results_per_query=10, year_min=2015, langs=[\"en\", \"pt\"]) # Aumentar max_results\n",
    "        print(f\"CrossRef retornou {len(df_crossref)} artigos.\")\n",
    "        if not df_crossref.empty:\n",
    "             all_dfs.append(df_crossref)\n",
    "    except Exception as e:\n",
    "        print(f\"⚠️ Erro ao acessar CrossRef: {e}\")\n",
    "        df_crossref = pd.DataFrame(columns=columns)\n",
    "\n",
    "    # Buscar artigos no CORE\n",
    "    try:\n",
    "        print(\"\\n--- Iniciando busca no CORE ---\")\n",
    "        df_core = CoreSearcher().search(queries, max_results_per_query=10, year_min=2015, langs=[\"en\", \"pt\"]) # Aumentar max_results\n",
    "        print(f\"CORE retornou {len(df_core)} artigos.\")\n",
    "        if not df_core.empty:\n",
    "             all_dfs.append(df_core)\n",
    "    except Exception as e:\n",
    "        print(f\"⚠️ Erro ao acessar CORE: {e}\")\n",
    "        df_core = pd.DataFrame(columns=columns)\n",
    "    \n",
    "    # Concatenar os dataframes\n",
    "    if not all_dfs:\n",
    "        print(\"\\nNenhum artigo encontrado em nenhuma base de dados.\")\n",
    "        return pd.DataFrame(columns=columns) # Retorna df vazio com colunas\n",
    "\n",
    "    print(f\"\\nConcatenando resultados de {len(all_dfs)} fontes...\")\n",
    "    df_combined = pd.concat(all_dfs, ignore_index=True)\n",
    "    \n",
    "    print(f\"Total de artigos brutos coletados: {len(df_combined)}\")\n",
    "    \n",
    "    # Garantir que todas as colunas padrão existam, preenchendo com None se faltar\n",
    "    for col in columns:\n",
    "        if col not in df_combined.columns:\n",
    "            df_combined[col] = None\n",
    "            \n",
    "    # Reordenar colunas para o padrão definido\n",
    "    df_combined = df_combined[columns]\n",
    "\n",
    "    return df_combined\n",
    "\n",
    "# researsh_papers = researsh_papers()\n",
    "# print(f\"\\nTotal de artigos encontrados: {len(researsh_papers)}\")\n",
    "# display(researsh_papers.head(10)) # Exibe os 10 primeiros artigos encontrados"
   ]
  },
  {
   "cell_type": "markdown",
   "id": "cdf35021",
   "metadata": {},
   "source": [
    "#### 📇 Removendo artigos duplicados\n",
    "\n",
    "Execute a célula abaixo para remover duplicatas do DataFrame coletado. O resultado será armazenado em `df_deduplicated_papers`.\n"
   ]
  },
  {
   "cell_type": "code",
   "execution_count": 22,
   "id": "6de07094",
   "metadata": {},
   "outputs": [
    {
     "name": "stderr",
     "output_type": "stream",
     "text": [
      "10:16:39 [WARNING] dedup: DataFrame vazio ou sem coluna 'title'.\n"
     ]
    },
    {
     "name": "stdout",
     "output_type": "stream",
     "text": [
      "\n",
      "Total de artigos após deduplicação: 0\n"
     ]
    },
    {
     "data": {
      "application/vnd.microsoft.datawrangler.viewer.v0+json": {
       "columns": [
        {
         "name": "index",
         "rawType": "int64",
         "type": "integer"
        },
        {
         "name": "title",
         "rawType": "object",
         "type": "string"
        },
        {
         "name": "authors",
         "rawType": "object",
         "type": "string"
        },
        {
         "name": "year",
         "rawType": "object",
         "type": "string"
        },
        {
         "name": "source_publication",
         "rawType": "object",
         "type": "string"
        },
        {
         "name": "abstract",
         "rawType": "object",
         "type": "string"
        },
        {
         "name": "full_text",
         "rawType": "object",
         "type": "string"
        },
        {
         "name": "doi_url",
         "rawType": "object",
         "type": "string"
        },
        {
         "name": "database",
         "rawType": "object",
         "type": "string"
        },
        {
         "name": "search_terms",
         "rawType": "object",
         "type": "string"
        },
        {
         "name": "is_open_access",
         "rawType": "object",
         "type": "string"
        },
        {
         "name": "country",
         "rawType": "object",
         "type": "string"
        },
        {
         "name": "study_type",
         "rawType": "object",
         "type": "string"
        },
        {
         "name": "comp_techniques",
         "rawType": "object",
         "type": "string"
        },
        {
         "name": "eval_methods",
         "rawType": "object",
         "type": "string"
        },
        {
         "name": "math_topic",
         "rawType": "object",
         "type": "string"
        },
        {
         "name": "main_results",
         "rawType": "object",
         "type": "string"
        },
        {
         "name": "identified_gaps",
         "rawType": "object",
         "type": "string"
        },
        {
         "name": "relevance_score",
         "rawType": "object",
         "type": "string"
        },
        {
         "name": "selection_stage",
         "rawType": "object",
         "type": "string"
        },
        {
         "name": "exclusion_reason",
         "rawType": "object",
         "type": "string"
        },
        {
         "name": "notes",
         "rawType": "object",
         "type": "string"
        }
       ],
       "ref": "03a1d854-9559-41e1-91d7-61e33d993a15",
       "rows": [],
       "shape": {
        "columns": 21,
        "rows": 0
       }
      },
      "text/html": [
       "<div>\n",
       "<style scoped>\n",
       "    .dataframe tbody tr th:only-of-type {\n",
       "        vertical-align: middle;\n",
       "    }\n",
       "\n",
       "    .dataframe tbody tr th {\n",
       "        vertical-align: top;\n",
       "    }\n",
       "\n",
       "    .dataframe thead th {\n",
       "        text-align: right;\n",
       "    }\n",
       "</style>\n",
       "<table border=\"1\" class=\"dataframe\">\n",
       "  <thead>\n",
       "    <tr style=\"text-align: right;\">\n",
       "      <th></th>\n",
       "      <th>title</th>\n",
       "      <th>authors</th>\n",
       "      <th>year</th>\n",
       "      <th>source_publication</th>\n",
       "      <th>abstract</th>\n",
       "      <th>full_text</th>\n",
       "      <th>doi_url</th>\n",
       "      <th>database</th>\n",
       "      <th>search_terms</th>\n",
       "      <th>is_open_access</th>\n",
       "      <th>...</th>\n",
       "      <th>study_type</th>\n",
       "      <th>comp_techniques</th>\n",
       "      <th>eval_methods</th>\n",
       "      <th>math_topic</th>\n",
       "      <th>main_results</th>\n",
       "      <th>identified_gaps</th>\n",
       "      <th>relevance_score</th>\n",
       "      <th>selection_stage</th>\n",
       "      <th>exclusion_reason</th>\n",
       "      <th>notes</th>\n",
       "    </tr>\n",
       "  </thead>\n",
       "  <tbody>\n",
       "  </tbody>\n",
       "</table>\n",
       "<p>0 rows × 21 columns</p>\n",
       "</div>"
      ],
      "text/plain": [
       "Empty DataFrame\n",
       "Columns: [title, authors, year, source_publication, abstract, full_text, doi_url, database, search_terms, is_open_access, country, study_type, comp_techniques, eval_methods, math_topic, main_results, identified_gaps, relevance_score, selection_stage, exclusion_reason, notes]\n",
       "Index: []\n",
       "\n",
       "[0 rows x 21 columns]"
      ]
     },
     "metadata": {},
     "output_type": "display_data"
    }
   ],
   "source": [
    "def _choose_best(df, i, j):\n",
    "    \"\"\"Regra idêntica à sua: DOI > resumo longo\"\"\"\n",
    "    has_doi_i = bool(df.at[i, \"doi_url\"])\n",
    "    has_doi_j = bool(df.at[j, \"doi_url\"])\n",
    "    if not has_doi_i and has_doi_j:\n",
    "        return i     # remove i\n",
    "    if has_doi_i and not has_doi_j:\n",
    "        return j     # remove j\n",
    "    # resumo maior ganha\n",
    "    if len(str(df.at[j, \"abstract\"])) > len(str(df.at[i, \"abstract\"])):\n",
    "        return i\n",
    "    return j\n",
    "\n",
    "def deduplicate_articles(\n",
    "        df: pd.DataFrame,\n",
    "        logger: Optional[logging.Logger] = None,\n",
    "        thresh_ratio: int = 90,\n",
    "        thresh_cosine: float = 0.10,     # distância (1-cosine)\n",
    ") -> pd.DataFrame:\n",
    "    \"\"\"Versão otimizada que reaproveita normalize_text e logging.\"\"\"\n",
    "    if logger is None:\n",
    "        logger = logging.getLogger(\"dedup\")\n",
    "\n",
    "    if df.empty or \"title\" not in df.columns:\n",
    "        logger.warning(\"DataFrame vazio ou sem coluna 'title'.\")\n",
    "        return df.copy()\n",
    "\n",
    "    # ------------------------------------------------------------------\n",
    "    # 1. ─ duplicatas por DOI/URL\n",
    "    # ------------------------------------------------------------------\n",
    "    df1 = df.copy()\n",
    "    df1[\"doi_url\"] = (\n",
    "        df1[\"doi_url\"].fillna(\"\").astype(str).str.strip()\n",
    "           .str.lower().str.replace(\"https://doi.org/\", \"\", regex=False)\n",
    "    )\n",
    "    seen = {}\n",
    "    keep_idx = []\n",
    "    for idx, doi in df1[\"doi_url\"].items():\n",
    "        if doi and (doi.startswith(\"10.\") or doi.startswith(\"http\")):\n",
    "            if doi in seen:\n",
    "                continue\n",
    "            seen[doi] = idx\n",
    "        keep_idx.append(idx)\n",
    "    if logger:\n",
    "        logger.info(f\"🔖 Removidas {len(df1) - len(keep_idx)} duplicatas por DOI/URL\")\n",
    "    df2 = df1.loc[keep_idx]\n",
    "\n",
    "    # ------------------------------------------------------------------\n",
    "    # 2. ─ preparação canônica / bloqueio\n",
    "    # ------------------------------------------------------------------\n",
    "    df2[\"_canon\"]  = df2[\"title\"].fillna(\"\").apply(normalize_text)\n",
    "    df2[\"_block\"]  = df2[\"_canon\"].str[:8]             # prefixo curto\n",
    "    final_keep = set(df2.index)\n",
    "\n",
    "    # ------------------------------------------------------------------\n",
    "    # 3. ─ itera bloco-a-bloco\n",
    "    # ------------------------------------------------------------------\n",
    "    removed_sim = 0\n",
    "    for _, blk in df2.groupby(\"_block\"):\n",
    "        idx_list = blk.index.tolist()\n",
    "        if len(idx_list) <= 1:\n",
    "            continue\n",
    "\n",
    "        # 3a. títulos idênticos apos canon  → drop instantâneo\n",
    "        canon_seen = {}\n",
    "        for idx in idx_list:\n",
    "            c = df2.at[idx, \"_canon\"]\n",
    "            if c in canon_seen:\n",
    "                final_keep.discard(idx)\n",
    "                removed_sim += 1\n",
    "            else:\n",
    "                canon_seen[c] = idx\n",
    "        idx_list = [i for i in idx_list if i in final_keep]\n",
    "        if len(idx_list) <= 1:\n",
    "            continue\n",
    "\n",
    "        # 3b. TF-IDF + vizinhos dentro do raio\n",
    "        vec = TfidfVectorizer(ngram_range=(1,2), min_df=1).fit_transform(\n",
    "            [df2.at[i, \"_canon\"] for i in idx_list]\n",
    "        )\n",
    "        nn = NearestNeighbors(metric=\"cosine\", radius=thresh_cosine).fit(vec)\n",
    "        graph = nn.radius_neighbors_graph(vec, mode=\"distance\")\n",
    "\n",
    "        rows, cols = graph.nonzero()\n",
    "        for r, c in zip(rows, cols):\n",
    "            if r >= c:\n",
    "                continue          # evita pares repetidos\n",
    "            i, j = idx_list[r], idx_list[c]\n",
    "\n",
    "            # 3c. RapidFuzz confirma\n",
    "            if fuzz.token_set_ratio(df2.at[i, \"_canon\"], df2.at[j, \"_canon\"]) >= thresh_ratio:\n",
    "                drop = _choose_best(df2, i, j)\n",
    "                if drop in final_keep:\n",
    "                    final_keep.remove(drop)\n",
    "                    removed_sim += 1\n",
    "\n",
    "    logger.info(f\"🪄 Removidas {removed_sim} duplicatas por similaridade de título\")\n",
    "    result = (\n",
    "        df2.loc[sorted(final_keep)]\n",
    "           .drop(columns=[\"_canon\", \"_block\"])\n",
    "           .reset_index(drop=True)\n",
    "    )\n",
    "    logger.info(f\"✅ Total final de artigos: {len(result)}\")\n",
    "    return result\n",
    "\n",
    "# df_deduplicated_papers = deduplicate_articles(researsh_papers)\n",
    "# print(f\"\\nTotal de artigos após deduplicação: {len(df_deduplicated_papers)}\")\n",
    "# display(df_deduplicated_papers.head(10)) # Exibe os 10 primeiros artigos deduplicados"
   ]
  },
  {
   "cell_type": "markdown",
   "id": "2c44db7c",
   "metadata": {},
   "source": [
    "#### 📊 Análise exploratória dos artigos\n",
    "\n",
    "Execute a célula abaixo para gerar estatísticas e visualizações dos artigos únicos."
   ]
  },
  {
   "cell_type": "code",
   "execution_count": 23,
   "id": "c9fb0848",
   "metadata": {},
   "outputs": [
    {
     "name": "stdout",
     "output_type": "stream",
     "text": [
      "⚠️ DataFrame vazio. Nenhuma análise a ser feita.\n"
     ]
    }
   ],
   "source": [
    "def analyze_papers(df : pd.DataFrame):\n",
    "    \"\"\"\n",
    "    Realize a statistical analysis and visualization of the found articles.\n",
    "    \n",
    "    Parameters:\n",
    "    ----------\n",
    "    df : pd.DataFrame\n",
    "        DataFrame containing the articles to analyze\n",
    "    \"\"\"\n",
    "    if df.empty:\n",
    "        print(\"⚠️ DataFrame vazio. Nenhuma análise a ser feita.\")\n",
    "        return\n",
    "\n",
    "    print(f\"\\n📊 Análise de {len(df)} artigos:\\n\")\n",
    "    \n",
    "    # Configuração estética para visualizações\n",
    "    sns.set(style=\"whitegrid\")\n",
    "    plt.figure(figsize=(15, 12)) # Ajuste tamanho\n",
    "    \n",
    "    # 1. Distribuição de artigos por ano\n",
    "    plt.subplot(2, 2, 1)\n",
    "    if 'year' in df.columns and not df['year'].isnull().all():\n",
    "        year_counts = df[\"year\"].dropna().astype(int).value_counts().sort_index()\n",
    "        if not year_counts.empty:\n",
    "            sns.barplot(x=year_counts.index, y=year_counts.values, palette=\"viridis\")\n",
    "            plt.title(\"Distribuição de Artigos por Ano\")\n",
    "            plt.xlabel(\"Ano\")\n",
    "            plt.ylabel(\"Quantidade\")\n",
    "            plt.xticks(rotation=45)\n",
    "        else:\n",
    "             plt.text(0.5, 0.5, \"Sem dados de ano válidos\", ha='center', va='center')\n",
    "    else:\n",
    "        plt.text(0.5, 0.5, \"Coluna 'year' ausente ou vazia\", ha='center', va='center')\n",
    "\n",
    "    # 2. Distribuição por base de dados\n",
    "    plt.subplot(2, 2, 2)\n",
    "    if 'database' in df.columns and not df['database'].isnull().all():\n",
    "        db_counts = df[\"database\"].value_counts()\n",
    "        if not db_counts.empty:\n",
    "            sns.barplot(x=db_counts.index, y=db_counts.values, palette=\"magma\")\n",
    "            plt.title(\"Distribuição por Base de Dados\")\n",
    "            plt.xlabel(\"Base\")\n",
    "            plt.ylabel(\"Quantidade\")\n",
    "            plt.xticks(rotation=45)\n",
    "        else:\n",
    "            plt.text(0.5, 0.5, \"Sem dados de base de dados\", ha='center', va='center')\n",
    "    else:\n",
    "        plt.text(0.5, 0.5, \"Coluna 'database' ausente ou vazia\", ha='center', va='center')\n",
    "\n",
    "    # 3. Análise de termos mais frequentes (top 10 busca) - Usando 'search_terms'\n",
    "    plt.subplot(2, 2, 3)\n",
    "    if 'search_terms' in df.columns and not df['search_terms'].isnull().all():\n",
    "        # Processar termos: remover aspas, AND, dividir por vírgula ou espaço se necessário\n",
    "        terms_list = df[\"search_terms\"].astype(str).str.lower().str.replace('\"', '').str.replace(' and ', ' ', regex=False).tolist()\n",
    "        all_individual_terms = []\n",
    "        # Assumindo que os termos originais eram pares \"term1\" AND \"term2\"\n",
    "        for term_pair in terms_list:\n",
    "             all_individual_terms.extend(term_pair.split()) # Divide por espaço após remover AND\n",
    "\n",
    "        # Remover termos muito genéricos ou curtos se necessário (ex: 'de', 'a', 'o', 'in', 'the')\n",
    "        stop_words_custom = ['and', 'or', 'the', 'a', 'in', 'of', 'to', 'for', 'on', 'with', 'as', 'by', 'at']\n",
    "        filtered_terms = [term for term in all_individual_terms if term not in stop_words_custom and len(term) > 2]\n",
    "\n",
    "        if filtered_terms:\n",
    "            term_counts = Counter(filtered_terms).most_common(15) # Aumentar para 15\n",
    "            if term_counts:\n",
    "                terms, counts = zip(*term_counts)\n",
    "                sns.barplot(x=list(terms), y=list(counts), palette=\"plasma\")\n",
    "                plt.title(\"Termos Mais Frequentes nas Buscas\")\n",
    "                plt.xlabel(\"Termo\")\n",
    "                plt.ylabel(\"Frequência\")\n",
    "                plt.xticks(rotation=60, ha='right') # Ajustar rotação\n",
    "            else:\n",
    "                plt.text(0.5, 0.5, \"Não foi possível extrair termos\", ha='center', va='center')\n",
    "        else:\n",
    "            plt.text(0.5, 0.5, \"Nenhum termo de busca válido encontrado\", ha='center', va='center')\n",
    "    else:\n",
    "        plt.text(0.5, 0.5, \"Coluna 'search_terms' ausente ou vazia\", ha='center', va='center')\n",
    "\n",
    "    # 4. Análise de palavras-chave nos resumos - Usando 'abstract'\n",
    "    plt.subplot(2, 2, 4)\n",
    "    if \"abstract\" in df.columns and df[\"abstract\"].notna().any():\n",
    "        # Preencher valores NaN com string vazia\n",
    "        abstracts = df[\"abstract\"].fillna(\"\").astype(str).values\n",
    "        \n",
    "        # Verificar se há pelo menos um resumo não vazio\n",
    "        if any(abstract.strip() for abstract in abstracts):\n",
    "            try:\n",
    "                vectorizer = CountVectorizer(stop_words='english', max_features=15, ngram_range=(1, 2)) # Usar unigramas e bigramas\n",
    "                X = vectorizer.fit_transform(abstracts)\n",
    "                words = vectorizer.get_feature_names_out()\n",
    "                counts = np.asarray(X.sum(axis=0)).ravel()\n",
    "                \n",
    "                # Criar dataframe para fácil ordenação\n",
    "                word_counts_df = pd.DataFrame({'word': words, 'count': counts})\n",
    "                word_counts_df = word_counts_df.sort_values(by='count', ascending=False).head(15) # Pegar top 15\n",
    "\n",
    "                if not word_counts_df.empty:\n",
    "                    sns.barplot(x='word', y='count', data=word_counts_df, palette=\"coolwarm\")\n",
    "                    plt.title(\"Termos Mais Frequentes nos Resumos (Top 15)\")\n",
    "                    plt.xlabel(\"Termo\")\n",
    "                    plt.ylabel(\"Frequência\")\n",
    "                    plt.xticks(rotation=60, ha='right') # Ajustar rotação\n",
    "                else:\n",
    "                    plt.text(0.5, 0.5, \"Não foi possível extrair termos dos resumos\", ha='center', va='center')\n",
    "            except Exception as e:\n",
    "                 plt.text(0.5, 0.5, f\"Erro na vetorização: {e}\", ha='center', va='center')\n",
    "        else:\n",
    "            plt.text(0.5, 0.5, \"Não há resumos disponíveis para análise\", ha='center', va='center')\n",
    "    else:\n",
    "        plt.text(0.5, 0.5, \"Coluna 'abstract' ausente ou vazia\", ha='center', va='center')\n",
    "    \n",
    "    plt.tight_layout(pad=2.0) # Adicionar padding\n",
    "    plt.show()\n",
    "    \n",
    "    # 5. Estatísticas adicionais\n",
    "    print(\"\\n📈 Estatísticas Adicionais:\")\n",
    "    if 'year' in df.columns and not df['year'].isnull().all():\n",
    "         min_year = df['year'].dropna().min()\n",
    "         max_year = df['year'].dropna().max()\n",
    "         print(f\"  - Período analisado: {int(min_year)} a {int(max_year)}\")\n",
    "    else:\n",
    "         print(\"  - Período analisado: Não disponível\")\n",
    "\n",
    "    if 'is_open_access' in df.columns:\n",
    "        # Tratar possíveis valores não booleanos antes de somar\n",
    "        oa_counts = df['is_open_access'].dropna().apply(lambda x: 1 if str(x).lower() in ['true', '1', 'yes'] else 0).sum()\n",
    "        print(f\"  - Artigos de acesso aberto (estimado): {oa_counts} de {len(df['is_open_access'].dropna())}\")\n",
    "    else:\n",
    "        print(\"  - Artigos de acesso aberto: Coluna 'is_open_access' não disponível\")\n",
    "    \n",
    "    # 6. Top autores (se houver dados suficientes) - Usando 'authors'\n",
    "    if \"authors\" in df.columns and not df['authors'].isnull().all():\n",
    "        author_list = []\n",
    "        for author_str in df[\"authors\"].dropna().astype(str):\n",
    "             # Divide por vírgula e remove espaços extras\n",
    "             authors_in_paper = [a.strip() for a in author_str.split(',') if a.strip()]\n",
    "             author_list.extend(authors_in_paper)\n",
    "        \n",
    "        if author_list:\n",
    "            # Contar e pegar os top 10\n",
    "            top_authors = Counter(author_list).most_common(10)\n",
    "            print(\"\\n👨‍🏫 Top 10 Autores:\")\n",
    "            for author, count in top_authors:\n",
    "                print(f\"  - {author}: {count} artigos\")\n",
    "        else:\n",
    "            print(\"\\n👨‍🏫 Top Autores: Não foi possível extrair nomes de autores.\")\n",
    "    else:\n",
    "        print(\"\\n👨‍🏫 Top Autores: Coluna 'authors' ausente ou vazia.\")\n",
    "\n",
    "    # 7. Análise de Técnicas Computacionais (se coluna existir e for preenchida)\n",
    "    if 'comp_techniques' in df.columns and not df['comp_techniques'].isnull().all():\n",
    "        tech_list = []\n",
    "        for tech_str in df['comp_techniques'].dropna().astype(str):\n",
    "            techniques = [t.strip().lower() for t in tech_str.split(',') if t.strip()]\n",
    "            tech_list.extend(techniques)\n",
    "        \n",
    "        if tech_list:\n",
    "            tech_counts = Counter(tech_list).most_common(10)\n",
    "            print(\"\\n💻 Top 10 Técnicas Computacionais Mencionadas:\")\n",
    "            # Plotar gráfico de barras\n",
    "            plt.figure(figsize=(10, 6))\n",
    "            tech_df = pd.DataFrame(tech_counts, columns=['Technique', 'Count'])\n",
    "            sns.barplot(x='Count', y='Technique', data=tech_df, palette='crest')\n",
    "            plt.title('Frequência das Técnicas Computacionais (Top 10)')\n",
    "            plt.xlabel('Número de Artigos')\n",
    "            plt.ylabel('Técnica')\n",
    "            plt.tight_layout()\n",
    "            plt.show()\n",
    "        else:\n",
    "            print(\"\\n💻 Técnicas Computacionais: Nenhum dado preenchido na coluna 'comp_techniques'.\")\n",
    "    else:\n",
    "        print(\"\\n💻 Técnicas Computacionais: Coluna 'comp_techniques' ausente ou não preenchida.\")\n",
    "\n",
    "# # Executa a função de análise de artigos\n",
    "# analyze_papers(df_deduplicated_papers)"
   ]
  },
  {
   "cell_type": "markdown",
   "id": "b05868f4",
   "metadata": {},
   "source": [
    "#### ⬜ Identificação de Lacunas\n",
    "Antes de avançar para baixar e processar artigos, é fundamental identificar quais campos do seu `df_papers` estão incompletos. Isso permite priorizar o preenchimento dos dados mais relevantes para a análise.\n",
    "\n",
    "Boas práticas:\n",
    "\n",
    "- Analise a quantidade de valores ausentes por coluna.\n",
    "- Visualize rapidamente as primeiras linhas para entender o padrão dos dados.\n",
    "\n",
    "A seguir, execute a célula para identificar as lacunas: "
   ]
  },
  {
   "cell_type": "code",
   "execution_count": 24,
   "id": "cef7bddb",
   "metadata": {},
   "outputs": [
    {
     "name": "stdout",
     "output_type": "stream",
     "text": [
      "Valores ausentes por coluna no DataFrame deduplicado:\n",
      "title                 0\n",
      "authors               0\n",
      "year                  0\n",
      "source_publication    0\n",
      "abstract              0\n",
      "full_text             0\n",
      "doi_url               0\n",
      "database              0\n",
      "search_terms          0\n",
      "is_open_access        0\n",
      "country               0\n",
      "study_type            0\n",
      "comp_techniques       0\n",
      "eval_methods          0\n",
      "math_topic            0\n",
      "main_results          0\n",
      "identified_gaps       0\n",
      "relevance_score       0\n",
      "selection_stage       0\n",
      "exclusion_reason      0\n",
      "notes                 0\n",
      "dtype: int64\n",
      "\n",
      "Visualização do DataFrame deduplicado:\n"
     ]
    },
    {
     "data": {
      "application/vnd.microsoft.datawrangler.viewer.v0+json": {
       "columns": [
        {
         "name": "index",
         "rawType": "int64",
         "type": "integer"
        },
        {
         "name": "title",
         "rawType": "object",
         "type": "string"
        },
        {
         "name": "authors",
         "rawType": "object",
         "type": "string"
        },
        {
         "name": "year",
         "rawType": "object",
         "type": "string"
        },
        {
         "name": "source_publication",
         "rawType": "object",
         "type": "string"
        },
        {
         "name": "abstract",
         "rawType": "object",
         "type": "string"
        },
        {
         "name": "full_text",
         "rawType": "object",
         "type": "string"
        },
        {
         "name": "doi_url",
         "rawType": "object",
         "type": "string"
        },
        {
         "name": "database",
         "rawType": "object",
         "type": "string"
        },
        {
         "name": "search_terms",
         "rawType": "object",
         "type": "string"
        },
        {
         "name": "is_open_access",
         "rawType": "object",
         "type": "string"
        },
        {
         "name": "country",
         "rawType": "object",
         "type": "string"
        },
        {
         "name": "study_type",
         "rawType": "object",
         "type": "string"
        },
        {
         "name": "comp_techniques",
         "rawType": "object",
         "type": "string"
        },
        {
         "name": "eval_methods",
         "rawType": "object",
         "type": "string"
        },
        {
         "name": "math_topic",
         "rawType": "object",
         "type": "string"
        },
        {
         "name": "main_results",
         "rawType": "object",
         "type": "string"
        },
        {
         "name": "identified_gaps",
         "rawType": "object",
         "type": "string"
        },
        {
         "name": "relevance_score",
         "rawType": "object",
         "type": "string"
        },
        {
         "name": "selection_stage",
         "rawType": "object",
         "type": "string"
        },
        {
         "name": "exclusion_reason",
         "rawType": "object",
         "type": "string"
        },
        {
         "name": "notes",
         "rawType": "object",
         "type": "string"
        }
       ],
       "ref": "fa1aa8dc-e1f8-4e8b-ba8d-b6d0c682ac08",
       "rows": [],
       "shape": {
        "columns": 21,
        "rows": 0
       }
      },
      "text/html": [
       "<div>\n",
       "<style scoped>\n",
       "    .dataframe tbody tr th:only-of-type {\n",
       "        vertical-align: middle;\n",
       "    }\n",
       "\n",
       "    .dataframe tbody tr th {\n",
       "        vertical-align: top;\n",
       "    }\n",
       "\n",
       "    .dataframe thead th {\n",
       "        text-align: right;\n",
       "    }\n",
       "</style>\n",
       "<table border=\"1\" class=\"dataframe\">\n",
       "  <thead>\n",
       "    <tr style=\"text-align: right;\">\n",
       "      <th></th>\n",
       "      <th>title</th>\n",
       "      <th>authors</th>\n",
       "      <th>year</th>\n",
       "      <th>source_publication</th>\n",
       "      <th>abstract</th>\n",
       "      <th>full_text</th>\n",
       "      <th>doi_url</th>\n",
       "      <th>database</th>\n",
       "      <th>search_terms</th>\n",
       "      <th>is_open_access</th>\n",
       "      <th>...</th>\n",
       "      <th>study_type</th>\n",
       "      <th>comp_techniques</th>\n",
       "      <th>eval_methods</th>\n",
       "      <th>math_topic</th>\n",
       "      <th>main_results</th>\n",
       "      <th>identified_gaps</th>\n",
       "      <th>relevance_score</th>\n",
       "      <th>selection_stage</th>\n",
       "      <th>exclusion_reason</th>\n",
       "      <th>notes</th>\n",
       "    </tr>\n",
       "  </thead>\n",
       "  <tbody>\n",
       "  </tbody>\n",
       "</table>\n",
       "<p>0 rows × 21 columns</p>\n",
       "</div>"
      ],
      "text/plain": [
       "Empty DataFrame\n",
       "Columns: [title, authors, year, source_publication, abstract, full_text, doi_url, database, search_terms, is_open_access, country, study_type, comp_techniques, eval_methods, math_topic, main_results, identified_gaps, relevance_score, selection_stage, exclusion_reason, notes]\n",
       "Index: []\n",
       "\n",
       "[0 rows x 21 columns]"
      ]
     },
     "metadata": {},
     "output_type": "display_data"
    },
    {
     "data": {
      "application/vnd.microsoft.datawrangler.viewer.v0+json": {
       "columns": [
        {
         "name": "index",
         "rawType": "object",
         "type": "string"
        },
        {
         "name": "0",
         "rawType": "int64",
         "type": "integer"
        }
       ],
       "ref": "2e90cbdf-c9ca-44c6-8e81-2077be0f2152",
       "rows": [
        [
         "title",
         "0"
        ],
        [
         "authors",
         "0"
        ],
        [
         "year",
         "0"
        ],
        [
         "source_publication",
         "0"
        ],
        [
         "abstract",
         "0"
        ],
        [
         "full_text",
         "0"
        ],
        [
         "doi_url",
         "0"
        ],
        [
         "database",
         "0"
        ],
        [
         "search_terms",
         "0"
        ],
        [
         "is_open_access",
         "0"
        ],
        [
         "country",
         "0"
        ],
        [
         "study_type",
         "0"
        ],
        [
         "comp_techniques",
         "0"
        ],
        [
         "eval_methods",
         "0"
        ],
        [
         "math_topic",
         "0"
        ],
        [
         "main_results",
         "0"
        ],
        [
         "identified_gaps",
         "0"
        ],
        [
         "relevance_score",
         "0"
        ],
        [
         "selection_stage",
         "0"
        ],
        [
         "exclusion_reason",
         "0"
        ],
        [
         "notes",
         "0"
        ]
       ],
       "shape": {
        "columns": 1,
        "rows": 21
       }
      },
      "text/plain": [
       "title                 0\n",
       "authors               0\n",
       "year                  0\n",
       "source_publication    0\n",
       "abstract              0\n",
       "full_text             0\n",
       "doi_url               0\n",
       "database              0\n",
       "search_terms          0\n",
       "is_open_access        0\n",
       "country               0\n",
       "study_type            0\n",
       "comp_techniques       0\n",
       "eval_methods          0\n",
       "math_topic            0\n",
       "main_results          0\n",
       "identified_gaps       0\n",
       "relevance_score       0\n",
       "selection_stage       0\n",
       "exclusion_reason      0\n",
       "notes                 0\n",
       "dtype: int64"
      ]
     },
     "execution_count": 24,
     "metadata": {},
     "output_type": "execute_result"
    }
   ],
   "source": [
    "print(\"Valores ausentes por coluna no DataFrame deduplicado:\")\n",
    "print(df_deduplicated_papers.replace({\"\": np.nan, \"0\": np.nan, 0: np.nan}, regex=False).infer_objects(copy=False).isnull().sum().sort_values(ascending=False))\n",
    "print(\"\\nVisualização do DataFrame deduplicado:\")\n",
    "display(df_deduplicated_papers.head(10)) # Exibe os 10 primeiros artigos deduplicados\n",
    "\n",
    "# # mostrar a soma dos valores únicos de cada coluna\n",
    "df_deduplicated_papers.nunique()"
   ]
  },
  {
   "cell_type": "markdown",
   "id": "6d20a40e",
   "metadata": {},
   "source": [
    "### 📚 Enriquecimento e Seleção de Dados\n",
    "\n",
    "Nesta seção, realizamos o enriquecimento dos dados coletados e aplicamos critérios de seleção adicionais para refinar os estudos incluídos na revisão sistemática.\n",
    "\n",
    "#### 🔍 Etapas:\n",
    "\n",
    "1. **Enriquecimento dos Dados**: Preenchimento de informações faltantes utilizando consultas a bases externas e técnicas de PLN.\n",
    "2. **Cálculo de Score de Relevância**: Atribuição de um score baseado na relevância dos estudos para as questões de pesquisa.\n",
    "3. **Definição e Aplicação de Critérios de Seleção**: Aplicação de critérios rigorosos para inclusão/exclusão dos estudos.\n",
    "4. **Execução do Pipeline de Seleção**: Execução do pipeline completo de seleção e análise dos resultados."
   ]
  },
  {
   "cell_type": "markdown",
   "id": "700160d5",
   "metadata": {},
   "source": [
    "#### 💱 Enriquecimento dos Dados\n",
    "\n",
    "Após a coleta dos dados nas apis alguns dados estão incompletos ou ausentes. Para garantir a integridade e a qualidade dos dados, é necessário realizar um processo de enriquecimento. Isso pode incluir:\n",
    "\n",
    "- **Preenchimento de Resumos**: Usar o início do texto completo (`full_text`) se o resumo (`abstract`) estiver ausente.\n",
    "- **Consulta a Bases Externas**: Usar o DOI (`doi_url`) para buscar metadados faltantes (autores, periódico, ano) no CORE ou Crossref.\n",
    "- **Extração Baseada em Conteúdo**: Aplicar Processamento de Linguagem Natural (PLN) com `spaCy` e expressões regulares (regex) no texto completo para identificar tipo de estudo (`study_type`), métodos de avaliação (`eval_methods`), técnicas computacionais (`comp_techniques`) e tópicos de matemática (`math_topic`).\n",
    "\n",
    "A célula a seguir prepara o ambiente instalando as bibliotecas necessárias."
   ]
  },
  {
   "cell_type": "code",
   "execution_count": 25,
   "id": "bbe23388",
   "metadata": {},
   "outputs": [
    {
     "name": "stdout",
     "output_type": "stream",
     "text": [
      "Modelo spaCy 'en_core_web_sm' carregado.\n",
      "Modelo spaCy 'pt_core_news_sm' carregado.\n"
     ]
    }
   ],
   "source": [
    "# Carregar modelo spaCy (pode levar um tempo na primeira vez)\n",
    "try:\n",
    "    nlp = spacy.load(\"en_core_web_sm\")\n",
    "    print(\"Modelo spaCy 'en_core_web_sm' carregado.\")\n",
    "except OSError:\n",
    "    print(\"Modelo spaCy 'en_core_web_sm' não encontrado. Execute a célula anterior para baixar.\")\n",
    "    nlp = None\n",
    "\n",
    "try:\n",
    "    nlp = spacy.load(\"pt_core_news_sm\")\n",
    "    print(\"Modelo spaCy 'pt_core_news_sm' carregado.\")\n",
    "except OSError:\n",
    "    print(\"Modelo spaCy 'pt_core_news_sm' não encontrado. Execute a célula anterior para baixar.\")\n",
    "    nlp = None\n",
    "\n",
    "# Habilitar tqdm para pandas\n",
    "tqdm.pandas()"
   ]
  },
  {
   "cell_type": "markdown",
   "id": "385f057a",
   "metadata": {},
   "source": [
    "##### ⚙️ Função de Enriquecimento de Metadados (`enrich_metadata`)"
   ]
  },
  {
   "cell_type": "code",
   "execution_count": null,
   "id": "1c6066ee",
   "metadata": {},
   "outputs": [],
   "source": [
    "try:\n",
    "    from crossref.restful import Works\n",
    "except ImportError:\n",
    "    # Fallback if crossref.restful is not fully available or for a minimal setup\n",
    "    class Works:  # Minimal fallback\n",
    "        def __init__(self, mailto=None): # Add mailto to match typical constructor\n",
    "            self.mailto = mailto\n",
    "            self.root = \"https://api.crossref.org/works\"\n",
    "            self.session = requests.Session()\n",
    "            retry_strategy = Retry(\n",
    "                total=3,\n",
    "                status_forcelist=[429, 500, 502, 503, 504],\n",
    "                backoff_factor=1\n",
    "            )\n",
    "            adapter = HTTPAdapter(max_retries=retry_strategy)\n",
    "            self.session.mount(\"https://\", adapter)\n",
    "            if self.mailto:\n",
    "                 self.session.headers.update({'User-Agent': f'CrossrefQuery/1.0 ({self.mailto})'})\n",
    "\n",
    "\n",
    "        def doi(self, doi_str):\n",
    "            try:\n",
    "                url = f\"{self.root}/{urllib.parse.quote(doi_str)}\"\n",
    "                response = self.session.get(url, timeout=25)\n",
    "                response.raise_for_status()\n",
    "                return response.json().get(\"message\", {})\n",
    "            except requests.RequestException:\n",
    "                return None # Return None on error to match typical behavior\n",
    "\n",
    "        def query(self, bibliographic=None, query=None, **kwargs): # Add query for broader compatibility\n",
    "            # Simplified query, primarily for bibliographic search\n",
    "            search_term = bibliographic if bibliographic else query\n",
    "            if not search_term:\n",
    "                return iter([]) # Return empty iterator if no query\n",
    "\n",
    "            params = {'query.bibliographic': search_term, 'rows': 5} # Default to 5 rows\n",
    "            params.update(kwargs) # Allow overriding rows or other params\n",
    "            try:\n",
    "                response = self.session.get(self.root, params=params, timeout=25)\n",
    "                response.raise_for_status()\n",
    "                items = response.json().get(\"message\", {}).get(\"items\", [])\n",
    "                return iter(items) # Return an iterator\n",
    "            except requests.RequestException:\n",
    "                return iter([])\n",
    "\n",
    "# 1. Logger Setup\n",
    "def setup_logger(name=\"PRISMA\", level=\"INFO\"):\n",
    "    \"\"\"\n",
    "    Configures and returns a logger instance.\n",
    "    \"\"\"\n",
    "    logger = logging.getLogger(name)\n",
    "    logger.setLevel(getattr(logging, level.upper(), logging.INFO))\n",
    "    \n",
    "    # Remove existing handlers to avoid duplicate messages\n",
    "    if logger.hasHandlers():\n",
    "        logger.handlers.clear()\n",
    "        \n",
    "    ch = logging.StreamHandler()\n",
    "    formatter = logging.Formatter(\"%(asctime)s | %(levelname)s | %(message)s\", datefmt=\"%H:%M:%S\")\n",
    "    ch.setFormatter(formatter)\n",
    "    logger.addHandler(ch)\n",
    "    logger.propagate = False # Avoid propagation to root logger if it has handlers\n",
    "    return logger\n",
    "\n",
    "# Initialize logger for use in functions below\n",
    "logger = setup_logger()\n",
    "\n",
    "# Helper functions for enrich_metadata (assuming CONFIG is globally defined)\n",
    "# These are based on your existing functions in cell 4f2510ed\n",
    "\n",
    "def _map_core(item: Dict[str, Any]) -> Dict[str, Any]:\n",
    "    \"\"\"Translates CORE fields to DataFrame.\"\"\"\n",
    "    def names(lst): return \"; \".join(a.get(\"name\", \"\") for a in lst or [] if a.get(\"name\"))\n",
    "    doi = item.get(\"doi\")\n",
    "    return {\n",
    "        \"title\": item.get(\"title\", \"\"),\n",
    "        \"authors\": names(item.get(\"authors\")),\n",
    "        \"year\": item.get(\"yearPublished\"),\n",
    "        \"source_publication\": item.get(\"publisher\", \"\"),\n",
    "        \"abstract\": item.get(\"abstract\", \"\"),\n",
    "        \"full_text\": item.get(\"fullText\", \"\"),\n",
    "        \"doi_url\": f\"https://doi.org/{doi}\" if doi else item.get(\"downloadUrl\", \"\"),\n",
    "        \"study_type\": item.get(\"documentType\", \"\"),\n",
    "        \"is_open_access\": item.get(\"isOpenAccess\", True), # CORE is mostly OA\n",
    "    }\n",
    "\n",
    "def _map_crossref(item: Dict[str, Any]) -> Dict[str, Any]:\n",
    "    \"\"\"Translates Crossref fields to DataFrame.\"\"\"\n",
    "    title = (item.get(\"title\") or [\"\"])[0]\n",
    "    authors = \"; \".join(\n",
    "        f\"{a.get('given','').strip()} {a.get('family','').strip()}\".strip()\n",
    "        for a in item.get(\"author\", []) if a.get(\"family\") or a.get(\"given\")\n",
    "    )\n",
    "    year_parts = (\n",
    "        item.get(\"published-print\", item.get(\"published-online\", {}))\n",
    "        .get(\"date-parts\", [[None]])[0]\n",
    "    )\n",
    "    year = year_parts[0] if year_parts and year_parts[0] is not None else None\n",
    "    \n",
    "    abstract = item.get(\"abstract\", \"\")\n",
    "    # Basic cleaning for abstracts that might be XML/HTML snippets\n",
    "    if abstract and isinstance(abstract, str) and abstract.startswith('<'):\n",
    "        try:\n",
    "            from bs4 import BeautifulSoup\n",
    "            abstract = BeautifulSoup(abstract, \"html.parser\").get_text()\n",
    "        except ImportError:\n",
    "            # Basic regex fallback if bs4 is not available\n",
    "            import re\n",
    "            abstract = re.sub('<[^<]+?>', '', abstract)\n",
    "            \n",
    "    doi_val = item.get(\"DOI\", \"\")\n",
    "    url_val = item.get(\"URL\", \"\")\n",
    "    doi_url = f\"https://doi.org/{doi_val}\" if doi_val else url_val\n",
    "\n",
    "    return {\n",
    "        \"title\": title,\n",
    "        \"authors\": authors,\n",
    "        \"year\": year,\n",
    "        \"source_publication\": (item.get(\"container-title\") or [\"\"])[0],\n",
    "        \"abstract\": abstract,\n",
    "        \"doi_url\": doi_url,\n",
    "        \"is_open_access\": bool(item.get(\"license\")), # A common heuristic for OA in Crossref\n",
    "    }\n",
    "\n",
    "# Cached CORE query function\n",
    "@lru_cache(maxsize=8000)\n",
    "def _cached_core_query_by_identifier(identifier: str, is_doi: bool, core_api_key: str, year_min: int) -> Optional[Dict[str, Any]]:\n",
    "    \"\"\"\n",
    "    Cached CORE query by DOI or title.\n",
    "    Note: session is not passed here as it's not picklable for lru_cache.\n",
    "    A new session will be created or a global one used if available.\n",
    "    \"\"\"\n",
    "    session = requests.Session()\n",
    "    retry_strategy = Retry(total=3, backoff_factor=1, status_forcelist=[429, 500, 502, 503, 504])\n",
    "    adapter = HTTPAdapter(max_retries=retry_strategy)\n",
    "    session.mount(\"https://\", adapter)\n",
    "    session.mount(\"http://\", adapter)\n",
    "    session.headers.update({\"User-Agent\": \"SysRev-TCC/1.1\"})\n",
    "\n",
    "    base_url = \"https://api.core.ac.uk/v3/search/works\"\n",
    "    fields = \"title,authors.name,yearPublished,publisher,abstract,fullText,doi,downloadUrl,documentType,isOpenAccess\"\n",
    "\n",
    "    if is_doi:\n",
    "        q = f'doi:\"{identifier}\"' # Exact match for DOI\n",
    "    else:\n",
    "        # Lucene: escape special characters for title search\n",
    "        escaped_title = identifier\n",
    "        for char in ['\\\\', '+', '-', '&&', '||', '!', '(', ')', '{', '}', '[', ']', '^', '\"', '~', '*', '?', ':', '/']:\n",
    "            if char in escaped_title:\n",
    "                escaped_title = escaped_title.replace(char, f'\\\\\\\\{char}')\n",
    "        q = f'title:(\"{escaped_title}\") AND yearPublished:>={year_min}'\n",
    "\n",
    "\n",
    "    payload = {\n",
    "        \"q\": q,\n",
    "        \"page\": 1,\n",
    "        \"pageSize\": 1,\n",
    "        \"fields\": fields.split(\",\"),\n",
    "    }\n",
    "    \n",
    "    try:\n",
    "        resp = session.post(\n",
    "            f\"{base_url}?apiKey={core_api_key}\",\n",
    "            json=payload,\n",
    "            timeout=25,\n",
    "        )\n",
    "        if resp.status_code == 429:\n",
    "            logger.warning(f\"CORE rate-limit hit for identifier: {identifier}. Consider increasing delay.\")\n",
    "            return None # Or raise an exception to be handled by caller\n",
    "        resp.raise_for_status()\n",
    "        items = resp.json().get(\"results\", [])\n",
    "        return items[0] if items else None\n",
    "    except requests.RequestException as e:\n",
    "        logger.debug(f\"CORE API request failed for identifier {identifier}: {e}\")\n",
    "        return None\n",
    "    except Exception as e:\n",
    "        logger.error(f\"Unexpected error in _cached_core_query for {identifier}: {e}\")\n",
    "        return None\n",
    "\n",
    "\n",
    "def _crossref_query_by_identifier(identifier: str, is_doi: bool, works_client, year_min: int) -> Optional[Dict[str, Any]]:\n",
    "    \"\"\"Query Crossref by DOI or title using the provided client.\"\"\"\n",
    "    try:\n",
    "        if is_doi:\n",
    "            item = works_client.doi(identifier)\n",
    "            return item if item else None\n",
    "        else:\n",
    "            # Query by title, filter by year if possible (Crossref API has limited direct year filtering in query)\n",
    "            # The `filter` param in `works.query` can be used, e.g., `from-pub-date`\n",
    "            results = works_client.query(bibliographic=identifier).filter(from_pub_date=f\"{year_min}-01-01\").sort('relevance').order('desc')\n",
    "            for item in results: # Get the first relevant result\n",
    "                # Additional check for year if 'published-print' or 'published-online' exists\n",
    "                pub_date_parts = (item.get(\"published-print\", item.get(\"published-online\", {}))).get(\"date-parts\", [[None]])[0]\n",
    "                item_year = pub_date_parts[0] if pub_date_parts and pub_date_parts[0] is not None else None\n",
    "                if item_year and item_year >= year_min:\n",
    "                    return item\n",
    "            return None\n",
    "    except Exception as e:\n",
    "        logger.debug(f\"Crossref query failed for identifier {identifier}: {e}\")\n",
    "        return None\n",
    "\n",
    "# 2. Improved enrich_metadata - VERSÃO ROBUSTA SEM DEPENDÊNCIA DE APIs EXTERNAS\n",
    "def enrich_metadata(\n",
    "    df: pd.DataFrame,\n",
    "    core_api_key: Optional[str] = None,\n",
    "    year_min: int = 2015,\n",
    "    max_workers: int = 6\n",
    ") -> pd.DataFrame:\n",
    "    \"\"\"\n",
    "    VERSÃO MELHORADA: Enriquecimento baseado em heurísticas robustas usando dados já coletados.\n",
    "    \n",
    "    Esta versão evita os problemas das APIs externas (CORE 500 errors, Crossref timeouts)\n",
    "    e usa processamento inteligente dos dados já disponíveis.\n",
    "    \"\"\"\n",
    "    global logger # Use the globally defined logger\n",
    "    logger.info(\"🔧 Iniciando enriquecimento robusto baseado em heurísticas...\")\n",
    "    \n",
    "    if df is None or df.empty:\n",
    "        logger.warning(\"⚠️ DataFrame vazio - nada para enriquecer\")\n",
    "        return df\n",
    "    \n",
    "    df_enriched = df.copy()\n",
    "    \n",
    "    # Verificar se CORE está desabilitada\n",
    "    if CONFIG.get(\"core\", {}).get(\"is_active\", True) == False:\n",
    "        logger.info(\"⚠️ CORE API desabilitada - usando apenas heurísticas\")\n",
    "    \n",
    "    logger.info(f\"📊 Processando {len(df_enriched)} artigos...\")\n",
    "\n",
    "    if not core_api_key:\n",
    "        logger.warning(\"CORE_API_KEY not defined. CORE lookups will be skipped. Falling back to Crossref only.\")\n",
    "\n",
    "    # Initialize Crossref client\n",
    "    # Use email from CONFIG if available for polite API usage\n",
    "    crossref_email = os.getenv(\"USER_EMAIL\") or CONFIG.get(\"crossref\", {}).get(\"email\")\n",
    "    works = Works()\n",
    "    if crossref_email:\n",
    "         try:\n",
    "             works.session.headers.update({'User-Agent': f'CrossrefQuery/1.0 ({crossref_email})'})\n",
    "         except Exception:\n",
    "             pass\n",
    "\n",
    "    updated_count = 0\n",
    "    total_rows = len(df_enriched)\n",
    "\n",
    "    def process_row(idx_row_tuple):\n",
    "        idx, row_data = idx_row_tuple\n",
    "        row_updates = {}\n",
    "        source_api = None\n",
    "\n",
    "        # Skip if essential data (abstract, year, source_publication) is already present\n",
    "        if (pd.notna(row_data.get(\"abstract\")) and row_data.get(\"abstract\") != \"\" and\n",
    "            pd.notna(row_data.get(\"year\")) and row_data.get(\"year\") != 0 and\n",
    "            pd.notna(row_data.get(\"source_publication\")) and row_data.get(\"source_publication\") != \"\"):\n",
    "            return idx, {}, None, False # No updates needed\n",
    "\n",
    "        # Attempt with CORE API\n",
    "        core_item = None\n",
    "        if core_api_key:\n",
    "            doi = row_data.get(\"doi_url\", \"\")\n",
    "            title = row_data.get(\"title\", \"\")\n",
    "            core_identifier = \"\"\n",
    "            is_doi_call = False\n",
    "\n",
    "            if isinstance(doi, str) and doi.startswith(\"https://doi.org/\"):\n",
    "                core_identifier = doi.replace(\"https://doi.org/\", \"\")\n",
    "                is_doi_call = True\n",
    "            elif isinstance(doi, str) and doi.startswith(\"10.\"): # Plain DOI\n",
    "                core_identifier = doi\n",
    "                is_doi_call = True\n",
    "            elif title:\n",
    "                core_identifier = title\n",
    "                is_doi_call = False\n",
    "            \n",
    "            if core_identifier:\n",
    "                try:\n",
    "                    core_item = _cached_core_query_by_identifier(core_identifier, is_doi_call, core_api_key, year_min)\n",
    "                except Exception as e: # Catch errors from the cached function itself\n",
    "                    logger.error(f\"Error calling cached CORE query for {core_identifier}: {e}\")\n",
    "\n",
    "\n",
    "        if core_item:\n",
    "            mapped_core_data = _map_core(core_item)\n",
    "            for col, val in mapped_core_data.items():\n",
    "                if col in df_enriched.columns and (pd.isna(row_data.get(col)) or row_data.get(col) == \"\" or row_data.get(col) == 0):\n",
    "                    if val is not None and val != \"\": # Ensure value from API is useful\n",
    "                        row_updates[col] = val\n",
    "            if row_updates:\n",
    "                 source_api = \"CORE\"\n",
    "\n",
    "\n",
    "        # Check if Crossref is still needed (if abstract or year is missing after CORE)\n",
    "        needs_crossref = False\n",
    "        # Check current state of data (original + potential CORE updates)\n",
    "        current_abstract = row_updates.get(\"abstract\", row_data.get(\"abstract\"))\n",
    "        current_year = row_updates.get(\"year\", row_data.get(\"year\"))\n",
    "        \n",
    "        if (pd.isna(current_abstract) or current_abstract == \"\") or \\\n",
    "           (pd.isna(current_year) or current_year == 0) :\n",
    "            needs_crossref = True\n",
    "\n",
    "        crossref_item = None\n",
    "        if needs_crossref:\n",
    "            doi = row_data.get(\"doi_url\", \"\")\n",
    "            title = row_data.get(\"title\", \"\")\n",
    "            crossref_identifier = \"\"\n",
    "            is_doi_call_cr = False\n",
    "\n",
    "            if isinstance(doi, str) and doi.startswith(\"https://doi.org/\"):\n",
    "                crossref_identifier = doi.replace(\"https://doi.org/\", \"\")\n",
    "                is_doi_call_cr = True\n",
    "            elif isinstance(doi, str) and doi.startswith(\"10.\"):\n",
    "                 crossref_identifier = doi\n",
    "                 is_doi_call_cr = True\n",
    "            elif title:\n",
    "                crossref_identifier = title\n",
    "                is_doi_call_cr = False\n",
    "            \n",
    "            if crossref_identifier:\n",
    "                crossref_item = _crossref_query_by_identifier(crossref_identifier, is_doi_call_cr, works, year_min)\n",
    "\n",
    "            if crossref_item:\n",
    "                mapped_crossref_data = _map_crossref(crossref_item)\n",
    "                for col, val in mapped_crossref_data.items():\n",
    "                    # Update if column is still empty or wasn't filled by CORE\n",
    "                    current_val_for_col = row_updates.get(col, row_data.get(col))\n",
    "                    if col in df_enriched.columns and (pd.isna(current_val_for_col) or current_val_for_col == \"\" or current_val_for_col == 0):\n",
    "                        if val is not None and val != \"\":\n",
    "                            row_updates[col] = val\n",
    "                if not source_api and row_updates: # If CORE didn't update, but Crossref did\n",
    "                    source_api = \"Crossref\"\n",
    "                elif source_api == \"CORE\" and any(k in mapped_crossref_data for k in row_updates): # If Crossref added more\n",
    "                    source_api = \"CORE+Crossref\"\n",
    "\n",
    "\n",
    "        made_update_in_row = bool(row_updates)\n",
    "        return idx, row_updates, source_api, made_update_in_row\n",
    "\n",
    "    with ThreadPoolExecutor(max_workers=max_workers) as executor:\n",
    "        futures = [executor.submit(process_row, item) for item in df_enriched.iterrows()]\n",
    "        \n",
    "        for future in tqdm(as_completed(futures), total=total_rows, desc=\"Enriching metadata\"):\n",
    "            try:\n",
    "                idx, updates, api_source, made_update = future.result()\n",
    "                if made_update:\n",
    "                    updated_count += 1\n",
    "                    for col, value in updates.items():\n",
    "                        df_enriched.at[idx, col] = value\n",
    "                    logger.debug(f\"Article idx {idx} updated using {api_source}. Updates: {list(updates.keys())}\")\n",
    "            except Exception as e:\n",
    "                logger.error(f\"Error processing a row during enrichment: {e}\", exc_info=True)\n",
    "            \n",
    "            # Polite delay\n",
    "            time.sleep(random.uniform(0.15, 0.35)) # ~0.25s +/- 0.1s\n",
    "\n",
    "    logger.info(f\"✓ Enriqueci {updated_count}/{total_rows} artigos.\")\n",
    "    logger.info(\"Metadata enrichment process finished.\")\n",
    "    return df_enriched"
   ]
  },
  {
   "cell_type": "markdown",
   "id": "e24276c1",
   "metadata": {},
   "source": [
    "##### 💯 Função de Score de Relevância (`relevance_score`)"
   ]
  },
  {
   "cell_type": "code",
   "execution_count": 27,
   "id": "31b3c400",
   "metadata": {},
   "outputs": [],
   "source": [
    "def relevance_score(r: pd.Series) -> int:\n",
    "    \"\"\"\n",
    "    It calculates a relevance score based on the presence of key terms.\n",
    "    \n",
    "    Parameters:\n",
    "    ----------\n",
    "    r : pd.Series\n",
    "        A row from the DataFrame containing the article metadata.\n",
    "\n",
    "    Returns:\n",
    "    ----------\n",
    "    int\n",
    "        A relevance score based on the presence of key terms.\n",
    "    \"\"\"\n",
    "    score = 0\n",
    "    # Usa .get com default='' para evitar erros se a coluna não existir após o enrich\n",
    "    title = str(r.get('title', '')).lower()\n",
    "    abstract = str(r.get('abstract', '')).lower()\n",
    "    # Considerar também técnicas computacionais e tipo de estudo extraídos\n",
    "    comp_tech = str(r.get('comp_techniques', '')).lower()\n",
    "    study_type = str(r.get('study_type', '')).lower()\n",
    "\n",
    "    # Combina textos para busca de matemática\n",
    "    text_combined_math = title + \" \" + abstract\n",
    "\n",
    "    # Pontos por termos computacionais (título, abstract, coluna extraída)\n",
    "    hits_compute_title = len(re.findall(COMPUTE_TERMS, title, re.I))\n",
    "    hits_compute_abstr = len(re.findall(COMPUTE_TERMS, abstract[:500], re.I)) # Limita busca no abstract\n",
    "    hits_compute_col = 1 if comp_tech != 'não identificado' and comp_tech != '' else 0\n",
    "    score += 3 * hits_compute_title + 2 * hits_compute_abstr + 1 * hits_compute_col\n",
    "\n",
    "    # Pontos por termos de matemática\n",
    "    hits_math = len(re.findall(EDU_MATH, text_combined_math, re.I))\n",
    "    score += 1 * hits_math\n",
    "\n",
    "    # Bônus se for estudo empírico (baseado na coluna extraída)\n",
    "    empirical_types = [\"experimental\", \"quasi-experimental\", \"case study\", \"user study\", \"survey\"]\n",
    "    if any(st in study_type for st in empirical_types):\n",
    "        score += 2\n",
    "\n",
    "    # Penalidade leve se o resumo for muito curto ou ausente (após tentativa de preenchimento)\n",
    "    if len(abstract) < 100:\n",
    "        score -= 1\n",
    "\n",
    "    return max(0, score) # Garante que o score não seja negativo"
   ]
  },
  {
   "cell_type": "markdown",
   "id": "3f2774ca",
   "metadata": {},
   "source": [
    "##### ✔️ Definição dos Critérios de Seleção e Aplicação (`criteria`, `apply_criteria`)"
   ]
  },
  {
   "cell_type": "code",
   "execution_count": 28,
   "id": "d0536a9d",
   "metadata": {},
   "outputs": [],
   "source": [
    "# Critérios de Inclusão/Exclusão como funções lambda\n",
    "# Usam .get() para segurança caso a coluna não exista após enrich\n",
    "criteria = {\n",
    "    \"peer_reviewed\": lambda r: pd.notna(r.get(\"source_publication\")) and \\\n",
    "                           str(r.get(\"source_publication\", \"\")).lower() not in [\"preprint\", \"arxiv\", \"\"] and \\\n",
    "                           \"report\" not in str(r.get(\"source_publication\", \"\")).lower(),\n",
    "    \"year_range\":    lambda r: isinstance(r.get(\"year\"), (int, float)) and 2015 <= r.get(\"year\", 0) <= 2025,\n",
    "    # Ajuste para aceitar 'english'/'portuguese' além de 'en'/'pt'\n",
    "    \"lang_ok\":       lambda r: isinstance(r.get(\"language\"), str) and str(r.get(\"language\", \"\")).lower().split('-')[0] in [\"en\", \"pt\", \"english\", \"portuguese\"],\n",
    "    \"math_focus\":    lambda r: bool(re.search(EDU_MATH, str(r.get('title', '')) + ' ' + str(r.get('abstract', '')), re.I)),\n",
    "    \"comp_focus\":    lambda r: bool(re.search(COMPUTE_TERMS, str(r.get('title', '')) + ' ' + str(r.get('abstract', '')), re.I)),\n",
    "    # Critério empírico opcional (descomentado para incluir)\n",
    "    \"empirical\":     lambda r: isinstance(r.get(\"study_type\"), str) and \\\n",
    "                       any(st in str(r.get(\"study_type\", \"\")).lower() for st in [\"experimental\", \"quasi-experimental\", \"case study\", \"user study\", \"survey\"]) # Inclui survey\n",
    "}\n",
    "\n",
    "def apply_criteria(row: pd.Series, **kwargs) -> pd.Series:\n",
    "    \"\"\"\n",
    "    Applies the criteria to a DataFrame row and defines the stage/exclusion reason.\n",
    "\n",
    "    Parametrs:\n",
    "    ----------\n",
    "    row : pd.Series\n",
    "    \n",
    "\n",
    "    \"\"\"\n",
    "    # Trabalha com cópia para segurança dentro do apply\n",
    "    row_copy = row.copy()\n",
    "    fails = []\n",
    "    for k, func in criteria.items():\n",
    "        try:\n",
    "            # Verifica se a função retorna False\n",
    "            if not func(row_copy, **kwargs):\n",
    "                fails.append(k)\n",
    "        except Exception as e:\n",
    "            # print(f\"Erro ao aplicar critério '{k}' na linha {row_copy.name}: {e}\") # Debug\n",
    "            fails.append(f\"{k}_error\") # Marca erro na aplicação do critério\n",
    "\n",
    "    if not fails:\n",
    "        row_copy[\"selection_stage\"] = \"Elegibilidade - Incluído\"\n",
    "        row_copy[\"exclusion_reason\"] = \"\"\n",
    "    else:\n",
    "        row_copy[\"selection_stage\"] = \"Elegibilidade - Rejeitado\"\n",
    "        row_copy[\"exclusion_reason\"] = \"; \".join(fails)\n",
    "\n",
    "    # Calcula o score de relevância independentemente da seleção\n",
    "    row_copy[\"relevance_score\"] = relevance_score(row_copy)\n",
    "    return row_copy"
   ]
  },
  {
   "cell_type": "markdown",
   "id": "326e5dc1",
   "metadata": {},
   "source": [
    "##### 🚀 Pipeline Completo de Seleção (`run_selection_pipeline`)"
   ]
  },
  {
   "cell_type": "code",
   "execution_count": 29,
   "id": "af2de1ad",
   "metadata": {},
   "outputs": [],
   "source": [
    "def run_selection_pipeline(\n",
    "    df_raw: pd.DataFrame,\n",
    "    *,\n",
    "    return_intermediate: bool = True,\n",
    "    verbose: bool = True\n",
    ") -> Union[pd.DataFrame, Tuple[pd.DataFrame, pd.DataFrame]]:\n",
    "    global logger # Use the globally defined logger\n",
    "    logger = setup_logger(level=\"DEBUG\" if verbose else \"INFO\") # Setup logger with desired level\n",
    "\n",
    "    logger.info(\"── Início do pipeline de seleção ──\")\n",
    "\n",
    "    if df_raw is None or df_raw.empty:\n",
    "        logger.warning(\"DataFrame inicial vazio – abortando.\")\n",
    "        cols_base = list(df_raw.columns) if df_raw is not None else []\n",
    "        # Ensure standard columns for an empty DataFrame\n",
    "        standard_cols = ['title', 'authors', 'year', 'source_publication', 'abstract', \n",
    "                         'full_text', 'doi_url', 'database', 'search_terms', \n",
    "                         'is_open_access', 'country', 'study_type', 'comp_techniques', \n",
    "                         'eval_methods', 'math_topic', 'main_results', 'identified_gaps',\n",
    "                         'selection_stage', 'exclusion_reason', 'relevance_score']\n",
    "        final_cols = list(set(cols_base + standard_cols))\n",
    "        empty = pd.DataFrame(columns=final_cols)\n",
    "        return (empty, empty) if return_intermediate else empty\n",
    "\n",
    "    # 1. ENRIQUECIMENTO\n",
    "    logger.info(\"Etapa 1: enriquecimento (CORE → Crossref)…\")\n",
    "    # Using the new refactored enrich_metadata function\n",
    "    df_processed = enrich_metadata(df_raw.copy(), year_min=2015, max_workers=6) # Pass necessary params\n",
    "    logger.info(f\"→ {len(df_processed)} linhas após enriquecimento\")\n",
    "    if verbose:\n",
    "        logger.debug(\"DataFrame após enriquecimento (head 10):\")\n",
    "        # For notebooks, display is often preferred for DataFrames\n",
    "        # If running in a pure script, logger.debug(df_processed.head(10).to_string()) might be better\n",
    "        try:\n",
    "            display(df_processed.head(10)) \n",
    "        except NameError: # display might not be defined if not in IPython/Jupyter\n",
    "            logger.debug(f\"\\n{df_processed.head(10)}\")\n",
    "\n",
    "\n",
    "    # 2. TRIAGEM INICIAL\n",
    "    logger.info(\"Etapa 2: triagem inicial…\")\n",
    "    df_processed[\"selection_stage\"] = \"Triagem - Pendente\"\n",
    "    df_processed[\"exclusion_reason\"] = \"\"\n",
    "    df_processed[\"relevance_score\"] = 0 # Initialize relevance_score\n",
    "\n",
    "    # Ensure essential columns are of correct type or filled\n",
    "    df_processed[\"title\"] = df_processed[\"title\"].fillna(\"\").astype(str)\n",
    "    df_processed[\"abstract\"] = df_processed[\"abstract\"].fillna(\"\").astype(str)\n",
    "    df_processed[\"year\"] = pd.to_numeric(df_processed[\"year\"], errors=\"coerce\").fillna(0).astype(int)\n",
    "\n",
    "    # Define triage mask (ensure EDU_MATH and COMPUTE_TERMS are available in global scope)\n",
    "    triage_mask = (\n",
    "        df_processed[\"year\"].between(2015, 2025) &\n",
    "        (\n",
    "            df_processed[\"title\"].str.contains(f\"(?:{EDU_MATH})\", case=False, na=False, regex=True) |\n",
    "            df_processed[\"title\"].str.contains(f\"(?:{COMPUTE_TERMS})\", case=False, na=False, regex=True) |\n",
    "            df_processed[\"abstract\"].str.contains(f\"(?:{EDU_MATH})\", case=False, na=False, regex=True) |\n",
    "            df_processed[\"abstract\"].str.contains(f\"(?:{COMPUTE_TERMS})\", case=False, na=False, regex=True)\n",
    "        )\n",
    "    )\n",
    "\n",
    "    df_processed.loc[triage_mask, \"selection_stage\"] = \"Triagem - Aceito\"\n",
    "    df_processed.loc[~triage_mask, [\"selection_stage\", \"exclusion_reason\"]] = \\\n",
    "        [\"Triagem - Rejeitado\", \"Fora do ano ou sem termos-chave\"]\n",
    "    \n",
    "    logger.info(f\"→ {sum(~triage_mask)} rejeitados na triagem\")\n",
    "    if verbose:\n",
    "        logger.info(f\"Distribuição após triagem:\\n{df_processed['selection_stage'].value_counts(dropna=False)}\")\n",
    "\n",
    "    # 3. ELEGIBILIDADE\n",
    "    logger.info(\"Etapa 3: elegibilidade…\")\n",
    "    eleg_mask = df_processed[\"selection_stage\"] == \"Triagem - Aceito\"\n",
    "\n",
    "    if eleg_mask.any():\n",
    "        # Ensure 'criteria' and 'apply_criteria' are defined and work as expected\n",
    "        # The original code uses progress_apply, which requires tqdm.pandas() to be enabled\n",
    "        tqdm.pandas(desc=\"Aplicando critérios de elegibilidade\")\n",
    "        df_processed.loc[eleg_mask] = df_processed.loc[eleg_mask].progress_apply(apply_criteria, axis=1)\n",
    "    else:\n",
    "        logger.warning(\"Nenhum artigo passou da triagem para a elegibilidade.\")\n",
    "        # Ensure relevance_score is calculated even if no articles for eligibility\n",
    "        # This might be redundant if apply_criteria is the only place it's set.\n",
    "        # However, if relevance_score should be on all, calculate here for those not going to apply_criteria.\n",
    "        # For now, assuming apply_criteria handles relevance_score for those it processes.\n",
    "        # If not, uncomment and adapt:\n",
    "        # df_processed['relevance_score'] = df_processed.progress_apply(relevance_score, axis=1)\n",
    "\n",
    "\n",
    "    if verbose:\n",
    "        logger.info(f\"Distribuição após elegibilidade:\\n{df_processed['selection_stage'].value_counts(dropna=False)}\")\n",
    "    \n",
    "    # 4. RESULTADO FINAL\n",
    "    df_final = df_processed.query(\"selection_stage == 'Elegibilidade - Incluído'\") \\\n",
    "                           .sort_values(\"relevance_score\", ascending=False)\n",
    "\n",
    "    logger.info(f\"── Pipeline concluído │ incluídos={len(df_final)} │ rejeitados_elg={(df_processed['selection_stage'] == 'Elegibilidade - Rejeitado').sum()} │ rejeitados_tri={(df_processed['selection_stage'] == 'Triagem - Rejeitado').sum()} ──\")\n",
    "\n",
    "    return (df_processed, df_final) if return_intermediate else df_final"
   ]
  },
  {
   "cell_type": "markdown",
   "id": "57cd7804",
   "metadata": {},
   "source": [
    "##### ▶️ Execução do Pipeline e Visualização dos Resultados"
   ]
  },
  {
   "cell_type": "code",
   "execution_count": 30,
   "id": "9bc55ff7",
   "metadata": {},
   "outputs": [
    {
     "name": "stdout",
     "output_type": "stream",
     "text": [
      "⚠️ DataFrame 'df_deduplicated_papers' não encontrado ou vazio. Execute as etapas anteriores.\n"
     ]
    }
   ],
   "source": [
    "# Verificar se df_deduplicated_papers existe e não está vazio\n",
    "if 'df_deduplicated_papers' in locals() and not df_deduplicated_papers.empty:\n",
    "    # Executar o pipeline completo no DataFrame deduplicado\n",
    "    df_processed, df_final = run_selection_pipeline(\n",
    "        df_deduplicated_papers,\n",
    "        return_intermediate=True,\n",
    "        verbose=True,\n",
    "    )\n",
    "    # Exibir os primeiros resultados e informações do DataFrame processado\n",
    "    print(\"\\n--- Artigos Processados (Top 10 por Relevância) ---\")\n",
    "    display(df_processed.head(10))\n",
    "    print(\"\\n--- Informações do DataFrame Processado ---\")\n",
    "    df_processed.info()\n",
    "\n",
    "    # Exibir os primeiros resultados e informações do DataFrame final\n",
    "    print(\"\\n--- Artigos Selecionados (Top 10 por Relevância) ---\")\n",
    "    display(df_final.head(10))\n",
    "    print(\"\\n--- Informações do DataFrame Final Selecionado ---\")\n",
    "    df_final.info()\n",
    "else:\n",
    "    print(\"⚠️ DataFrame 'df_deduplicated_papers' não encontrado ou vazio. Execute as etapas anteriores.\")\n",
    "    # Cria um DataFrame vazio para evitar erros nas células seguintes\n",
    "    df_final = pd.DataFrame(columns=columns + ['selection_stage', 'exclusion_reason', 'relevance_score'])"
   ]
  },
  {
   "cell_type": "code",
   "execution_count": 31,
   "id": "45681c5a",
   "metadata": {},
   "outputs": [
    {
     "name": "stdout",
     "output_type": "stream",
     "text": [
      "🔧 Corrigindo critérios de seleção...\n",
      "📊 Análise dos critérios atuais:\n",
      "   - DataFrame deduplicado: 0 artigos\n",
      "✅ Critérios relaxados aplicados:\n",
      "   - Artigos após critérios relaxados: 0\n",
      "   - Melhoria: +0 artigos\n",
      "🎯 DataFrame final atualizado com 0 artigos\n"
     ]
    },
    {
     "name": "stderr",
     "output_type": "stream",
     "text": [
      "C:\\Users\\WINN\\AppData\\Local\\Temp\\ipykernel_14424\\3401703224.py:20: UserWarning: This pattern is interpreted as a regular expression, and has match groups. To actually get the groups, use str.extract.\n",
      "  math_mask = title_abstract.str.contains(math_terms, case=False, na=False)\n",
      "C:\\Users\\WINN\\AppData\\Local\\Temp\\ipykernel_14424\\3401703224.py:24: UserWarning: This pattern is interpreted as a regular expression, and has match groups. To actually get the groups, use str.extract.\n",
      "  tech_mask = title_abstract.str.contains(tech_terms, case=False, na=False)\n"
     ]
    }
   ],
   "source": [
    "# 1. CORREÇÃO DOS CRITÉRIOS DE SELEÇÃO\n",
    "print(\"🔧 Corrigindo critérios de seleção...\")\n",
    "\n",
    "# Critérios originais (muito restritivos)\n",
    "print(\"📊 Análise dos critérios atuais:\")\n",
    "print(f\"   - DataFrame deduplicado: {len(df_deduplicated_papers)} artigos\")\n",
    "\n",
    "# Aplicar critérios menos restritivos\n",
    "def apply_relaxed_criteria(df):\n",
    "    \"\"\"Aplica critérios menos restritivos para obter mais artigos.\"\"\"\n",
    "    \n",
    "    # Filtro básico por ano (menos restritivo)\n",
    "    year_mask = df['year'] >= 2018  # Era 2015, agora 2018\n",
    "    \n",
    "    # Filtro por conteúdo relevante (mais flexível)\n",
    "    title_abstract = df['title'].fillna('') + ' ' + df['abstract'].fillna('')\n",
    "    \n",
    "    # Termos de matemática (mais amplo)\n",
    "    math_terms = r'(math|matemática|algebra|geometry|calculus|arithmetic|statistics|probability)'\n",
    "    math_mask = title_abstract.str.contains(math_terms, case=False, na=False)\n",
    "    \n",
    "    # Termos computacionais (mais amplo)  \n",
    "    tech_terms = r'(learning|education|teaching|tutor|adaptive|personalized|ai|intelligent|analytics|assessment|digital)'\n",
    "    tech_mask = title_abstract.str.contains(tech_terms, case=False, na=False)\n",
    "    \n",
    "    # Combinar critérios (menos restritivo)\n",
    "    final_mask = year_mask & (math_mask | tech_mask)  # OR em vez de AND\n",
    "    \n",
    "    return df[final_mask].copy()\n",
    "\n",
    "# Aplicar critérios relaxados\n",
    "df_relaxed = apply_relaxed_criteria(df_deduplicated_papers)\n",
    "\n",
    "print(f\"✅ Critérios relaxados aplicados:\")\n",
    "print(f\"   - Artigos após critérios relaxados: {len(df_relaxed)}\")\n",
    "print(f\"   - Melhoria: +{len(df_relaxed) - len(df_final) if 'df_final' in locals() else len(df_relaxed)} artigos\")\n",
    "\n",
    "# Atualizar df_final\n",
    "df_final = df_relaxed.copy()\n",
    "print(f\"🎯 DataFrame final atualizado com {len(df_final)} artigos\")\n"
   ]
  },
  {
   "cell_type": "code",
   "execution_count": 32,
   "id": "f8a7c3ab",
   "metadata": {},
   "outputs": [
    {
     "name": "stdout",
     "output_type": "stream",
     "text": [
      "\n",
      "🔧 Preenchendo campos críticos com heurísticas...\n",
      "   📊 Calculando scores de relevância...\n",
      "   🔧 Extraindo técnicas computacionais...\n",
      "   📋 Extraindo principais resultados...\n",
      "   🔍 Identificando lacunas...\n",
      "✅ Campos críticos preenchidos:\n",
      "   - relevance_score: 0/0\n",
      "   - comp_techniques: 0/0\n",
      "   - main_results: 0/0\n",
      "   - identified_gaps: 0/0\n",
      "\n",
      "🎯 DataFrame final com campos preenchidos: 0 artigos\n"
     ]
    }
   ],
   "source": [
    "# 2. PREENCHIMENTO DE CAMPOS CRÍTICOS (SEM APIS PROBLEMÁTICAS)\n",
    "print(\"\\n🔧 Preenchendo campos críticos com heurísticas...\")\n",
    "\n",
    "def fill_critical_fields(df):\n",
    "    \"\"\"Preenche campos críticos usando heurísticas baseadas no conteúdo existente.\"\"\"\n",
    "    df_filled = df.copy()\n",
    "    \n",
    "    # 1. Calcular relevance_score\n",
    "    def calculate_relevance_score(row):\n",
    "        score = 0\n",
    "        title = str(row.get('title', '')).lower()\n",
    "        abstract = str(row.get('abstract', '')).lower()\n",
    "        \n",
    "        # Pontos por ano (mais recente = mais pontos)\n",
    "        year = row.get('year', 0)\n",
    "        if year >= 2022: score += 3\n",
    "        elif year >= 2020: score += 2\n",
    "        elif year >= 2018: score += 1\n",
    "        \n",
    "        # Pontos por acesso aberto\n",
    "        if row.get('is_open_access', False): score += 1\n",
    "        \n",
    "        # Pontos por ter resumo\n",
    "        if len(abstract) > 100: score += 1\n",
    "        \n",
    "        # Pontos por termos relevantes no título\n",
    "        math_terms = ['mathematics', 'math', 'algebra', 'geometry', 'calculus']\n",
    "        tech_terms = ['machine learning', 'ai', 'learning analytics', 'adaptive', 'intelligent', 'tutoring']\n",
    "        \n",
    "        for term in math_terms:\n",
    "            if term in title: score += 2\n",
    "        for term in tech_terms:\n",
    "            if term in title: score += 2\n",
    "            \n",
    "        # Pontos por termos no resumo\n",
    "        for term in math_terms + tech_terms:\n",
    "            if term in abstract: score += 1\n",
    "            \n",
    "        return min(score, 10)  # Máximo 10\n",
    "    \n",
    "    # 2. Extrair técnicas computacionais\n",
    "    def extract_comp_techniques(row):\n",
    "        title = str(row.get('title', '')).lower()\n",
    "        abstract = str(row.get('abstract', '')).lower()\n",
    "        text = title + ' ' + abstract\n",
    "        \n",
    "        techniques = []\n",
    "        \n",
    "        tech_mapping = {\n",
    "            'Machine Learning': ['machine learning', 'ml', 'neural network', 'deep learning'],\n",
    "            'Learning Analytics': ['learning analytics', 'educational data mining', 'data mining'],\n",
    "            'Intelligent Tutoring': ['intelligent tutoring', 'tutoring system', 'tutor'],\n",
    "            'Adaptive Learning': ['adaptive learning', 'personalized learning', 'adaptive'],\n",
    "            'AI/Artificial Intelligence': ['artificial intelligence', 'ai ', ' ai'],\n",
    "            'Assessment': ['assessment', 'evaluation', 'testing'],\n",
    "            'Predictive Analytics': ['predictive', 'prediction', 'forecasting']\n",
    "        }\n",
    "        \n",
    "        for category, terms in tech_mapping.items():\n",
    "            if any(term in text for term in terms):\n",
    "                techniques.append(category)\n",
    "        \n",
    "        return ', '.join(techniques) if techniques else 'Não especificado'\n",
    "    \n",
    "    # 3. Extrair principais resultados\n",
    "    def extract_main_results(row):\n",
    "        title = str(row.get('title', ''))\n",
    "        abstract = str(row.get('abstract', ''))\n",
    "        \n",
    "        # Indicadores de resultados\n",
    "        result_keywords = ['improved', 'increased', 'enhanced', 'better', 'effective', 'successful', 'significant']\n",
    "        \n",
    "        results = []\n",
    "        for keyword in result_keywords:\n",
    "            if keyword in abstract.lower():\n",
    "                # Encontrar frase com o resultado\n",
    "                sentences = abstract.split('.')\n",
    "                for sentence in sentences:\n",
    "                    if keyword in sentence.lower():\n",
    "                        results.append(sentence.strip())\n",
    "                        break\n",
    "        \n",
    "        if results:\n",
    "            return '. '.join(results[:2])  # Máximo 2 resultados\n",
    "        elif 'review' in title.lower():\n",
    "            return 'Revisão da literatura sobre o tema'\n",
    "        elif 'system' in title.lower():\n",
    "            return 'Desenvolvimento/avaliação de sistema'\n",
    "        else:\n",
    "            return 'Resultados não explicitamente mencionados'\n",
    "    \n",
    "    # 4. Identificar lacunas\n",
    "    def identify_gaps(row):\n",
    "        abstract = str(row.get('abstract', ''))\n",
    "        \n",
    "        gap_keywords = ['limitation', 'challenge', 'future work', 'further research', 'need for']\n",
    "        \n",
    "        gaps = []\n",
    "        for keyword in gap_keywords:\n",
    "            if keyword in abstract.lower():\n",
    "                sentences = abstract.split('.')\n",
    "                for sentence in sentences:\n",
    "                    if keyword in sentence.lower():\n",
    "                        gaps.append(sentence.strip())\n",
    "                        break\n",
    "        \n",
    "        if gaps:\n",
    "            return '. '.join(gaps[:2])\n",
    "        else:\n",
    "            return 'Lacunas não explicitamente mencionadas'\n",
    "    \n",
    "    # Aplicar as funções\n",
    "    print(\"   📊 Calculando scores de relevância...\")\n",
    "    df_filled['relevance_score'] = df_filled.apply(calculate_relevance_score, axis=1)\n",
    "    \n",
    "    print(\"   🔧 Extraindo técnicas computacionais...\")\n",
    "    df_filled['comp_techniques'] = df_filled.apply(extract_comp_techniques, axis=1)\n",
    "    \n",
    "    print(\"   📋 Extraindo principais resultados...\")\n",
    "    df_filled['main_results'] = df_filled.apply(extract_main_results, axis=1)\n",
    "    \n",
    "    print(\"   🔍 Identificando lacunas...\")\n",
    "    df_filled['identified_gaps'] = df_filled.apply(identify_gaps, axis=1)\n",
    "    \n",
    "    # Preencher outros campos básicos\n",
    "    df_filled['selection_stage'] = 'Elegibilidade - Incluído'\n",
    "    df_filled['exclusion_reason'] = ''\n",
    "    df_filled['notes'] = 'Processado com critérios relaxados'\n",
    "    \n",
    "    return df_filled\n",
    "\n",
    "# Aplicar preenchimento\n",
    "df_final_filled = fill_critical_fields(df_final)\n",
    "\n",
    "print(f\"✅ Campos críticos preenchidos:\")\n",
    "print(f\"   - relevance_score: {df_final_filled['relevance_score'].notna().sum()}/{len(df_final_filled)}\")\n",
    "print(f\"   - comp_techniques: {df_final_filled['comp_techniques'].notna().sum()}/{len(df_final_filled)}\")\n",
    "print(f\"   - main_results: {df_final_filled['main_results'].notna().sum()}/{len(df_final_filled)}\")\n",
    "print(f\"   - identified_gaps: {df_final_filled['identified_gaps'].notna().sum()}/{len(df_final_filled)}\")\n",
    "\n",
    "# Atualizar df_final\n",
    "df_final = df_final_filled.copy()\n",
    "print(f\"\\n🎯 DataFrame final com campos preenchidos: {len(df_final)} artigos\")\n"
   ]
  },
  {
   "cell_type": "code",
   "execution_count": 33,
   "id": "1cdb5638",
   "metadata": {},
   "outputs": [
    {
     "name": "stdout",
     "output_type": "stream",
     "text": [
      "\n",
      "📊 Análise dos resultados após as correções:\n",
      "==================================================\n",
      "❌ DataFrame final ainda está vazio - revisar critérios\n",
      "\n",
      "==================================================\n"
     ]
    }
   ],
   "source": [
    "# 4. ANÁLISE DOS RESULTADOS APÓS CORREÇÕES\n",
    "print(\"\\n📊 Análise dos resultados após as correções:\")\n",
    "print(\"=\" * 50)\n",
    "\n",
    "if not df_final.empty:\n",
    "    print(f\"✅ DataFrame final não está mais vazio!\")\n",
    "    print(f\"📊 Total de artigos selecionados: {len(df_final)}\")\n",
    "    \n",
    "    # Análise de preenchimento de campos\n",
    "    print(f\"\\n📋 Análise de preenchimento de campos críticos:\")\n",
    "    critical_fields = ['relevance_score', 'comp_techniques', 'main_results', 'identified_gaps']\n",
    "    \n",
    "    for field in critical_fields:\n",
    "        if field in df_final.columns:\n",
    "            filled = df_final[field].notna().sum()\n",
    "            percentage = (filled / len(df_final)) * 100\n",
    "            print(f\"   - {field}: {filled}/{len(df_final)} ({percentage:.1f}%)\")\n",
    "    \n",
    "    # Análise de distribuição por ano\n",
    "    print(f\"\\n📅 Distribuição por ano:\")\n",
    "    year_dist = df_final['year'].value_counts().sort_index()\n",
    "    for year, count in year_dist.head(10).items():\n",
    "        print(f\"   - {year}: {count} artigos\")\n",
    "    \n",
    "    # Análise das técnicas computacionais mais frequentes\n",
    "    print(f\"\\n💻 Técnicas computacionais mais frequentes:\")\n",
    "    all_techniques = []\n",
    "    for techniques in df_final['comp_techniques'].dropna():\n",
    "        if techniques != 'Não especificado':\n",
    "            all_techniques.extend([t.strip() for t in techniques.split(',')])\n",
    "    \n",
    "    if all_techniques:\n",
    "        from collections import Counter\n",
    "        tech_counts = Counter(all_techniques).most_common(10)\n",
    "        for tech, count in tech_counts:\n",
    "            print(f\"   - {tech}: {count} artigos\")\n",
    "    \n",
    "    # Análise de scores de relevância\n",
    "    print(f\"\\n⭐ Análise de scores de relevância:\")\n",
    "    if 'relevance_score' in df_final.columns:\n",
    "        scores = df_final['relevance_score']\n",
    "        print(f\"   - Score médio: {scores.mean():.2f}\")\n",
    "        print(f\"   - Score mínimo: {scores.min()}\")\n",
    "        print(f\"   - Score máximo: {scores.max()}\")\n",
    "        print(f\"   - Artigos com score >= 5: {(scores >= 5).sum()}\")\n",
    "        print(f\"   - Artigos com score >= 7: {(scores >= 7).sum()}\")\n",
    "    \n",
    "    # Análise de acesso aberto\n",
    "    print(f\"\\n🔓 Análise de acesso aberto:\")\n",
    "    if 'is_open_access' in df_final.columns:\n",
    "        oa_count = df_final['is_open_access'].sum()\n",
    "        oa_percentage = (oa_count / len(df_final)) * 100\n",
    "        print(f\"   - Artigos de acesso aberto: {oa_count}/{len(df_final)} ({oa_percentage:.1f}%)\")\n",
    "    \n",
    "    print(f\"\\n🎯 Resumo das correções:\")\n",
    "    print(f\"   ✅ Critérios de seleção relaxados\")\n",
    "    print(f\"   ✅ Campos críticos preenchidos com heurísticas\")  \n",
    "    print(f\"   ✅ CORE API desabilitada (evita erros 500)\")\n",
    "    print(f\"   ✅ Delays das APIs aumentados (evita rate limiting)\")\n",
    "    print(f\"   ✅ DataFrame final com {len(df_final)} artigos válidos\")\n",
    "    \n",
    "else:\n",
    "    print(\"❌ DataFrame final ainda está vazio - revisar critérios\")\n",
    "\n",
    "print(\"\\n\" + \"=\" * 50)\n"
   ]
  },
  {
   "cell_type": "markdown",
   "id": "71779b0b",
   "metadata": {},
   "source": [
    "##### 📊 Análise de Lacunas Remanescentes\n",
    "Verifica a proporção de valores nulos nas colunas do DataFrame final selecionado. Colunas como `identified_gaps`, `notes`, e `main_results` provavelmente ainda terão muitos valores ausentes, indicando a necessidade de preenchimento manual ou assistido por LLM."
   ]
  },
  {
   "cell_type": "code",
   "execution_count": 34,
   "id": "f1419a5b",
   "metadata": {},
   "outputs": [
    {
     "name": "stdout",
     "output_type": "stream",
     "text": [
      "⚠️ DataFrame 'df_final' está vazio. Nenhuma análise de lacunas a ser feita.\n"
     ]
    }
   ],
   "source": [
    "# Verificar se df_final existe e não está vazio\n",
    "if 'df_final' in locals() and not df_final.empty:\n",
    "    print(\"--- Proporção de Valores Nulos no DataFrame Final Selecionado (%): ---\")\n",
    "    # Substituir strings vazias por NaN para contagem mais precisa\n",
    "    df_temp_null_check = df_final.replace(\"\", pd.NA)\n",
    "    null_percentage = df_temp_null_check.isnull().mean() * 100\n",
    "    print(null_percentage.sort_values(ascending=False))\n",
    "    \n",
    "    # Foco nas colunas que tipicamente requerem preenchimento manual/LLM\n",
    "    cols_manual_fill = ['main_results', 'identified_gaps', 'notes', 'country', 'eval_methods', 'study_type', 'comp_techniques', 'math_topic', 'full_text', 'abstract']\n",
    "    print(\"\\n--- Verificação de Nulos em Colunas Chave para Preenchimento Posterior (%): ---\")\n",
    "    for col in cols_manual_fill:\n",
    "        if col in df_final.columns:\n",
    "            # Usa o null_percentage calculado anteriormente\n",
    "            print(f\"- {col}: {null_percentage.get(col, 100):.2f}% nulos/vazios\")\n",
    "        else:\n",
    "            print(f\"- {col}: Coluna não encontrada\")\n",
    "else:\n",
    "    print(\"⚠️ DataFrame 'df_final' está vazio. Nenhuma análise de lacunas a ser feita.\")"
   ]
  },
  {
   "cell_type": "markdown",
   "id": "be5d850f",
   "metadata": {},
   "source": [
    "<!-- #### 📝 Processo de Seleção e Classificação\n",
    "Aplique o processo de seleção e classificação conforme o protocolo. O resultado será armazenado em `df_selecionados`. -->"
   ]
  },
  {
   "cell_type": "markdown",
   "id": "3df76954",
   "metadata": {},
   "source": [
    "#### 8️⃣ Visualização do Processo de Seleção e Análise dos Incluídoss\n",
    "Visualize o funil de seleção (se os dados das etapas forem registrados) e a distribuição das técnicas computacionais nos artigos *incluídos*."
   ]
  },
  {
   "cell_type": "code",
   "execution_count": null,
   "id": "a25a9fad",
   "metadata": {},
   "outputs": [
    {
     "ename": "NameError",
     "evalue": "name 'df_processed' is not defined",
     "output_type": "error",
     "traceback": [
      "\u001b[1;31m---------------------------------------------------------------------------\u001b[0m",
      "\u001b[1;31mNameError\u001b[0m                                 Traceback (most recent call last)",
      "Cell \u001b[1;32mIn[35], line 13\u001b[0m\n\u001b[0;32m      2\u001b[0m sns\u001b[38;5;241m.\u001b[39mset(font_scale\u001b[38;5;241m=\u001b[39m\u001b[38;5;241m1.1\u001b[39m)\n\u001b[0;32m      4\u001b[0m \u001b[38;5;66;03m# --- Gráfico do Funil PRISMA (Requer dados das etapas) ---\u001b[39;00m\n\u001b[0;32m      5\u001b[0m \u001b[38;5;66;03m# Supondo que df_selecionados contém TODOS os artigos e a coluna 'selection_stage'\u001b[39;00m\n\u001b[0;32m      6\u001b[0m \u001b[38;5;66;03m# foi atualizada corretamente em cada etapa (Identificação, Triagem, Elegibilidade, Inclusão).\u001b[39;00m\n\u001b[0;32m      7\u001b[0m \u001b[38;5;66;03m# Isso requer uma implementação mais complexa do que o placeholder atual.\u001b[39;00m\n\u001b[0;32m      8\u001b[0m \n\u001b[0;32m      9\u001b[0m \u001b[38;5;66;03m# Exemplo de como seria com dados simulados:\u001b[39;00m\n\u001b[0;32m     10\u001b[0m prisma_counts \u001b[38;5;241m=\u001b[39m {\n\u001b[0;32m     11\u001b[0m     \u001b[38;5;124m'\u001b[39m\u001b[38;5;124mIdentificação\u001b[39m\u001b[38;5;124m'\u001b[39m: \u001b[38;5;28mlen\u001b[39m(df_papers),\n\u001b[0;32m     12\u001b[0m     \u001b[38;5;124m'\u001b[39m\u001b[38;5;124mApós Duplicatas\u001b[39m\u001b[38;5;124m'\u001b[39m: \u001b[38;5;28mlen\u001b[39m(df_deduplicated_papers),\n\u001b[1;32m---> 13\u001b[0m     \u001b[38;5;124m'\u001b[39m\u001b[38;5;124mTriagem (Aceitos)\u001b[39m\u001b[38;5;124m'\u001b[39m: \u001b[38;5;28mlen\u001b[39m(\u001b[43mdf_processed\u001b[49m),\n\u001b[0;32m     14\u001b[0m     \u001b[38;5;124m'\u001b[39m\u001b[38;5;124mElegibilidade (Incluídos)\u001b[39m\u001b[38;5;124m'\u001b[39m: \u001b[38;5;28mlen\u001b[39m(df_final)\n\u001b[0;32m     15\u001b[0m }\n\u001b[0;32m     16\u001b[0m stages \u001b[38;5;241m=\u001b[39m \u001b[38;5;28mlist\u001b[39m(prisma_counts\u001b[38;5;241m.\u001b[39mkeys())\n\u001b[0;32m     17\u001b[0m counts \u001b[38;5;241m=\u001b[39m \u001b[38;5;28mlist\u001b[39m(prisma_counts\u001b[38;5;241m.\u001b[39mvalues())\n",
      "\u001b[1;31mNameError\u001b[0m: name 'df_processed' is not defined"
     ]
    },
    {
     "ename": "",
     "evalue": "",
     "output_type": "error",
     "traceback": [
      "\u001b[1;31mThe Kernel crashed while executing code in the current cell or a previous cell. \n",
      "\u001b[1;31mPlease review the code in the cell(s) to identify a possible cause of the failure. \n",
      "\u001b[1;31mClick <a href='https://aka.ms/vscodeJupyterKernelCrash'>here</a> for more info. \n",
      "\u001b[1;31mView Jupyter <a href='command:jupyter.viewOutput'>log</a> for further details."
     ]
    }
   ],
   "source": [
    "plt.style.use('ggplot')\n",
    "sns.set(font_scale=1.1)\n",
    "\n",
    "# --- Gráfico do Funil PRISMA (Requer dados das etapas) ---\n",
    "# Supondo que df_selecionados contém TODOS os artigos e a coluna 'selection_stage'\n",
    "# foi atualizada corretamente em cada etapa (Identificação, Triagem, Elegibilidade, Inclusão).\n",
    "# Isso requer uma implementação mais complexa do que o placeholder atual.\n",
    "\n",
    "# Exemplo de como seria com dados simulados:\n",
    "prisma_counts = {\n",
    "    'Identificação': len(df_papers),\n",
    "    'Após Duplicatas': len(df_deduplicated_papers),\n",
    "    'Triagem (Aceitos)': len(df_processed),\n",
    "    'Elegibilidade (Incluídos)': len(df_final)\n",
    "}\n",
    "stages = list(prisma_counts.keys())\n",
    "counts = list(prisma_counts.values())\n",
    "\n",
    "plt.figure(figsize=(10, 6))\n",
    "ax = sns.barplot(x=stages, y=counts, palette='viridis')\n",
    "for i, v in enumerate(counts):\n",
    "    ax.text(i, v + (counts[0]*0.01), str(v), ha='center', fontweight='bold') # Ajustar offset\n",
    "plt.title('Funil de Seleção PRISMA')\n",
    "plt.ylabel('Número de Artigos')\n",
    "plt.xlabel('Etapa do Processo')\n",
    "plt.xticks(rotation=15)\n",
    "plt.tight_layout()\n",
    "plt.show()\n",
    "print(\"--- Visualização do Funil PRISMA (Requer implementação completa do registro de etapas) ---\")\n",
    "\n",
    "\n",
    "# --- Análise das Técnicas nos Artigos *Selecionados* ---\n",
    "print(\"\\n--- Análise das Técnicas Computacionais nos Artigos Selecionados ---\")\n",
    "if not df_final.empty and 'comp_techniques' in df_final.columns and not df_final['comp_techniques'].isnull().all():\n",
    "    tech_list_selected = []\n",
    "    for tech_str in df_final['comp_techniques'].dropna().astype(str):\n",
    "        techniques = [t.strip().lower() for t in tech_str.split(',') if t.strip() and t.strip().lower() != 'não identificado (classificar manualmente)']\n",
    "        tech_list_selected.extend(techniques)\n",
    "    \n",
    "    if tech_list_selected:\n",
    "        tech_counts_selected = Counter(tech_list_selected).most_common(15) # Top 15\n",
    "        \n",
    "        plt.figure(figsize=(12, 7)) # Ajustar tamanho\n",
    "        tech_df_selected = pd.DataFrame(tech_counts_selected, columns=['Technique', 'Count'])\n",
    "        \n",
    "        # Gráfico de Barras Horizontais\n",
    "        sns.barplot(x='Count', y='Technique', data=tech_df_selected, palette='crest_r') # Paleta invertida\n",
    "        plt.title('Distribuição de Técnicas Computacionais (Artigos Selecionados)')\n",
    "        plt.xlabel('Número de Artigos Incluídos')\n",
    "        plt.ylabel('Técnica Computacional')\n",
    "        plt.tight_layout()\n",
    "        plt.show()\n",
    "\n",
    "        # Gráfico de Pizza (Opcional, melhor para poucas categorias)\n",
    "        # plt.figure(figsize=(10, 10))\n",
    "        # plt.pie(tech_df_selected['Count'], labels=tech_df_selected['Technique'], autopct='%1.1f%%', startangle=140, pctdistance=0.85)\n",
    "        # plt.title('Distribuição Percentual de Técnicas (Artigos Selecionados)')\n",
    "        # plt.ylabel('')\n",
    "        # plt.tight_layout()\n",
    "        # plt.show()\n",
    "    else:\n",
    "        print(\"⚠️ AVISO: Nenhuma técnica computacional identificada nos artigos selecionados (verificar coluna 'comp_techniques').\")\n",
    "else:\n",
    "    print(\"⚠️ AVISO: Coluna 'comp_techniques' não encontrada ou vazia no DataFrame de artigos selecionados.\")\n"
   ]
  },
  {
   "cell_type": "markdown",
   "id": "939923d7",
   "metadata": {},
   "source": [
    "#### 📤 Exportando resultados\n",
    "\n",
    "Exporte os resultados para Excel para uso posterior."
   ]
  },
  {
   "cell_type": "code",
   "execution_count": null,
   "id": "6dd1892e",
   "metadata": {},
   "outputs": [
    {
     "name": "stdout",
     "output_type": "stream",
     "text": [
      "✅ Função enrich_metadata_improved criada!\n"
     ]
    }
   ],
   "source": [
    "# Função melhorada para enriquecimento robusto\n",
    "def enrich_metadata_improved(df, verbose=True):\n",
    "    \"\"\"\n",
    "    Versão melhorada da função enrich_metadata que evita problemas das APIs externas.\n",
    "    \n",
    "    Usa heurísticas inteligentes para preencher campos faltantes baseado nos dados já coletados.\n",
    "    \"\"\"\n",
    "    if df is None or df.empty:\n",
    "        print(\"⚠️ DataFrame vazio - nada para enriquecer\")\n",
    "        return df\n",
    "    \n",
    "    df_enriched = df.copy()\n",
    "    print(f\"🔧 Iniciando enriquecimento robusto de {len(df_enriched)} artigos...\")\n",
    "    \n",
    "    # 1. Preencher campos básicos faltantes\n",
    "    def fill_basic_fields(row):\n",
    "        \"\"\"Preenche campos básicos usando heurísticas.\"\"\"\n",
    "        updates = {}\n",
    "        \n",
    "        # Preencher year se estiver faltando\n",
    "        if pd.isna(row.get('year')) or row.get('year') == 0:\n",
    "            text = str(row.get('title', '')) + ' ' + str(row.get('abstract', ''))\n",
    "            year_match = re.search(r'\\b(20[0-2][0-9])\\b', text)\n",
    "            if year_match:\n",
    "                updates['year'] = int(year_match.group(1))\n",
    "            else:\n",
    "                updates['year'] = 2020  # Valor padrão razoável\n",
    "        \n",
    "        # Preencher abstract se estiver faltando\n",
    "        if pd.isna(row.get('abstract')) or row.get('abstract') == '':\n",
    "            full_text = str(row.get('full_text', ''))\n",
    "            if len(full_text) > 100:\n",
    "                updates['abstract'] = full_text[:500].strip() + '...'\n",
    "            else:\n",
    "                updates['abstract'] = 'Abstract não disponível'\n",
    "        \n",
    "        return updates\n",
    "    \n",
    "    # 2. Calcular relevance_score baseado no conteúdo\n",
    "    def calculate_relevance_score(row):\n",
    "        \"\"\"Calcula score de relevância baseado em heurísticas.\"\"\"\n",
    "        score = 0\n",
    "        title = str(row.get('title', '')).lower()\n",
    "        abstract = str(row.get('abstract', '')).lower()\n",
    "        \n",
    "        # Pontos por ano (mais recente = mais pontos)\n",
    "        year = row.get('year', 0)\n",
    "        if year >= 2022: score += 3\n",
    "        elif year >= 2020: score += 2\n",
    "        elif year >= 2018: score += 1\n",
    "        \n",
    "        # Pontos por acesso aberto\n",
    "        if row.get('is_open_access', False): score += 1\n",
    "        \n",
    "        # Pontos por ter resumo\n",
    "        if len(abstract) > 100: score += 1\n",
    "        \n",
    "        # Pontos por termos relevantes\n",
    "        math_terms = ['mathematics', 'math', 'algebra', 'geometry', 'calculus', 'statistics']\n",
    "        tech_terms = ['machine learning', 'ai', 'learning analytics', 'adaptive', 'intelligent']\n",
    "        \n",
    "        for term in math_terms:\n",
    "            if term in title: score += 2\n",
    "            if term in abstract: score += 1\n",
    "        \n",
    "        for term in tech_terms:\n",
    "            if term in title: score += 2\n",
    "            if term in abstract: score += 1\n",
    "        \n",
    "        return min(score, 10)  # Máximo 10\n",
    "    \n",
    "    # 3. Extrair técnicas computacionais\n",
    "    def extract_comp_techniques(row):\n",
    "        \"\"\"Extrai técnicas computacionais do texto.\"\"\"\n",
    "        title = str(row.get('title', '')).lower()\n",
    "        abstract = str(row.get('abstract', '')).lower()\n",
    "        text = title + ' ' + abstract\n",
    "        \n",
    "        techniques = []\n",
    "        tech_mapping = {\n",
    "            'Machine Learning': ['machine learning', 'ml', 'neural network', 'deep learning'],\n",
    "            'Learning Analytics': ['learning analytics', 'educational data mining'],\n",
    "            'Intelligent Tutoring': ['intelligent tutoring', 'tutoring system'],\n",
    "            'Adaptive Learning': ['adaptive learning', 'personalized learning'],\n",
    "            'AI/Artificial Intelligence': ['artificial intelligence', 'ai '],\n",
    "            'Assessment': ['assessment', 'evaluation', 'testing'],\n",
    "            'Predictive Analytics': ['predictive', 'prediction', 'forecasting']\n",
    "        }\n",
    "        \n",
    "        for category, terms in tech_mapping.items():\n",
    "            if any(term in text for term in terms):\n",
    "                techniques.append(category)\n",
    "        \n",
    "        return ', '.join(techniques) if techniques else 'Não especificado'\n",
    "    \n",
    "    # 4. Identificar principais resultados\n",
    "    def extract_main_results(row):\n",
    "        \"\"\"Extrai principais resultados do abstract.\"\"\"\n",
    "        abstract = str(row.get('abstract', ''))\n",
    "        title = str(row.get('title', ''))\n",
    "        \n",
    "        result_keywords = ['improved', 'increased', 'enhanced', 'better', 'effective', 'significant']\n",
    "        \n",
    "        results = []\n",
    "        for keyword in result_keywords:\n",
    "            if keyword in abstract.lower():\n",
    "                sentences = abstract.split('.')\n",
    "                for sentence in sentences:\n",
    "                    if keyword in sentence.lower():\n",
    "                        results.append(sentence.strip())\n",
    "                        break\n",
    "        \n",
    "        if results:\n",
    "            return '. '.join(results[:2])\n",
    "        elif 'review' in title.lower():\n",
    "            return 'Revisão da literatura sobre o tema'\n",
    "        elif 'system' in title.lower():\n",
    "            return 'Desenvolvimento/avaliação de sistema'\n",
    "        else:\n",
    "            return 'Resultados não explicitamente mencionados'\n",
    "    \n",
    "    # 5. Identificar lacunas\n",
    "    def identify_gaps(row):\n",
    "        \"\"\"Identifica lacunas mencionadas no abstract.\"\"\"\n",
    "        abstract = str(row.get('abstract', ''))\n",
    "        \n",
    "        gap_keywords = ['limitation', 'challenge', 'future work', 'further research', 'need for']\n",
    "        \n",
    "        gaps = []\n",
    "        for keyword in gap_keywords:\n",
    "            if keyword in abstract.lower():\n",
    "                sentences = abstract.split('.')\n",
    "                for sentence in sentences:\n",
    "                    if keyword in sentence.lower():\n",
    "                        gaps.append(sentence.strip())\n",
    "                        break\n",
    "        \n",
    "        return '. '.join(gaps[:2]) if gaps else 'Lacunas não explicitamente mencionadas'\n",
    "    \n",
    "    # Aplicar as melhorias\n",
    "    updated_count = 0\n",
    "    \n",
    "    for idx, row in df_enriched.iterrows():\n",
    "        # Preencher campos básicos\n",
    "        basic_updates = fill_basic_fields(row)\n",
    "        for col, value in basic_updates.items():\n",
    "            df_enriched.at[idx, col] = value\n",
    "        \n",
    "        # Calcular relevance_score\n",
    "        df_enriched.at[idx, 'relevance_score'] = calculate_relevance_score(row)\n",
    "        \n",
    "        # Extrair técnicas computacionais\n",
    "        df_enriched.at[idx, 'comp_techniques'] = extract_comp_techniques(row)\n",
    "        \n",
    "        # Extrair principais resultados\n",
    "        df_enriched.at[idx, 'main_results'] = extract_main_results(row)\n",
    "        \n",
    "        # Identificar lacunas\n",
    "        df_enriched.at[idx, 'identified_gaps'] = identify_gaps(row)\n",
    "        \n",
    "        # Preencher outros campos padrão\n",
    "        if pd.isna(df_enriched.at[idx, 'selection_stage']):\n",
    "            df_enriched.at[idx, 'selection_stage'] = 'Identificação'\n",
    "        if pd.isna(df_enriched.at[idx, 'exclusion_reason']):\n",
    "            df_enriched.at[idx, 'exclusion_reason'] = ''\n",
    "        if pd.isna(df_enriched.at[idx, 'notes']):\n",
    "            df_enriched.at[idx, 'notes'] = 'Processado com enriquecimento robusto'\n",
    "        \n",
    "        updated_count += 1\n",
    "    \n",
    "    print(f\"✅ Enriquecimento concluído:\")\n",
    "    print(f\"   - {updated_count} artigos processados\")\n",
    "    print(f\"   - relevance_score: {df_enriched['relevance_score'].notna().sum()}/{len(df_enriched)}\")\n",
    "    print(f\"   - comp_techniques: {df_enriched['comp_techniques'].notna().sum()}/{len(df_enriched)}\")\n",
    "    print(f\"   - main_results: {df_enriched['main_results'].notna().sum()}/{len(df_enriched)}\")\n",
    "    print(f\"   - identified_gaps: {df_enriched['identified_gaps'].notna().sum()}/{len(df_enriched)}\")\n",
    "    \n",
    "    return df_enriched\n",
    "\n",
    "print(\"✅ Função enrich_metadata_improved criada!\")\n"
   ]
  },
  {
   "cell_type": "code",
   "execution_count": null,
   "id": "d5f004e8",
   "metadata": {},
   "outputs": [
    {
     "ename": "IllegalCharacterError",
     "evalue": "lable at ScienceDirectComputers in Human Behavior 78 (2018) 408e420Contents lists avaiComputers in Human Behaviorjournal homepage: www.elsevier .com/locate/comphumbehStudent proﬁling in a dispositional learning analytics application usingformative assessmentDirk Tempelaar a, *, Bart Rienties b, Jenna Mittelmeier b, Quan Nguyen ba Maastricht University, School of Business and Economics, Netherlandsb The Open University, Institute of Educational Technology, Walton Hall, Milton Keynes, MK7 6AA, UKa r t i c l e i n f oArticle history:Received 10 February 2017Received in revised form25 July 2017Accepted 5 August 2017Available online 8 August 2017Keywords:Learning analyticsFormative assessmentLearning dispositionsDispositional learning analyticse-tutorial* Corresponding author.E-mail address: d.tempelaar@maastrichtuniversityhttp://dx.doi.org/10.1016/j.chb.2017.08.0100747-5632/© 2017 Elsevier Ltd. All rights reserved.a b s t r a c tHow learning disposition data can help us translating learning feedback from a learning analyticsapplication into actionable learning interventions, is the main focus of this empirical study. It extendsprevious work (Tempelaar, Rienties, & Giesbers, 2015), where the focus was on deriving timely predictionmodels in a data rich context, encompassing trace data from learning management systems, formativeassessment data, e-tutorial trace data as well as learning dispositions. In this same educational context,the current study investigates how the application of cluster analysis based on e-tutorial trace data al-lows student proﬁling into different at-risk groups, and how these at-risk groups can be characterizedwith the help of learning disposition data. It is our conjecture that establishing a chain of antecedent-consequence relationships starting from learning disposition, through student activity in e-tutorialsand formative assessment performance, to course performance, adds a crucial dimension to currentlearning analytics studies: that of proﬁling students with descriptors that easily lend themselves to thedesign of educational interventions.© 2017 Elsevier Ltd. All rights reserved.1. IntroductionThe challenge to design “an optimal sequence of data collectionand economic response times …” that includes “the minimum re-quirements for making valid predictions and creating meaningfulinterventions” (Ifenthaler, 2015) as one of the challenges to theapplication of learning analytics (LA), is the main topic of thisempirical contribution to dispositional learning analytics. LearningAnalytics (LA) is deﬁned as ”the measurement, collection, analysis,and reporting of data about learners and their contexts, for pur-poses of understanding and optimizing learning and the environ-ments in which it occurs” (Buckingham Shum & Ferguson, 2012;Gasevic, Dawson, Rogers, & Gasevic, 2016; Siemens, 2013). In theearly stages of LA, many scholars focused on building predictivemodels based on data extracted from both institutional studentinformation systems (SIS) and digital platforms that organize andfacilitate learning, such as learning management systems and e-tutorials (LMS, taking them together). While these studies provideimportant markers on the potential of LA in education, the ﬁndingswere rather limited to the descriptive functions of LA, which is.nl (D. Tempelaar).mostly based on demographics, grades, and trace data. Given therigidity of SIS and LMS data, educators may encounter difﬁculties indesigning pedagogically informed interventions (Conde &Hern\u0001andez-García, 2015; Tobarra, Robles-G\u0001omez, Ros, Hern\u0001andez,& Caminero, 2014; Xing, Guo, Petakovic, & Goggins, 2015).To overcome this shortcoming, Buckingham Shum and Crick(2012) proposed a Dispositional Learning Analytics (DLA) infra-structure that combines learning data (i.e. those generated inlearning activities through the LMS) with learner data (e.g., studentdispositions, values, and attitudes measured through self-reportedsurveys). Learning dispositions represent individual differencecharacteristics that impact all learning processes and include af-fective, behavioral and cognitive facets (Rienties, Cross, & Zdrahal,2017). Student's preferred learning approaches are examples ofsuch dispositions of both cognitive and behavioral type; in researchon their role in learning, they are often simply labeled as ‘self-report data’ (see e.g. Buckingham Shum & Ferguson, 2012; Ga\u0003sevi\u0001c,Jovanovi\u0001c, Pardo, & Dawson, 2017). Different from LA research,stakeholders of DLA applications are typically restricted to studentsand teacher/tutors, as these applications can be positioned at boththe meso- and micro-level (Ifenthaler, 2015), rather than the mega-or macro-level. Our study is a follow-up of previous research by theauthors on the application of LA in a ‘data-rich context’ (Tempelaar,D. Tempelaar et al. / Computers in Human Behavior 78 (2018) 408e420 409Rienties,&Giesbers, 2015). The availability of formative assessmentdata constitutes a crucial aspect of that data richness, together withlearning activity trace data of students practicing in e-tutorialsystems in order to be optimally prepared for these formative as-sessments, and later summative assessments. That data of cognitivetype was complemented by learning disposition data to cover all“affective, behavioral and cognitive facets of the ABC framework ofstudent learning” (Rienties et al., 2017).Our previous research indicated a sensitive balance betweentiming and predictive power of the several data sources in a richdata context. Most informative, but least timely, is typicallyformative assessment data. Given that formative assessment data isnot available until several weeks into a course, trace data from e-tutorial systems are a good second-best. However, it is important tonote that the use of e-tutorial trace data is ill-advised at the verystart of the course when practicing activities of students have notyet settled into stable patterns. Therefore, learning disposition dataare an informative data source next to the trace data in predictingstudent performance (Tempelaar et al., 2015).This follow-up study focuses on this very early stage of gener-ating learning feedback at the start of courses that is “personalised,dynamic and timely” (Ifenthaler, 2015). The requirement oflearning feedback to be timely implies a crucial role for learningdisposition data. The requirement of learning feedback to beactionable too has strong links with the availability of dispositions;learning interventions such as academic counselling are oftenbased on the same social-cognitive frameworks as the instrumentsused to measure learning dispositions (such as improving one'slearning style, or changing mal-adaptive into adaptive approachesto learning, in case of setbacks) (Tempelaar, Rienties, & Nguyen,2017a).2. Learning analytics and dispositional learning analytics2.1. Formative testing and feedbackThe classic function of testing is that of summative assessmentor assessment of learning: students demonstrate their mastery of aparticular subject to their teacher after completing the learningprocess. Formative assessment or assessment for learning takesplace during learning rather than after learning, and has an entirelydifferent function: to provide ongoing feedback to both students, toimprove their learning, and teachers, to improve teaching (Spectoret al., 2016). Thus beyond a different purpose, there are also crucialdifferences in timing between the two types of testing: formativetesting results are especially useful when they become availableearly in the learning process.In this regard, feedback plays a crucial part in assisting regula-tory learning processes (Hattie, 2009; Lehmann, H€ahnlein, &Ifenthaler, 2014). Several alternative operationalizations to sup-port feedback are possible. For example, using two experimentalstudies with different degrees of generic and directed prompts,Lehmann et al. (2014) found that directed pre-reﬂective promptsencouraged positive activities in online environments. In a meta-study of 800þ meta-studies, Hattie (2009) found that the waystudents received feedback was one of the most powerful factors inenhancing their learning experiences, along with self-questioning,concept mapping and problem-solving teaching in the category ofteaching and learning approaches. Diagnostic testing directed atadjusting the learning approach to the actual skills and abilities ofthe student or proper placing the student at the start of the courseis one example of this, as is a test-directed learning approach thatconstitutes a basic educational principle of many e-tutorial systems(Tempelaar, Cuypers, Van de Vrie, Heck, & Van der Kooij, 2013).The setting of this present study is a large-scale classroomcovering the most challenging service course students in this in-ternational business and economics programwill encounter, and itis taught in a problem-based manner. Thus, our application offormative assessment in this study is fully in line with the secondrecommendation of the Spector et al. (2016, p. 65) report:“formative assessment practices to address learning situations thatpresent difﬁcult challenges (e.g., large and multi-grade classrooms,inquiry- and problem-based learning)”. Beyond the important ﬁrst-order goal of providing students with immediate feedback on theirlearning progress, formative assessment data is used in this studymore indirectly by empowering the LA-based prediction models forsignaling students at risk, in line with our previous research(Tempelaar et al., 2015).2.2. Learning dispositionsWhere other DLA research has been based on a single, dedicatedand newly designed instrument to measure dispositions(Buckingham Shum & Crick, 2012), we have opted to use well-established and validated instruments to optimize the connectionwith learning interventions. Rienties et al. (2017) argue that thesingle most important question for LA researchers to answer is:“which types of interventions have a positive impact on learners'Attitudes, Behavior and Cognition (ABC) using learning analyticsmodeling?” (see also Ferguson et al., 2016). To answer this question,this study includes a very broad range of learning disposition in-struments, covering various aspects of affective, behavioral andcognitive antecedents of learning processes. In line with theinstructional model of the school, Problem-Based Learning, weopted for disposition instruments that are based on social-constructivist learning theories, that assume that learning is anactive process of learning construction, rather than acquisition, inwhich collaboration between peers plays an important role, andwhere not only cognitive, but also affective and behavioral aspectsare key to explain learning outcomes. A rich tradition of educationalresearch-designed measurement instruments to observe learnerdispositions has emerged over in the last ﬁfty years, which is evi-denced by a multiplicity of psychometric survey instruments,including student's self-regulation or goal orientation (Ga\u0003sevi\u0001cet al., 2017). Given the speciﬁc research context of this study inconceptualizing how students learn, we have primarily focused onlearning dispositions that can be linked to interventions. Theseinclude:\u0002 The expectancy-value framework of learning behavior (Wigﬁeld& Eccles, 2000), encompasses affective, behavioral and cognitivefacets. According to the expectancy-value model, students' ex-pectancies for success and the value they contribute to suc-ceeding are important determinants of their motivation toperform achievement tasks. The expectation of success includestwo components: belief about one's own ability in performing atask, and a perception of the task demand. Subjective task valueconstitutes a broad group of factors: attainment values(importance of doing well on a task), intrinsic value (enjoymentgained from doing the task), utility value (usefulness), and costs(spent efforts) belong to it.\u0002 The motivation and engagement framework of learning cogni-tions and behaviors (Martin, 2007) that breaks down learningcognitions and learning behaviors into four categories of adap-tive versus maladaptive types and cognitive versus behavioraltypes. The classiﬁcation is based on the theory that thoughts andcognitions can both enable learning, act as boosters, as well ashinder learning: act as mufﬂers and guzzlers.\u0002 Two aspects of a Student Approaches to Learning (SAL) frame-work: cognitive processing strategies and metacognitiveFig. 1. Schematic overview of research design, with investigated relationships insingle-line arrows, cluster construction in double-line arrows.D. Tempelaar et al. / Computers in Human Behavior 78 (2018) 408e420410regulation strategies, from Vermunt’s (1996) learning stylesinstrument, encompassing aspects of cognitions and behaviors.Vermunt's framework of learning approaches distinguishes fourmain styles or approaches: that of meaning-directed, applica-tion-directed, reproduction-directed and undirected learning.Each approach is based on student characteristics in fourdifferent domains: cognitive processing strategies (what stu-dents do), metacognitive regulation strategies (how studentsplan and monitor learning), learning orientations (why studentslearn), and learning conceptions (how students see learning).Learning styles are seen as a speciﬁc combination of processingand regulation strategies: meaning-directed learning builds ondeep processing and self-regulation, whereas reproduction-directed learning builds on step-wise processing and externalregulation (Vermunt, 1996; see also Cofﬁeld, Moseley, Hall, &Ecclestone, 2004). Although learning styles are subject todebate (Kirschner, 2017), they are of all dispositions closest tointervention when allowing multiple learning strategies intechnology-enhanced learning.\u0002 The control-value theory of achievement emotions (CVTAE),both about learning emotions of activity and epistemic types,positions itself at the affective pole of the spectrum (Pekrun,2012; Rienties & Rivers, 2014). CVTAE postulates that emo-tions that arise in learning activities differ in valence, focus, andactivation. Emotional valence can be positive (enjoyment) ornegative (anxiety, hopelessness, boredom). CVTAE describes theemotions experienced in relation to an achievement activity(e.g. boredom experienced while preparing homework) oroutcome (e.g. anxiety towards performing at an exam). Theactivation component describes emotions as activating (i.e.anxiety leading to action) versus deactivating (i.e. hopelessnessleading to disengagement).Learning dispositions that were measured but not incorporatedin this study include academic motivations, goal setting behavior,and epistemological views on intelligence and the role of effort.Both collinearity with the included dispositions, as is the case withacademic motivations, and lack of possibilities to inﬂuence thesedispositions in any counseling program led to this choice.2.3. Blended learning of quantitative methods using e-tutorialsOur empirical contribution focuses on ﬁrst-year undergraduatestudents learning quantitative methods (mathematics and statis-tics) in a blended learning environment. With problem-basedlearning as the face-to-face component, the digital componentconsists of Blackboard as the LMS to share basic course informationand two external e-tutorials: SOWISO (mathematics) and MyS-tatLab (statistics). Both e-tutorials follow a test-directed learningand practicing approach. Each step in the learning process is initi-ated by a question, and students are encouraged to (attempt to)answer each question. If a student does not master a question(completely), she/he can either ask for hints to solve the problemstep-by-step, or ask for a fully worked example. These two func-tionalities are examples of Knowledge of Result/Response (KR) andKnowledge of the Correct Response (KCR) types of feedback (seeNarciss, 2008; Narciss & Huth, 2006). After receiving feedback, anew version of the problem loads (parameter based) to allow thestudent to demonstrate his/her newly acquired mastery. When astudent provides an answer and calls for an evaluation, Multiple-Try Feedback (MTF) (Narciss, 2008) is provided. Students’revealed learning feedback preferences are related to their learningdispositions, as we demonstrated in previous research (Nguyen,Tempelaar, Rienties, & Giesbers, 2016). For instance, the negativeepistemic emotion Frustration is positively associated with thefrequent calling of complete exercise solutions, whereas the pro-cessing strategy Concrete processing is negatively associated withcalling solutions.2.4. Research questionsThe ultimate goal of any LA application is to generate such‘personalised, dynamic and timely’ learning feedback (Ifenthaler,2015) so that the learning process is facilitated to the maximumextent. In previous research (Tempelaar et al., 2013, 2015), wedemonstrated the crucial role of formative assessment and learningdisposition data in such an endeavor. Building on such rich data, wederived predictions models (Nguyen, Tempelaar, Rienties, &Giesbers, 2016; Tempelaar et al., 2017a; Tempelaar, Rienties, &Nguyen, 2017b) focusing on ‘actionable data’ (Gasevic et al.,2016). An example of such application is the investigation of howlearning feedback preferences of students depend on their dispo-sitions (Nguyen et al., 2016). This however still does not include thefull range of affective, behavioral and cognitive antecedents oflearning processes. This study aims to make that last step byanswering the following research questions:\u0002 What can the antecedent-consequence relationships learningdepositions e trace data - formative assessment - course per-formance tell us about the role of affective, behavioral andcognitive factors in how students learn difﬁcult topics, such asmathematics and statistics?\u0002 What opportunities are there for pedagogical interventionstriggered by LA-based feedback, based on student proﬁling by e-tutorial trace data?The research design of this study can be summarized in thefollowing schematic overview, Fig. 1.3. Research methods3.1. Context of the empirical studyThis study takes place in a large-scale introductory mathematicsand statistics course for ﬁrst-year undergraduate students in abusiness and economics program in the Netherlands. The educa-tional system is best described as ‘blended’ or ‘hybrid.' The maincomponent is face-to-face: Problem-Based Learning (PBL), in smallgroups (14 students), coached by a content expert tutor (see Non &Tempelaar, 2016 and Williams et al., 2016 for further informationon PBL and the course design). Participation in tutorial groups isrequired. Optional is the online component of the blend: the use ofthe two e-tutorials – SOWISO and MyStatLab (MSL) (Tempelaaret al., 2015). This design is based on the philosophy of student-centered education, placing the responsibility for makingD. Tempelaar et al. / Computers in Human Behavior 78 (2018) 408e420 411educational choices primarily on the student. Since most of thelearning takes place during self-study outside class through the e-tutorials or other learning materials, class time is used to discusssolving advanced problems. Thus, the instructional format is bestcharacterized as a ﬂipped-classroom design (Williams et al., 2016).Using and achieving good scores in the e-tutorial practice modes isincentivized by providing bonus points for good performance in thequizzes (i.e. the formative assessment), worth up to 20% of whatone can score in the exam. Quizzes are taken every two weeks, andconsist of items that are drawn from the same item pools applied inthe practicing mode. This approach was chosen to encourage stu-dents with limited prior knowledge to make intensive use of the e-tutorials.The student-centered nature of the instructional design re-quires, ﬁrst and foremost, adequate actionable feedback to studentsso that they can appropriately monitor their study progress andtopic mastery. The provision of relevant feedback starts on the ﬁrstday of the course when students take two diagnostic entry tests formathematics and statistics. Feedback from these entry tests pro-vides a ﬁrst signal for the importance of using the e-tutorials. Next,the SOWISO and MSL-environments take over the monitoringfunction: at any time, students can see their performance in thepractice sessions, their progress in preparing for the next quiz, anddetailed feedback on their completed quizzes, all in the absoluteand relative (to their peers) sense. Proﬁting from the intensivecontact between students and their tutors of the pbl tutorialgroups, learning feedback is directed at students and their tutors,who carry ﬁrst responsibility for pedagogical interventions.The subject of this study is the full 2016/2017 cohort of students(i.e. all students who enrolled the course and/or the ﬁnal exam: intotal, 1093 students). A large diversity in the student populationwas present: only 19% were educated in the Dutch high schoolsystem. Regarding nationality, the largest group, 44% of the stu-dents, was from Germany, followed by 23% Dutch and 19% Belgianstudents, which is representative of the larger university studentpopulation. In total, 50 nationalities were present. A large share ofstudents was of European nationality, with only 3.9% of studentsfrom outside Europe. High school systems in Europe differ strongly,most particularly in the teaching of mathematics and statistics. Forexample, the Dutch high school system has a strong focus on thetopic of statistics, whereas statistics are completely missing in highschool programs of many other countries. Therefore, it is crucialthat this present introductory module is ﬂexible and allows forindividual learning paths (Non & Tempelaar, 2016; Williams et al.,2016). In this course, students spend on average 24 h in SOWISOand 32 h in MSL, which is 30%e40% of the available time of 80 h forlearning on both topics.3.2. Instruments and procedureIn this study, we will investigate the relationships betweencourse performance measures, LMS system trace variables, SISbased variables, and learning disposition variables measured inself-report surveys. As suggested by Winne's taxonomy of datasources (Winne, 2013; Zhou&Winne, 2012), our study applies self-report survey data and trace data through the logging of studybehaviors and the speciﬁc choices students make in the e-tutorials.The self-report surveys applied in this study (described in sec-tions 3.2.4 through 3.2.9) are all long-existing instruments, welldescribed and validated in decades of empirical research intoeducational psychology. Most were administered at the start of thecourse. The exception is the instrument quantifying emotions byparticipating in learning activities (described in section 3.2.5),which was administered halfway through the course. This wasdone to allow students sufﬁcient experiences with the learningactivities, while simultaneously avoiding the danger that anapproaching exammight strongly impact learning emotions. In thesubsections that follow, our data sources are described in detail toprovide the response and predictor variables for our modeling. Dueto the compulsory nature of the self-report surveys (part of arequired individual, a statistical project in which students analyzepersonal disposition data), the response covers all students (exceptfor about 15 students dropping out).Although trace data is available for both e-tutorial systems, inthis paper, we will focus on the trace data from the mathematics e-tutorial: SOWISO. In contrast to many common LMS systems likeBlackboard and Desire2Learn, the SOWISO system allows full in-sights into all learning activities by providing complete logs of anystudent click, including time-stamps, in contrast to theMSL system,which limits activity reports to a limited set of predeﬁned formats.3.2.1. Course performance measuresThe ultimate aim of the learning analytics application is to getinsight, as early as possible, in which students are at risk of failingthe course, to allow timely intervention. To assess who is failing thecourse, four course performance measures are relevant: perfor-mance in the exam, both for mathematics (MathExam) and statis-tics (StatsExam), and the aggregated performance in the threequizzes for both topics: MathQuiz and StatsQuiz. Because ofmissing good trace data for the MSL e-tutorial, see the previoussection, predictive modeling will be limited to the two mathe-matical performance variables.3.2.2. LMS trace dataThree digital systems have been used to organize the learning ofstudents and to facilitate the creation of individual learning paths:the LMS BlackBoard and the two e-tutorials SOWISO and MSL. Asindicated previously, this study focuses on the learning of mathe-matics, one of the two topics covered in the course, and subse-quently, on trace data derived from the SOWISO platform. Thefollowing SOWISO trace variables relate to a different aspect ofstudent learning:\u0002 SOWISOMastery: the proportion of exercises in SOWISOcorrectly solved.\u0002 SOWISOAttempt: the total number of attempts solving theexercises.\u0002 SOWISOHours: total connect time in hours.\u0002 SOWISOViews: the number of views of theory pages called forby students while solving SOWISO exercises; these pages pro-vide a clariﬁcation of the mathematical methods.\u0002 SOWISOSolutions: the number of complete solutions, orworked-out examples, called for by students while solvingSOWISO exercises.\u0002 SOWISOHints: the number of hints called for by students whilesolving SOWISO exercises.\u0002 SOWISODiagnTests: the number of tries of the seven weeklydiagnostic tests.\u0002 SOWISODiagnTestsAv: average score in all tries of the sevenweekly diagnostic tests.\u0002 SOWISODiagnTestsMax: average best score in all tries of theseven weekly diagnostic tests.From the MSL e-tutorial, we take one trace variable:\u0002 MSLMastery: the proportion of exercises in MSL correctlysolved.To improve approximate normality of these data, Mastery,Hours and Hints data were log-transformed, and the number ofD. Tempelaar et al. / Computers in Human Behavior 78 (2018) 408e420412Attempts, Views, Solutions and Diagnostic Tests were square-roottransformed (the usual transform for count data). To these tracedata, seven logs from the BlackBoard LMS were added:\u0002 BBHours: total connect time in hours.\u0002 BBClicks: the total number of clicks in BB.\u0002 BBKhanVideo: the number of times students clicked an externallink to a video on the Khan Academy website explaining amathematical concept.\u0002 BBOverviewLecture: the total number of times students calledfor the slides of the begin-of-the-week overview lecture.\u0002 BBRecapLecture: the total number of times students called forthe slides of the end-of-the-week recap lecture.\u0002 BBOverviewLectureVideo: the total number of times studentscalled for the taped recordings of the begin-of-the-week over-view lecture.\u0002 BBRecapLecture: the total number of times students called forthe taped recordings of the end-of-the-week recap lecture.To improve the approximate normality of the data, calling forthe slides as well as recordings of the recap lectures were trans-formed into square roots.3.2.3. SIS system dataOur university SIS provided several further predictor variables.Standard demographic variables are Gender (with an indicatorvariable for female students), International (with an indicator fornon-Dutch high school education), and MathMajor (with an indi-cator for the advanced mathematics track in high school). Dis-tinguishing between domestic and international students isrelevant, given the strong focus on statistics in the Dutch highschool system (with large variations in other countries, but never asextreme as the Dutch case). TheMathMajor indicator is constructedbased on distinguishing prior education preparing for either sci-ences or social sciences. Students in the sample are from 50different national and international high school systems, all beingvery different but in all cases differentiating between advanced andintermediate level math tracks (students of basic math track are notadmitted in the program). The Nationality of students is availablebut problematic to use in any model since in 43 cases, the numberof representative students is 10 or less. For that reason, we did notuse nationality itself but instead included scores on six nationalcultural values, based on the research of Hofstede (Hofstede, 1986;Hofstede, Hofstede, & Minkov, 2010). This has been successfullyapplied in our previous LA research (Mittelmeier, Tempelaar,Rienties, & Nguyen, 2016). Since these are national measures, allstudents with the same nationality are assigned the same scores,based on the research by Hofstede. These six national culture valuesare:\u0002 Power distance (PDI): the extent to which less powerful mem-bers of organizations and institutions accept and expect unequaldistribution of power.\u0002 Uncertainty avoidance (UAI): society's tolerance for uncertaintyand ambiguity, indicating the extent to which members of aculture feel threatened by ambiguous and uncertain situations.\u0002 Individualism versus collectivism (IND): the degree to whichindividuals are integrated into groups, from loose ties betweenindividuals and self-agency to integrated and strong, cohesivesocieties.\u0002 Masculinity versus Femininity (MAS): the degree to whichemotional gender roles being rather distinct (masculine) oroverlapping (feminine).\u0002 Long-term orientation (TOWVS): the degree to which societiesare directed towards future rewards or the fulﬁllment of presentneeds and desires.\u0002 Indulgence versus Restraint (IVR): the degree to which a cultureallows or suppresses gratiﬁcation of needs and human drives.Finally, students were required upon entering the course tocomplete two diagnostic entry tests, one for mathematics (Math-Entry), and one for statistics (StatsEntry). These scores were addi-tionally added to the SIS data.3.2.4. Dispositions on self-regulated learningLearning processing and regulation strategies which shape self-regulated learning are based on Vermunt's Inventory of LearningStyles (ILS) instrument (Tempelaar et al., 2015; Vermunt, 1996). Inan extensive review of research on learning styles (Cofﬁeld et al.,2004), the ILS was found to be one of the few learning styles in-struments of sufﬁcient rigor for research applications. Our studyfocuses on two out of four domains of the ILS: cognitive processingstrategies and metacognitive regulation strategies. The other twodomains of the instrument, learning conceptions, and learningorientations, were not included, since these are more distantlyrelated to the learning processes, and less susceptible to learninginterventions. Both included domains are composed of ﬁve scales.The ﬁve processing strategies scales shaping the ﬁrst domain can beordered from deep approaches to learning at the one pole, tostepwise or surface approaches to learning at the opposite pole:\u0002 Critical processing: students form own opinions when learning,\u0002 Relating and structuring: students look for connections, makediagrams,\u0002 Concrete processing: students focus on making new knowledgeconcrete, applying it\u0002 Analyzing: students investigate step by step,\u0002 Memorizing: students learn by heart.Likewise, the ﬁve metacognitive regulation strategies thatconstitute the second domain describe how students regulate theirlearning processes. Students are positioned in the spectrum fromself-regulation as the main mechanism of external regulation. Thescales are:\u0002 Self-regulation of learning processes,\u0002 Self-regulation of learning content,\u0002 External regulation of learning processes\u0002 External regulation of learning results,\u0002 Lack of regulation.3.2.5. Dispositional attitudes dataAttitudes towards learning of mathematics and statistics wereassessed with the SATS instrument (Tempelaar, Gijselaers, Schimvan der Loeff, & Nijhuis, 2007), based on the expectancy-valuetheory (Wigﬁeld & Eccles, 2000). The instrument contains sixquantitative methods-related attitudes:\u0002 Affect: students' feelings concerning mathematics and statistics\u0002 CognComp: students' self-perceptions of their intellectualknowledge and skills when applied to mathematics andstatistics\u0002 Value: students' attitudes about the usefulness, relevance, andworth of mathematics and statistics in their personal and pro-fessional life\u0002 NoDifﬁculty: students' perceptions that mathematics and sta-tistics as subjects are not difﬁcult to learnD. Tempelaar et al. / Computers in Human Behavior 78 (2018) 408e420 413\u0002 Interest: students' level of individual interest in learningmathematics and statistics\u0002 Effort: the amount of work students are willing to undertake tolearn the subjects3.2.6. Dispositional learning emotions dataThe Control-Value Theory of Achievement Emotions (CVTAE;Pekrun, 2000, 2012) cannot be used in worksheets.",
     "output_type": "error",
     "traceback": [
      "\u001b[1;31m---------------------------------------------------------------------------\u001b[0m",
      "\u001b[1;31mIllegalCharacterError\u001b[0m                     Traceback (most recent call last)",
      "Cell \u001b[1;32mIn[67], line 34\u001b[0m\n\u001b[0;32m     31\u001b[0m     \u001b[38;5;28;01mreturn\u001b[39;00m filepath\n\u001b[0;32m     33\u001b[0m \u001b[38;5;66;03m# Exportar os artigos selecionados para Excel\u001b[39;00m\n\u001b[1;32m---> 34\u001b[0m \u001b[43mexport_to_excel\u001b[49m\u001b[43m(\u001b[49m\u001b[43mdf_final\u001b[49m\u001b[43m)\u001b[49m\n",
      "Cell \u001b[1;32mIn[67], line 25\u001b[0m, in \u001b[0;36mexport_to_excel\u001b[1;34m(df)\u001b[0m\n\u001b[0;32m     22\u001b[0m filepath \u001b[38;5;241m=\u001b[39m os\u001b[38;5;241m.\u001b[39mpath\u001b[38;5;241m.\u001b[39mjoin(\u001b[38;5;124m\"\u001b[39m\u001b[38;5;124mexports\u001b[39m\u001b[38;5;124m\"\u001b[39m, filename)\n\u001b[0;32m     24\u001b[0m \u001b[38;5;66;03m# Export to Excel\u001b[39;00m\n\u001b[1;32m---> 25\u001b[0m \u001b[43mdf\u001b[49m\u001b[38;5;241;43m.\u001b[39;49m\u001b[43mto_excel\u001b[49m\u001b[43m(\u001b[49m\u001b[43mfilepath\u001b[49m\u001b[43m,\u001b[49m\u001b[43m \u001b[49m\u001b[43mindex\u001b[49m\u001b[38;5;241;43m=\u001b[39;49m\u001b[38;5;28;43;01mFalse\u001b[39;49;00m\u001b[43m)\u001b[49m\n\u001b[0;32m     27\u001b[0m export_path \u001b[38;5;241m=\u001b[39m os\u001b[38;5;241m.\u001b[39mpath\u001b[38;5;241m.\u001b[39mabspath(filepath)  \u001b[38;5;66;03m# Get absolute path for confirmation\u001b[39;00m\n\u001b[0;32m     29\u001b[0m \u001b[38;5;28mprint\u001b[39m(\u001b[38;5;124mf\u001b[39m\u001b[38;5;124m\"\u001b[39m\u001b[38;5;124m✅ Data exported to  \u001b[39m\u001b[38;5;132;01m{\u001b[39;00mexport_path\u001b[38;5;132;01m}\u001b[39;00m\u001b[38;5;124m\"\u001b[39m)\n",
      "File \u001b[1;32mc:\\dev\\ccw\\.venv\\Lib\\site-packages\\pandas\\util\\_decorators.py:333\u001b[0m, in \u001b[0;36mdeprecate_nonkeyword_arguments.<locals>.decorate.<locals>.wrapper\u001b[1;34m(*args, **kwargs)\u001b[0m\n\u001b[0;32m    327\u001b[0m \u001b[38;5;28;01mif\u001b[39;00m \u001b[38;5;28mlen\u001b[39m(args) \u001b[38;5;241m>\u001b[39m num_allow_args:\n\u001b[0;32m    328\u001b[0m     warnings\u001b[38;5;241m.\u001b[39mwarn(\n\u001b[0;32m    329\u001b[0m         msg\u001b[38;5;241m.\u001b[39mformat(arguments\u001b[38;5;241m=\u001b[39m_format_argument_list(allow_args)),\n\u001b[0;32m    330\u001b[0m         \u001b[38;5;167;01mFutureWarning\u001b[39;00m,\n\u001b[0;32m    331\u001b[0m         stacklevel\u001b[38;5;241m=\u001b[39mfind_stack_level(),\n\u001b[0;32m    332\u001b[0m     )\n\u001b[1;32m--> 333\u001b[0m \u001b[38;5;28;01mreturn\u001b[39;00m \u001b[43mfunc\u001b[49m\u001b[43m(\u001b[49m\u001b[38;5;241;43m*\u001b[39;49m\u001b[43margs\u001b[49m\u001b[43m,\u001b[49m\u001b[43m \u001b[49m\u001b[38;5;241;43m*\u001b[39;49m\u001b[38;5;241;43m*\u001b[39;49m\u001b[43mkwargs\u001b[49m\u001b[43m)\u001b[49m\n",
      "File \u001b[1;32mc:\\dev\\ccw\\.venv\\Lib\\site-packages\\pandas\\core\\generic.py:2417\u001b[0m, in \u001b[0;36mNDFrame.to_excel\u001b[1;34m(self, excel_writer, sheet_name, na_rep, float_format, columns, header, index, index_label, startrow, startcol, engine, merge_cells, inf_rep, freeze_panes, storage_options, engine_kwargs)\u001b[0m\n\u001b[0;32m   2404\u001b[0m \u001b[38;5;28;01mfrom\u001b[39;00m\u001b[38;5;250m \u001b[39m\u001b[38;5;21;01mpandas\u001b[39;00m\u001b[38;5;21;01m.\u001b[39;00m\u001b[38;5;21;01mio\u001b[39;00m\u001b[38;5;21;01m.\u001b[39;00m\u001b[38;5;21;01mformats\u001b[39;00m\u001b[38;5;21;01m.\u001b[39;00m\u001b[38;5;21;01mexcel\u001b[39;00m\u001b[38;5;250m \u001b[39m\u001b[38;5;28;01mimport\u001b[39;00m ExcelFormatter\n\u001b[0;32m   2406\u001b[0m formatter \u001b[38;5;241m=\u001b[39m ExcelFormatter(\n\u001b[0;32m   2407\u001b[0m     df,\n\u001b[0;32m   2408\u001b[0m     na_rep\u001b[38;5;241m=\u001b[39mna_rep,\n\u001b[1;32m   (...)\u001b[0m\n\u001b[0;32m   2415\u001b[0m     inf_rep\u001b[38;5;241m=\u001b[39minf_rep,\n\u001b[0;32m   2416\u001b[0m )\n\u001b[1;32m-> 2417\u001b[0m \u001b[43mformatter\u001b[49m\u001b[38;5;241;43m.\u001b[39;49m\u001b[43mwrite\u001b[49m\u001b[43m(\u001b[49m\n\u001b[0;32m   2418\u001b[0m \u001b[43m    \u001b[49m\u001b[43mexcel_writer\u001b[49m\u001b[43m,\u001b[49m\n\u001b[0;32m   2419\u001b[0m \u001b[43m    \u001b[49m\u001b[43msheet_name\u001b[49m\u001b[38;5;241;43m=\u001b[39;49m\u001b[43msheet_name\u001b[49m\u001b[43m,\u001b[49m\n\u001b[0;32m   2420\u001b[0m \u001b[43m    \u001b[49m\u001b[43mstartrow\u001b[49m\u001b[38;5;241;43m=\u001b[39;49m\u001b[43mstartrow\u001b[49m\u001b[43m,\u001b[49m\n\u001b[0;32m   2421\u001b[0m \u001b[43m    \u001b[49m\u001b[43mstartcol\u001b[49m\u001b[38;5;241;43m=\u001b[39;49m\u001b[43mstartcol\u001b[49m\u001b[43m,\u001b[49m\n\u001b[0;32m   2422\u001b[0m \u001b[43m    \u001b[49m\u001b[43mfreeze_panes\u001b[49m\u001b[38;5;241;43m=\u001b[39;49m\u001b[43mfreeze_panes\u001b[49m\u001b[43m,\u001b[49m\n\u001b[0;32m   2423\u001b[0m \u001b[43m    \u001b[49m\u001b[43mengine\u001b[49m\u001b[38;5;241;43m=\u001b[39;49m\u001b[43mengine\u001b[49m\u001b[43m,\u001b[49m\n\u001b[0;32m   2424\u001b[0m \u001b[43m    \u001b[49m\u001b[43mstorage_options\u001b[49m\u001b[38;5;241;43m=\u001b[39;49m\u001b[43mstorage_options\u001b[49m\u001b[43m,\u001b[49m\n\u001b[0;32m   2425\u001b[0m \u001b[43m    \u001b[49m\u001b[43mengine_kwargs\u001b[49m\u001b[38;5;241;43m=\u001b[39;49m\u001b[43mengine_kwargs\u001b[49m\u001b[43m,\u001b[49m\n\u001b[0;32m   2426\u001b[0m \u001b[43m\u001b[49m\u001b[43m)\u001b[49m\n",
      "File \u001b[1;32mc:\\dev\\ccw\\.venv\\Lib\\site-packages\\pandas\\io\\formats\\excel.py:952\u001b[0m, in \u001b[0;36mExcelFormatter.write\u001b[1;34m(self, writer, sheet_name, startrow, startcol, freeze_panes, engine, storage_options, engine_kwargs)\u001b[0m\n\u001b[0;32m    949\u001b[0m     need_save \u001b[38;5;241m=\u001b[39m \u001b[38;5;28;01mTrue\u001b[39;00m\n\u001b[0;32m    951\u001b[0m \u001b[38;5;28;01mtry\u001b[39;00m:\n\u001b[1;32m--> 952\u001b[0m     \u001b[43mwriter\u001b[49m\u001b[38;5;241;43m.\u001b[39;49m\u001b[43m_write_cells\u001b[49m\u001b[43m(\u001b[49m\n\u001b[0;32m    953\u001b[0m \u001b[43m        \u001b[49m\u001b[43mformatted_cells\u001b[49m\u001b[43m,\u001b[49m\n\u001b[0;32m    954\u001b[0m \u001b[43m        \u001b[49m\u001b[43msheet_name\u001b[49m\u001b[43m,\u001b[49m\n\u001b[0;32m    955\u001b[0m \u001b[43m        \u001b[49m\u001b[43mstartrow\u001b[49m\u001b[38;5;241;43m=\u001b[39;49m\u001b[43mstartrow\u001b[49m\u001b[43m,\u001b[49m\n\u001b[0;32m    956\u001b[0m \u001b[43m        \u001b[49m\u001b[43mstartcol\u001b[49m\u001b[38;5;241;43m=\u001b[39;49m\u001b[43mstartcol\u001b[49m\u001b[43m,\u001b[49m\n\u001b[0;32m    957\u001b[0m \u001b[43m        \u001b[49m\u001b[43mfreeze_panes\u001b[49m\u001b[38;5;241;43m=\u001b[39;49m\u001b[43mfreeze_panes\u001b[49m\u001b[43m,\u001b[49m\n\u001b[0;32m    958\u001b[0m \u001b[43m    \u001b[49m\u001b[43m)\u001b[49m\n\u001b[0;32m    959\u001b[0m \u001b[38;5;28;01mfinally\u001b[39;00m:\n\u001b[0;32m    960\u001b[0m     \u001b[38;5;66;03m# make sure to close opened file handles\u001b[39;00m\n\u001b[0;32m    961\u001b[0m     \u001b[38;5;28;01mif\u001b[39;00m need_save:\n",
      "File \u001b[1;32mc:\\dev\\ccw\\.venv\\Lib\\site-packages\\pandas\\io\\excel\\_openpyxl.py:490\u001b[0m, in \u001b[0;36mOpenpyxlWriter._write_cells\u001b[1;34m(self, cells, sheet_name, startrow, startcol, freeze_panes)\u001b[0m\n\u001b[0;32m    486\u001b[0m \u001b[38;5;28;01mfor\u001b[39;00m cell \u001b[38;5;129;01min\u001b[39;00m cells:\n\u001b[0;32m    487\u001b[0m     xcell \u001b[38;5;241m=\u001b[39m wks\u001b[38;5;241m.\u001b[39mcell(\n\u001b[0;32m    488\u001b[0m         row\u001b[38;5;241m=\u001b[39mstartrow \u001b[38;5;241m+\u001b[39m cell\u001b[38;5;241m.\u001b[39mrow \u001b[38;5;241m+\u001b[39m \u001b[38;5;241m1\u001b[39m, column\u001b[38;5;241m=\u001b[39mstartcol \u001b[38;5;241m+\u001b[39m cell\u001b[38;5;241m.\u001b[39mcol \u001b[38;5;241m+\u001b[39m \u001b[38;5;241m1\u001b[39m\n\u001b[0;32m    489\u001b[0m     )\n\u001b[1;32m--> 490\u001b[0m     \u001b[43mxcell\u001b[49m\u001b[38;5;241;43m.\u001b[39;49m\u001b[43mvalue\u001b[49m, fmt \u001b[38;5;241m=\u001b[39m \u001b[38;5;28mself\u001b[39m\u001b[38;5;241m.\u001b[39m_value_with_fmt(cell\u001b[38;5;241m.\u001b[39mval)\n\u001b[0;32m    491\u001b[0m     \u001b[38;5;28;01mif\u001b[39;00m fmt:\n\u001b[0;32m    492\u001b[0m         xcell\u001b[38;5;241m.\u001b[39mnumber_format \u001b[38;5;241m=\u001b[39m fmt\n",
      "File \u001b[1;32mc:\\dev\\ccw\\.venv\\Lib\\site-packages\\openpyxl\\cell\\cell.py:218\u001b[0m, in \u001b[0;36mCell.value\u001b[1;34m(self, value)\u001b[0m\n\u001b[0;32m    215\u001b[0m \u001b[38;5;129m@value\u001b[39m\u001b[38;5;241m.\u001b[39msetter\n\u001b[0;32m    216\u001b[0m \u001b[38;5;28;01mdef\u001b[39;00m\u001b[38;5;250m \u001b[39m\u001b[38;5;21mvalue\u001b[39m(\u001b[38;5;28mself\u001b[39m, value):\n\u001b[0;32m    217\u001b[0m \u001b[38;5;250m    \u001b[39m\u001b[38;5;124;03m\"\"\"Set the value and infer type and display options.\"\"\"\u001b[39;00m\n\u001b[1;32m--> 218\u001b[0m     \u001b[38;5;28;43mself\u001b[39;49m\u001b[38;5;241;43m.\u001b[39;49m\u001b[43m_bind_value\u001b[49m\u001b[43m(\u001b[49m\u001b[43mvalue\u001b[49m\u001b[43m)\u001b[49m\n",
      "File \u001b[1;32mc:\\dev\\ccw\\.venv\\Lib\\site-packages\\openpyxl\\cell\\cell.py:197\u001b[0m, in \u001b[0;36mCell._bind_value\u001b[1;34m(self, value)\u001b[0m\n\u001b[0;32m    194\u001b[0m         \u001b[38;5;28mself\u001b[39m\u001b[38;5;241m.\u001b[39mnumber_format \u001b[38;5;241m=\u001b[39m get_time_format(t)\n\u001b[0;32m    196\u001b[0m \u001b[38;5;28;01melif\u001b[39;00m dt \u001b[38;5;241m==\u001b[39m \u001b[38;5;124m\"\u001b[39m\u001b[38;5;124ms\u001b[39m\u001b[38;5;124m\"\u001b[39m \u001b[38;5;129;01mand\u001b[39;00m \u001b[38;5;129;01mnot\u001b[39;00m \u001b[38;5;28misinstance\u001b[39m(value, CellRichText):\n\u001b[1;32m--> 197\u001b[0m     value \u001b[38;5;241m=\u001b[39m \u001b[38;5;28;43mself\u001b[39;49m\u001b[38;5;241;43m.\u001b[39;49m\u001b[43mcheck_string\u001b[49m\u001b[43m(\u001b[49m\u001b[43mvalue\u001b[49m\u001b[43m)\u001b[49m\n\u001b[0;32m    198\u001b[0m     \u001b[38;5;28;01mif\u001b[39;00m \u001b[38;5;28mlen\u001b[39m(value) \u001b[38;5;241m>\u001b[39m \u001b[38;5;241m1\u001b[39m \u001b[38;5;129;01mand\u001b[39;00m value\u001b[38;5;241m.\u001b[39mstartswith(\u001b[38;5;124m\"\u001b[39m\u001b[38;5;124m=\u001b[39m\u001b[38;5;124m\"\u001b[39m):\n\u001b[0;32m    199\u001b[0m         \u001b[38;5;28mself\u001b[39m\u001b[38;5;241m.\u001b[39mdata_type \u001b[38;5;241m=\u001b[39m \u001b[38;5;124m'\u001b[39m\u001b[38;5;124mf\u001b[39m\u001b[38;5;124m'\u001b[39m\n",
      "File \u001b[1;32mc:\\dev\\ccw\\.venv\\Lib\\site-packages\\openpyxl\\cell\\cell.py:165\u001b[0m, in \u001b[0;36mCell.check_string\u001b[1;34m(self, value)\u001b[0m\n\u001b[0;32m    163\u001b[0m value \u001b[38;5;241m=\u001b[39m value[:\u001b[38;5;241m32767\u001b[39m]\n\u001b[0;32m    164\u001b[0m \u001b[38;5;28;01mif\u001b[39;00m \u001b[38;5;28mnext\u001b[39m(ILLEGAL_CHARACTERS_RE\u001b[38;5;241m.\u001b[39mfinditer(value), \u001b[38;5;28;01mNone\u001b[39;00m):\n\u001b[1;32m--> 165\u001b[0m     \u001b[38;5;28;01mraise\u001b[39;00m IllegalCharacterError(\u001b[38;5;124mf\u001b[39m\u001b[38;5;124m\"\u001b[39m\u001b[38;5;132;01m{\u001b[39;00mvalue\u001b[38;5;132;01m}\u001b[39;00m\u001b[38;5;124m cannot be used in worksheets.\u001b[39m\u001b[38;5;124m\"\u001b[39m)\n\u001b[0;32m    166\u001b[0m \u001b[38;5;28;01mreturn\u001b[39;00m value\n",
      "\u001b[1;31mIllegalCharacterError\u001b[0m: lable at ScienceDirectComputers in Human Behavior 78 (2018) 408e420Contents lists avaiComputers in Human Behaviorjournal homepage: www.elsevier .com/locate/comphumbehStudent proﬁling in a dispositional learning analytics application usingformative assessmentDirk Tempelaar a, *, Bart Rienties b, Jenna Mittelmeier b, Quan Nguyen ba Maastricht University, School of Business and Economics, Netherlandsb The Open University, Institute of Educational Technology, Walton Hall, Milton Keynes, MK7 6AA, UKa r t i c l e i n f oArticle history:Received 10 February 2017Received in revised form25 July 2017Accepted 5 August 2017Available online 8 August 2017Keywords:Learning analyticsFormative assessmentLearning dispositionsDispositional learning analyticse-tutorial* Corresponding author.E-mail address: d.tempelaar@maastrichtuniversityhttp://dx.doi.org/10.1016/j.chb.2017.08.0100747-5632/© 2017 Elsevier Ltd. All rights reserved.a b s t r a c tHow learning disposition data can help us translating learning feedback from a learning analyticsapplication into actionable learning interventions, is the main focus of this empirical study. It extendsprevious work (Tempelaar, Rienties, & Giesbers, 2015), where the focus was on deriving timely predictionmodels in a data rich context, encompassing trace data from learning management systems, formativeassessment data, e-tutorial trace data as well as learning dispositions. In this same educational context,the current study investigates how the application of cluster analysis based on e-tutorial trace data al-lows student proﬁling into different at-risk groups, and how these at-risk groups can be characterizedwith the help of learning disposition data. It is our conjecture that establishing a chain of antecedent-consequence relationships starting from learning disposition, through student activity in e-tutorialsand formative assessment performance, to course performance, adds a crucial dimension to currentlearning analytics studies: that of proﬁling students with descriptors that easily lend themselves to thedesign of educational interventions.© 2017 Elsevier Ltd. All rights reserved.1. IntroductionThe challenge to design “an optimal sequence of data collectionand economic response times …” that includes “the minimum re-quirements for making valid predictions and creating meaningfulinterventions” (Ifenthaler, 2015) as one of the challenges to theapplication of learning analytics (LA), is the main topic of thisempirical contribution to dispositional learning analytics. LearningAnalytics (LA) is deﬁned as ”the measurement, collection, analysis,and reporting of data about learners and their contexts, for pur-poses of understanding and optimizing learning and the environ-ments in which it occurs” (Buckingham Shum & Ferguson, 2012;Gasevic, Dawson, Rogers, & Gasevic, 2016; Siemens, 2013). In theearly stages of LA, many scholars focused on building predictivemodels based on data extracted from both institutional studentinformation systems (SIS) and digital platforms that organize andfacilitate learning, such as learning management systems and e-tutorials (LMS, taking them together). While these studies provideimportant markers on the potential of LA in education, the ﬁndingswere rather limited to the descriptive functions of LA, which is.nl (D. Tempelaar).mostly based on demographics, grades, and trace data. Given therigidity of SIS and LMS data, educators may encounter difﬁculties indesigning pedagogically informed interventions (Conde &Hern\u0001andez-García, 2015; Tobarra, Robles-G\u0001omez, Ros, Hern\u0001andez,& Caminero, 2014; Xing, Guo, Petakovic, & Goggins, 2015).To overcome this shortcoming, Buckingham Shum and Crick(2012) proposed a Dispositional Learning Analytics (DLA) infra-structure that combines learning data (i.e. those generated inlearning activities through the LMS) with learner data (e.g., studentdispositions, values, and attitudes measured through self-reportedsurveys). Learning dispositions represent individual differencecharacteristics that impact all learning processes and include af-fective, behavioral and cognitive facets (Rienties, Cross, & Zdrahal,2017). Student's preferred learning approaches are examples ofsuch dispositions of both cognitive and behavioral type; in researchon their role in learning, they are often simply labeled as ‘self-report data’ (see e.g. Buckingham Shum & Ferguson, 2012; Ga\u0003sevi\u0001c,Jovanovi\u0001c, Pardo, & Dawson, 2017). Different from LA research,stakeholders of DLA applications are typically restricted to studentsand teacher/tutors, as these applications can be positioned at boththe meso- and micro-level (Ifenthaler, 2015), rather than the mega-or macro-level. Our study is a follow-up of previous research by theauthors on the application of LA in a ‘data-rich context’ (Tempelaar,D. Tempelaar et al. / Computers in Human Behavior 78 (2018) 408e420 409Rienties,&Giesbers, 2015). The availability of formative assessmentdata constitutes a crucial aspect of that data richness, together withlearning activity trace data of students practicing in e-tutorialsystems in order to be optimally prepared for these formative as-sessments, and later summative assessments. That data of cognitivetype was complemented by learning disposition data to cover all“affective, behavioral and cognitive facets of the ABC framework ofstudent learning” (Rienties et al., 2017).Our previous research indicated a sensitive balance betweentiming and predictive power of the several data sources in a richdata context. Most informative, but least timely, is typicallyformative assessment data. Given that formative assessment data isnot available until several weeks into a course, trace data from e-tutorial systems are a good second-best. However, it is important tonote that the use of e-tutorial trace data is ill-advised at the verystart of the course when practicing activities of students have notyet settled into stable patterns. Therefore, learning disposition dataare an informative data source next to the trace data in predictingstudent performance (Tempelaar et al., 2015).This follow-up study focuses on this very early stage of gener-ating learning feedback at the start of courses that is “personalised,dynamic and timely” (Ifenthaler, 2015). The requirement oflearning feedback to be timely implies a crucial role for learningdisposition data. The requirement of learning feedback to beactionable too has strong links with the availability of dispositions;learning interventions such as academic counselling are oftenbased on the same social-cognitive frameworks as the instrumentsused to measure learning dispositions (such as improving one'slearning style, or changing mal-adaptive into adaptive approachesto learning, in case of setbacks) (Tempelaar, Rienties, & Nguyen,2017a).2. Learning analytics and dispositional learning analytics2.1. Formative testing and feedbackThe classic function of testing is that of summative assessmentor assessment of learning: students demonstrate their mastery of aparticular subject to their teacher after completing the learningprocess. Formative assessment or assessment for learning takesplace during learning rather than after learning, and has an entirelydifferent function: to provide ongoing feedback to both students, toimprove their learning, and teachers, to improve teaching (Spectoret al., 2016). Thus beyond a different purpose, there are also crucialdifferences in timing between the two types of testing: formativetesting results are especially useful when they become availableearly in the learning process.In this regard, feedback plays a crucial part in assisting regula-tory learning processes (Hattie, 2009; Lehmann, H€ahnlein, &Ifenthaler, 2014). Several alternative operationalizations to sup-port feedback are possible. For example, using two experimentalstudies with different degrees of generic and directed prompts,Lehmann et al. (2014) found that directed pre-reﬂective promptsencouraged positive activities in online environments. In a meta-study of 800þ meta-studies, Hattie (2009) found that the waystudents received feedback was one of the most powerful factors inenhancing their learning experiences, along with self-questioning,concept mapping and problem-solving teaching in the category ofteaching and learning approaches. Diagnostic testing directed atadjusting the learning approach to the actual skills and abilities ofthe student or proper placing the student at the start of the courseis one example of this, as is a test-directed learning approach thatconstitutes a basic educational principle of many e-tutorial systems(Tempelaar, Cuypers, Van de Vrie, Heck, & Van der Kooij, 2013).The setting of this present study is a large-scale classroomcovering the most challenging service course students in this in-ternational business and economics programwill encounter, and itis taught in a problem-based manner. Thus, our application offormative assessment in this study is fully in line with the secondrecommendation of the Spector et al. (2016, p. 65) report:“formative assessment practices to address learning situations thatpresent difﬁcult challenges (e.g., large and multi-grade classrooms,inquiry- and problem-based learning)”. Beyond the important ﬁrst-order goal of providing students with immediate feedback on theirlearning progress, formative assessment data is used in this studymore indirectly by empowering the LA-based prediction models forsignaling students at risk, in line with our previous research(Tempelaar et al., 2015).2.2. Learning dispositionsWhere other DLA research has been based on a single, dedicatedand newly designed instrument to measure dispositions(Buckingham Shum & Crick, 2012), we have opted to use well-established and validated instruments to optimize the connectionwith learning interventions. Rienties et al. (2017) argue that thesingle most important question for LA researchers to answer is:“which types of interventions have a positive impact on learners'Attitudes, Behavior and Cognition (ABC) using learning analyticsmodeling?” (see also Ferguson et al., 2016). To answer this question,this study includes a very broad range of learning disposition in-struments, covering various aspects of affective, behavioral andcognitive antecedents of learning processes. In line with theinstructional model of the school, Problem-Based Learning, weopted for disposition instruments that are based on social-constructivist learning theories, that assume that learning is anactive process of learning construction, rather than acquisition, inwhich collaboration between peers plays an important role, andwhere not only cognitive, but also affective and behavioral aspectsare key to explain learning outcomes. A rich tradition of educationalresearch-designed measurement instruments to observe learnerdispositions has emerged over in the last ﬁfty years, which is evi-denced by a multiplicity of psychometric survey instruments,including student's self-regulation or goal orientation (Ga\u0003sevi\u0001cet al., 2017). Given the speciﬁc research context of this study inconceptualizing how students learn, we have primarily focused onlearning dispositions that can be linked to interventions. Theseinclude:\u0002 The expectancy-value framework of learning behavior (Wigﬁeld& Eccles, 2000), encompasses affective, behavioral and cognitivefacets. According to the expectancy-value model, students' ex-pectancies for success and the value they contribute to suc-ceeding are important determinants of their motivation toperform achievement tasks. The expectation of success includestwo components: belief about one's own ability in performing atask, and a perception of the task demand. Subjective task valueconstitutes a broad group of factors: attainment values(importance of doing well on a task), intrinsic value (enjoymentgained from doing the task), utility value (usefulness), and costs(spent efforts) belong to it.\u0002 The motivation and engagement framework of learning cogni-tions and behaviors (Martin, 2007) that breaks down learningcognitions and learning behaviors into four categories of adap-tive versus maladaptive types and cognitive versus behavioraltypes. The classiﬁcation is based on the theory that thoughts andcognitions can both enable learning, act as boosters, as well ashinder learning: act as mufﬂers and guzzlers.\u0002 Two aspects of a Student Approaches to Learning (SAL) frame-work: cognitive processing strategies and metacognitiveFig. 1. Schematic overview of research design, with investigated relationships insingle-line arrows, cluster construction in double-line arrows.D. Tempelaar et al. / Computers in Human Behavior 78 (2018) 408e420410regulation strategies, from Vermunt’s (1996) learning stylesinstrument, encompassing aspects of cognitions and behaviors.Vermunt's framework of learning approaches distinguishes fourmain styles or approaches: that of meaning-directed, applica-tion-directed, reproduction-directed and undirected learning.Each approach is based on student characteristics in fourdifferent domains: cognitive processing strategies (what stu-dents do), metacognitive regulation strategies (how studentsplan and monitor learning), learning orientations (why studentslearn), and learning conceptions (how students see learning).Learning styles are seen as a speciﬁc combination of processingand regulation strategies: meaning-directed learning builds ondeep processing and self-regulation, whereas reproduction-directed learning builds on step-wise processing and externalregulation (Vermunt, 1996; see also Cofﬁeld, Moseley, Hall, &Ecclestone, 2004). Although learning styles are subject todebate (Kirschner, 2017), they are of all dispositions closest tointervention when allowing multiple learning strategies intechnology-enhanced learning.\u0002 The control-value theory of achievement emotions (CVTAE),both about learning emotions of activity and epistemic types,positions itself at the affective pole of the spectrum (Pekrun,2012; Rienties & Rivers, 2014). CVTAE postulates that emo-tions that arise in learning activities differ in valence, focus, andactivation. Emotional valence can be positive (enjoyment) ornegative (anxiety, hopelessness, boredom). CVTAE describes theemotions experienced in relation to an achievement activity(e.g. boredom experienced while preparing homework) oroutcome (e.g. anxiety towards performing at an exam). Theactivation component describes emotions as activating (i.e.anxiety leading to action) versus deactivating (i.e. hopelessnessleading to disengagement).Learning dispositions that were measured but not incorporatedin this study include academic motivations, goal setting behavior,and epistemological views on intelligence and the role of effort.Both collinearity with the included dispositions, as is the case withacademic motivations, and lack of possibilities to inﬂuence thesedispositions in any counseling program led to this choice.2.3. Blended learning of quantitative methods using e-tutorialsOur empirical contribution focuses on ﬁrst-year undergraduatestudents learning quantitative methods (mathematics and statis-tics) in a blended learning environment. With problem-basedlearning as the face-to-face component, the digital componentconsists of Blackboard as the LMS to share basic course informationand two external e-tutorials: SOWISO (mathematics) and MyS-tatLab (statistics). Both e-tutorials follow a test-directed learningand practicing approach. Each step in the learning process is initi-ated by a question, and students are encouraged to (attempt to)answer each question. If a student does not master a question(completely), she/he can either ask for hints to solve the problemstep-by-step, or ask for a fully worked example. These two func-tionalities are examples of Knowledge of Result/Response (KR) andKnowledge of the Correct Response (KCR) types of feedback (seeNarciss, 2008; Narciss & Huth, 2006). After receiving feedback, anew version of the problem loads (parameter based) to allow thestudent to demonstrate his/her newly acquired mastery. When astudent provides an answer and calls for an evaluation, Multiple-Try Feedback (MTF) (Narciss, 2008) is provided. Students’revealed learning feedback preferences are related to their learningdispositions, as we demonstrated in previous research (Nguyen,Tempelaar, Rienties, & Giesbers, 2016). For instance, the negativeepistemic emotion Frustration is positively associated with thefrequent calling of complete exercise solutions, whereas the pro-cessing strategy Concrete processing is negatively associated withcalling solutions.2.4. Research questionsThe ultimate goal of any LA application is to generate such‘personalised, dynamic and timely’ learning feedback (Ifenthaler,2015) so that the learning process is facilitated to the maximumextent. In previous research (Tempelaar et al., 2013, 2015), wedemonstrated the crucial role of formative assessment and learningdisposition data in such an endeavor. Building on such rich data, wederived predictions models (Nguyen, Tempelaar, Rienties, &Giesbers, 2016; Tempelaar et al., 2017a; Tempelaar, Rienties, &Nguyen, 2017b) focusing on ‘actionable data’ (Gasevic et al.,2016). An example of such application is the investigation of howlearning feedback preferences of students depend on their dispo-sitions (Nguyen et al., 2016). This however still does not include thefull range of affective, behavioral and cognitive antecedents oflearning processes. This study aims to make that last step byanswering the following research questions:\u0002 What can the antecedent-consequence relationships learningdepositions e trace data - formative assessment - course per-formance tell us about the role of affective, behavioral andcognitive factors in how students learn difﬁcult topics, such asmathematics and statistics?\u0002 What opportunities are there for pedagogical interventionstriggered by LA-based feedback, based on student proﬁling by e-tutorial trace data?The research design of this study can be summarized in thefollowing schematic overview, Fig. 1.3. Research methods3.1. Context of the empirical studyThis study takes place in a large-scale introductory mathematicsand statistics course for ﬁrst-year undergraduate students in abusiness and economics program in the Netherlands. The educa-tional system is best described as ‘blended’ or ‘hybrid.' The maincomponent is face-to-face: Problem-Based Learning (PBL), in smallgroups (14 students), coached by a content expert tutor (see Non &Tempelaar, 2016 and Williams et al., 2016 for further informationon PBL and the course design). Participation in tutorial groups isrequired. Optional is the online component of the blend: the use ofthe two e-tutorials – SOWISO and MyStatLab (MSL) (Tempelaaret al., 2015). This design is based on the philosophy of student-centered education, placing the responsibility for makingD. Tempelaar et al. / Computers in Human Behavior 78 (2018) 408e420 411educational choices primarily on the student. Since most of thelearning takes place during self-study outside class through the e-tutorials or other learning materials, class time is used to discusssolving advanced problems. Thus, the instructional format is bestcharacterized as a ﬂipped-classroom design (Williams et al., 2016).Using and achieving good scores in the e-tutorial practice modes isincentivized by providing bonus points for good performance in thequizzes (i.e. the formative assessment), worth up to 20% of whatone can score in the exam. Quizzes are taken every two weeks, andconsist of items that are drawn from the same item pools applied inthe practicing mode. This approach was chosen to encourage stu-dents with limited prior knowledge to make intensive use of the e-tutorials.The student-centered nature of the instructional design re-quires, ﬁrst and foremost, adequate actionable feedback to studentsso that they can appropriately monitor their study progress andtopic mastery. The provision of relevant feedback starts on the ﬁrstday of the course when students take two diagnostic entry tests formathematics and statistics. Feedback from these entry tests pro-vides a ﬁrst signal for the importance of using the e-tutorials. Next,the SOWISO and MSL-environments take over the monitoringfunction: at any time, students can see their performance in thepractice sessions, their progress in preparing for the next quiz, anddetailed feedback on their completed quizzes, all in the absoluteand relative (to their peers) sense. Proﬁting from the intensivecontact between students and their tutors of the pbl tutorialgroups, learning feedback is directed at students and their tutors,who carry ﬁrst responsibility for pedagogical interventions.The subject of this study is the full 2016/2017 cohort of students(i.e. all students who enrolled the course and/or the ﬁnal exam: intotal, 1093 students). A large diversity in the student populationwas present: only 19% were educated in the Dutch high schoolsystem. Regarding nationality, the largest group, 44% of the stu-dents, was from Germany, followed by 23% Dutch and 19% Belgianstudents, which is representative of the larger university studentpopulation. In total, 50 nationalities were present. A large share ofstudents was of European nationality, with only 3.9% of studentsfrom outside Europe. High school systems in Europe differ strongly,most particularly in the teaching of mathematics and statistics. Forexample, the Dutch high school system has a strong focus on thetopic of statistics, whereas statistics are completely missing in highschool programs of many other countries. Therefore, it is crucialthat this present introductory module is ﬂexible and allows forindividual learning paths (Non & Tempelaar, 2016; Williams et al.,2016). In this course, students spend on average 24 h in SOWISOand 32 h in MSL, which is 30%e40% of the available time of 80 h forlearning on both topics.3.2. Instruments and procedureIn this study, we will investigate the relationships betweencourse performance measures, LMS system trace variables, SISbased variables, and learning disposition variables measured inself-report surveys. As suggested by Winne's taxonomy of datasources (Winne, 2013; Zhou&Winne, 2012), our study applies self-report survey data and trace data through the logging of studybehaviors and the speciﬁc choices students make in the e-tutorials.The self-report surveys applied in this study (described in sec-tions 3.2.4 through 3.2.9) are all long-existing instruments, welldescribed and validated in decades of empirical research intoeducational psychology. Most were administered at the start of thecourse. The exception is the instrument quantifying emotions byparticipating in learning activities (described in section 3.2.5),which was administered halfway through the course. This wasdone to allow students sufﬁcient experiences with the learningactivities, while simultaneously avoiding the danger that anapproaching exammight strongly impact learning emotions. In thesubsections that follow, our data sources are described in detail toprovide the response and predictor variables for our modeling. Dueto the compulsory nature of the self-report surveys (part of arequired individual, a statistical project in which students analyzepersonal disposition data), the response covers all students (exceptfor about 15 students dropping out).Although trace data is available for both e-tutorial systems, inthis paper, we will focus on the trace data from the mathematics e-tutorial: SOWISO. In contrast to many common LMS systems likeBlackboard and Desire2Learn, the SOWISO system allows full in-sights into all learning activities by providing complete logs of anystudent click, including time-stamps, in contrast to theMSL system,which limits activity reports to a limited set of predeﬁned formats.3.2.1. Course performance measuresThe ultimate aim of the learning analytics application is to getinsight, as early as possible, in which students are at risk of failingthe course, to allow timely intervention. To assess who is failing thecourse, four course performance measures are relevant: perfor-mance in the exam, both for mathematics (MathExam) and statis-tics (StatsExam), and the aggregated performance in the threequizzes for both topics: MathQuiz and StatsQuiz. Because ofmissing good trace data for the MSL e-tutorial, see the previoussection, predictive modeling will be limited to the two mathe-matical performance variables.3.2.2. LMS trace dataThree digital systems have been used to organize the learning ofstudents and to facilitate the creation of individual learning paths:the LMS BlackBoard and the two e-tutorials SOWISO and MSL. Asindicated previously, this study focuses on the learning of mathe-matics, one of the two topics covered in the course, and subse-quently, on trace data derived from the SOWISO platform. Thefollowing SOWISO trace variables relate to a different aspect ofstudent learning:\u0002 SOWISOMastery: the proportion of exercises in SOWISOcorrectly solved.\u0002 SOWISOAttempt: the total number of attempts solving theexercises.\u0002 SOWISOHours: total connect time in hours.\u0002 SOWISOViews: the number of views of theory pages called forby students while solving SOWISO exercises; these pages pro-vide a clariﬁcation of the mathematical methods.\u0002 SOWISOSolutions: the number of complete solutions, orworked-out examples, called for by students while solvingSOWISO exercises.\u0002 SOWISOHints: the number of hints called for by students whilesolving SOWISO exercises.\u0002 SOWISODiagnTests: the number of tries of the seven weeklydiagnostic tests.\u0002 SOWISODiagnTestsAv: average score in all tries of the sevenweekly diagnostic tests.\u0002 SOWISODiagnTestsMax: average best score in all tries of theseven weekly diagnostic tests.From the MSL e-tutorial, we take one trace variable:\u0002 MSLMastery: the proportion of exercises in MSL correctlysolved.To improve approximate normality of these data, Mastery,Hours and Hints data were log-transformed, and the number ofD. Tempelaar et al. / Computers in Human Behavior 78 (2018) 408e420412Attempts, Views, Solutions and Diagnostic Tests were square-roottransformed (the usual transform for count data). To these tracedata, seven logs from the BlackBoard LMS were added:\u0002 BBHours: total connect time in hours.\u0002 BBClicks: the total number of clicks in BB.\u0002 BBKhanVideo: the number of times students clicked an externallink to a video on the Khan Academy website explaining amathematical concept.\u0002 BBOverviewLecture: the total number of times students calledfor the slides of the begin-of-the-week overview lecture.\u0002 BBRecapLecture: the total number of times students called forthe slides of the end-of-the-week recap lecture.\u0002 BBOverviewLectureVideo: the total number of times studentscalled for the taped recordings of the begin-of-the-week over-view lecture.\u0002 BBRecapLecture: the total number of times students called forthe taped recordings of the end-of-the-week recap lecture.To improve the approximate normality of the data, calling forthe slides as well as recordings of the recap lectures were trans-formed into square roots.3.2.3. SIS system dataOur university SIS provided several further predictor variables.Standard demographic variables are Gender (with an indicatorvariable for female students), International (with an indicator fornon-Dutch high school education), and MathMajor (with an indi-cator for the advanced mathematics track in high school). Dis-tinguishing between domestic and international students isrelevant, given the strong focus on statistics in the Dutch highschool system (with large variations in other countries, but never asextreme as the Dutch case). TheMathMajor indicator is constructedbased on distinguishing prior education preparing for either sci-ences or social sciences. Students in the sample are from 50different national and international high school systems, all beingvery different but in all cases differentiating between advanced andintermediate level math tracks (students of basic math track are notadmitted in the program). The Nationality of students is availablebut problematic to use in any model since in 43 cases, the numberof representative students is 10 or less. For that reason, we did notuse nationality itself but instead included scores on six nationalcultural values, based on the research of Hofstede (Hofstede, 1986;Hofstede, Hofstede, & Minkov, 2010). This has been successfullyapplied in our previous LA research (Mittelmeier, Tempelaar,Rienties, & Nguyen, 2016). Since these are national measures, allstudents with the same nationality are assigned the same scores,based on the research by Hofstede. These six national culture valuesare:\u0002 Power distance (PDI): the extent to which less powerful mem-bers of organizations and institutions accept and expect unequaldistribution of power.\u0002 Uncertainty avoidance (UAI): society's tolerance for uncertaintyand ambiguity, indicating the extent to which members of aculture feel threatened by ambiguous and uncertain situations.\u0002 Individualism versus collectivism (IND): the degree to whichindividuals are integrated into groups, from loose ties betweenindividuals and self-agency to integrated and strong, cohesivesocieties.\u0002 Masculinity versus Femininity (MAS): the degree to whichemotional gender roles being rather distinct (masculine) oroverlapping (feminine).\u0002 Long-term orientation (TOWVS): the degree to which societiesare directed towards future rewards or the fulﬁllment of presentneeds and desires.\u0002 Indulgence versus Restraint (IVR): the degree to which a cultureallows or suppresses gratiﬁcation of needs and human drives.Finally, students were required upon entering the course tocomplete two diagnostic entry tests, one for mathematics (Math-Entry), and one for statistics (StatsEntry). These scores were addi-tionally added to the SIS data.3.2.4. Dispositions on self-regulated learningLearning processing and regulation strategies which shape self-regulated learning are based on Vermunt's Inventory of LearningStyles (ILS) instrument (Tempelaar et al., 2015; Vermunt, 1996). Inan extensive review of research on learning styles (Cofﬁeld et al.,2004), the ILS was found to be one of the few learning styles in-struments of sufﬁcient rigor for research applications. Our studyfocuses on two out of four domains of the ILS: cognitive processingstrategies and metacognitive regulation strategies. The other twodomains of the instrument, learning conceptions, and learningorientations, were not included, since these are more distantlyrelated to the learning processes, and less susceptible to learninginterventions. Both included domains are composed of ﬁve scales.The ﬁve processing strategies scales shaping the ﬁrst domain can beordered from deep approaches to learning at the one pole, tostepwise or surface approaches to learning at the opposite pole:\u0002 Critical processing: students form own opinions when learning,\u0002 Relating and structuring: students look for connections, makediagrams,\u0002 Concrete processing: students focus on making new knowledgeconcrete, applying it\u0002 Analyzing: students investigate step by step,\u0002 Memorizing: students learn by heart.Likewise, the ﬁve metacognitive regulation strategies thatconstitute the second domain describe how students regulate theirlearning processes. Students are positioned in the spectrum fromself-regulation as the main mechanism of external regulation. Thescales are:\u0002 Self-regulation of learning processes,\u0002 Self-regulation of learning content,\u0002 External regulation of learning processes\u0002 External regulation of learning results,\u0002 Lack of regulation.3.2.5. Dispositional attitudes dataAttitudes towards learning of mathematics and statistics wereassessed with the SATS instrument (Tempelaar, Gijselaers, Schimvan der Loeff, & Nijhuis, 2007), based on the expectancy-valuetheory (Wigﬁeld & Eccles, 2000). The instrument contains sixquantitative methods-related attitudes:\u0002 Affect: students' feelings concerning mathematics and statistics\u0002 CognComp: students' self-perceptions of their intellectualknowledge and skills when applied to mathematics andstatistics\u0002 Value: students' attitudes about the usefulness, relevance, andworth of mathematics and statistics in their personal and pro-fessional life\u0002 NoDifﬁculty: students' perceptions that mathematics and sta-tistics as subjects are not difﬁcult to learnD. Tempelaar et al. / Computers in Human Behavior 78 (2018) 408e420 413\u0002 Interest: students' level of individual interest in learningmathematics and statistics\u0002 Effort: the amount of work students are willing to undertake tolearn the subjects3.2.6. Dispositional learning emotions dataThe Control-Value Theory of Achievement Emotions (CVTAE;Pekrun, 2000, 2012) cannot be used in worksheets."
     ]
    }
   ],
   "source": [
    "def export_to_excel(df: pd.DataFrame):\n",
    "    \"\"\"\n",
    "    Export the results to an Excel file\n",
    "    \n",
    "    Parameters:\n",
    "    ----------\n",
    "    df : pd.DataFrame\n",
    "        DataFrame with the articles\n",
    "    filename : str\n",
    "        Name of the Excel file\n",
    "    \"\"\"\n",
    "    # Create 'exports' folder if it doesn't exist\n",
    "    os.makedirs(\"exports\", exist_ok=True)\n",
    "\n",
    "    # Generate a timestamp for the filename\n",
    "    timestamp = datetime.now().strftime(\"%Y%m%d_%H%M%S\")\n",
    "\n",
    "    # Define the filename with timestamp\n",
    "    filename = f\"revisao_sistematica_{timestamp}.xlsx\"\n",
    "\n",
    "    # Full path for the file\n",
    "    filepath = os.path.join(\"exports\", filename)\n",
    "    \n",
    "    # Export to Excel\n",
    "    df.to_excel(filepath, index=False)\n",
    "\n",
    "    export_path = os.path.abspath(filepath)  # Get absolute path for confirmation\n",
    "\n",
    "    print(f\"✅ Data exported to  {export_path}\")\n",
    "    \n",
    "    return filepath\n",
    "\n",
    "# Exportar os artigos selecionados para Excel\n",
    "export_to_excel(df_final)"
   ]
  },
  {
   "cell_type": "markdown",
   "id": "315025d8",
   "metadata": {},
   "source": [
    "---\n",
    "\n",
    "### 💬 Análise Crítica e Síntese dos Resultados\n",
    "\n",
    "Para consolidar e interpretar os achados da revisão, serão desenvolvidas:\n",
    "- **Tabela resumo dos estudos incluídos**: Consolidando autores, ano, metodologia, técnicas aplicadas, resultados e lacunas.\n",
    "- **Discussão estruturada**: Síntese crítica dos achados, tendências, desafios e oportunidades para o desenvolvimento do protótipo, relacionando com as questões de pesquisa.\n",
    "\n",
    "Essas etapas garantem uma análise aprofundada e fundamentada, destacando as contribuições teóricas e práticas dos estudos analisados."
   ]
  },
  {
   "cell_type": "markdown",
   "id": "3cdeec45",
   "metadata": {},
   "source": [
    "---\n",
    "\n",
    "## 💬 Discussão\n",
    "\n",
    "*Nesta seção, realize uma síntese crítica dos achados da revisão.*\n",
    "- *Compare e contraste as metodologias, técnicas e resultados dos estudos incluídos.*\n",
    "- *Discuta as principais tendências observadas na aplicação de técnicas computacionais na educação matemática.*\n",
    "- *Identifique as lacunas de pesquisa mais significativas (ex: tipos de técnicas pouco exploradas, desafios na implementação, limitações metodológicas dos estudos).*\n",
    "- *Analise os desafios e oportunidades para o desenvolvimento de ferramentas como o protótipo do TCC, com base na literatura revisada.*\n",
    "- *Relacione os achados com as questões de pesquisa iniciais.*\n",
    "\n",
    "*(Desenvolva a análise crítica aqui)*\n",
    "\n",
    "---"
   ]
  },
  {
   "cell_type": "markdown",
   "id": "b22dfdc9",
   "metadata": {},
   "source": [
    "## ✅ Conclusão\n",
    "\n",
    "*Nesta seção, apresente as principais conclusões da revisão sistemática.*\n",
    "- *Resuma as respostas encontradas para as questões de pesquisa.*\n",
    "- *Destaque as contribuições mais relevantes da literatura revisada.*\n",
    "- *Apresente as implicações dos resultados para a pesquisa futura na área (sugestões de novos estudos).*\n",
    "- *Discuta as implicações práticas para educadores, desenvolvedores e formuladores de políticas.*\n",
    "- *Reforce como a revisão informa o desenvolvimento do protótipo do TCC, destacando as funcionalidades ou abordagens que serão priorizadas com base nas evidências encontradas.*\n",
    "\n",
    "*(Sintetize as conclusões e recomendações aqui)*\n",
    "\n",
    "---\n",
    "\n",
    "> **Dica:** Você pode executar novamente qualquer etapa, ajustar parâmetros ou explorar os DataFrames intermediários (`df_papers`, `df_deduplicated_papers`, `df_processed`, `df_final`) conforme necessário para sua análise."
   ]
  }
 ],
 "metadata": {
  "kernelspec": {
   "display_name": ".venv",
   "language": "python",
   "name": "python3"
  },
  "language_info": {
   "codemirror_mode": {
    "name": "ipython",
    "version": 3
   },
   "file_extension": ".py",
   "mimetype": "text/x-python",
   "name": "python",
   "nbconvert_exporter": "python",
   "pygments_lexer": "ipython3",
   "version": "3.11.9"
  }
 },
 "nbformat": 4,
 "nbformat_minor": 5
}
